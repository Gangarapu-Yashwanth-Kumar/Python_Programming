{
 "cells": [
  {
   "cell_type": "code",
   "execution_count": 1,
   "id": "92cdc99d-0db0-45f8-9b76-fe012c27eb62",
   "metadata": {},
   "outputs": [],
   "source": [
    "# 10th March"
   ]
  },
  {
   "cell_type": "markdown",
   "id": "c6d89a48-65e5-4464-bd01-d476f79fe189",
   "metadata": {},
   "source": [
    "# Dictionary"
   ]
  },
  {
   "cell_type": "code",
   "execution_count": 4,
   "id": "5aab535d-961f-4406-81d8-db4ce620bd26",
   "metadata": {},
   "outputs": [],
   "source": [
    "# Create Dict"
   ]
  },
  {
   "cell_type": "code",
   "execution_count": 6,
   "id": "0c117baf-afb7-4063-80c3-bd27c01f0b9f",
   "metadata": {},
   "outputs": [
    {
     "data": {
      "text/plain": [
       "{}"
      ]
     },
     "execution_count": 6,
     "metadata": {},
     "output_type": "execute_result"
    }
   ],
   "source": [
    "d=dict()\n",
    "d"
   ]
  },
  {
   "cell_type": "code",
   "execution_count": 8,
   "id": "44fed7b9-5fd3-491c-a1bb-c1c37d3666d0",
   "metadata": {},
   "outputs": [
    {
     "data": {
      "text/plain": [
       "{}"
      ]
     },
     "execution_count": 8,
     "metadata": {},
     "output_type": "execute_result"
    }
   ],
   "source": [
    "d={}   #Empty dict\n",
    "d"
   ]
  },
  {
   "cell_type": "code",
   "execution_count": 12,
   "id": "9e5c927f-e740-4f6f-9ae8-e500a9f4c64d",
   "metadata": {},
   "outputs": [
    {
     "data": {
      "text/plain": [
       "{1: 'Australia', 2: 'Germany', 3: 'New zealand'}"
      ]
     },
     "execution_count": 12,
     "metadata": {},
     "output_type": "execute_result"
    }
   ],
   "source": [
    "d1={1:'Australia',2:'Germany',3:'New zealand'} #dict with integer keys\n",
    "d1"
   ]
  },
  {
   "cell_type": "code",
   "execution_count": 14,
   "id": "f720a802-744d-4d95-8594-25b7b217652e",
   "metadata": {},
   "outputs": [
    {
     "data": {
      "text/plain": [
       "{1: 'Australia', 2: 'Germany', 3: 'New zealand'}"
      ]
     },
     "execution_count": 14,
     "metadata": {},
     "output_type": "execute_result"
    }
   ],
   "source": [
    "d2=dict({1:'Australia',2:'Germany',3:'New zealand'}) #create dict using dict()\n",
    "d2"
   ]
  },
  {
   "cell_type": "code",
   "execution_count": 16,
   "id": "33088182-1304-4506-98e6-c0d1f85928fc",
   "metadata": {},
   "outputs": [
    {
     "data": {
      "text/plain": [
       "{'A': 'Australia', 'B': 'Germany', 'C': 'New zealand'}"
      ]
     },
     "execution_count": 16,
     "metadata": {},
     "output_type": "execute_result"
    }
   ],
   "source": [
    "d3={'A':'Australia','B':'Germany','C':'New zealand'} #dict with character keys\n",
    "d3"
   ]
  },
  {
   "cell_type": "code",
   "execution_count": 18,
   "id": "e6b76592-89fc-4c98-a7a2-f99b59eaa89c",
   "metadata": {},
   "outputs": [
    {
     "data": {
      "text/plain": [
       "{5: 'Australia', 'D': 'Germany', 3: 'New zealand'}"
      ]
     },
     "execution_count": 18,
     "metadata": {},
     "output_type": "execute_result"
    }
   ],
   "source": [
    "d4={5:'Australia','D':'Germany',3:'New zealand'} #dict with mixed keys\n",
    "d4"
   ]
  },
  {
   "cell_type": "code",
   "execution_count": 20,
   "id": "4114b973-ede7-40e5-8038-e110128470ac",
   "metadata": {},
   "outputs": [
    {
     "data": {
      "text/plain": [
       "dict_keys([5, 'D', 3])"
      ]
     },
     "execution_count": 20,
     "metadata": {},
     "output_type": "execute_result"
    }
   ],
   "source": [
    "d4.keys()"
   ]
  },
  {
   "cell_type": "code",
   "execution_count": 22,
   "id": "2bff5817-f4c7-457e-8605-3c279f02e8d1",
   "metadata": {},
   "outputs": [
    {
     "data": {
      "text/plain": [
       "dict_values(['Australia', 'Germany', 'New zealand'])"
      ]
     },
     "execution_count": 22,
     "metadata": {},
     "output_type": "execute_result"
    }
   ],
   "source": [
    "d4.values()"
   ]
  },
  {
   "cell_type": "code",
   "execution_count": 24,
   "id": "1635083e-01fb-4730-951d-b554b21b4856",
   "metadata": {},
   "outputs": [
    {
     "data": {
      "text/plain": [
       "dict_items([(5, 'Australia'), ('D', 'Germany'), (3, 'New zealand')])"
      ]
     },
     "execution_count": 24,
     "metadata": {},
     "output_type": "execute_result"
    }
   ],
   "source": [
    "d4.items()"
   ]
  },
  {
   "cell_type": "code",
   "execution_count": 26,
   "id": "4b20eafa-8ecd-4517-a1f4-71f1d9f4043d",
   "metadata": {},
   "outputs": [
    {
     "data": {
      "text/plain": [
       "3"
      ]
     },
     "execution_count": 26,
     "metadata": {},
     "output_type": "execute_result"
    }
   ],
   "source": [
    "len(d4)"
   ]
  },
  {
   "cell_type": "code",
   "execution_count": 30,
   "id": "4c2d2e68-3324-4704-9ac2-b128ff25d8c6",
   "metadata": {},
   "outputs": [
    {
     "data": {
      "text/plain": [
       "{1: 'one', 2: 'two', 3: ['ram', 'hanuman']}"
      ]
     },
     "execution_count": 30,
     "metadata": {},
     "output_type": "execute_result"
    }
   ],
   "source": [
    "d={1:'one',2:'two',3:['ram','hanuman']}\n",
    "d"
   ]
  },
  {
   "cell_type": "code",
   "execution_count": 34,
   "id": "132357ce-254e-4a3e-a01e-10b9966ffe36",
   "metadata": {},
   "outputs": [
    {
     "data": {
      "text/plain": [
       "{1: 'one',\n",
       " 2: 'two',\n",
       " 3: 'three',\n",
       " 'A': {'Name': 'Yash', 'Age': 24},\n",
       " 'B': ('Gen AI', 'AI')}"
      ]
     },
     "execution_count": 34,
     "metadata": {},
     "output_type": "execute_result"
    }
   ],
   "source": [
    "d={1:'one',2:'two',3:'three','A':{'Name':'Yash','Age':24},'B':('Gen AI','AI',)}\n",
    "d"
   ]
  },
  {
   "cell_type": "code",
   "execution_count": 36,
   "id": "e56e0103-a54c-4d62-8cb7-b8d8cbfa65b8",
   "metadata": {},
   "outputs": [
    {
     "data": {
      "text/plain": [
       "{'c': None, 'b': None, 'd': None, 'a': None}"
      ]
     },
     "execution_count": 36,
     "metadata": {},
     "output_type": "execute_result"
    }
   ],
   "source": [
    "keys={'a','b','c','d'}\n",
    "d5=dict.fromkeys(keys)\n",
    "d5"
   ]
  },
  {
   "cell_type": "code",
   "execution_count": 40,
   "id": "2a46471b-7d59-4f45-9693-9a9bff53ea68",
   "metadata": {},
   "outputs": [
    {
     "data": {
      "text/plain": [
       "{'c': (10, 20, 30, 40),\n",
       " 'b': (10, 20, 30, 40),\n",
       " 'd': (10, 20, 30, 40),\n",
       " 'a': (10, 20, 30, 40)}"
      ]
     },
     "execution_count": 40,
     "metadata": {},
     "output_type": "execute_result"
    }
   ],
   "source": [
    "keys={'a','b','c','d'}\n",
    "value=10,20,30,40\n",
    "d6=dict.fromkeys(keys,value)\n",
    "d6"
   ]
  },
  {
   "cell_type": "code",
   "execution_count": 42,
   "id": "3aaceb4e-b081-43d2-a4b0-ebed25cd899d",
   "metadata": {},
   "outputs": [
    {
     "data": {
      "text/plain": [
       "{'c': [10, 20, 30, 40, 50],\n",
       " 'b': [10, 20, 30, 40, 50],\n",
       " 'd': [10, 20, 30, 40, 50],\n",
       " 'a': [10, 20, 30, 40, 50]}"
      ]
     },
     "execution_count": 42,
     "metadata": {},
     "output_type": "execute_result"
    }
   ],
   "source": [
    "keys={'a','b','c','d'}\n",
    "value=[10,20,30,40,50]\n",
    "d6=dict.fromkeys(keys,value)\n",
    "d6"
   ]
  },
  {
   "cell_type": "code",
   "execution_count": 44,
   "id": "2ce42ce1-0ea0-426c-83e5-8eee3bd0e443",
   "metadata": {},
   "outputs": [
    {
     "data": {
      "text/plain": [
       "{'c': [10, 20, 30, 40, 50, 60],\n",
       " 'b': [10, 20, 30, 40, 50, 60],\n",
       " 'd': [10, 20, 30, 40, 50, 60],\n",
       " 'a': [10, 20, 30, 40, 50, 60]}"
      ]
     },
     "execution_count": 44,
     "metadata": {},
     "output_type": "execute_result"
    }
   ],
   "source": [
    "value.append(60)\n",
    "d6"
   ]
  },
  {
   "cell_type": "code",
   "execution_count": null,
   "id": "37f4d4bb-c5b4-4c56-9769-6bcce68e7dda",
   "metadata": {},
   "outputs": [],
   "source": [
    "# Accessing items"
   ]
  },
  {
   "cell_type": "code",
   "execution_count": 3,
   "id": "98f6945b-198f-47ea-8826-dc5059d2d5a9",
   "metadata": {},
   "outputs": [
    {
     "data": {
      "text/plain": [
       "{1: 'one', 2: 'two', 3: 'three', 4: 'four'}"
      ]
     },
     "execution_count": 3,
     "metadata": {},
     "output_type": "execute_result"
    }
   ],
   "source": [
    "mydict={1:'one',2:'two',3:'three',4:'four'}\n",
    "mydict"
   ]
  },
  {
   "cell_type": "code",
   "execution_count": 7,
   "id": "9fdd9183-35d3-422a-b7cb-54f0443fda7d",
   "metadata": {},
   "outputs": [
    {
     "data": {
      "text/plain": [
       "'two'"
      ]
     },
     "execution_count": 7,
     "metadata": {},
     "output_type": "execute_result"
    }
   ],
   "source": [
    "mydict[2]"
   ]
  },
  {
   "cell_type": "code",
   "execution_count": 9,
   "id": "48cccd2f-d5d5-402b-a426-2749bef3e9ce",
   "metadata": {},
   "outputs": [
    {
     "data": {
      "text/plain": [
       "'one'"
      ]
     },
     "execution_count": 9,
     "metadata": {},
     "output_type": "execute_result"
    }
   ],
   "source": [
    "mydict.get(1)"
   ]
  },
  {
   "cell_type": "code",
   "execution_count": 11,
   "id": "027232e3-514b-4679-a93a-4e57092010c1",
   "metadata": {},
   "outputs": [
    {
     "data": {
      "text/plain": [
       "{'Name': 'Yash', 'ID': 2511, 'DOB': 2000}"
      ]
     },
     "execution_count": 11,
     "metadata": {},
     "output_type": "execute_result"
    }
   ],
   "source": [
    "mydict={'Name':'Yash','ID':2511,'DOB':2000,}\n",
    "mydict"
   ]
  },
  {
   "cell_type": "code",
   "execution_count": 13,
   "id": "d3d7a0c2-a5a3-4dde-87c7-cc41a17bf892",
   "metadata": {},
   "outputs": [
    {
     "data": {
      "text/plain": [
       "'Yash'"
      ]
     },
     "execution_count": 13,
     "metadata": {},
     "output_type": "execute_result"
    }
   ],
   "source": [
    "mydict['Name']"
   ]
  },
  {
   "cell_type": "code",
   "execution_count": 15,
   "id": "c71c670a-07ac-4545-bf5a-cf420c4ad10f",
   "metadata": {},
   "outputs": [
    {
     "data": {
      "text/plain": [
       "2000"
      ]
     },
     "execution_count": 15,
     "metadata": {},
     "output_type": "execute_result"
    }
   ],
   "source": [
    "mydict.get('DOB')"
   ]
  },
  {
   "cell_type": "code",
   "execution_count": 17,
   "id": "c35bea75-62be-4507-9698-75bbf5dc6f28",
   "metadata": {},
   "outputs": [],
   "source": [
    "#ADD , REMOVE & CHANGE ITEMS"
   ]
  },
  {
   "cell_type": "code",
   "execution_count": 35,
   "id": "fc78e0b9-a32e-4d68-ad8c-2f43a670657c",
   "metadata": {},
   "outputs": [
    {
     "data": {
      "text/plain": [
       "{'Name': 'Yash', 'ID': 2511, 'DOB': 2000, 'Address': 'Hyd'}"
      ]
     },
     "execution_count": 35,
     "metadata": {},
     "output_type": "execute_result"
    }
   ],
   "source": [
    "d1={'Name':'Yash','ID':2511,'DOB':2000,'Address':'Hyd'}\n",
    "d1"
   ]
  },
  {
   "cell_type": "code",
   "execution_count": 37,
   "id": "df6d79ee-1c71-4eb2-b9ad-33e0cbed6050",
   "metadata": {},
   "outputs": [
    {
     "data": {
      "text/plain": [
       "{'Name': 'Yash', 'ID': 2511, 'DOB': 1999, 'Address': 'HONGKONG'}"
      ]
     },
     "execution_count": 37,
     "metadata": {},
     "output_type": "execute_result"
    }
   ],
   "source": [
    "d1['DOB']=1999\n",
    "d1['Address']='HONGKONG'\n",
    "d1"
   ]
  },
  {
   "cell_type": "code",
   "execution_count": 41,
   "id": "b4b03def-9fe6-44d2-8d7e-5200ef81bdba",
   "metadata": {},
   "outputs": [
    {
     "data": {
      "text/plain": [
       "{'Name': 'Yash', 'ID': 2511, 'DOB': 1998, 'Address': 'HONGKONG'}"
      ]
     },
     "execution_count": 41,
     "metadata": {},
     "output_type": "execute_result"
    }
   ],
   "source": [
    "dict1={'DOB':1998}\n",
    "d1.update(dict1)\n",
    "d1"
   ]
  },
  {
   "cell_type": "code",
   "execution_count": 43,
   "id": "e600c927-a431-41b1-b2b2-c7fee394335f",
   "metadata": {},
   "outputs": [
    {
     "data": {
      "text/plain": [
       "{'Name': 'Yash', 'ID': 2511, 'DOB': 1998, 'Address': 'HONGKONG'}"
      ]
     },
     "execution_count": 43,
     "metadata": {},
     "output_type": "execute_result"
    }
   ],
   "source": [
    "d1"
   ]
  },
  {
   "cell_type": "code",
   "execution_count": 45,
   "id": "25679856-c885-4a24-8c17-8170de864d36",
   "metadata": {},
   "outputs": [
    {
     "data": {
      "text/plain": [
       "{'Name': 'Yash',\n",
       " 'ID': 2511,\n",
       " 'DOB': 1998,\n",
       " 'Address': 'HONGKONG',\n",
       " 'job': 'Engineer'}"
      ]
     },
     "execution_count": 45,
     "metadata": {},
     "output_type": "execute_result"
    }
   ],
   "source": [
    "d1['job']='Engineer'\n",
    "d1"
   ]
  },
  {
   "cell_type": "code",
   "execution_count": 49,
   "id": "804eadc8-2246-4ac9-b983-44d153ab5121",
   "metadata": {},
   "outputs": [
    {
     "data": {
      "text/plain": [
       "{'Name': 'Yash', 'ID': 2511, 'DOB': 1998, 'Address': 'HONGKONG'}"
      ]
     },
     "execution_count": 49,
     "metadata": {},
     "output_type": "execute_result"
    }
   ],
   "source": [
    "d1.pop('job')\n",
    "d1"
   ]
  },
  {
   "cell_type": "code",
   "execution_count": 51,
   "id": "193ddd7b-3e49-4788-af89-278a2f8329fc",
   "metadata": {},
   "outputs": [
    {
     "data": {
      "text/plain": [
       "('Address', 'HONGKONG')"
      ]
     },
     "execution_count": 51,
     "metadata": {},
     "output_type": "execute_result"
    }
   ],
   "source": [
    "d1.popitem()"
   ]
  },
  {
   "cell_type": "code",
   "execution_count": 53,
   "id": "79fe9fde-d94c-4574-9ecd-3b1fb1b1eb58",
   "metadata": {},
   "outputs": [
    {
     "data": {
      "text/plain": [
       "{'Name': 'Yash', 'ID': 2511, 'DOB': 1998}"
      ]
     },
     "execution_count": 53,
     "metadata": {},
     "output_type": "execute_result"
    }
   ],
   "source": [
    "d1"
   ]
  },
  {
   "cell_type": "code",
   "execution_count": 55,
   "id": "1b9c9f1f-4451-49a8-a35b-c6507d94ee26",
   "metadata": {},
   "outputs": [
    {
     "data": {
      "text/plain": [
       "{}"
      ]
     },
     "execution_count": 55,
     "metadata": {},
     "output_type": "execute_result"
    }
   ],
   "source": [
    "d1.clear()\n",
    "d1"
   ]
  },
  {
   "cell_type": "code",
   "execution_count": 57,
   "id": "5e368414-6cb4-49f7-b25a-674c8032c89e",
   "metadata": {},
   "outputs": [
    {
     "ename": "NameError",
     "evalue": "name 'd1' is not defined",
     "output_type": "error",
     "traceback": [
      "\u001b[1;31m---------------------------------------------------------------------------\u001b[0m",
      "\u001b[1;31mNameError\u001b[0m                                 Traceback (most recent call last)",
      "Cell \u001b[1;32mIn[57], line 2\u001b[0m\n\u001b[0;32m      1\u001b[0m \u001b[38;5;28;01mdel\u001b[39;00m d1\n\u001b[1;32m----> 2\u001b[0m d1\n",
      "\u001b[1;31mNameError\u001b[0m: name 'd1' is not defined"
     ]
    }
   ],
   "source": [
    "del d1\n",
    "d1"
   ]
  },
  {
   "cell_type": "code",
   "execution_count": 63,
   "id": "85c1c41c-51a1-49fd-ac91-afa6ff748eec",
   "metadata": {},
   "outputs": [
    {
     "data": {
      "text/plain": [
       "{'Name': 'Yash',\n",
       " 'ID': 2511,\n",
       " 'DOB': 1998,\n",
       " 'Address': 'HONGKONG',\n",
       " 'Job': 'Engineer'}"
      ]
     },
     "execution_count": 63,
     "metadata": {},
     "output_type": "execute_result"
    }
   ],
   "source": [
    "dict1={'Name': 'Yash','ID': 2511,'DOB': 1998,'Address': 'HONGKONG','Job': 'Engineer'}\n",
    "dict1"
   ]
  },
  {
   "cell_type": "code",
   "execution_count": 65,
   "id": "d0d9d21b-0fdf-4cfb-957e-f98265a561a3",
   "metadata": {},
   "outputs": [
    {
     "name": "stdout",
     "output_type": "stream",
     "text": [
      "Name : Yash\n",
      "ID : 2511\n",
      "DOB : 1998\n",
      "Address : HONGKONG\n",
      "Job : Engineer\n"
     ]
    }
   ],
   "source": [
    "for i in dict1:\n",
    "    print(i,':',dict1[i]) #key & value pair"
   ]
  },
  {
   "cell_type": "code",
   "execution_count": 67,
   "id": "bae1b47b-e563-425c-89a1-31ec089c2e4f",
   "metadata": {},
   "outputs": [
    {
     "name": "stdout",
     "output_type": "stream",
     "text": [
      "Yash\n",
      "2511\n",
      "1998\n",
      "HONGKONG\n",
      "Engineer\n"
     ]
    }
   ],
   "source": [
    "for i in dict1:\n",
    "    print(dict1[i])  #Dictionay items"
   ]
  },
  {
   "cell_type": "code",
   "execution_count": 69,
   "id": "1598c067-d8da-4757-b55a-b312690ed156",
   "metadata": {},
   "outputs": [],
   "source": [
    "#DICTIONARY MEMBERSHIP"
   ]
  },
  {
   "cell_type": "code",
   "execution_count": 71,
   "id": "b4282f05-46b0-43a9-bb9a-3906d8f9d104",
   "metadata": {},
   "outputs": [
    {
     "data": {
      "text/plain": [
       "{'Name': 'Yash',\n",
       " 'ID': 2511,\n",
       " 'DOB': 2000,\n",
       " 'Address': 'HONGKONG',\n",
       " 'Job': 'Engineer'}"
      ]
     },
     "execution_count": 71,
     "metadata": {},
     "output_type": "execute_result"
    }
   ],
   "source": [
    "d8={'Name': 'Yash','ID': 2511,'DOB': 2000,'Address': 'HONGKONG','Job': 'Engineer'}\n",
    "d8"
   ]
  },
  {
   "cell_type": "code",
   "execution_count": 73,
   "id": "b1dfd2c2-28c1-466e-8e43-5840c9a8765f",
   "metadata": {},
   "outputs": [
    {
     "data": {
      "text/plain": [
       "True"
      ]
     },
     "execution_count": 73,
     "metadata": {},
     "output_type": "execute_result"
    }
   ],
   "source": [
    "'Name' in d8   #Test if a key is in dict or not."
   ]
  },
  {
   "cell_type": "code",
   "execution_count": 75,
   "id": "fadc27da-550f-45fe-a065-55862948ac3f",
   "metadata": {},
   "outputs": [
    {
     "data": {
      "text/plain": [
       "False"
      ]
     },
     "execution_count": 75,
     "metadata": {},
     "output_type": "execute_result"
    }
   ],
   "source": [
    "'Yash' in d8  #Membership can test only for keys."
   ]
  },
  {
   "cell_type": "code",
   "execution_count": 77,
   "id": "74c47e26-2346-43cd-817b-e314098f736f",
   "metadata": {},
   "outputs": [
    {
     "data": {
      "text/plain": [
       "True"
      ]
     },
     "execution_count": 77,
     "metadata": {},
     "output_type": "execute_result"
    }
   ],
   "source": [
    "'ID' in d8"
   ]
  },
  {
   "cell_type": "markdown",
   "id": "cb46a654-5103-4f77-b213-177898e33e76",
   "metadata": {},
   "source": [
    "# ALL / Any"
   ]
  },
  {
   "cell_type": "raw",
   "id": "e83384dd-133d-47ed-8ad8-bc3fe426497e",
   "metadata": {},
   "source": [
    "The all() method returns: \n",
    "True - If all all keys of the dictionary are true \n",
    "False - If any key of the dictionary is false \n",
    "The any() function returns True if any key of the dictionary is True. If not, any() returns False."
   ]
  },
  {
   "cell_type": "code",
   "execution_count": 80,
   "id": "a3a51dee-c00d-4d69-af13-406a4f087b85",
   "metadata": {},
   "outputs": [
    {
     "data": {
      "text/plain": [
       "{'Name': 'Yash',\n",
       " 'ID': 2511,\n",
       " 'DOB': 2000,\n",
       " 'Address': 'HONGKONG',\n",
       " 'Job': 'Engineer'}"
      ]
     },
     "execution_count": 80,
     "metadata": {},
     "output_type": "execute_result"
    }
   ],
   "source": [
    "d6={'Name': 'Yash','ID': 2511,'DOB': 2000,'Address': 'HONGKONG','Job': 'Engineer'}\n",
    "d6"
   ]
  },
  {
   "cell_type": "code",
   "execution_count": 82,
   "id": "d618d1cd-b0e4-4682-b483-a976ace89aef",
   "metadata": {},
   "outputs": [
    {
     "data": {
      "text/plain": [
       "True"
      ]
     },
     "execution_count": 82,
     "metadata": {},
     "output_type": "execute_result"
    }
   ],
   "source": [
    "all(d8)  #will return false if any value is 0."
   ]
  },
  {
   "cell_type": "code",
   "execution_count": null,
   "id": "c79568b5-6688-4224-acd2-86318a0a0cc0",
   "metadata": {},
   "outputs": [],
   "source": []
  },
  {
   "cell_type": "code",
   "execution_count": null,
   "id": "1cb28c90-c7a4-4f21-a558-7db17cdc6ee8",
   "metadata": {},
   "outputs": [],
   "source": []
  }
 ],
 "metadata": {
  "kernelspec": {
   "display_name": "Python [conda env:base] *",
   "language": "python",
   "name": "conda-base-py"
  },
  "language_info": {
   "codemirror_mode": {
    "name": "ipython",
    "version": 3
   },
   "file_extension": ".py",
   "mimetype": "text/x-python",
   "name": "python",
   "nbconvert_exporter": "python",
   "pygments_lexer": "ipython3",
   "version": "3.12.7"
  }
 },
 "nbformat": 4,
 "nbformat_minor": 5
}
