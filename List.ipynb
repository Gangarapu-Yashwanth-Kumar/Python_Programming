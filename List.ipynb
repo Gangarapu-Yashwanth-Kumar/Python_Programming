{
 "cells": [
  {
   "cell_type": "code",
   "execution_count": 1,
   "id": "d6339c8c-89db-4186-aadb-54088127d6dc",
   "metadata": {},
   "outputs": [],
   "source": [
    "# Data Structure #collection of data types, user have to assign more than 1 value - List,Tuple,Set,Dict\n",
    "    "
   ]
  },
  {
   "cell_type": "markdown",
   "id": "c388fbde-6e3b-4c7e-8fed-d3459e601a2b",
   "metadata": {},
   "source": [
    "# List"
   ]
  },
  {
   "cell_type": "code",
   "execution_count": 11,
   "id": "7e98dbfe-3c76-416e-a7dd-dc35a3d293e2",
   "metadata": {},
   "outputs": [
    {
     "data": {
      "text/plain": [
       "[]"
      ]
     },
     "execution_count": 11,
     "metadata": {},
     "output_type": "execute_result"
    }
   ],
   "source": [
    "l=[]\n",
    "l"
   ]
  },
  {
   "cell_type": "code",
   "execution_count": 13,
   "id": "ff19b74c-a0fb-445e-9340-f9cd1b94d674",
   "metadata": {},
   "outputs": [
    {
     "data": {
      "text/plain": [
       "0"
      ]
     },
     "execution_count": 13,
     "metadata": {},
     "output_type": "execute_result"
    }
   ],
   "source": [
    "len(l)"
   ]
  },
  {
   "cell_type": "code",
   "execution_count": 15,
   "id": "61f50592-8343-440f-9156-fdf9f7690e53",
   "metadata": {},
   "outputs": [
    {
     "data": {
      "text/plain": [
       "[10]"
      ]
     },
     "execution_count": 15,
     "metadata": {},
     "output_type": "execute_result"
    }
   ],
   "source": [
    "l.append(10)\n",
    "l"
   ]
  },
  {
   "cell_type": "code",
   "execution_count": 17,
   "id": "96e94c51-8dda-41a2-89a0-99f544f78929",
   "metadata": {},
   "outputs": [
    {
     "data": {
      "text/plain": [
       "1"
      ]
     },
     "execution_count": 17,
     "metadata": {},
     "output_type": "execute_result"
    }
   ],
   "source": [
    "len(l)"
   ]
  },
  {
   "cell_type": "code",
   "execution_count": 19,
   "id": "dd1a0900-26ef-489a-8200-ce9ba71dc283",
   "metadata": {},
   "outputs": [],
   "source": [
    "l.append(20)\n",
    "l.append(30)\n",
    "l.append(40)\n",
    "l.append(50)"
   ]
  },
  {
   "cell_type": "code",
   "execution_count": 21,
   "id": "58519093-3c10-4b12-9ed7-ec196640e4d3",
   "metadata": {},
   "outputs": [
    {
     "data": {
      "text/plain": [
       "[10, 20, 30, 40, 50]"
      ]
     },
     "execution_count": 21,
     "metadata": {},
     "output_type": "execute_result"
    }
   ],
   "source": [
    "l"
   ]
  },
  {
   "cell_type": "code",
   "execution_count": 23,
   "id": "68efeb1c-2864-48f6-b4e4-5b689061ab79",
   "metadata": {},
   "outputs": [
    {
     "data": {
      "text/plain": [
       "5"
      ]
     },
     "execution_count": 23,
     "metadata": {},
     "output_type": "execute_result"
    }
   ],
   "source": [
    "len(l)"
   ]
  },
  {
   "cell_type": "code",
   "execution_count": 25,
   "id": "e2d82fab-5331-452e-99f8-f79c40144d13",
   "metadata": {},
   "outputs": [
    {
     "data": {
      "text/plain": [
       "1628754943296"
      ]
     },
     "execution_count": 25,
     "metadata": {},
     "output_type": "execute_result"
    }
   ],
   "source": [
    "id(l)"
   ]
  },
  {
   "cell_type": "code",
   "execution_count": 27,
   "id": "d32faabd-01de-48af-85be-1e20ad9d5d47",
   "metadata": {},
   "outputs": [
    {
     "name": "stdout",
     "output_type": "stream",
     "text": [
      "<class 'list'>\n"
     ]
    }
   ],
   "source": [
    "print(type(l))"
   ]
  },
  {
   "cell_type": "code",
   "execution_count": 29,
   "id": "70ac36e9-92da-41c4-83d8-4a18dfc30f76",
   "metadata": {},
   "outputs": [
    {
     "data": {
      "text/plain": [
       "[10, 20, 30, 40, 50]"
      ]
     },
     "execution_count": 29,
     "metadata": {},
     "output_type": "execute_result"
    }
   ],
   "source": [
    "l"
   ]
  },
  {
   "cell_type": "code",
   "execution_count": 31,
   "id": "3f75b3d7-64c3-437b-883c-b5f5fde9c70b",
   "metadata": {},
   "outputs": [
    {
     "data": {
      "text/plain": [
       "[10, 20, 30, 40, 50]"
      ]
     },
     "execution_count": 31,
     "metadata": {},
     "output_type": "execute_result"
    }
   ],
   "source": [
    "l[:]"
   ]
  },
  {
   "cell_type": "code",
   "execution_count": 33,
   "id": "573a4fbc-fad2-4e67-8486-ed2bfe190822",
   "metadata": {},
   "outputs": [
    {
     "data": {
      "text/plain": [
       "10"
      ]
     },
     "execution_count": 33,
     "metadata": {},
     "output_type": "execute_result"
    }
   ],
   "source": [
    "l[0]"
   ]
  },
  {
   "cell_type": "code",
   "execution_count": 35,
   "id": "fca5d0b7-681b-4581-8d66-fa6f16c86dec",
   "metadata": {},
   "outputs": [
    {
     "data": {
      "text/plain": [
       "50"
      ]
     },
     "execution_count": 35,
     "metadata": {},
     "output_type": "execute_result"
    }
   ],
   "source": [
    "l[-1]"
   ]
  },
  {
   "cell_type": "code",
   "execution_count": 37,
   "id": "e7f81f40-1f4a-4466-8fce-3ba98c558b16",
   "metadata": {},
   "outputs": [
    {
     "data": {
      "text/plain": [
       "[10, 20, 30, 40, 50]"
      ]
     },
     "execution_count": 37,
     "metadata": {},
     "output_type": "execute_result"
    }
   ],
   "source": [
    "l1=l.copy()\n",
    "l"
   ]
  },
  {
   "cell_type": "code",
   "execution_count": 39,
   "id": "9472cbcd-059e-40c2-ae07-ba19e70379bb",
   "metadata": {},
   "outputs": [
    {
     "data": {
      "text/plain": [
       "[10, 20, 30, 40, 50]"
      ]
     },
     "execution_count": 39,
     "metadata": {},
     "output_type": "execute_result"
    }
   ],
   "source": [
    "l1"
   ]
  },
  {
   "cell_type": "code",
   "execution_count": 41,
   "id": "82c7e86b-ee8b-4184-ad08-ddb15a738163",
   "metadata": {},
   "outputs": [
    {
     "data": {
      "text/plain": [
       "True"
      ]
     },
     "execution_count": 41,
     "metadata": {},
     "output_type": "execute_result"
    }
   ],
   "source": [
    "l==l1"
   ]
  },
  {
   "cell_type": "code",
   "execution_count": 45,
   "id": "b7dca173-3e95-4831-b823-ffb67c03f56b",
   "metadata": {},
   "outputs": [
    {
     "name": "stdout",
     "output_type": "stream",
     "text": [
      "5\n",
      "5\n"
     ]
    }
   ],
   "source": [
    "print(len(l))\n",
    "print(len(l1))"
   ]
  },
  {
   "cell_type": "code",
   "execution_count": 47,
   "id": "1457a58b-ce28-43cd-b2ea-490ad9342553",
   "metadata": {},
   "outputs": [
    {
     "data": {
      "text/plain": [
       "[10, 20, 30, 40, 50]"
      ]
     },
     "execution_count": 47,
     "metadata": {},
     "output_type": "execute_result"
    }
   ],
   "source": [
    "l1"
   ]
  },
  {
   "cell_type": "code",
   "execution_count": 49,
   "id": "75ed0e75-e279-4dce-9101-476637a309fb",
   "metadata": {},
   "outputs": [],
   "source": [
    "l1.append(2.3)\n",
    "l1.append(True)\n",
    "l1.append(1+2j)"
   ]
  },
  {
   "cell_type": "code",
   "execution_count": 51,
   "id": "73cf8c41-1a5c-4053-b05c-fc992cfda4a6",
   "metadata": {},
   "outputs": [
    {
     "data": {
      "text/plain": [
       "[10, 20, 30, 40, 50, 2.3, True, (1+2j)]"
      ]
     },
     "execution_count": 51,
     "metadata": {},
     "output_type": "execute_result"
    }
   ],
   "source": [
    "l1"
   ]
  },
  {
   "cell_type": "code",
   "execution_count": 53,
   "id": "d02604bf-49ea-4cbd-bdb9-6e31bcd4adae",
   "metadata": {},
   "outputs": [
    {
     "data": {
      "text/plain": [
       "[10, 20, 30, 40, 50]"
      ]
     },
     "execution_count": 53,
     "metadata": {},
     "output_type": "execute_result"
    }
   ],
   "source": [
    "l"
   ]
  },
  {
   "cell_type": "code",
   "execution_count": 55,
   "id": "4c3b19d8-a4f3-4791-a442-b8cd8932d9e7",
   "metadata": {},
   "outputs": [
    {
     "data": {
      "text/plain": [
       "1"
      ]
     },
     "execution_count": 55,
     "metadata": {},
     "output_type": "execute_result"
    }
   ],
   "source": [
    "l1.count(20)"
   ]
  },
  {
   "cell_type": "code",
   "execution_count": 57,
   "id": "999407aa-eabf-4d10-b3b6-31d3bc494142",
   "metadata": {},
   "outputs": [
    {
     "data": {
      "text/plain": [
       "1"
      ]
     },
     "execution_count": 57,
     "metadata": {},
     "output_type": "execute_result"
    }
   ],
   "source": [
    "l1.count(30)"
   ]
  },
  {
   "cell_type": "code",
   "execution_count": 59,
   "id": "171be01d-98af-4f1e-8e0b-fc84e5d044bd",
   "metadata": {},
   "outputs": [
    {
     "data": {
      "text/plain": [
       "[10, 20, 30, 40, 50, 2.3, True, (1+2j)]"
      ]
     },
     "execution_count": 59,
     "metadata": {},
     "output_type": "execute_result"
    }
   ],
   "source": [
    "l1"
   ]
  },
  {
   "cell_type": "code",
   "execution_count": 61,
   "id": "6462b3da-f936-4007-9dbd-b4bb6e4c68ff",
   "metadata": {},
   "outputs": [
    {
     "data": {
      "text/plain": [
       "[10, 20, 30, 40, 50]"
      ]
     },
     "execution_count": 61,
     "metadata": {},
     "output_type": "execute_result"
    }
   ],
   "source": [
    "l"
   ]
  },
  {
   "cell_type": "code",
   "execution_count": 63,
   "id": "7dca3668-3160-4ea5-b3a7-4f8d65cf88a8",
   "metadata": {},
   "outputs": [],
   "source": [
    "l2=l1.copy()"
   ]
  },
  {
   "cell_type": "code",
   "execution_count": 65,
   "id": "634a4ed0-5367-4258-b15f-f0dd7c5f1164",
   "metadata": {},
   "outputs": [
    {
     "data": {
      "text/plain": [
       "[10, 20, 30, 40, 50, 2.3, True, (1+2j)]"
      ]
     },
     "execution_count": 65,
     "metadata": {},
     "output_type": "execute_result"
    }
   ],
   "source": [
    "l2"
   ]
  },
  {
   "cell_type": "code",
   "execution_count": 67,
   "id": "61ecd42c-2904-48bd-b7dc-b74798d20fb5",
   "metadata": {},
   "outputs": [],
   "source": [
    "l2.remove(40)"
   ]
  },
  {
   "cell_type": "code",
   "execution_count": 69,
   "id": "d5b53ebc-10f2-4bb7-98e9-14b8819283d3",
   "metadata": {},
   "outputs": [
    {
     "data": {
      "text/plain": [
       "[10, 20, 30, 50, 2.3, True, (1+2j)]"
      ]
     },
     "execution_count": 69,
     "metadata": {},
     "output_type": "execute_result"
    }
   ],
   "source": [
    "l2"
   ]
  },
  {
   "cell_type": "code",
   "execution_count": 71,
   "id": "6fa8bda7-73bd-4911-b277-fad3c99d7f95",
   "metadata": {},
   "outputs": [
    {
     "data": {
      "text/plain": [
       "[10, 20, 30, 50, 2.3, (1+2j)]"
      ]
     },
     "execution_count": 71,
     "metadata": {},
     "output_type": "execute_result"
    }
   ],
   "source": [
    "l2.remove(True)\n",
    "l2"
   ]
  },
  {
   "cell_type": "code",
   "execution_count": 73,
   "id": "2969ddb1-f79c-45d6-9468-a58d03ceac8e",
   "metadata": {},
   "outputs": [
    {
     "data": {
      "text/plain": [
       "[10, 20, 30, 50, 2.3]"
      ]
     },
     "execution_count": 73,
     "metadata": {},
     "output_type": "execute_result"
    }
   ],
   "source": [
    "l2.remove(1+2j)\n",
    "l2"
   ]
  },
  {
   "cell_type": "code",
   "execution_count": 75,
   "id": "4442ae1e-015c-49e8-8b36-604b84c65790",
   "metadata": {},
   "outputs": [
    {
     "data": {
      "text/plain": [
       "[10, 20, 30, 50]"
      ]
     },
     "execution_count": 75,
     "metadata": {},
     "output_type": "execute_result"
    }
   ],
   "source": [
    "l2.remove(2.3)\n",
    "l2"
   ]
  },
  {
   "cell_type": "code",
   "execution_count": 77,
   "id": "1423466f-c5ce-4fd3-8576-a153713c06f7",
   "metadata": {},
   "outputs": [],
   "source": [
    "l2.clear()"
   ]
  },
  {
   "cell_type": "code",
   "execution_count": 79,
   "id": "a02b38f0-4d85-4955-aca6-5b24204d6051",
   "metadata": {},
   "outputs": [
    {
     "data": {
      "text/plain": [
       "[]"
      ]
     },
     "execution_count": 79,
     "metadata": {},
     "output_type": "execute_result"
    }
   ],
   "source": [
    "l2"
   ]
  },
  {
   "cell_type": "code",
   "execution_count": 81,
   "id": "c008022a-06e0-4d25-93a9-b0c59c9e46ca",
   "metadata": {},
   "outputs": [
    {
     "data": {
      "text/plain": [
       "[10, 20, 30, 40, 50, 2.3, True, (1+2j)]"
      ]
     },
     "execution_count": 81,
     "metadata": {},
     "output_type": "execute_result"
    }
   ],
   "source": [
    "l\n",
    "l1"
   ]
  },
  {
   "cell_type": "code",
   "execution_count": 83,
   "id": "1b657d38-4bbb-4887-afe9-104ef102c2d3",
   "metadata": {},
   "outputs": [
    {
     "name": "stdout",
     "output_type": "stream",
     "text": [
      "[10, 20, 30, 40, 50]\n",
      "[10, 20, 30, 40, 50, 2.3, True, (1+2j)]\n"
     ]
    }
   ],
   "source": [
    "print(l)\n",
    "print(l1)"
   ]
  },
  {
   "cell_type": "code",
   "execution_count": 87,
   "id": "32602c82-9b10-44e9-b37e-f550341946f2",
   "metadata": {},
   "outputs": [
    {
     "name": "stdout",
     "output_type": "stream",
     "text": [
      "10\n",
      "20\n",
      "30\n",
      "40\n",
      "50\n"
     ]
    }
   ],
   "source": [
    "for i in l:\n",
    "    print(i)"
   ]
  },
  {
   "cell_type": "code",
   "execution_count": 89,
   "id": "35528ef1-f3ac-48b2-82c7-ab4b5c4faa65",
   "metadata": {},
   "outputs": [
    {
     "data": {
      "text/plain": [
       "[10, 20, 30, 40, 50, [1, 2, 3, 'Hello']]"
      ]
     },
     "execution_count": 89,
     "metadata": {},
     "output_type": "execute_result"
    }
   ],
   "source": [
    "l.append([1,2,3,'Hello']) #Nested list\n",
    "l"
   ]
  },
  {
   "cell_type": "code",
   "execution_count": 91,
   "id": "d2d53646-be6b-4237-8440-cb156d59a675",
   "metadata": {},
   "outputs": [],
   "source": [
    "l.remove(40) #Remove the element directly not index wise"
   ]
  },
  {
   "cell_type": "code",
   "execution_count": 93,
   "id": "176326d9-19b0-41a3-a1b9-67a8e1e0acf6",
   "metadata": {},
   "outputs": [
    {
     "data": {
      "text/plain": [
       "[10, 20, 30, 50, [1, 2, 3, 'Hello']]"
      ]
     },
     "execution_count": 93,
     "metadata": {},
     "output_type": "execute_result"
    }
   ],
   "source": [
    "l"
   ]
  },
  {
   "cell_type": "code",
   "execution_count": 95,
   "id": "6e75391e-1086-4a6f-8b3d-4336c33bc81c",
   "metadata": {},
   "outputs": [
    {
     "data": {
      "text/plain": [
       "[10, 20, 30, 50, [1, 2, 3, 'Hello']]"
      ]
     },
     "execution_count": 95,
     "metadata": {},
     "output_type": "execute_result"
    }
   ],
   "source": [
    "l[:]"
   ]
  },
  {
   "cell_type": "code",
   "execution_count": 97,
   "id": "942273f8-7288-44b8-beae-c502ea0df1c3",
   "metadata": {},
   "outputs": [
    {
     "data": {
      "text/plain": [
       "50"
      ]
     },
     "execution_count": 97,
     "metadata": {},
     "output_type": "execute_result"
    }
   ],
   "source": [
    "l[3]"
   ]
  },
  {
   "cell_type": "code",
   "execution_count": 99,
   "id": "b7c56f64-2845-478f-a191-d3bdd40cf633",
   "metadata": {},
   "outputs": [
    {
     "data": {
      "text/plain": [
       "[10, 20, 30, 50]"
      ]
     },
     "execution_count": 99,
     "metadata": {},
     "output_type": "execute_result"
    }
   ],
   "source": [
    "l.pop()\n",
    "l"
   ]
  },
  {
   "cell_type": "code",
   "execution_count": 101,
   "id": "bb691b91-84f9-4739-ac8f-ef502841f9d7",
   "metadata": {},
   "outputs": [
    {
     "data": {
      "text/plain": [
       "[10, 20, 30, 40, 50, 2.3, True, (1+2j)]"
      ]
     },
     "execution_count": 101,
     "metadata": {},
     "output_type": "execute_result"
    }
   ],
   "source": [
    "l1"
   ]
  },
  {
   "cell_type": "code",
   "execution_count": 103,
   "id": "d0460ef8-4509-4ddd-a367-5b8303325061",
   "metadata": {},
   "outputs": [
    {
     "data": {
      "text/plain": [
       "[10, 20, 30, 40, 50, 2.3, True]"
      ]
     },
     "execution_count": 103,
     "metadata": {},
     "output_type": "execute_result"
    }
   ],
   "source": [
    "l1.pop()  #Remove the last element from the list index wise\n",
    "l1"
   ]
  },
  {
   "cell_type": "code",
   "execution_count": 125,
   "id": "b24c4d1a-ea48-4820-9aa0-cc385b71b83c",
   "metadata": {},
   "outputs": [
    {
     "data": {
      "text/plain": [
       "[10, 20, 30]"
      ]
     },
     "execution_count": 125,
     "metadata": {},
     "output_type": "execute_result"
    }
   ],
   "source": [
    "l1"
   ]
  },
  {
   "cell_type": "code",
   "execution_count": 127,
   "id": "848398af-7d74-428f-a033-130ef6173192",
   "metadata": {},
   "outputs": [
    {
     "data": {
      "text/plain": [
       "30"
      ]
     },
     "execution_count": 127,
     "metadata": {},
     "output_type": "execute_result"
    }
   ],
   "source": [
    "l1.pop(2)"
   ]
  },
  {
   "cell_type": "code",
   "execution_count": 129,
   "id": "af682bff-dc72-4d36-8658-e83e5a137c9f",
   "metadata": {},
   "outputs": [
    {
     "data": {
      "text/plain": [
       "[10, 20]"
      ]
     },
     "execution_count": 129,
     "metadata": {},
     "output_type": "execute_result"
    }
   ],
   "source": [
    "l1"
   ]
  },
  {
   "cell_type": "code",
   "execution_count": 131,
   "id": "de74dadd-414b-474d-8726-7944ba0320ef",
   "metadata": {},
   "outputs": [
    {
     "data": {
      "text/plain": [
       "[10, 20, 30, 50]"
      ]
     },
     "execution_count": 131,
     "metadata": {},
     "output_type": "execute_result"
    }
   ],
   "source": [
    "l"
   ]
  },
  {
   "cell_type": "code",
   "execution_count": 139,
   "id": "6b8150d8-7aa4-4123-b2fd-52ccc335fb82",
   "metadata": {},
   "outputs": [
    {
     "data": {
      "text/plain": [
       "[10, 20, 60, 60, 60, 60]"
      ]
     },
     "execution_count": 139,
     "metadata": {},
     "output_type": "execute_result"
    }
   ],
   "source": [
    "l1.insert(4,60)\n",
    "l1"
   ]
  },
  {
   "cell_type": "code",
   "execution_count": 141,
   "id": "817816b9-ed60-4286-8397-7d3d41869680",
   "metadata": {},
   "outputs": [
    {
     "data": {
      "text/plain": [
       "[10, 20, 60, 60, 60]"
      ]
     },
     "execution_count": 141,
     "metadata": {},
     "output_type": "execute_result"
    }
   ],
   "source": [
    "l1.remove(60)\n",
    "l1"
   ]
  },
  {
   "cell_type": "code",
   "execution_count": 143,
   "id": "d6a63860-2d6e-4bf4-b9fb-94ab8a6806b8",
   "metadata": {},
   "outputs": [
    {
     "data": {
      "text/plain": [
       "[10, 20, 30, 50]"
      ]
     },
     "execution_count": 143,
     "metadata": {},
     "output_type": "execute_result"
    }
   ],
   "source": [
    "l"
   ]
  },
  {
   "cell_type": "code",
   "execution_count": 145,
   "id": "32b62e39-81aa-460b-8f6d-161b14b46361",
   "metadata": {},
   "outputs": [
    {
     "data": {
      "text/plain": [
       "[5, 10, 20, 30, 50]"
      ]
     },
     "execution_count": 145,
     "metadata": {},
     "output_type": "execute_result"
    }
   ],
   "source": [
    "l.insert(0,5)\n",
    "l"
   ]
  },
  {
   "cell_type": "code",
   "execution_count": 147,
   "id": "882c0d90-9b1d-478b-a193-c599348fbf98",
   "metadata": {},
   "outputs": [
    {
     "data": {
      "text/plain": [
       "[10, 20, 60, 60, 60]"
      ]
     },
     "execution_count": 147,
     "metadata": {},
     "output_type": "execute_result"
    }
   ],
   "source": [
    "l1"
   ]
  },
  {
   "cell_type": "code",
   "execution_count": 149,
   "id": "9793becc-d4b3-464e-912c-7262485548f3",
   "metadata": {},
   "outputs": [
    {
     "data": {
      "text/plain": [
       "[5, 10, 20, 30, 50]"
      ]
     },
     "execution_count": 149,
     "metadata": {},
     "output_type": "execute_result"
    }
   ],
   "source": [
    "l"
   ]
  },
  {
   "cell_type": "code",
   "execution_count": 153,
   "id": "ecfc5f50-90d8-4aae-b996-2870a70efbbc",
   "metadata": {},
   "outputs": [],
   "source": [
    "l2.extend(l1)\n"
   ]
  },
  {
   "cell_type": "code",
   "execution_count": 155,
   "id": "68fb21ba-8301-4e4d-9068-0a3c8a6f097e",
   "metadata": {},
   "outputs": [
    {
     "data": {
      "text/plain": [
       "[10, 20, 60, 60, 60]"
      ]
     },
     "execution_count": 155,
     "metadata": {},
     "output_type": "execute_result"
    }
   ],
   "source": [
    "l1"
   ]
  },
  {
   "cell_type": "code",
   "execution_count": 157,
   "id": "c55cf789-fe49-4ecb-9f09-4faa34dab6bc",
   "metadata": {},
   "outputs": [
    {
     "data": {
      "text/plain": [
       "[10, 20, 60, 60, 60, 10, 20, 60, 60, 60]"
      ]
     },
     "execution_count": 157,
     "metadata": {},
     "output_type": "execute_result"
    }
   ],
   "source": [
    "l2"
   ]
  },
  {
   "cell_type": "code",
   "execution_count": 159,
   "id": "fbae0a61-06a4-48c5-80ae-6c494bdb4667",
   "metadata": {},
   "outputs": [
    {
     "data": {
      "text/plain": [
       "[10, 20, 60, 60, 60]"
      ]
     },
     "execution_count": 159,
     "metadata": {},
     "output_type": "execute_result"
    }
   ],
   "source": [
    "l1"
   ]
  },
  {
   "cell_type": "code",
   "execution_count": 161,
   "id": "95c52fad-3ba2-4361-823d-89d4b226f709",
   "metadata": {},
   "outputs": [
    {
     "ename": "ValueError",
     "evalue": "2 is not in list",
     "output_type": "error",
     "traceback": [
      "\u001b[1;31m---------------------------------------------------------------------------\u001b[0m",
      "\u001b[1;31mValueError\u001b[0m                                Traceback (most recent call last)",
      "Cell \u001b[1;32mIn[161], line 1\u001b[0m\n\u001b[1;32m----> 1\u001b[0m l1\u001b[38;5;241m.\u001b[39mindex(\u001b[38;5;241m2\u001b[39m)\n",
      "\u001b[1;31mValueError\u001b[0m: 2 is not in list"
     ]
    }
   ],
   "source": [
    "l1.index(2) #Index function will show index position for that particular element"
   ]
  },
  {
   "cell_type": "code",
   "execution_count": 163,
   "id": "20b555a4-edda-459a-ab12-3cb48a39f571",
   "metadata": {},
   "outputs": [
    {
     "data": {
      "text/plain": [
       "2"
      ]
     },
     "execution_count": 163,
     "metadata": {},
     "output_type": "execute_result"
    }
   ],
   "source": [
    "l1.index(60)"
   ]
  },
  {
   "cell_type": "code",
   "execution_count": 165,
   "id": "96c8b90a-a116-4701-a4d2-fa5161d8ed1b",
   "metadata": {},
   "outputs": [
    {
     "data": {
      "text/plain": [
       "[10, 20, 60, 60, 60]"
      ]
     },
     "execution_count": 165,
     "metadata": {},
     "output_type": "execute_result"
    }
   ],
   "source": [
    "l1"
   ]
  },
  {
   "cell_type": "code",
   "execution_count": 167,
   "id": "5caf4f24-0722-423f-a8f9-613a7172b85f",
   "metadata": {},
   "outputs": [],
   "source": [
    "l1.sort() #Sorting the list element in asc order"
   ]
  },
  {
   "cell_type": "code",
   "execution_count": 169,
   "id": "0cbd0230-88c9-4e37-a200-8e5945325b60",
   "metadata": {},
   "outputs": [
    {
     "data": {
      "text/plain": [
       "[10, 20, 60, 60, 60]"
      ]
     },
     "execution_count": 169,
     "metadata": {},
     "output_type": "execute_result"
    }
   ],
   "source": [
    "l1"
   ]
  },
  {
   "cell_type": "code",
   "execution_count": 171,
   "id": "71eb4d97-20a7-42cf-9f53-c0c119d704d1",
   "metadata": {},
   "outputs": [],
   "source": [
    "l1.sort(reverse=True) # Sorting the element in decending order"
   ]
  },
  {
   "cell_type": "code",
   "execution_count": 174,
   "id": "78bf2b7b-391c-426e-9e84-ce1d29c0c598",
   "metadata": {},
   "outputs": [
    {
     "data": {
      "text/plain": [
       "[60, 60, 60, 20, 10]"
      ]
     },
     "execution_count": 174,
     "metadata": {},
     "output_type": "execute_result"
    }
   ],
   "source": [
    "l1"
   ]
  },
  {
   "cell_type": "code",
   "execution_count": 176,
   "id": "634d10e4-4a36-497b-aa3b-fca59286d6a1",
   "metadata": {},
   "outputs": [
    {
     "data": {
      "text/plain": [
       "['z', 'm', 'n', 'd']"
      ]
     },
     "execution_count": 176,
     "metadata": {},
     "output_type": "execute_result"
    }
   ],
   "source": [
    "l4=['z','m','n','d']\n",
    "l4"
   ]
  },
  {
   "cell_type": "code",
   "execution_count": 178,
   "id": "6562113e-c89a-4f4a-8989-67ad00ccfd42",
   "metadata": {},
   "outputs": [],
   "source": [
    "l4.sort()"
   ]
  },
  {
   "cell_type": "code",
   "execution_count": 180,
   "id": "44b23085-c7d2-410c-a506-8ee1e3dcca98",
   "metadata": {},
   "outputs": [
    {
     "data": {
      "text/plain": [
       "['d', 'm', 'n', 'z']"
      ]
     },
     "execution_count": 180,
     "metadata": {},
     "output_type": "execute_result"
    }
   ],
   "source": [
    "l4"
   ]
  },
  {
   "cell_type": "code",
   "execution_count": 182,
   "id": "2820c116-8d86-4815-a4c4-c26691e59350",
   "metadata": {},
   "outputs": [
    {
     "data": {
      "text/plain": [
       "[60, 60, 60, 20, 10]"
      ]
     },
     "execution_count": 182,
     "metadata": {},
     "output_type": "execute_result"
    }
   ],
   "source": [
    "l1"
   ]
  },
  {
   "cell_type": "code",
   "execution_count": 184,
   "id": "20400066-ebec-4a71-8f83-54726a2fb5c2",
   "metadata": {},
   "outputs": [
    {
     "data": {
      "text/plain": [
       "[10, 20, 60, 60, 60]"
      ]
     },
     "execution_count": 184,
     "metadata": {},
     "output_type": "execute_result"
    }
   ],
   "source": [
    "l1.reverse()\n",
    "l1"
   ]
  },
  {
   "cell_type": "code",
   "execution_count": 186,
   "id": "3e8336f3-085b-42c3-a508-2777d01f8250",
   "metadata": {},
   "outputs": [
    {
     "data": {
      "text/plain": [
       "[10, 20, 60, 60, 60, 10, 20, 60, 60, 60]"
      ]
     },
     "execution_count": 186,
     "metadata": {},
     "output_type": "execute_result"
    }
   ],
   "source": [
    "l2"
   ]
  },
  {
   "cell_type": "code",
   "execution_count": 188,
   "id": "73e4c0d6-ec6e-4dea-8720-f1bb86dae78c",
   "metadata": {},
   "outputs": [
    {
     "data": {
      "text/plain": [
       "[60, 60, 60, 20, 10, 60, 60, 60, 20, 10]"
      ]
     },
     "execution_count": 188,
     "metadata": {},
     "output_type": "execute_result"
    }
   ],
   "source": [
    "l2.reverse()\n",
    "l2"
   ]
  },
  {
   "cell_type": "code",
   "execution_count": 190,
   "id": "499c1b9a-a0cb-4950-9bef-07f22a6f85b6",
   "metadata": {},
   "outputs": [
    {
     "data": {
      "text/plain": [
       "[60, 60, 60, 10, 60, 60, 60, 20, 10]"
      ]
     },
     "execution_count": 190,
     "metadata": {},
     "output_type": "execute_result"
    }
   ],
   "source": [
    "l2.remove(20)\n",
    "l2"
   ]
  },
  {
   "cell_type": "code",
   "execution_count": 192,
   "id": "ac5af72f-3369-44e0-93e5-e776c3dd8c58",
   "metadata": {},
   "outputs": [
    {
     "data": {
      "text/plain": [
       "[10, 20, 30, 40, 50, 60, 70, 80, 90, 100]"
      ]
     },
     "execution_count": 192,
     "metadata": {},
     "output_type": "execute_result"
    }
   ],
   "source": [
    "l10=[10,20,30,40,50,60,70,80,90,100]\n",
    "l10"
   ]
  },
  {
   "cell_type": "code",
   "execution_count": 198,
   "id": "e059802a-a22e-48ec-aab3-67dd97853129",
   "metadata": {},
   "outputs": [
    {
     "name": "stdout",
     "output_type": "stream",
     "text": [
      "(0, 10)\n",
      "(1, 20)\n",
      "(2, 30)\n",
      "(3, 40)\n",
      "(4, 50)\n",
      "(5, 60)\n",
      "(6, 70)\n",
      "(7, 80)\n",
      "(8, 90)\n",
      "(9, 100)\n"
     ]
    }
   ],
   "source": [
    "for i in enumerate(l10):\n",
    "       print(i)\n",
    "      "
   ]
  },
  {
   "cell_type": "code",
   "execution_count": 200,
   "id": "7c6ebda3-bc40-401d-a155-32e4cff12264",
   "metadata": {},
   "outputs": [
    {
     "data": {
      "text/plain": [
       "True"
      ]
     },
     "execution_count": 200,
     "metadata": {},
     "output_type": "execute_result"
    }
   ],
   "source": [
    "l11=[20,40,60,80]\n",
    "20 in l11"
   ]
  },
  {
   "cell_type": "code",
   "execution_count": 202,
   "id": "1af24dd3-c57c-4ea2-99e6-ae196a2100db",
   "metadata": {},
   "outputs": [
    {
     "data": {
      "text/plain": [
       "False"
      ]
     },
     "execution_count": 202,
     "metadata": {},
     "output_type": "execute_result"
    }
   ],
   "source": [
    "50 in l11"
   ]
  },
  {
   "cell_type": "code",
   "execution_count": null,
   "id": "8f3780d8-93f0-4a64-9396-fa46402202c3",
   "metadata": {},
   "outputs": [],
   "source": []
  }
 ],
 "metadata": {
  "kernelspec": {
   "display_name": "Python [conda env:base] *",
   "language": "python",
   "name": "conda-base-py"
  },
  "language_info": {
   "codemirror_mode": {
    "name": "ipython",
    "version": 3
   },
   "file_extension": ".py",
   "mimetype": "text/x-python",
   "name": "python",
   "nbconvert_exporter": "python",
   "pygments_lexer": "ipython3",
   "version": "3.12.7"
  }
 },
 "nbformat": 4,
 "nbformat_minor": 5
}
