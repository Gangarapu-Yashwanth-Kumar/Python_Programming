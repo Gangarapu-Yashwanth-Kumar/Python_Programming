{
 "cells": [
  {
   "cell_type": "markdown",
   "id": "ba741b52-c6c6-41f0-bdb4-798ece161bac",
   "metadata": {},
   "source": [
    "# Python- Complex Data Type"
   ]
  },
  {
   "cell_type": "code",
   "execution_count": 1,
   "id": "bd3fde2f-c26a-4419-96aa-0e28ff38d01a",
   "metadata": {},
   "outputs": [
    {
     "name": "stdout",
     "output_type": "stream",
     "text": [
      "10.0\n",
      "40.0\n"
     ]
    }
   ],
   "source": [
    "a=10+40j\n",
    "print(a.real)\n",
    "print(a.imag)"
   ]
  },
  {
   "cell_type": "code",
   "execution_count": 11,
   "id": "ed048fe1-7787-4773-9928-f8088af48f2b",
   "metadata": {},
   "outputs": [],
   "source": [
    "b=8+6j\n",
    "c=6+10j\n"
   ]
  },
  {
   "cell_type": "code",
   "execution_count": 13,
   "id": "57ecdd6d-43f0-406e-88f8-565844b07fe7",
   "metadata": {},
   "outputs": [
    {
     "name": "stdout",
     "output_type": "stream",
     "text": [
      "(14+16j)\n"
     ]
    }
   ],
   "source": [
    "print(b+c)"
   ]
  },
  {
   "cell_type": "code",
   "execution_count": 15,
   "id": "b7a9adcd-cfe8-4e65-af2f-7782e05e9ad6",
   "metadata": {},
   "outputs": [
    {
     "name": "stdout",
     "output_type": "stream",
     "text": [
      "(2-4j)\n"
     ]
    }
   ],
   "source": [
    "print(b-c)"
   ]
  },
  {
   "cell_type": "code",
   "execution_count": 17,
   "id": "bdfda60f-9bbd-4e6d-8a75-c5eae82f0757",
   "metadata": {},
   "outputs": [
    {
     "name": "stdout",
     "output_type": "stream",
     "text": [
      "(-12+116j)\n"
     ]
    }
   ],
   "source": [
    "print(b*c)"
   ]
  },
  {
   "cell_type": "code",
   "execution_count": 19,
   "id": "eed4f8cf-f32d-4f1e-9b3e-d7735d1d6d80",
   "metadata": {},
   "outputs": [
    {
     "name": "stdout",
     "output_type": "stream",
     "text": [
      "(0.7941176470588236-0.3235294117647059j)\n"
     ]
    }
   ],
   "source": [
    "print(b/c)"
   ]
  },
  {
   "cell_type": "code",
   "execution_count": 23,
   "id": "dd4973f6-93fe-48bf-b36e-e2d6deb8d70c",
   "metadata": {},
   "outputs": [
    {
     "name": "stdout",
     "output_type": "stream",
     "text": [
      "10.0\n"
     ]
    }
   ],
   "source": [
    "print(abs(b))"
   ]
  },
  {
   "cell_type": "code",
   "execution_count": 25,
   "id": "4e4f75a6-b37b-4729-8fe2-18f4e55733c2",
   "metadata": {},
   "outputs": [
    {
     "name": "stdout",
     "output_type": "stream",
     "text": [
      "11.661903789690601\n"
     ]
    }
   ],
   "source": [
    "print(abs(c))"
   ]
  },
  {
   "cell_type": "code",
   "execution_count": 27,
   "id": "1d5b1450-8d76-4000-97a0-b92506e58eb5",
   "metadata": {},
   "outputs": [
    {
     "name": "stdout",
     "output_type": "stream",
     "text": [
      "(2-4j)\n"
     ]
    }
   ],
   "source": [
    "d=2+4j\n",
    "print(d.conjugate())"
   ]
  },
  {
   "cell_type": "code",
   "execution_count": 29,
   "id": "794a9f3b-a5e2-4599-8d29-053fc6107997",
   "metadata": {},
   "outputs": [],
   "source": [
    "# Complex Number in cmath Module"
   ]
  },
  {
   "cell_type": "code",
   "execution_count": 31,
   "id": "a4e88708-7889-42c1-a12f-2329d4af8225",
   "metadata": {},
   "outputs": [],
   "source": [
    "import cmath"
   ]
  },
  {
   "cell_type": "code",
   "execution_count": 39,
   "id": "d2c99f9b-84b9-4f7a-9973-7673a69b68bf",
   "metadata": {},
   "outputs": [
    {
     "name": "stdout",
     "output_type": "stream",
     "text": [
      "1.0303768265243125\n"
     ]
    }
   ],
   "source": [
    "k=3+5j\n",
    "print(cmath.phase(k)) #It gives the phase (angle) of the complex numbers "
   ]
  },
  {
   "cell_type": "code",
   "execution_count": 43,
   "id": "53fe00ae-e0c7-4400-8287-41e622212067",
   "metadata": {},
   "outputs": [
    {
     "name": "stdout",
     "output_type": "stream",
     "text": [
      "(5.830951894845301, 1.0303768265243125)\n"
     ]
    }
   ],
   "source": [
    "print(cmath.polar(k)) #It gives the polar form of a complex number  i.e.,Magnitude"
   ]
  },
  {
   "cell_type": "code",
   "execution_count": 45,
   "id": "00c2dc55-56f3-4dcd-91e1-544470dc1276",
   "metadata": {},
   "outputs": [
    {
     "name": "stdout",
     "output_type": "stream",
     "text": [
      "(2.101303392521568+1.189737764140758j)\n"
     ]
    }
   ],
   "source": [
    "print(cmath.sqrt(k))  #It gives the square root of a complex number"
   ]
  },
  {
   "cell_type": "code",
   "execution_count": 70,
   "id": "77ce295c-ccc7-4010-8acc-9bba5865f346",
   "metadata": {},
   "outputs": [
    {
     "name": "stdout",
     "output_type": "stream",
     "text": [
      "(3.171022727470968+2.8382010390628456j)\n"
     ]
    }
   ],
   "source": [
    "n2=2+18j\n",
    "print(cmath.sqrt(n2))"
   ]
  },
  {
   "cell_type": "code",
   "execution_count": null,
   "id": "bc805484-cf2a-442d-b1c5-d214a3b77af4",
   "metadata": {},
   "outputs": [],
   "source": []
  },
  {
   "cell_type": "code",
   "execution_count": null,
   "id": "8a3a6766-e753-4e49-9d2c-b14e94081f19",
   "metadata": {},
   "outputs": [],
   "source": []
  },
  {
   "cell_type": "code",
   "execution_count": null,
   "id": "aa5dcf19-6bee-45d1-89d1-2ea48a80afc1",
   "metadata": {},
   "outputs": [],
   "source": []
  }
 ],
 "metadata": {
  "kernelspec": {
   "display_name": "Python [conda env:base] *",
   "language": "python",
   "name": "conda-base-py"
  },
  "language_info": {
   "codemirror_mode": {
    "name": "ipython",
    "version": 3
   },
   "file_extension": ".py",
   "mimetype": "text/x-python",
   "name": "python",
   "nbconvert_exporter": "python",
   "pygments_lexer": "ipython3",
   "version": "3.12.7"
  }
 },
 "nbformat": 4,
 "nbformat_minor": 5
}
