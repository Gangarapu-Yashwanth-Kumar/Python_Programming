{
 "cells": [
  {
   "cell_type": "markdown",
   "id": "d86f5180-d31f-426c-a1c7-3624bd179faf",
   "metadata": {},
   "source": [
    "# Variables in Python"
   ]
  },
  {
   "cell_type": "code",
   "execution_count": 5,
   "id": "4d06e490-7ee9-4816-830a-73b3e0ab3e02",
   "metadata": {},
   "outputs": [],
   "source": [
    "first_name = 'YASHWANTH'"
   ]
  },
  {
   "cell_type": "code",
   "execution_count": 7,
   "id": "b66e5634-4ad6-4b75-8066-962b135337e6",
   "metadata": {},
   "outputs": [],
   "source": [
    "last_name = 'KUMAR'"
   ]
  },
  {
   "cell_type": "code",
   "execution_count": 9,
   "id": "bce6e8e2-4205-4e1e-82a2-a95b96a54bac",
   "metadata": {},
   "outputs": [],
   "source": [
    "country = 'INDIA'"
   ]
  },
  {
   "cell_type": "code",
   "execution_count": 11,
   "id": "34595cff-7332-400d-ab5d-e8d35f0e7687",
   "metadata": {},
   "outputs": [],
   "source": [
    "city = 'HYD'"
   ]
  },
  {
   "cell_type": "code",
   "execution_count": 13,
   "id": "ad883275-1008-4128-9512-a3a2ca084623",
   "metadata": {},
   "outputs": [],
   "source": [
    "age = 24"
   ]
  },
  {
   "cell_type": "code",
   "execution_count": 15,
   "id": "56b28371-48a4-435a-8b6d-2f41d740328e",
   "metadata": {},
   "outputs": [],
   "source": [
    "is_notmarried = False"
   ]
  },
  {
   "cell_type": "code",
   "execution_count": 17,
   "id": "7187246a-dbe5-4bcf-94c9-06770cc09a32",
   "metadata": {},
   "outputs": [],
   "source": [
    "skills = [ 'Python']"
   ]
  },
  {
   "cell_type": "code",
   "execution_count": 19,
   "id": "247a992e-4783-4b75-9726-5c2e7811dc8e",
   "metadata": {},
   "outputs": [],
   "source": [
    "person_info = {\n",
    "    'firstname':'yashwanth', \n",
    "    'lastname':'kumar', \n",
    "    'country':'india',\n",
    "    'city':'hyd'\n",
    "    }"
   ]
  },
  {
   "cell_type": "code",
   "execution_count": 21,
   "id": "0a109df0-3211-4f48-b5f9-9bb816190f1e",
   "metadata": {},
   "outputs": [
    {
     "name": "stdout",
     "output_type": "stream",
     "text": [
      "First name: YASHWANTH\n",
      "First name length: 9\n",
      "Last name:  KUMAR\n",
      "Last name length:  5\n",
      "Country:  INDIA\n",
      "City:  HYD\n",
      "Age:  24\n",
      "Married:  False\n",
      "Skills:  ['Python']\n",
      "Person information:  {'firstname': 'yashwanth', 'lastname': 'kumar', 'country': 'india', 'city': 'hyd'}\n"
     ]
    }
   ],
   "source": [
    "print('First name:', first_name)\n",
    "print('First name length:', len(first_name))\n",
    "print('Last name: ', last_name)\n",
    "print('Last name length: ', len(last_name))\n",
    "print('Country: ', country)\n",
    "print('City: ', city)\n",
    "print('Age: ', age)\n",
    "print('Married: ', is_notmarried)\n",
    "print('Skills: ', skills)\n",
    "print('Person information: ', person_info)"
   ]
  },
  {
   "cell_type": "code",
   "execution_count": null,
   "id": "ae15c9ab-0985-4ab9-85a4-4d8a707604e6",
   "metadata": {},
   "outputs": [],
   "source": []
  },
  {
   "cell_type": "code",
   "execution_count": null,
   "id": "d0c9bd32-b6e7-4f41-b945-1c9ac57f94f8",
   "metadata": {},
   "outputs": [],
   "source": []
  }
 ],
 "metadata": {
  "kernelspec": {
   "display_name": "Python [conda env:base] *",
   "language": "python",
   "name": "conda-base-py"
  },
  "language_info": {
   "codemirror_mode": {
    "name": "ipython",
    "version": 3
   },
   "file_extension": ".py",
   "mimetype": "text/x-python",
   "name": "python",
   "nbconvert_exporter": "python",
   "pygments_lexer": "ipython3",
   "version": "3.12.7"
  }
 },
 "nbformat": 4,
 "nbformat_minor": 5
}
