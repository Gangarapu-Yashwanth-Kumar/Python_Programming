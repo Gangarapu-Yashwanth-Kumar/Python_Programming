{
 "cells": [
  {
   "cell_type": "markdown",
   "id": "c26d4940-5be0-486c-99ce-2bd7685af8a8",
   "metadata": {},
   "source": [
    "# **Iterator**"
   ]
  },
  {
   "cell_type": "markdown",
   "id": "7c482743-a6fc-49f2-9438-eb6a9c353d9d",
   "metadata": {},
   "source": [
    "- Iterator means keep adding the value i ++\n",
    "- Iterator mostly used for Loop \n",
    "- If we have list of 5 elements using a loop we can iterate from 1st element to the last element."
   ]
  },
  {
   "cell_type": "code",
   "execution_count": 7,
   "id": "f1699413-86ac-4f03-b313-8e70c532089d",
   "metadata": {},
   "outputs": [
    {
     "name": "stdout",
     "output_type": "stream",
     "text": [
      "7\n",
      "8\n"
     ]
    },
    {
     "ename": "IndexError",
     "evalue": "list index out of range",
     "output_type": "error",
     "traceback": [
      "\u001b[31m---------------------------------------------------------------------------\u001b[39m",
      "\u001b[31mIndexError\u001b[39m                                Traceback (most recent call last)",
      "\u001b[36mCell\u001b[39m\u001b[36m \u001b[39m\u001b[32mIn[7]\u001b[39m\u001b[32m, line 4\u001b[39m\n\u001b[32m      2\u001b[39m \u001b[38;5;28mprint\u001b[39m(nums[\u001b[32m0\u001b[39m]) \u001b[38;5;66;03m# If we pass the index value \u001b[39;00m\n\u001b[32m      3\u001b[39m \u001b[38;5;28mprint\u001b[39m(nums[\u001b[32m1\u001b[39m])\n\u001b[32m----> \u001b[39m\u001b[32m4\u001b[39m \u001b[38;5;28mprint\u001b[39m(\u001b[43mnums\u001b[49m\u001b[43m[\u001b[49m\u001b[32;43m5\u001b[39;49m\u001b[43m]\u001b[49m)\n",
      "\u001b[31mIndexError\u001b[39m: list index out of range"
     ]
    }
   ],
   "source": [
    "nums = [7, 8, 9, 5]\n",
    "print(nums[0]) # If we pass the index value \n",
    "print(nums[1])\n",
    "print(nums[5])"
   ]
  },
  {
   "cell_type": "code",
   "execution_count": 5,
   "id": "be27c765-c67e-4af5-9ee8-0a30fe7c8ad6",
   "metadata": {},
   "outputs": [
    {
     "name": "stdout",
     "output_type": "stream",
     "text": [
      "7\n",
      "8\n",
      "9\n",
      "5\n"
     ]
    }
   ],
   "source": [
    "# The other way to print the values \n",
    "for i in nums:\n",
    "    print(i)"
   ]
  },
  {
   "cell_type": "code",
   "execution_count": 9,
   "id": "b50d0198-b39d-432a-a015-edc3282b27ca",
   "metadata": {},
   "outputs": [
    {
     "name": "stdout",
     "output_type": "stream",
     "text": [
      "<list_iterator object at 0x0000022B9426F850>\n"
     ]
    }
   ],
   "source": [
    "it = iter(nums)         #---- iter is the inbuild function which convert list into iterator\n",
    "print(it)                #---- iteratre does not give all values it will give the value 1 by 1"
   ]
  },
  {
   "cell_type": "code",
   "execution_count": 11,
   "id": "1b8a0acb-4b22-419d-9193-2967103e1336",
   "metadata": {},
   "outputs": [
    {
     "name": "stdout",
     "output_type": "stream",
     "text": [
      "7\n"
     ]
    }
   ],
   "source": [
    "print(it.__next__()) "
   ]
  },
  {
   "cell_type": "markdown",
   "id": "9ec67dbd-9d1f-4326-b995-9a96de1a27c3",
   "metadata": {},
   "source": [
    "- In above code we only got address but we don't want the address here\n",
    "- For that we need another inbuild function called **__next__**\n",
    "- Everytime we need to execute so that it will give value one by one\n",
    "- Behind the scene iterator has multiple values , I am calling method which is __next__\n",
    "- In next it will pick up 1 value which means it preserve the last value of i "
   ]
  },
  {
   "cell_type": "code",
   "execution_count": null,
   "id": "107fcf7d-b89f-41c5-a9da-c705a69e59dc",
   "metadata": {},
   "outputs": [],
   "source": [
    "# So far we create iterator using inbuild function \n",
    "# Can we create own iterator,Yes we can also create our own iterator using class and method\n",
    "\n",
    "# I WANT TO PRINT TOP 10 VALUE using 2 method iter() & next()\n",
    "\n",
    "class topten:\n",
    "    \n",
    "    def __init__(self):\n",
    "        self.num = 1\n",
    "        \n",
    "    def __iter__(self):\n",
    "        return self\n",
    "    \n",
    "    def __next__(self):\n",
    "        val = self.num\n",
    "        self.num += 1\n",
    "        return val\n",
    "    \n",
    "values = topten()\n",
    "    \n",
    "for i in values:\n",
    "    print(i)\n",
    "#If you execute this you will get infinite loop but we want top 10. "
   ]
  },
  {
   "cell_type": "code",
   "execution_count": 1,
   "id": "b22efa0c-3088-49de-9c47-c4dbf1565ad4",
   "metadata": {},
   "outputs": [
    {
     "name": "stdout",
     "output_type": "stream",
     "text": [
      "1\n",
      "2\n"
     ]
    }
   ],
   "source": [
    "# I WANT TO PRINT TOP 10 VALUE using 2 method iter() & next()\n",
    "\n",
    "class topten:\n",
    "    \n",
    "    def __init__(self):\n",
    "        self.num = 1\n",
    "        \n",
    "    def __iter__(self):\n",
    "        return self\n",
    "    \n",
    "    def __next__(self):\n",
    "        val = self.num\n",
    "        self.num += 1\n",
    "        return val\n",
    "    \n",
    "values = topten()\n",
    "\n",
    "print(values.__next__())\n",
    "    \n",
    "print(values.__next__())"
   ]
  },
  {
   "cell_type": "code",
   "execution_count": null,
   "id": "eebe380f-5cfc-49e4-af77-695540f4a7b8",
   "metadata": {},
   "outputs": [],
   "source": [
    "# I WANT TO PRINT TOP 10 VALUE using 2 method iter() & next()\n",
    "\n",
    "class topten:\n",
    "    \n",
    "    def __init__(self):\n",
    "        self.num = 1\n",
    "        \n",
    "    def __iter__(self):\n",
    "        return self\n",
    "    \n",
    "    def __next__(self):\n",
    "        if self.num <= 10:\n",
    "            val = self.num\n",
    "            self.num += 1\n",
    "            return val\n",
    "            \n",
    "    \n",
    "values = topten()\n",
    "\n",
    "for i in values:\n",
    "    print(i)  \n",
    "\n",
    "#WE ARE GETTING 10 VALUES BUT AFTER THAT LOOP IS STILL RUNNING WE NEED TO STOP THAT\n",
    "#If you execute this code we get the value from 1 - 10 but after 10 we get the value as NONE \n",
    "#TO STOP THIS LOOP WE WILL RAISE THE EXCEPTION"
   ]
  },
  {
   "cell_type": "code",
   "execution_count": 3,
   "id": "7bbb0b21-5f03-4c9c-8d88-b74f5a637189",
   "metadata": {},
   "outputs": [
    {
     "name": "stdout",
     "output_type": "stream",
     "text": [
      "1\n",
      "2\n",
      "3\n",
      "4\n",
      "5\n",
      "6\n",
      "7\n",
      "8\n",
      "9\n",
      "10\n"
     ]
    }
   ],
   "source": [
    "# I WANT TO PRINT TOP 10 VALUE using 2 method iter() & next()\n",
    "\n",
    "class topten:\n",
    "    \n",
    "    def __init__(self):\n",
    "        self.num = 1\n",
    "        \n",
    "    def __iter__(self):\n",
    "        return self\n",
    "    \n",
    "    def __next__(self):\n",
    "        if self.num <= 10:\n",
    "            val = self.num\n",
    "            self.num += 1\n",
    "            return val\n",
    "        else:\n",
    "            raise StopIteration               \n",
    "    \n",
    "values = topten()\n",
    "\n",
    "#print(next(values))\n",
    "\n",
    "for i in values:\n",
    "    print(i)  \n"
   ]
  },
  {
   "cell_type": "markdown",
   "id": "e3790ebd-a027-4daf-bf53-5a1e62668e37",
   "metadata": {},
   "source": [
    "- The best way to create your own iterator is with 2 functions is - **iter() & next()**\n",
    "- **iter()** will give you object of iterator\n",
    "- **next()** will give next object"
   ]
  },
  {
   "cell_type": "markdown",
   "id": "422d537a-0775-474f-9789-74010e27a5f8",
   "metadata": {},
   "source": [
    "# **Generators in Python**"
   ]
  },
  {
   "cell_type": "markdown",
   "id": "e509a802-ea25-433f-acca-1f231d88f539",
   "metadata": {},
   "source": [
    "- We will use iterator to print the value one by one\n",
    "- But with iterator the issue is we need to create our own iterator using iter() & next()\n",
    "- So, We want python to do for us & thats called **GENERATOR**\n",
    "- In simple way I want to say that the **GENARATOR GIVES ITERATOR**\n",
    "- Lets understand How to create **GENERATORS**\n",
    "- Use of the **YIELD** Keyword"
   ]
  },
  {
   "cell_type": "code",
   "execution_count": 9,
   "id": "3757ea7c-c2eb-4d7e-b556-dec29297a604",
   "metadata": {},
   "outputs": [
    {
     "name": "stdout",
     "output_type": "stream",
     "text": [
      "5\n"
     ]
    }
   ],
   "source": [
    "def topten():\n",
    "    return 5\n",
    "    \n",
    "values = topten()\n",
    "\n",
    "print(values)"
   ]
  },
  {
   "cell_type": "code",
   "execution_count": 11,
   "id": "ee046e97-5706-46e7-92f0-b8f71f1ba1ba",
   "metadata": {},
   "outputs": [
    {
     "name": "stdout",
     "output_type": "stream",
     "text": [
      "<generator object topten at 0x0000017FEC70BB60>\n"
     ]
    }
   ],
   "source": [
    "def topten():\n",
    "    yield 5\n",
    "    \n",
    "values = topten()\n",
    "\n",
    "print(values)"
   ]
  },
  {
   "cell_type": "code",
   "execution_count": 13,
   "id": "ebf52f46-df14-4b5d-9212-882b26b2e93d",
   "metadata": {},
   "outputs": [
    {
     "name": "stdout",
     "output_type": "stream",
     "text": [
      "5\n"
     ]
    }
   ],
   "source": [
    "def topten():\n",
    "    yield 5\n",
    "    \n",
    "values = topten()\n",
    "\n",
    "print(values.__next__())"
   ]
  },
  {
   "cell_type": "code",
   "execution_count": 15,
   "id": "c809ca50-8a52-4a87-9dab-6e143fc198d6",
   "metadata": {},
   "outputs": [
    {
     "name": "stdout",
     "output_type": "stream",
     "text": [
      "1\n"
     ]
    }
   ],
   "source": [
    "def topten():\n",
    "    yield 1\n",
    "    yield 2\n",
    "    yield 3\n",
    "    yield 4\n",
    "values = topten()\n",
    "\n",
    "print(values.__next__())\n",
    "# In this code we print 4 yield statement but still we get the value as 1 "
   ]
  },
  {
   "cell_type": "code",
   "execution_count": 17,
   "id": "b2210c5e-ae9c-4e73-9498-3dc328c01bd8",
   "metadata": {},
   "outputs": [
    {
     "name": "stdout",
     "output_type": "stream",
     "text": [
      "1\n",
      "2\n"
     ]
    }
   ],
   "source": [
    "def topten():\n",
    "    yield 1\n",
    "    yield 2\n",
    "    yield 3\n",
    "    yield 4\n",
    "values = topten()\n",
    "\n",
    "print(values.__next__())\n",
    "print(values.__next__())"
   ]
  },
  {
   "cell_type": "code",
   "execution_count": 19,
   "id": "ec3e4ff1-ef0e-4b27-a3fb-16e9d10f3390",
   "metadata": {},
   "outputs": [
    {
     "name": "stdout",
     "output_type": "stream",
     "text": [
      "1\n",
      "2\n",
      "3\n",
      "4\n"
     ]
    }
   ],
   "source": [
    "def topten():\n",
    "    yield 1\n",
    "    yield 2\n",
    "    yield 3\n",
    "    yield 4\n",
    "values = topten()\n",
    "\n",
    "print(values.__next__())\n",
    "print(values.__next__())\n",
    "print(values.__next__())\n",
    "print(values.__next__())"
   ]
  },
  {
   "cell_type": "code",
   "execution_count": 27,
   "id": "7d96f723-77e6-4843-9c27-34d3179dc130",
   "metadata": {},
   "outputs": [
    {
     "name": "stdout",
     "output_type": "stream",
     "text": [
      "1\n",
      "4\n",
      "9\n",
      "16\n",
      "25\n",
      "36\n",
      "49\n",
      "64\n",
      "81\n",
      "100\n"
     ]
    }
   ],
   "source": [
    "# Lets print top 10 perfect square\n",
    "def topten():     \n",
    "    n = 1\n",
    "    \n",
    "    while n<=10:\n",
    "        sq = n*n\n",
    "        yield sq\n",
    "        n += 1\n",
    "    \n",
    "values = topten()\n",
    "    \n",
    "for i in values:\n",
    "    print(i)"
   ]
  },
  {
   "cell_type": "markdown",
   "id": "c71e1571-d25c-4b6e-b84e-c53f9eea80e8",
   "metadata": {},
   "source": [
    "- When the loop runs it fetch the 1st value & next iterator value with squre \n",
    "- Here in this code we create iterator using generator \n",
    "- For Ex- You might be fetch 1000 records from the database & you wanted to print them all\n",
    "- You wanted to process them those records & all 1k records will loaded in the memory\n",
    "- We dont want that & We want one value at a time on that senario we will use **generator**\n",
    "- Instead of fetching entire list you need to fetch value one by one\n",
    "- This is How we use generator using YIELD keyword."
   ]
  },
  {
   "cell_type": "markdown",
   "id": "41bf6786-c2b7-4034-9bcc-79b794650c4f",
   "metadata": {},
   "source": [
    "# **MultiThreading in Python**"
   ]
  },
  {
   "cell_type": "code",
   "execution_count": 33,
   "id": "83b5c99d-b7ed-4a0c-8ed1-e05ae7712137",
   "metadata": {},
   "outputs": [
    {
     "name": "stdout",
     "output_type": "stream",
     "text": [
      "hello\n",
      "hello\n",
      "hello\n",
      "hello\n",
      "hello\n",
      "hi\n",
      "hi\n",
      "hi\n",
      "hi\n",
      "hi\n"
     ]
    }
   ],
   "source": [
    "class hello:\n",
    "    def run(self):\n",
    "        for i in range(5):\n",
    "            print('hello')\n",
    "class hi:\n",
    "    def run(self):\n",
    "        for i in range(5):\n",
    "            print('hi')\n",
    "\n",
    "t1 = hello() #t1 is the object of hello method\n",
    "t2 = hi()   # t2 is the objec of hi method\n",
    "\n",
    "t1.run()\n",
    "t2.run()"
   ]
  },
  {
   "cell_type": "markdown",
   "id": "cdec92f2-0c93-4aff-8491-e9dca46919b5",
   "metadata": {},
   "source": [
    "- hello will print for 5 times and then hi will print for 5 times thats how the sequence goes on\n",
    "- Lets understand each run takes some time\n",
    "- To print all hello it print 5 sec and to print all hi it takes 5 secs in total it takes 10 sec\n",
    "- It will use one core only. So machine has 4 core but use only 1 core\n",
    "- Can i run hello & hi simultaneously is it possible\n",
    "- Can i execute same function at the same time on different core.  \n",
    "- Bydefault every execution has one thread \n",
    "- This execution is done by **MAIN THREAD**\n",
    "- I don't want to work with main thread ( hello & hi 2 different thread)\n",
    "- hello has to subclass of thread "
   ]
  },
  {
   "cell_type": "code",
   "execution_count": 35,
   "id": "880e4f05-b5ad-404e-bdaa-610fff8a8312",
   "metadata": {},
   "outputs": [
    {
     "ename": "NameError",
     "evalue": "name 'Thread' is not defined",
     "output_type": "error",
     "traceback": [
      "\u001b[31m---------------------------------------------------------------------------\u001b[39m",
      "\u001b[31mNameError\u001b[39m                                 Traceback (most recent call last)",
      "\u001b[36mCell\u001b[39m\u001b[36m \u001b[39m\u001b[32mIn[35]\u001b[39m\u001b[32m, line 1\u001b[39m\n\u001b[32m----> \u001b[39m\u001b[32m1\u001b[39m \u001b[38;5;28;01mclass\u001b[39;00m\u001b[38;5;250m \u001b[39m\u001b[34;01mhello\u001b[39;00m(\u001b[43mThread\u001b[49m):\n\u001b[32m      2\u001b[39m     \u001b[38;5;28;01mdef\u001b[39;00m\u001b[38;5;250m \u001b[39m\u001b[34mrun\u001b[39m(\u001b[38;5;28mself\u001b[39m):\n\u001b[32m      3\u001b[39m         \u001b[38;5;28;01mfor\u001b[39;00m i \u001b[38;5;129;01min\u001b[39;00m \u001b[38;5;28mrange\u001b[39m(\u001b[32m5\u001b[39m):\n",
      "\u001b[31mNameError\u001b[39m: name 'Thread' is not defined"
     ]
    }
   ],
   "source": [
    "class hello(Thread):\n",
    "    def run(self):\n",
    "        for i in range(5):\n",
    "            print('hello')\n",
    "class hi(Thread):\n",
    "    def run(self):\n",
    "        for i in range(5):\n",
    "            print('hi')\n",
    "\n",
    "t1 = hello() #t1 is the object of hello method\n",
    "t2 = hi()   # t2 is the objec of hi method\n",
    "\n",
    "t1.run()\n",
    "t2.run()"
   ]
  },
  {
   "cell_type": "code",
   "execution_count": 37,
   "id": "060eb7e8-d7ab-4d69-b344-43c39cb09f23",
   "metadata": {},
   "outputs": [
    {
     "name": "stdout",
     "output_type": "stream",
     "text": [
      "hello\n",
      "hello\n",
      "hello\n",
      "hello\n",
      "hello\n",
      "hi\n",
      "hi\n",
      "hi\n",
      "hi\n",
      "hi\n"
     ]
    }
   ],
   "source": [
    "from threading import *\n",
    "class hello(Thread):\n",
    "    def run(self):\n",
    "        for i in range(5):\n",
    "            print('hello')\n",
    "class hi(Thread):\n",
    "    def run(self):\n",
    "        for i in range(5):\n",
    "            print('hi')\n",
    "\n",
    "t1 = hello() #t1 is the object of hello method\n",
    "t2 = hi()   # t2 is the objec of hi method\n",
    "\n",
    "t1.run()\n",
    "t2.run()"
   ]
  },
  {
   "cell_type": "markdown",
   "id": "89c26440-6f52-471d-913d-191a3407e03d",
   "metadata": {},
   "source": [
    "- Still it's not running parellel\n",
    "- The moment when we want to create 2 thread this is not happening here\n",
    "- Even though we are making class to thread but still they are not creating threads \n",
    "- Instead of calling **run** method we need to call **start** method \n",
    "- We define run method then we are calling start internally what it happens \n",
    "- Inside thread class we have run method (inbuild method) for any method it doesnot work\n",
    "- Instead of **run** we need to call **start** "
   ]
  },
  {
   "cell_type": "code",
   "execution_count": 57,
   "id": "7b959c34-07a1-4c87-80be-ae54fb1be6b9",
   "metadata": {},
   "outputs": [
    {
     "name": "stdout",
     "output_type": "stream",
     "text": [
      "hello\n",
      "hello\n",
      "hello\n",
      "hello\n",
      "hello\n",
      "hi\n",
      "hi\n",
      "hi\n",
      "hi\n",
      "hi\n"
     ]
    }
   ],
   "source": [
    "from threading import *\n",
    "\n",
    "class hello(Thread):\n",
    "    def run(self):\n",
    "        for i in range(5):\n",
    "            print('hello')\n",
    "class hi(Thread):\n",
    "    def run(self):\n",
    "        for i in range(5):\n",
    "            print('hi')\n",
    "\n",
    "t1 = hello() #t1 is the object of hello method\n",
    "t2 = hi()   # t2 is the objec of hi method\n",
    "\n",
    "t1.start()\n",
    "t2.start()"
   ]
  },
  {
   "cell_type": "markdown",
   "id": "e5d130fc-4e67-40f3-8a52-d9b9bfdf1a62",
   "metadata": {},
   "source": [
    "- Now the 2 threads are running simultaneously\n",
    "\n",
    "- RUN BELOW CODE IN PYCHARM."
   ]
  },
  {
   "cell_type": "code",
   "execution_count": 43,
   "id": "12fbde68-7d2c-4b80-88a2-1d98d3ffee94",
   "metadata": {},
   "outputs": [
    {
     "name": "stdout",
     "output_type": "stream",
     "text": [
      "hellohi\n",
      "hi\n",
      "hi\n",
      "hi\n",
      "hi\n",
      "hi\n",
      "hi\n",
      "hi\n",
      "hi\n",
      "hi\n",
      "hi\n",
      "hi\n",
      "hi\n",
      "hi\n",
      "hi\n",
      "hi\n",
      "hi\n",
      "hi\n",
      "hi\n",
      "hi\n",
      "hi\n",
      "hi\n",
      "hi\n",
      "hi\n",
      "hi\n",
      "hi\n",
      "hi\n",
      "hi\n",
      "hi\n",
      "hi\n",
      "hi\n",
      "hi\n",
      "hi\n",
      "hi\n",
      "hi\n",
      "hi\n",
      "hi\n",
      "hi\n",
      "hi\n",
      "hi\n",
      "hi\n",
      "hi\n",
      "hi\n",
      "hi\n",
      "hi\n",
      "hi\n",
      "hi\n",
      "hi\n",
      "hi\n",
      "hi\n",
      "hi\n",
      "hi\n",
      "hi\n",
      "hi\n",
      "hi\n",
      "hi\n",
      "hi\n",
      "hi\n",
      "hi\n",
      "hi\n",
      "hi\n",
      "hi\n",
      "hi\n",
      "hi\n",
      "hi\n",
      "hi\n",
      "hi\n",
      "hi\n",
      "hi\n",
      "hi\n",
      "hi\n",
      "hi\n",
      "hi\n",
      "hi\n",
      "hi\n",
      "hi\n",
      "hi\n",
      "hi\n",
      "hi\n",
      "hi\n",
      "hi\n",
      "hi\n",
      "hi\n",
      "hi\n",
      "hi\n",
      "hi\n",
      "hi\n",
      "hi\n",
      "hi\n",
      "hi\n",
      "hi\n",
      "hi\n",
      "hi\n",
      "hi\n",
      "hi\n",
      "hi\n",
      "hi\n",
      "hi\n",
      "hi\n",
      "hi\n",
      "hi\n",
      "hi\n",
      "hi\n",
      "hi\n",
      "hi\n",
      "hi\n",
      "hi\n",
      "hi\n",
      "hi\n",
      "hi\n",
      "hi\n",
      "hi\n",
      "hi\n",
      "hi\n",
      "hi\n",
      "hi\n",
      "hi\n",
      "hi\n",
      "hi\n",
      "hi\n",
      "hi\n",
      "hi\n",
      "hi\n",
      "hi\n",
      "hi\n",
      "hi\n",
      "hi\n",
      "hi\n",
      "hi\n",
      "hi\n",
      "hi\n",
      "hi\n",
      "hi\n",
      "hi\n",
      "hi\n",
      "hi\n",
      "hi\n",
      "hi\n",
      "hi\n",
      "hi\n",
      "hi\n",
      "hi\n",
      "hi\n",
      "hi\n",
      "hi\n",
      "hi\n",
      "hi\n",
      "hi\n",
      "hi\n",
      "hi\n",
      "hi\n",
      "hi\n",
      "hi\n",
      "hi\n",
      "hi\n",
      "hi\n",
      "hi\n",
      "hi\n",
      "hi\n",
      "hi\n",
      "hi\n",
      "hi\n",
      "hi\n",
      "hi\n",
      "hi\n",
      "hi\n",
      "hi\n",
      "hi\n",
      "hi\n",
      "hi\n",
      "hi\n",
      "hi\n",
      "hi\n",
      "hi\n",
      "hi\n",
      "hi\n",
      "hi\n",
      "hi\n",
      "hi\n",
      "hi\n",
      "hi\n",
      "hi\n",
      "hi\n",
      "hi\n",
      "hi\n",
      "hi\n",
      "hi\n",
      "hi\n",
      "hi\n",
      "hi\n",
      "hi\n",
      "hi\n",
      "hi\n",
      "hi\n",
      "hi\n",
      "hello\n",
      "hello\n",
      "hello\n",
      "hello\n",
      "hello\n",
      "hello\n",
      "hello\n",
      "hello\n",
      "hello\n",
      "hello\n",
      "hello\n",
      "hello\n",
      "hello\n",
      "hello\n",
      "hello\n",
      "hello\n",
      "hello\n",
      "hello\n",
      "hello\n",
      "hello\n",
      "hello\n",
      "hello\n",
      "hello\n",
      "hello\n",
      "hello\n",
      "hello\n",
      "hello\n",
      "hello\n",
      "hello\n",
      "hello\n",
      "hello\n",
      "hello\n",
      "hello\n",
      "hello\n",
      "hello\n",
      "hello\n",
      "hello\n",
      "hello\n",
      "hello\n",
      "hello\n",
      "hello\n",
      "hello\n",
      "hello\n",
      "hello\n",
      "hello\n",
      "hello\n",
      "hello\n",
      "hello\n",
      "hello\n",
      "hello\n",
      "hello\n",
      "hello\n",
      "hello\n",
      "hello\n",
      "hello\n",
      "hello\n",
      "hello\n",
      "hello\n",
      "hello\n",
      "hello\n",
      "hello\n",
      "hello\n",
      "hello\n",
      "hello\n",
      "hello\n",
      "hello\n",
      "hello\n",
      "hello\n",
      "hello\n",
      "hello\n",
      "hello\n",
      "hello\n",
      "hello\n",
      "hello\n",
      "hello\n",
      "hello\n",
      "hello\n",
      "hello\n",
      "hello\n",
      "hello\n",
      "hello\n",
      "hello\n",
      "hello\n",
      "hello\n",
      "hello\n",
      "hello\n",
      "hello\n",
      "hello\n",
      "hello\n",
      "hello\n",
      "hello\n",
      "hello\n",
      "hello\n",
      "hello\n",
      "hello\n",
      "hello\n",
      "hello\n",
      "hello\n",
      "hello\n",
      "hello\n",
      "hello\n",
      "hello\n",
      "hello\n",
      "hello\n",
      "hello\n",
      "hello\n",
      "hello\n",
      "hello\n",
      "hello\n",
      "hello\n",
      "hello\n",
      "hello\n",
      "hello\n",
      "hello\n",
      "hello\n",
      "hello\n",
      "hello\n",
      "hello\n",
      "hello\n",
      "hello\n",
      "hello\n",
      "hello\n",
      "hello\n",
      "hello\n",
      "hello\n",
      "hello\n",
      "hello\n",
      "hello\n",
      "hello\n",
      "hello\n",
      "hello\n",
      "hello\n",
      "hello\n",
      "hello\n",
      "hello\n",
      "hello\n",
      "hello\n",
      "hello\n",
      "hello\n",
      "hello\n",
      "hello\n",
      "hello\n",
      "hello\n",
      "hello\n",
      "hello\n",
      "hello\n",
      "hello\n",
      "hello\n",
      "hello\n",
      "hello\n",
      "hello\n",
      "hello\n",
      "hello\n",
      "hello\n",
      "hello\n",
      "hello\n",
      "hello\n",
      "hello\n",
      "hello\n",
      "hello\n",
      "hello\n",
      "hello\n",
      "hello\n",
      "hello\n",
      "hello\n",
      "hello\n",
      "hello\n",
      "hello\n",
      "hello\n",
      "hello\n",
      "hello\n",
      "hello\n",
      "hello\n",
      "hello\n",
      "hello\n",
      "hello\n",
      "hello\n",
      "hello\n",
      "hello\n",
      "hello\n",
      "hello\n",
      "hello\n",
      "hello\n",
      "hello\n",
      "hello\n",
      "hello\n",
      "hello\n",
      "hello\n",
      "hello\n",
      "hello\n",
      "hello\n",
      "hello\n",
      "hello\n",
      "hello\n",
      "hello\n",
      "hello\n",
      "hello\n",
      "hello\n",
      "hello\n",
      "\n",
      "hi\n",
      "hi\n",
      "hi\n",
      "hi\n",
      "hi\n"
     ]
    }
   ],
   "source": [
    "from threading import *\n",
    "\n",
    "class hello(Thread):\n",
    "    def run(self):\n",
    "        for i in range(200):\n",
    "            print('hello')\n",
    "class hi(Thread):\n",
    "    def run(self):\n",
    "        for i in range(200):\n",
    "            print('hi')\n",
    "\n",
    "t1 = hello() #t1 is the object of hello method\n",
    "t2 = hi()   # t2 is the objec of hi method\n",
    "\n",
    "t1.start()\n",
    "t2.start()"
   ]
  },
  {
   "cell_type": "markdown",
   "id": "82bf49b8-764d-4b6e-abbc-cd5bb0fc0394",
   "metadata": {},
   "source": [
    "- There is some collision, In the system there is concept called SCHEDULER \n",
    "- SCHEDULER - It will give certain time to execute & it will execute so fast \n",
    "- To slow down Lets check below code in PYCHARM we are using from time import sleep \n",
    "- eEvery time it print then it will sleep for 1 sec "
   ]
  },
  {
   "cell_type": "code",
   "execution_count": 61,
   "id": "074b71ea-62d2-4ab5-a030-0b29289a1159",
   "metadata": {},
   "outputs": [
    {
     "name": "stdout",
     "output_type": "stream",
     "text": [
      "hello\n",
      "hi\n"
     ]
    }
   ],
   "source": [
    "from time import sleep\n",
    "from threading import *\n",
    "\n",
    "class hello(Thread):\n",
    "    def run(self):\n",
    "        for i in range(10):\n",
    "            print('hello')\n",
    "            sleep(1)\n",
    "class hi(Thread):\n",
    "    def run(self):\n",
    "        for i in range(10):\n",
    "            print('hi')\n",
    "            sleep(1)\n",
    "\n",
    "t1 = hello() #t1 is the object of hello method\n",
    "t2 = hi()   # t2 is the objec of hi method\n",
    "\n",
    "t1.start()\n",
    "t2.start()"
   ]
  },
  {
   "cell_type": "code",
   "execution_count": 49,
   "id": "2aaa5135-f9d4-435d-b7a9-e028afbfc767",
   "metadata": {},
   "outputs": [
    {
     "name": "stdout",
     "output_type": "stream",
     "text": [
      "hello\n",
      "hi\n"
     ]
    }
   ],
   "source": [
    "from time import sleep\n",
    "from threading import *\n",
    "\n",
    "class hello(Thread):\n",
    "    def run(self):\n",
    "        for i in range(5):\n",
    "            print('hello')\n",
    "            sleep(1)\n",
    "class hi(Thread):\n",
    "    def run(self):\n",
    "        for i in range(5):\n",
    "            print('hi')\n",
    "            sleep(1)\n",
    "\n",
    "t1 = hello() #t1 is the object of hello method\n",
    "t2 = hi()   # t2 is the objec of hi method\n",
    "\n",
    "t1.start()\n",
    "sleep(0.2)\n",
    "t2.start()"
   ]
  },
  {
   "cell_type": "code",
   "execution_count": 51,
   "id": "62ecbc69-6da2-43a4-9db7-d92186f6ab06",
   "metadata": {},
   "outputs": [
    {
     "name": "stdout",
     "output_type": "stream",
     "text": [
      "hello\n",
      "hi\n",
      "Bye\n"
     ]
    }
   ],
   "source": [
    "from time import sleep\n",
    "from threading import *\n",
    "\n",
    "class hello(Thread):\n",
    "    def run(self):\n",
    "        for i in range(5):\n",
    "            print('hello')\n",
    "            sleep(1)\n",
    "class hi(Thread):\n",
    "    def run(self):\n",
    "        for i in range(5):\n",
    "            print('hi')\n",
    "            sleep(1)\n",
    "\n",
    "t1 = hello() #t1 is the object of hello method\n",
    "t2 = hi()   # t2 is the objec of hi method\n",
    "\n",
    "t1.start()\n",
    "sleep(0.2)\n",
    "t2.start()\n",
    "\n",
    "print('Bye')\n",
    "# it should print hello , hi & then bye but if you see the output print as hi bye\n",
    "# is it t1 thread or t2 thread. so the responsible is main thread"
   ]
  },
  {
   "cell_type": "code",
   "execution_count": 53,
   "id": "585c6f55-d667-4da9-bdad-350a6d426ff9",
   "metadata": {},
   "outputs": [
    {
     "name": "stdout",
     "output_type": "stream",
     "text": [
      "hello\n",
      "hi\n",
      "hello\n",
      "hi\n",
      "hello\n",
      "hi\n",
      "hello\n",
      "hi\n",
      "hello\n",
      "hi\n",
      "Bye\n"
     ]
    }
   ],
   "source": [
    "from time import sleep\n",
    "from threading import *\n",
    "\n",
    "class hello(Thread):\n",
    "    def run(self):\n",
    "        for i in range(5):\n",
    "            print('hello')\n",
    "            sleep(1)\n",
    "class hi(Thread):\n",
    "    def run(self):\n",
    "        for i in range(5):\n",
    "            print('hi')\n",
    "            sleep(1)\n",
    "\n",
    "t1 = hello() #t1 is the object of hello method\n",
    "t2 = hi()   # t2 is the objec of hi method\n",
    "\n",
    "t1.start()\n",
    "sleep(0.2)\n",
    "t2.start()\n",
    "\n",
    "t1.join()\n",
    "t2.join()\n",
    "print('Bye')"
   ]
  },
  {
   "cell_type": "code",
   "execution_count": null,
   "id": "f5a26702-8e00-42b6-b0ce-7ecb9704fc30",
   "metadata": {},
   "outputs": [],
   "source": []
  },
  {
   "cell_type": "code",
   "execution_count": null,
   "id": "23cb1c4d-8518-43dd-8335-38fc2ee4b301",
   "metadata": {},
   "outputs": [],
   "source": []
  }
 ],
 "metadata": {
  "kernelspec": {
   "display_name": "Python 3 (ipykernel)",
   "language": "python",
   "name": "python3"
  },
  "language_info": {
   "codemirror_mode": {
    "name": "ipython",
    "version": 3
   },
   "file_extension": ".py",
   "mimetype": "text/x-python",
   "name": "python",
   "nbconvert_exporter": "python",
   "pygments_lexer": "ipython3",
   "version": "3.12.3"
  }
 },
 "nbformat": 4,
 "nbformat_minor": 5
}
