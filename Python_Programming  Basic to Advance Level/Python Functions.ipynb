{
 "cells": [
  {
   "cell_type": "markdown",
   "id": "4c1aa6e7-51ed-4b1a-95f7-48da03ce2f98",
   "metadata": {},
   "source": [
    "# Python Functions\n",
    "- A Python function is a block of code that can be executed multiple times from different parts of a program. Functions allow you to:\n",
    "- Reuse code: Write a block of code once and use it multiple times.\n",
    "- Improve code organization: Break down large programs into smaller, manageable pieces.\n",
    "- Make code more readable: Give a clear name to a block of code, making it easier to understand.\n",
    "  \n",
    "- Basic Function Syntax:\n",
    "- def function_name(parameters):\n",
    "- code to be executed\n",
    "- return result\n",
    "- def is the keyword to define a function.\n",
    "- function_name is the name given to the function.\n",
    "- parameters is a list of variables that are passed to the function.\n",
    "- return result is the value returned by the function."
   ]
  },
  {
   "cell_type": "code",
   "execution_count": 1,
   "id": "afd58d05-5f48-43b7-bf7c-ed02ba61fa82",
   "metadata": {},
   "outputs": [],
   "source": [
    "def greet():\n",
    "    print('Hello')\n",
    "    print('Good Morning! Yashu')"
   ]
  },
  {
   "cell_type": "code",
   "execution_count": 3,
   "id": "1da14182-f58a-42ff-9093-4fd5582afab5",
   "metadata": {},
   "outputs": [
    {
     "name": "stdout",
     "output_type": "stream",
     "text": [
      "Hello\n",
      "Good Morning! Yashu\n"
     ]
    }
   ],
   "source": [
    "def greet():\n",
    "    print('Hello')\n",
    "    print('Good Morning! Yashu')\n",
    "greet()"
   ]
  },
  {
   "cell_type": "code",
   "execution_count": 5,
   "id": "9c566a19-2db8-42ea-9182-4399b0782ed0",
   "metadata": {},
   "outputs": [
    {
     "name": "stdout",
     "output_type": "stream",
     "text": [
      "Hello\n",
      "Good Morning! Yashu\n",
      "Hello\n",
      "Good Morning! Yashu\n"
     ]
    }
   ],
   "source": [
    "def greet():\n",
    "    print('Hello')\n",
    "    print('Good Morning! Yashu')\n",
    "greet()\n",
    "\n",
    "def greet():\n",
    "    print('Hello')\n",
    "    print('Good Morning! Yashu')\n",
    "greet()"
   ]
  },
  {
   "cell_type": "code",
   "execution_count": 7,
   "id": "a4ced3ce-0215-450d-b9a1-0a69bd250d82",
   "metadata": {},
   "outputs": [
    {
     "name": "stdout",
     "output_type": "stream",
     "text": [
      "Hello\n",
      "Good Morning! Yashu\n",
      "Hello\n",
      "Good Morning! Yashu\n"
     ]
    }
   ],
   "source": [
    "def greet():\n",
    "    print('Hello')\n",
    "    print('Good Morning! Yashu')\n",
    "greet()\n",
    "\n",
    "greet()"
   ]
  },
  {
   "cell_type": "code",
   "execution_count": 9,
   "id": "61aebee8-76cf-4294-99b0-6d387fe98ded",
   "metadata": {},
   "outputs": [
    {
     "name": "stdout",
     "output_type": "stream",
     "text": [
      "Hello\n",
      "Good Morning! Yashu\n",
      "\n",
      "Hello\n",
      "Good Morning! Yashu\n"
     ]
    }
   ],
   "source": [
    "def greet():\n",
    "    print('Hello')\n",
    "    print('Good Morning! Yashu')\n",
    "greet()\n",
    "\n",
    "print()\n",
    "\n",
    "greet()"
   ]
  },
  {
   "cell_type": "code",
   "execution_count": 13,
   "id": "ca589371-9b7c-4bbe-ae8b-17ad1f395c52",
   "metadata": {},
   "outputs": [
    {
     "name": "stdout",
     "output_type": "stream",
     "text": [
      "Hello\n",
      "Good Morning! Yashu\n",
      "****************\n",
      "Hello\n",
      "Good Morning! Yashu\n",
      "!!!!!!!!!!!!!!!!\n"
     ]
    }
   ],
   "source": [
    "def greet():\n",
    "    print('Hello')\n",
    "    print('Good Morning! Yashu')\n",
    "greet()\n",
    "\n",
    "print('****************')\n",
    "\n",
    "greet()\n",
    "\n",
    "print('!!!!!!!!!!!!!!!!')"
   ]
  },
  {
   "cell_type": "code",
   "execution_count": 16,
   "id": "87010fde-357d-4751-bd3b-1c37c1c8a00a",
   "metadata": {},
   "outputs": [
    {
     "ename": "TypeError",
     "evalue": "add() missing 1 required positional argument: 'y'",
     "output_type": "error",
     "traceback": [
      "\u001b[1;31m---------------------------------------------------------------------------\u001b[0m",
      "\u001b[1;31mTypeError\u001b[0m                                 Traceback (most recent call last)",
      "Cell \u001b[1;32mIn[16], line 4\u001b[0m\n\u001b[0;32m      2\u001b[0m     c\u001b[38;5;241m=\u001b[39mx\u001b[38;5;241m+\u001b[39my\n\u001b[0;32m      3\u001b[0m     \u001b[38;5;28mprint\u001b[39m(c)\n\u001b[1;32m----> 4\u001b[0m add(\u001b[38;5;241m5\u001b[39m)\n",
      "\u001b[1;31mTypeError\u001b[0m: add() missing 1 required positional argument: 'y'"
     ]
    }
   ],
   "source": [
    "# Adding two numbers using function.\n",
    "def add(x,y):\n",
    "    c=x+y\n",
    "    print(c)\n",
    "add(5)"
   ]
  },
  {
   "cell_type": "code",
   "execution_count": 18,
   "id": "77bed03a-9f5d-4da7-93a0-928d6caf4f2d",
   "metadata": {},
   "outputs": [
    {
     "ename": "TypeError",
     "evalue": "add() takes 2 positional arguments but 4 were given",
     "output_type": "error",
     "traceback": [
      "\u001b[1;31m---------------------------------------------------------------------------\u001b[0m",
      "\u001b[1;31mTypeError\u001b[0m                                 Traceback (most recent call last)",
      "Cell \u001b[1;32mIn[18], line 4\u001b[0m\n\u001b[0;32m      2\u001b[0m     c\u001b[38;5;241m=\u001b[39mx\u001b[38;5;241m+\u001b[39my\n\u001b[0;32m      3\u001b[0m     \u001b[38;5;28mprint\u001b[39m(c)\n\u001b[1;32m----> 4\u001b[0m add(\u001b[38;5;241m5\u001b[39m,\u001b[38;5;241m6\u001b[39m,\u001b[38;5;241m7\u001b[39m,\u001b[38;5;241m9\u001b[39m)\n",
      "\u001b[1;31mTypeError\u001b[0m: add() takes 2 positional arguments but 4 were given"
     ]
    }
   ],
   "source": [
    "def add(x,y):\n",
    "    c=x+y\n",
    "    print(c)\n",
    "add(5,6,7,9)"
   ]
  },
  {
   "cell_type": "code",
   "execution_count": 20,
   "id": "eb863442-42f3-4290-8b57-6d8d8e48277f",
   "metadata": {},
   "outputs": [
    {
     "ename": "TypeError",
     "evalue": "add() takes 2 positional arguments but 3 were given",
     "output_type": "error",
     "traceback": [
      "\u001b[1;31m---------------------------------------------------------------------------\u001b[0m",
      "\u001b[1;31mTypeError\u001b[0m                                 Traceback (most recent call last)",
      "Cell \u001b[1;32mIn[20], line 4\u001b[0m\n\u001b[0;32m      2\u001b[0m     c\u001b[38;5;241m=\u001b[39mx\u001b[38;5;241m+\u001b[39my\n\u001b[0;32m      3\u001b[0m     \u001b[38;5;28mprint\u001b[39m(c)\n\u001b[1;32m----> 4\u001b[0m add(\u001b[38;5;241m5\u001b[39m,\u001b[38;5;241m6\u001b[39m,\u001b[38;5;241m7\u001b[39m)\n",
      "\u001b[1;31mTypeError\u001b[0m: add() takes 2 positional arguments but 3 were given"
     ]
    }
   ],
   "source": [
    "def add(x,y):\n",
    "    c=x+y\n",
    "    print(c)\n",
    "add(5,6,7)"
   ]
  },
  {
   "cell_type": "code",
   "execution_count": 22,
   "id": "e9f246a6-59e6-4951-b115-8b08942bb77d",
   "metadata": {},
   "outputs": [
    {
     "ename": "TypeError",
     "evalue": "unsupported operand type(s) for +: 'int' and 'str'",
     "output_type": "error",
     "traceback": [
      "\u001b[1;31m---------------------------------------------------------------------------\u001b[0m",
      "\u001b[1;31mTypeError\u001b[0m                                 Traceback (most recent call last)",
      "Cell \u001b[1;32mIn[22], line 4\u001b[0m\n\u001b[0;32m      2\u001b[0m     c\u001b[38;5;241m=\u001b[39mx\u001b[38;5;241m+\u001b[39my\n\u001b[0;32m      3\u001b[0m     \u001b[38;5;28mprint\u001b[39m(c)\n\u001b[1;32m----> 4\u001b[0m add(\u001b[38;5;241m5\u001b[39m,\u001b[38;5;124m'\u001b[39m\u001b[38;5;124ma\u001b[39m\u001b[38;5;124m'\u001b[39m)\n",
      "Cell \u001b[1;32mIn[22], line 2\u001b[0m, in \u001b[0;36madd\u001b[1;34m(x, y)\u001b[0m\n\u001b[0;32m      1\u001b[0m \u001b[38;5;28;01mdef\u001b[39;00m \u001b[38;5;21madd\u001b[39m(x,y):\n\u001b[1;32m----> 2\u001b[0m     c\u001b[38;5;241m=\u001b[39mx\u001b[38;5;241m+\u001b[39my\n\u001b[0;32m      3\u001b[0m     \u001b[38;5;28mprint\u001b[39m(c)\n",
      "\u001b[1;31mTypeError\u001b[0m: unsupported operand type(s) for +: 'int' and 'str'"
     ]
    }
   ],
   "source": [
    "def add(x,y):\n",
    "    c=x+y\n",
    "    print(c)\n",
    "add(5,'a')"
   ]
  },
  {
   "cell_type": "code",
   "execution_count": 24,
   "id": "fcaf034b-79db-4372-bc67-bc56a947c02b",
   "metadata": {},
   "outputs": [
    {
     "name": "stdout",
     "output_type": "stream",
     "text": [
      "11\n"
     ]
    }
   ],
   "source": [
    "def add(x,y):\n",
    "    c=x+y\n",
    "    print(c)\n",
    "add(5,6)"
   ]
  },
  {
   "cell_type": "code",
   "execution_count": 26,
   "id": "d17630cb-35c4-4f35-b32c-fbbca33ab43a",
   "metadata": {},
   "outputs": [
    {
     "name": "stdout",
     "output_type": "stream",
     "text": [
      "Hello\n",
      "Good Morning! Yashu\n",
      "11\n"
     ]
    }
   ],
   "source": [
    "def greet():\n",
    "    print('Hello')\n",
    "    print('Good Morning! Yashu')\n",
    "greet()\n",
    "\n",
    "def add(x,y):\n",
    "    c=x+y\n",
    "    print(c)\n",
    "add(5,6)"
   ]
  },
  {
   "cell_type": "code",
   "execution_count": 1,
   "id": "ecf74b2f-3673-4a28-8989-30682c2e83b2",
   "metadata": {},
   "outputs": [
    {
     "name": "stdout",
     "output_type": "stream",
     "text": [
      "Hello\n",
      "Good Morning! Yashu\n"
     ]
    },
    {
     "data": {
      "text/plain": [
       "11"
      ]
     },
     "execution_count": 1,
     "metadata": {},
     "output_type": "execute_result"
    }
   ],
   "source": [
    "def greet():\n",
    "    print('Hello')\n",
    "    print('Good Morning! Yashu')\n",
    "greet()\n",
    "\n",
    "def add(x,y):\n",
    "    c=x+y\n",
    "    return c\n",
    "add(5,6)"
   ]
  },
  {
   "cell_type": "code",
   "execution_count": 32,
   "id": "1f901da5-7052-45bd-ba90-54f3020f0f48",
   "metadata": {},
   "outputs": [
    {
     "name": "stdout",
     "output_type": "stream",
     "text": [
      "Hello\n",
      "Good Morning! Yashu\n",
      "--------\n",
      "11\n"
     ]
    }
   ],
   "source": [
    "def greet():\n",
    "    print('Hello')\n",
    "    print('Good Morning! Yashu')\n",
    "def add(x,y):\n",
    "    c=x+y\n",
    "    print(c)\n",
    "\n",
    "greet()\n",
    "print('--------')\n",
    "add(5,6)"
   ]
  },
  {
   "cell_type": "code",
   "execution_count": 36,
   "id": "8f2cf45d-102e-4e42-a682-51bb819f3b8d",
   "metadata": {},
   "outputs": [
    {
     "name": "stdout",
     "output_type": "stream",
     "text": [
      "11\n"
     ]
    }
   ],
   "source": [
    "def add(x,y):\n",
    "    c=x+y\n",
    "    print(c)\n",
    "add(5,6)"
   ]
  },
  {
   "cell_type": "code",
   "execution_count": 34,
   "id": "7e2e97f3-3487-4004-9d9f-a154cd5885b6",
   "metadata": {},
   "outputs": [
    {
     "data": {
      "text/plain": [
       "11"
      ]
     },
     "execution_count": 34,
     "metadata": {},
     "output_type": "execute_result"
    }
   ],
   "source": [
    "def add(x,y):\n",
    "    c=x+y\n",
    "    return c\n",
    "add(5,6)"
   ]
  },
  {
   "cell_type": "code",
   "execution_count": 38,
   "id": "6754ddee-aa9e-4338-8d04-d1d5e71dd808",
   "metadata": {},
   "outputs": [
    {
     "name": "stdout",
     "output_type": "stream",
     "text": [
      "14\n"
     ]
    }
   ],
   "source": [
    "def add(x,y,z):\n",
    "    c=x+y+z\n",
    "    print(c)\n",
    "add(5,6,3)"
   ]
  },
  {
   "cell_type": "code",
   "execution_count": 3,
   "id": "fc1ca385-7d2d-4e40-b567-acb306b9a58f",
   "metadata": {},
   "outputs": [
    {
     "name": "stdout",
     "output_type": "stream",
     "text": [
      "Hello\n",
      "Good Afternoon!\n"
     ]
    },
    {
     "data": {
      "text/plain": [
       "4"
      ]
     },
     "execution_count": 3,
     "metadata": {},
     "output_type": "execute_result"
    }
   ],
   "source": [
    "def greet():\n",
    "    print('Hello')\n",
    "    print('Good Afternoon!')\n",
    "\n",
    "def add(x,y):\n",
    "    c=x+y\n",
    "    return c\n",
    "\n",
    "def sub(x,y):\n",
    "    d=x-y\n",
    "    return d\n",
    "\n",
    "greet()\n",
    "add(5,6)\n",
    "sub(6,2)"
   ]
  },
  {
   "cell_type": "code",
   "execution_count": 5,
   "id": "f50e0f9f-996d-4359-8390-45c1f5f7f513",
   "metadata": {},
   "outputs": [
    {
     "name": "stdout",
     "output_type": "stream",
     "text": [
      "Hello\n",
      "Good Afternoon!\n"
     ]
    },
    {
     "data": {
      "text/plain": [
       "(9, 1)"
      ]
     },
     "execution_count": 5,
     "metadata": {},
     "output_type": "execute_result"
    }
   ],
   "source": [
    "def greet():\n",
    "    print('Hello')\n",
    "    print('Good Afternoon!')\n",
    "\n",
    "def add_sub(x,y):\n",
    "    c=x+y\n",
    "    d=x-y\n",
    "    return c,d\n",
    "\n",
    "greet()\n",
    "add_sub(5,4)"
   ]
  },
  {
   "cell_type": "code",
   "execution_count": 7,
   "id": "925035f4-543c-4c27-b70a-4c0c78178167",
   "metadata": {},
   "outputs": [
    {
     "name": "stdout",
     "output_type": "stream",
     "text": [
      "(9, -1)\n",
      "<class 'tuple'>\n"
     ]
    }
   ],
   "source": [
    "def add_sub(x,y): # what if i want to return 2 values add_sub & i want to return 2 values & function can accept multiple value \n",
    "    c= x+y\n",
    "    d= x-y\n",
    "    return c, d\n",
    "    \n",
    "result = add_sub(4,5)\n",
    "\n",
    "print(result)\n",
    "print(type(result))"
   ]
  },
  {
   "cell_type": "code",
   "execution_count": 9,
   "id": "af77a057-2afd-41b8-89bb-b79d34ffb1aa",
   "metadata": {},
   "outputs": [
    {
     "name": "stdout",
     "output_type": "stream",
     "text": [
      "9 1\n",
      "<class 'int'>\n",
      "<class 'int'>\n"
     ]
    }
   ],
   "source": [
    "def add_sub(x,y):\n",
    "    c= x+y\n",
    "    d= x-y\n",
    "    return c, d\n",
    "\n",
    "res1,res2 = add_sub(5,4)\n",
    "\n",
    "print(res1,res2)\n",
    "\n",
    "print(type(res1))\n",
    "print(type(res2))"
   ]
  },
  {
   "cell_type": "markdown",
   "id": "b5c6070f-f1d2-4d1b-bfb6-9490e6d4bebf",
   "metadata": {},
   "source": [
    "# Update Variable"
   ]
  },
  {
   "cell_type": "code",
   "execution_count": 1,
   "id": "df579990-d6d3-4c4e-9ec0-53be85a23fc9",
   "metadata": {},
   "outputs": [
    {
     "name": "stdout",
     "output_type": "stream",
     "text": [
      "8\n"
     ]
    }
   ],
   "source": [
    "def update(): \n",
    "    x = 8\n",
    "    print(x)\n",
    "update()"
   ]
  },
  {
   "cell_type": "code",
   "execution_count": 3,
   "id": "f8f83800-3984-4534-a7fc-04799c4b0a9f",
   "metadata": {},
   "outputs": [
    {
     "ename": "TypeError",
     "evalue": "update() takes 0 positional arguments but 1 was given",
     "output_type": "error",
     "traceback": [
      "\u001b[31m---------------------------------------------------------------------------\u001b[39m",
      "\u001b[31mTypeError\u001b[39m                                 Traceback (most recent call last)",
      "\u001b[36mCell\u001b[39m\u001b[36m \u001b[39m\u001b[32mIn[3]\u001b[39m\u001b[32m, line 4\u001b[39m\n\u001b[32m      2\u001b[39m     x = \u001b[32m8\u001b[39m\n\u001b[32m      3\u001b[39m     \u001b[38;5;28mprint\u001b[39m(x)\n\u001b[32m----> \u001b[39m\u001b[32m4\u001b[39m \u001b[43mupdate\u001b[49m\u001b[43m(\u001b[49m\u001b[32;43m8\u001b[39;49m\u001b[43m)\u001b[49m\n",
      "\u001b[31mTypeError\u001b[39m: update() takes 0 positional arguments but 1 was given"
     ]
    }
   ],
   "source": [
    "def update(): #update function take the value from the user\n",
    "    x = 8\n",
    "    print(x)\n",
    "update(8)"
   ]
  },
  {
   "cell_type": "code",
   "execution_count": 5,
   "id": "769b4133-dcf7-4158-be31-4034ae06fc8e",
   "metadata": {},
   "outputs": [
    {
     "data": {
      "text/plain": [
       "8"
      ]
     },
     "execution_count": 5,
     "metadata": {},
     "output_type": "execute_result"
    }
   ],
   "source": [
    "def update(x): #update function take the value from the user\n",
    "    x = 8\n",
    "    return x\n",
    "    \n",
    "update(10)"
   ]
  },
  {
   "cell_type": "code",
   "execution_count": 7,
   "id": "a9cc0e9b-34e0-408d-9001-424fc61542bf",
   "metadata": {},
   "outputs": [
    {
     "name": "stdout",
     "output_type": "stream",
     "text": [
      "10\n"
     ]
    }
   ],
   "source": [
    "def update(x): #update function take the value from the user\n",
    "    x = 8\n",
    "    return x\n",
    "\n",
    "a = 10\n",
    "update(a)\n",
    "print(a)"
   ]
  },
  {
   "cell_type": "code",
   "execution_count": 9,
   "id": "ef488af5-dd70-4985-a54c-ae1dc12414be",
   "metadata": {},
   "outputs": [
    {
     "name": "stdout",
     "output_type": "stream",
     "text": [
      "11\n"
     ]
    }
   ],
   "source": [
    "def add(a,b): # a & b called formal argument\n",
    "    c = a+b\n",
    "    print(c)\n",
    "    \n",
    "add(5,6) #5 and 6 we called as actual argument"
   ]
  },
  {
   "cell_type": "code",
   "execution_count": 11,
   "id": "c85d16c7-993a-4d5f-96d1-4de29dc010e4",
   "metadata": {},
   "outputs": [
    {
     "ename": "TypeError",
     "evalue": "add() takes 2 positional arguments but 3 were given",
     "output_type": "error",
     "traceback": [
      "\u001b[31m---------------------------------------------------------------------------\u001b[39m",
      "\u001b[31mTypeError\u001b[39m                                 Traceback (most recent call last)",
      "\u001b[36mCell\u001b[39m\u001b[36m \u001b[39m\u001b[32mIn[11]\u001b[39m\u001b[32m, line 5\u001b[39m\n\u001b[32m      2\u001b[39m     c = a+b\n\u001b[32m      3\u001b[39m     \u001b[38;5;28mprint\u001b[39m(c)\n\u001b[32m----> \u001b[39m\u001b[32m5\u001b[39m \u001b[43madd\u001b[49m\u001b[43m(\u001b[49m\u001b[32;43m5\u001b[39;49m\u001b[43m,\u001b[49m\u001b[32;43m6\u001b[39;49m\u001b[43m,\u001b[49m\u001b[32;43m7\u001b[39;49m\u001b[43m)\u001b[49m \u001b[38;5;66;03m#5 and 6 we called as actual argument\u001b[39;00m\n",
      "\u001b[31mTypeError\u001b[39m: add() takes 2 positional arguments but 3 were given"
     ]
    }
   ],
   "source": [
    "def add(a,b): # a & b called formal argument\n",
    "    c = a+b\n",
    "    print(c)\n",
    "    \n",
    "add(5,6,7) #5 and 6 we called as actual argument"
   ]
  },
  {
   "cell_type": "code",
   "execution_count": 13,
   "id": "67aa5baa-11a7-4155-baf4-551a0cf63a5c",
   "metadata": {},
   "outputs": [
    {
     "ename": "TypeError",
     "evalue": "add() missing 1 required positional argument: 'b'",
     "output_type": "error",
     "traceback": [
      "\u001b[31m---------------------------------------------------------------------------\u001b[39m",
      "\u001b[31mTypeError\u001b[39m                                 Traceback (most recent call last)",
      "\u001b[36mCell\u001b[39m\u001b[36m \u001b[39m\u001b[32mIn[13]\u001b[39m\u001b[32m, line 5\u001b[39m\n\u001b[32m      2\u001b[39m     c = a+b\n\u001b[32m      3\u001b[39m     \u001b[38;5;28mprint\u001b[39m(c)\n\u001b[32m----> \u001b[39m\u001b[32m5\u001b[39m \u001b[43madd\u001b[49m\u001b[43m(\u001b[49m\u001b[32;43m5\u001b[39;49m\u001b[43m)\u001b[49m \u001b[38;5;66;03m#5 and 6 we called as actual argument\u001b[39;00m\n",
      "\u001b[31mTypeError\u001b[39m: add() missing 1 required positional argument: 'b'"
     ]
    }
   ],
   "source": [
    "def add(a,b): # a & b called formal argument\n",
    "    c = a+b\n",
    "    print(c)\n",
    "    \n",
    "add(5) #5 and 6 we called as actual argument"
   ]
  },
  {
   "cell_type": "markdown",
   "id": "23abf24e-3d0f-4119-9589-038829727886",
   "metadata": {},
   "source": [
    "# Arguments\n",
    "- In Python, arguments are values passed to a function when calling it."
   ]
  },
  {
   "cell_type": "markdown",
   "id": "5017693b-8c41-43c9-890f-4bb8d0d05d13",
   "metadata": {},
   "source": [
    "# 1.Positional Arguments\n",
    "- These are standard arguments that must be provided in the correct order when calling a function."
   ]
  },
  {
   "cell_type": "code",
   "execution_count": 15,
   "id": "befeee66-1e16-47fc-8b1b-baac57afaa22",
   "metadata": {},
   "outputs": [
    {
     "name": "stdout",
     "output_type": "stream",
     "text": [
      "yash\n",
      "24\n"
     ]
    }
   ],
   "source": [
    "def person(name,age):\n",
    "    print(name)\n",
    "    print(age)\n",
    "    \n",
    "person('yash', 24)   # Correct usage."
   ]
  },
  {
   "cell_type": "code",
   "execution_count": 17,
   "id": "863b075a-6884-4527-86d1-af87dd0e3490",
   "metadata": {},
   "outputs": [
    {
     "ename": "TypeError",
     "evalue": "person() missing 1 required positional argument: 'age'",
     "output_type": "error",
     "traceback": [
      "\u001b[31m---------------------------------------------------------------------------\u001b[39m",
      "\u001b[31mTypeError\u001b[39m                                 Traceback (most recent call last)",
      "\u001b[36mCell\u001b[39m\u001b[36m \u001b[39m\u001b[32mIn[17]\u001b[39m\u001b[32m, line 5\u001b[39m\n\u001b[32m      2\u001b[39m     \u001b[38;5;28mprint\u001b[39m(name)\n\u001b[32m      3\u001b[39m     \u001b[38;5;28mprint\u001b[39m(age)\n\u001b[32m----> \u001b[39m\u001b[32m5\u001b[39m \u001b[43mperson\u001b[49m\u001b[43m(\u001b[49m\u001b[33;43m'\u001b[39;49m\u001b[33;43myash\u001b[39;49m\u001b[33;43m'\u001b[39;49m\u001b[43m)\u001b[49m\n",
      "\u001b[31mTypeError\u001b[39m: person() missing 1 required positional argument: 'age'"
     ]
    }
   ],
   "source": [
    "def person(name,age):\n",
    "    print(name)\n",
    "    print(age)\n",
    "    \n",
    "person('yash')"
   ]
  },
  {
   "cell_type": "code",
   "execution_count": 19,
   "id": "b22ff61e-c6a1-4fd4-ba09-d9dd9b75c616",
   "metadata": {},
   "outputs": [
    {
     "name": "stdout",
     "output_type": "stream",
     "text": [
      "24\n",
      "yash\n"
     ]
    }
   ],
   "source": [
    "def person(name, age):\n",
    "    print(name)\n",
    "    print(age)\n",
    "    \n",
    "person(24, 'yash')  # Incorrect order."
   ]
  },
  {
   "cell_type": "code",
   "execution_count": 21,
   "id": "eef241e3-499b-489d-a3d9-ab92fa3b9318",
   "metadata": {},
   "outputs": [
    {
     "name": "stdout",
     "output_type": "stream",
     "text": [
      "24\n"
     ]
    },
    {
     "ename": "TypeError",
     "evalue": "unsupported operand type(s) for -: 'str' and 'int'",
     "output_type": "error",
     "traceback": [
      "\u001b[31m---------------------------------------------------------------------------\u001b[39m",
      "\u001b[31mTypeError\u001b[39m                                 Traceback (most recent call last)",
      "\u001b[36mCell\u001b[39m\u001b[36m \u001b[39m\u001b[32mIn[21]\u001b[39m\u001b[32m, line 5\u001b[39m\n\u001b[32m      2\u001b[39m     \u001b[38;5;28mprint\u001b[39m(name)\n\u001b[32m      3\u001b[39m     \u001b[38;5;28mprint\u001b[39m(age-\u001b[32m5\u001b[39m)\n\u001b[32m----> \u001b[39m\u001b[32m5\u001b[39m \u001b[43mperson\u001b[49m\u001b[43m(\u001b[49m\u001b[32;43m24\u001b[39;49m\u001b[43m,\u001b[49m\u001b[43m \u001b[49m\u001b[33;43m'\u001b[39;49m\u001b[33;43myash\u001b[39;49m\u001b[33;43m'\u001b[39;49m\u001b[43m)\u001b[49m\n",
      "\u001b[36mCell\u001b[39m\u001b[36m \u001b[39m\u001b[32mIn[21]\u001b[39m\u001b[32m, line 3\u001b[39m, in \u001b[36mperson\u001b[39m\u001b[34m(name, age)\u001b[39m\n\u001b[32m      1\u001b[39m \u001b[38;5;28;01mdef\u001b[39;00m\u001b[38;5;250m \u001b[39m\u001b[34mperson\u001b[39m(name, age):\n\u001b[32m      2\u001b[39m     \u001b[38;5;28mprint\u001b[39m(name)\n\u001b[32m----> \u001b[39m\u001b[32m3\u001b[39m     \u001b[38;5;28mprint\u001b[39m(\u001b[43mage\u001b[49m\u001b[43m-\u001b[49m\u001b[32;43m5\u001b[39;49m)\n",
      "\u001b[31mTypeError\u001b[39m: unsupported operand type(s) for -: 'str' and 'int'"
     ]
    }
   ],
   "source": [
    "def person(name, age):\n",
    "    print(name)\n",
    "    print(age-5)\n",
    "    \n",
    "person(24, 'yash')"
   ]
  },
  {
   "cell_type": "markdown",
   "id": "08ffb5ba-a84b-4e8e-b049-a969e92bad67",
   "metadata": {},
   "source": [
    "# 2.Default Arguments\n",
    "- These allow you to set default values for parameters, making them optional."
   ]
  },
  {
   "cell_type": "code",
   "execution_count": 33,
   "id": "7730fd84-167f-453c-a49e-9a401cbc5492",
   "metadata": {},
   "outputs": [
    {
     "name": "stdout",
     "output_type": "stream",
     "text": [
      "yash\n",
      "24\n"
     ]
    }
   ],
   "source": [
    "def person(name, age=24):\n",
    "    print(name)\n",
    "    print(age)\n",
    "    \n",
    "person('yash')    # Uses the default age of 24."
   ]
  },
  {
   "cell_type": "code",
   "execution_count": 35,
   "id": "4e60451e-7dba-4c4a-ad6b-1c27f522c114",
   "metadata": {},
   "outputs": [
    {
     "name": "stdout",
     "output_type": "stream",
     "text": [
      "yash\n",
      "24\n"
     ]
    }
   ],
   "source": [
    "def person(name, age=18):\n",
    "    print(name)\n",
    "    print(age)\n",
    "    \n",
    "person('yash', 24)  # Overrides the default."
   ]
  },
  {
   "cell_type": "markdown",
   "id": "ae733019-6479-43cc-b3f3-4deea2a66c65",
   "metadata": {},
   "source": [
    "# 3.Keyword Arguments\n",
    "- You can explicitly specify argument names, avoiding ordering issues."
   ]
  },
  {
   "cell_type": "code",
   "execution_count": 15,
   "id": "251004e4-e499-4615-9078-8c7c880af06c",
   "metadata": {},
   "outputs": [
    {
     "name": "stdout",
     "output_type": "stream",
     "text": [
      "yash\n",
      "24\n"
     ]
    }
   ],
   "source": [
    "def person(name, age):\n",
    "    print(name)\n",
    "    print(age)\n",
    "    \n",
    "person(age = 24, name = 'yash')     # Correct usage with keyword arguments."
   ]
  },
  {
   "cell_type": "code",
   "execution_count": 17,
   "id": "61049d5b-a654-4b58-b622-dfb80886ca05",
   "metadata": {},
   "outputs": [
    {
     "name": "stdout",
     "output_type": "stream",
     "text": [
      "yash\n",
      "19\n"
     ]
    }
   ],
   "source": [
    "def person(name, age):\n",
    "    print(name)\n",
    "    print(age-5)\n",
    "    \n",
    "person(age = 24, name = 'yash')    "
   ]
  },
  {
   "cell_type": "code",
   "execution_count": 10,
   "id": "b8416010-08bc-4a6b-8233-665d3acf2a08",
   "metadata": {},
   "outputs": [
    {
     "ename": "TypeError",
     "evalue": "person() missing 1 required positional argument: 'mob'",
     "output_type": "error",
     "traceback": [
      "\u001b[31m---------------------------------------------------------------------------\u001b[39m",
      "\u001b[31mTypeError\u001b[39m                                 Traceback (most recent call last)",
      "\u001b[36mCell\u001b[39m\u001b[36m \u001b[39m\u001b[32mIn[10]\u001b[39m\u001b[32m, line 5\u001b[39m\n\u001b[32m      2\u001b[39m     \u001b[38;5;28mprint\u001b[39m(name)\n\u001b[32m      3\u001b[39m     \u001b[38;5;28mprint\u001b[39m(age-\u001b[32m5\u001b[39m)\n\u001b[32m----> \u001b[39m\u001b[32m5\u001b[39m \u001b[43mperson\u001b[49m\u001b[43m(\u001b[49m\u001b[43mage\u001b[49m\u001b[43m \u001b[49m\u001b[43m=\u001b[49m\u001b[43m \u001b[49m\u001b[32;43m24\u001b[39;49m\u001b[43m,\u001b[49m\u001b[43m \u001b[49m\u001b[43mname\u001b[49m\u001b[43m \u001b[49m\u001b[43m=\u001b[49m\u001b[43m \u001b[49m\u001b[33;43m'\u001b[39;49m\u001b[33;43myash\u001b[39;49m\u001b[33;43m'\u001b[39;49m\u001b[43m \u001b[49m\u001b[43m)\u001b[49m\n",
      "\u001b[31mTypeError\u001b[39m: person() missing 1 required positional argument: 'mob'"
     ]
    }
   ],
   "source": [
    "def person(name, age, mob):\n",
    "    print(name)\n",
    "    print(age-5)\n",
    "    \n",
    "person(age = 24, name = 'yash' )"
   ]
  },
  {
   "cell_type": "code",
   "execution_count": 12,
   "id": "fc870c7d-a702-4722-b9f7-1165bed31f68",
   "metadata": {},
   "outputs": [
    {
     "name": "stdout",
     "output_type": "stream",
     "text": [
      "yash\n",
      "19\n",
      "251198\n"
     ]
    }
   ],
   "source": [
    "def person(name, age, mob):\n",
    "    print(name)\n",
    "    print(age-5)\n",
    "    print(mob)\n",
    "    \n",
    "person(age = 24, name = 'yash', mob = 251198)"
   ]
  },
  {
   "cell_type": "markdown",
   "id": "d4aec7f1-6d05-4f6a-8360-9383704ff19d",
   "metadata": {},
   "source": [
    "# 4.Variable-Length Argument\n",
    "- *args\n",
    "- Non-Keyworded Arguments: This collects Positional arguments into a tuple."
   ]
  },
  {
   "cell_type": "code",
   "execution_count": 1,
   "id": "24e48756-c8d8-46b4-87b7-357382baf6f6",
   "metadata": {},
   "outputs": [
    {
     "name": "stdout",
     "output_type": "stream",
     "text": [
      "yash\n",
      "24\n"
     ]
    }
   ],
   "source": [
    "def person(name, age):\n",
    "    print(name)\n",
    "    print(age)\n",
    "    \n",
    "person('yash', 24) "
   ]
  },
  {
   "cell_type": "code",
   "execution_count": 3,
   "id": "f371d00a-15fe-4239-b850-6293a7c75257",
   "metadata": {},
   "outputs": [
    {
     "ename": "TypeError",
     "evalue": "person() takes 2 positional arguments but 5 were given",
     "output_type": "error",
     "traceback": [
      "\u001b[31m---------------------------------------------------------------------------\u001b[39m",
      "\u001b[31mTypeError\u001b[39m                                 Traceback (most recent call last)",
      "\u001b[36mCell\u001b[39m\u001b[36m \u001b[39m\u001b[32mIn[3]\u001b[39m\u001b[32m, line 5\u001b[39m\n\u001b[32m      2\u001b[39m     \u001b[38;5;28mprint\u001b[39m(name)\n\u001b[32m      3\u001b[39m     \u001b[38;5;28mprint\u001b[39m(age)\n\u001b[32m----> \u001b[39m\u001b[32m5\u001b[39m \u001b[43mperson\u001b[49m\u001b[43m(\u001b[49m\u001b[33;43m'\u001b[39;49m\u001b[33;43myash\u001b[39;49m\u001b[33;43m'\u001b[39;49m\u001b[43m,\u001b[49m\u001b[43m \u001b[49m\u001b[32;43m24\u001b[39;49m\u001b[43m,\u001b[49m\u001b[32;43m26\u001b[39;49m\u001b[43m,\u001b[49m\u001b[32;43m28\u001b[39;49m\u001b[43m,\u001b[49m\u001b[32;43m30\u001b[39;49m\u001b[43m)\u001b[49m \n",
      "\u001b[31mTypeError\u001b[39m: person() takes 2 positional arguments but 5 were given"
     ]
    }
   ],
   "source": [
    "def person(name, age):\n",
    "    print(name)\n",
    "    print(age)\n",
    "    \n",
    "person('yash', 24,26,28,30) "
   ]
  },
  {
   "cell_type": "code",
   "execution_count": 5,
   "id": "8863287f-a73b-4e4b-a5a1-ec7c29685ad2",
   "metadata": {},
   "outputs": [
    {
     "name": "stdout",
     "output_type": "stream",
     "text": [
      "yash\n",
      "(24, 26, 28, 30)\n"
     ]
    }
   ],
   "source": [
    "def person(name, *age):\n",
    "    print(name)\n",
    "    print(age)\n",
    "    \n",
    "person('yash', 24,26,28,30) "
   ]
  },
  {
   "cell_type": "code",
   "execution_count": 7,
   "id": "22a299e8-8abf-4426-a8d0-8a6dd4304177",
   "metadata": {},
   "outputs": [
    {
     "name": "stdout",
     "output_type": "stream",
     "text": [
      "<class 'str'>\n",
      "<class 'tuple'>\n"
     ]
    }
   ],
   "source": [
    "def person(name, *age):\n",
    "    print(type(name))\n",
    "    print(type(age))\n",
    "    \n",
    "person('yash', 24,26,28,30) "
   ]
  },
  {
   "cell_type": "markdown",
   "id": "7d698cef-0fcf-45b3-803b-a7215908258c",
   "metadata": {},
   "source": [
    "# **kwargs\n",
    "- Keyworded Arguments: This collects named arguments into a dictionary."
   ]
  },
  {
   "cell_type": "code",
   "execution_count": 29,
   "id": "28166c27-3a7d-497b-87aa-d2aaf131f7a7",
   "metadata": {},
   "outputs": [
    {
     "ename": "TypeError",
     "evalue": "person() got an unexpected keyword argument 'age'",
     "output_type": "error",
     "traceback": [
      "\u001b[31m---------------------------------------------------------------------------\u001b[39m",
      "\u001b[31mTypeError\u001b[39m                                 Traceback (most recent call last)",
      "\u001b[36mCell\u001b[39m\u001b[36m \u001b[39m\u001b[32mIn[29]\u001b[39m\u001b[32m, line 3\u001b[39m\n\u001b[32m      1\u001b[39m \u001b[38;5;28;01mdef\u001b[39;00m\u001b[38;5;250m \u001b[39m\u001b[34mperson\u001b[39m(name,details):\n\u001b[32m      2\u001b[39m     \u001b[38;5;28;01mreturn\u001b[39;00m name , details\n\u001b[32m----> \u001b[39m\u001b[32m3\u001b[39m \u001b[43mperson\u001b[49m\u001b[43m(\u001b[49m\u001b[33;43m'\u001b[39;49m\u001b[33;43mYash\u001b[39;49m\u001b[33;43m'\u001b[39;49m\u001b[43m \u001b[49m\u001b[43m,\u001b[49m\u001b[43mage\u001b[49m\u001b[43m=\u001b[49m\u001b[32;43m24\u001b[39;49m\u001b[43m,\u001b[49m\u001b[43mmob\u001b[49m\u001b[43m=\u001b[49m\u001b[32;43m251198\u001b[39;49m\u001b[43m,\u001b[49m\u001b[43mplace\u001b[49m\u001b[43m=\u001b[49m\u001b[33;43m'\u001b[39;49m\u001b[33;43mHyd\u001b[39;49m\u001b[33;43m'\u001b[39;49m\u001b[43m)\u001b[49m\n",
      "\u001b[31mTypeError\u001b[39m: person() got an unexpected keyword argument 'age'"
     ]
    }
   ],
   "source": [
    "def person(name,details):\n",
    "    return name , details\n",
    "person('Yash' ,age=24,mob=251198,place='Hyd')"
   ]
  },
  {
   "cell_type": "code",
   "execution_count": 27,
   "id": "d56e6360-31f2-429d-b811-a23f39ecc6e0",
   "metadata": {},
   "outputs": [
    {
     "data": {
      "text/plain": [
       "('Yash', {'age': 24, 'mob': 251198, 'place': 'Hyd'})"
      ]
     },
     "execution_count": 27,
     "metadata": {},
     "output_type": "execute_result"
    }
   ],
   "source": [
    "def person(name,**details):\n",
    "    return name , details\n",
    "person('Yash' ,age=24,mob=251198,place='Hyd')"
   ]
  },
  {
   "cell_type": "markdown",
   "id": "a8b30e82-65ed-49a5-9125-0cfaaff1ef6f",
   "metadata": {},
   "source": [
    "# Local Vs Global Variable\n",
    "# Local Variable\n",
    "- Declared inside a function and is accessible only within that function.\n",
    "- Created when the function starts and destroyed when the function ends."
   ]
  },
  {
   "cell_type": "code",
   "execution_count": 32,
   "id": "250aac22-bc60-496f-8e64-7c9af3ab4d49",
   "metadata": {},
   "outputs": [
    {
     "name": "stdout",
     "output_type": "stream",
     "text": [
      "10\n"
     ]
    }
   ],
   "source": [
    "def example():\n",
    "    x = 10  # Local variable\n",
    "    print(x)  # Accessible here\n",
    "\n",
    "example()\n",
    "# print(x)  # This would cause an error, as x is not accessible outside the function"
   ]
  },
  {
   "cell_type": "markdown",
   "id": "38068bba-5d6f-4bcc-b83a-9be5ce434f6d",
   "metadata": {},
   "source": [
    "# Global Variable\n",
    "- Declared outside a function and accessible throughout the program.\n",
    "- Can be modified inside a function using the global keyword."
   ]
  },
  {
   "cell_type": "code",
   "execution_count": 35,
   "id": "188ecabc-27de-493d-b7dc-83aff4f0bf68",
   "metadata": {},
   "outputs": [
    {
     "name": "stdout",
     "output_type": "stream",
     "text": [
      "15\n"
     ]
    }
   ],
   "source": [
    "x = 10  # Global variable\n",
    "\n",
    "def example():\n",
    "    global x\n",
    "    x = x + 5  # Modifies global x\n",
    "    print(x)\n",
    "\n",
    "example()"
   ]
  },
  {
   "cell_type": "code",
   "execution_count": 37,
   "id": "f910b667-f56b-46c8-ab36-7d3c2ab53915",
   "metadata": {},
   "outputs": [
    {
     "name": "stdout",
     "output_type": "stream",
     "text": [
      "15\n"
     ]
    }
   ],
   "source": [
    "print(x)  # Accessible here as well"
   ]
  },
  {
   "cell_type": "code",
   "execution_count": 39,
   "id": "971f0d00-430e-4057-af77-29464691b0a0",
   "metadata": {},
   "outputs": [
    {
     "name": "stdout",
     "output_type": "stream",
     "text": [
      "Global x inside function: 15\n",
      "Local y inside function: 20\n",
      "Global x outside function: 15\n"
     ]
    }
   ],
   "source": [
    "x = 10  # Global variable\n",
    "\n",
    "def example():\n",
    "    global x  # Declaring that we're modifying the global variable\n",
    "    x += 5  # Changing global x\n",
    "    print(f\"Global x inside function: {x}\")\n",
    "\n",
    "    y = 20  # Local variable\n",
    "    print(f\"Local y inside function: {y}\")\n",
    "\n",
    "example()\n",
    "\n",
    "print(f\"Global x outside function: {x}\")\n",
    "# print(y)  # This will cause an error because y is a local variable"
   ]
  },
  {
   "cell_type": "code",
   "execution_count": null,
   "id": "0985535e-65d6-4299-af7e-2b6d6a85bfd1",
   "metadata": {},
   "outputs": [],
   "source": []
  },
  {
   "cell_type": "code",
   "execution_count": null,
   "id": "ce2262c8-3ef2-4346-b579-cf433caacf37",
   "metadata": {},
   "outputs": [],
   "source": []
  }
 ],
 "metadata": {
  "kernelspec": {
   "display_name": "Python [conda env:base] *",
   "language": "python",
   "name": "conda-base-py"
  },
  "language_info": {
   "codemirror_mode": {
    "name": "ipython",
    "version": 3
   },
   "file_extension": ".py",
   "mimetype": "text/x-python",
   "name": "python",
   "nbconvert_exporter": "python",
   "pygments_lexer": "ipython3",
   "version": "3.12.3"
  }
 },
 "nbformat": 4,
 "nbformat_minor": 5
}
