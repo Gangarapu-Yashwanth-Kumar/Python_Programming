{
 "cells": [
  {
   "cell_type": "markdown",
   "id": "4d0b164b-52c4-4092-93a5-474b423b1f8f",
   "metadata": {},
   "source": [
    "# If statement\n",
    "\n",
    "-used to decide whether to execute a particular statement or not based on condition         \n",
    "\n",
    "-if condition is True it will Execute"
   ]
  },
  {
   "cell_type": "markdown",
   "id": "e0277f13-dd96-4933-88c7-9192945500e1",
   "metadata": {},
   "source": [
    "# Syntax\n",
    "-if (condition):\n",
    "\n",
    "-statement to execute\n",
    "\n",
    "-condition is true"
   ]
  },
  {
   "cell_type": "code",
   "execution_count": 7,
   "id": "eab226de-3943-4e50-8f81-ad88cb628622",
   "metadata": {},
   "outputs": [
    {
     "name": "stdout",
     "output_type": "stream",
     "text": [
      "Condition executed\n",
      "1st Statement\n",
      "output\n"
     ]
    }
   ],
   "source": [
    "if True:\n",
    "    print('Condition executed')\n",
    "    print('1st Statement')\n",
    "print('output')"
   ]
  },
  {
   "cell_type": "code",
   "execution_count": 13,
   "id": "e4445c7f-aaa9-40d5-a654-4d69a4985465",
   "metadata": {},
   "outputs": [
    {
     "name": "stdout",
     "output_type": "stream",
     "text": [
      "no output\n"
     ]
    }
   ],
   "source": [
    "if False:\n",
    "    print('Condition executed')\n",
    "print('no output')"
   ]
  },
  {
   "cell_type": "code",
   "execution_count": 19,
   "id": "2e1cb15f-40dd-4b2f-9f05-768d47758f96",
   "metadata": {},
   "outputs": [
    {
     "name": "stdout",
     "output_type": "stream",
     "text": [
      "num is greater than 20\n"
     ]
    }
   ],
   "source": [
    "num=22\n",
    "if(num>=20):\n",
    "    print('num is greater than 20')"
   ]
  },
  {
   "cell_type": "markdown",
   "id": "79d8b9a7-f685-4a63-b452-52614d43df1a",
   "metadata": {},
   "source": [
    "# If-else statement\n",
    "-it wll execute the if block if condition is true\n",
    "\n",
    "-else block if condition is false"
   ]
  },
  {
   "cell_type": "markdown",
   "id": "5cabd44b-ee8b-43a3-9f9f-f82ab877b15c",
   "metadata": {},
   "source": [
    "# Syntax\n",
    "- if (condition):\n",
    "- executes the block\n",
    "- condition is true\n",
    "- else:\n",
    "- executes the block\n",
    "- condition is false"
   ]
  },
  {
   "cell_type": "code",
   "execution_count": 26,
   "id": "c4aa33fc-2469-4fc9-bc90-c847e93bec4e",
   "metadata": {},
   "outputs": [
    {
     "name": "stdout",
     "output_type": "stream",
     "text": [
      "Condition Executed\n",
      "executed based on condition true or false\n"
     ]
    }
   ],
   "source": [
    "if True:\n",
    "    print('Condition Executed')\n",
    "else:\n",
    "    print('Condition Not Executed')\n",
    "print('executed based on condition true or false')"
   ]
  },
  {
   "cell_type": "code",
   "execution_count": 28,
   "id": "48c17447-c77b-4685-85a0-e1def948b2e3",
   "metadata": {},
   "outputs": [
    {
     "name": "stdout",
     "output_type": "stream",
     "text": [
      "Condition Not Executed\n",
      "executed based on condition true or false\n"
     ]
    }
   ],
   "source": [
    "if False:\n",
    "    print('Condition Executed')\n",
    "else:\n",
    "    print('Condition Not Executed')\n",
    "print('executed based on condition true or false')"
   ]
  },
  {
   "cell_type": "code",
   "execution_count": 30,
   "id": "04813da6-0ef1-433b-99d6-40e8fcf0399f",
   "metadata": {},
   "outputs": [
    {
     "name": "stdout",
     "output_type": "stream",
     "text": [
      "num is greater than 20\n"
     ]
    }
   ],
   "source": [
    "num=22\n",
    "if(num>=20):\n",
    "    print('num is greater than 20')\n",
    "else:\n",
    "    print('num is less than 20')"
   ]
  },
  {
   "cell_type": "code",
   "execution_count": 32,
   "id": "123a6a21-b862-487d-9bf1-ec03b4f8628f",
   "metadata": {},
   "outputs": [
    {
     "name": "stdout",
     "output_type": "stream",
     "text": [
      "num is less than 20\n"
     ]
    }
   ],
   "source": [
    "num=18\n",
    "if(num>=20):\n",
    "    print('num is greater than 20')\n",
    "else:\n",
    "    print('num is less than 20')"
   ]
  },
  {
   "cell_type": "code",
   "execution_count": 36,
   "id": "be36877b-38a3-4627-b738-a1be2c0797f3",
   "metadata": {},
   "outputs": [
    {
     "name": "stdout",
     "output_type": "stream",
     "text": [
      "84 is even\n"
     ]
    }
   ],
   "source": [
    "num=84\n",
    "if(num%2==0):\n",
    "    print(num,\"is even\")\n",
    "else:\n",
    "    print(num,'is Odd')"
   ]
  },
  {
   "cell_type": "code",
   "execution_count": 38,
   "id": "f19c17b1-0646-4f09-97b0-bd019f3bfc83",
   "metadata": {},
   "outputs": [
    {
     "name": "stdout",
     "output_type": "stream",
     "text": [
      "89 is Odd\n"
     ]
    }
   ],
   "source": [
    "num=89\n",
    "if(num%2==0):\n",
    "    print(num,\"is even\")\n",
    "else:\n",
    "    print(num,'is Odd')"
   ]
  },
  {
   "cell_type": "markdown",
   "id": "08af934a-e89c-41a4-be15-7201df8cdac5",
   "metadata": {},
   "source": [
    "# Nested-if statement\n",
    "- a statement inside the statement"
   ]
  },
  {
   "cell_type": "markdown",
   "id": "72a4c0cc-00d2-424c-aec7-33a7fc794d95",
   "metadata": {},
   "source": [
    "# Syntax\n",
    "- if (condition1):\n",
    "- executes when condition1 is true\n",
    "- if (condition2):\n",
    "- executes when condition2 is true"
   ]
  },
  {
   "cell_type": "code",
   "execution_count": 44,
   "id": "f7cf24e6-b148-408a-9bad-40509f48334b",
   "metadata": {},
   "outputs": [
    {
     "name": "stdout",
     "output_type": "stream",
     "text": [
      "Even\n",
      "Less-Than 1000\n"
     ]
    }
   ],
   "source": [
    "num=46\n",
    "if(num%2==0):\n",
    "    print('Even')\n",
    "    if (num>1000):\n",
    "        print('Greater-Than 1000')\n",
    "    else:\n",
    "        print('Less-Than 1000')\n",
    "else:\n",
    "    print('Odd')"
   ]
  },
  {
   "cell_type": "code",
   "execution_count": 46,
   "id": "fe10b650-0d25-4e66-8b70-eff4df1d5bd2",
   "metadata": {},
   "outputs": [
    {
     "name": "stdout",
     "output_type": "stream",
     "text": [
      "Even\n",
      "Greater-Than 1000\n"
     ]
    }
   ],
   "source": [
    "num=123456\n",
    "if(num%2==0):\n",
    "    print('Even')\n",
    "    if (num>1000):\n",
    "        print('Greater-Than 1000')\n",
    "    else:\n",
    "        print('Less-Than 1000')\n",
    "else:\n",
    "    print('Odd')"
   ]
  },
  {
   "cell_type": "code",
   "execution_count": 48,
   "id": "afbfdf30-6f57-4389-b82d-8b8cdb630cc2",
   "metadata": {},
   "outputs": [
    {
     "name": "stdout",
     "output_type": "stream",
     "text": [
      "Odd\n"
     ]
    }
   ],
   "source": [
    "num=12345\n",
    "if(num%2==0):\n",
    "    print('Even')\n",
    "    if (num>1000):\n",
    "        print('Greater-Than 1000')\n",
    "    else:\n",
    "        print('Less-Than 1000')\n",
    "else:\n",
    "    print('Odd')"
   ]
  },
  {
   "cell_type": "markdown",
   "id": "3e382755-bdfc-4741-bfd4-adc01c8cfaeb",
   "metadata": {},
   "source": [
    "# Elif statement\n",
    "- multiple conditions in different statements\n",
    "- as soon as one condition is true it comes out of block"
   ]
  },
  {
   "cell_type": "markdown",
   "id": "95ec45ae-4467-438b-ab2a-407c9b3bd047",
   "metadata": {},
   "source": [
    "# Syntax\n",
    "- if (condition):\n",
    "- statement\n",
    "- elif(condition):\n",
    "- statement\n",
    "- .\n",
    "- .\n",
    "- .\n",
    "- else:\n",
    "- statement"
   ]
  },
  {
   "cell_type": "code",
   "execution_count": 54,
   "id": "fa75d85d-ada6-4990-a720-41d1528d7855",
   "metadata": {},
   "outputs": [
    {
     "name": "stdout",
     "output_type": "stream",
     "text": [
      "10 is Positive Number\n"
     ]
    }
   ],
   "source": [
    "num=10\n",
    "if(num>0):\n",
    "    print(num,'is Positive Number')\n",
    "elif(num<0):\n",
    "    print(num,'is Negative Number')\n",
    "else:\n",
    "    print('num is Zero')"
   ]
  },
  {
   "cell_type": "code",
   "execution_count": 56,
   "id": "25822d41-f5b3-4d4c-85c9-6466c35410e6",
   "metadata": {},
   "outputs": [
    {
     "name": "stdout",
     "output_type": "stream",
     "text": [
      "-22 is Negative Number\n"
     ]
    }
   ],
   "source": [
    "num=-22\n",
    "if(num>0):\n",
    "    print(num,'is Positive Number')\n",
    "elif(num<0):\n",
    "    print(num,'is Negative Number')\n",
    "else:\n",
    "    print('num is Zero')"
   ]
  },
  {
   "cell_type": "code",
   "execution_count": 58,
   "id": "72aaf45b-1f15-453b-be0c-2a47476e65d6",
   "metadata": {},
   "outputs": [
    {
     "name": "stdout",
     "output_type": "stream",
     "text": [
      "num is Zero\n"
     ]
    }
   ],
   "source": [
    "num=0\n",
    "if(num>0):\n",
    "    print(num,'is Positive Number')\n",
    "elif(num<0):\n",
    "    print(num,'is Negative Number')\n",
    "else:\n",
    "    print('num is Zero')"
   ]
  },
  {
   "cell_type": "markdown",
   "id": "7903925d-ef88-4079-87f4-ba784e85867e",
   "metadata": {},
   "source": [
    "# Ternary Statement\n",
    "- shortcut for using if and if-else statement"
   ]
  },
  {
   "cell_type": "markdown",
   "id": "db156738-6990-4ca6-b1fb-3a8dac40d79d",
   "metadata": {},
   "source": [
    "# if Shorthand\n",
    "- if condition:statement"
   ]
  },
  {
   "cell_type": "code",
   "execution_count": 62,
   "id": "e366c182-f876-45ef-8822-dbfb5e254533",
   "metadata": {},
   "outputs": [
    {
     "name": "stdout",
     "output_type": "stream",
     "text": [
      "10 is less than 25\n"
     ]
    }
   ],
   "source": [
    "num=10\n",
    "if num<25:print(num,'is less than 25')"
   ]
  },
  {
   "cell_type": "markdown",
   "id": "0887dd67-24f6-4bb9-a7f9-1d94b924a489",
   "metadata": {},
   "source": [
    "# if-else Shorthand\n",
    "- Statement when true if condition else Statement when false"
   ]
  },
  {
   "cell_type": "code",
   "execution_count": 65,
   "id": "5e64cbf4-2ae0-4f80-ba08-3918bcf183c8",
   "metadata": {},
   "outputs": [
    {
     "name": "stdout",
     "output_type": "stream",
     "text": [
      "10 is Positive Number\n"
     ]
    }
   ],
   "source": [
    "num=10\n",
    "print(num,'is Positive Number') if (num>=0) else print(num,'is Negative Number')"
   ]
  },
  {
   "cell_type": "code",
   "execution_count": 67,
   "id": "944cfb23-3f23-453a-9aab-3512f12f61a2",
   "metadata": {},
   "outputs": [
    {
     "name": "stdout",
     "output_type": "stream",
     "text": [
      "-10 is Negative Number\n"
     ]
    }
   ],
   "source": [
    "num=-10\n",
    "print(num,'is Positive Number') if (num>=0) else print(num,'is Negative Number')"
   ]
  },
  {
   "cell_type": "markdown",
   "id": "8bf7663a-052d-4e39-bf01-5d3b4e727c4a",
   "metadata": {},
   "source": [
    "# What are the different types of control statements in Python?\n",
    "\n",
    "In Python, control statements are used to alter the flow of execution\n",
    "based on specific conditions or looping requirements. The main types of\n",
    "control statements are:\n",
    "- Conditional statements : if, else, elif, nested if\n",
    "- Looping statements : for, while\n",
    "- Control flow statements : break, continue, pass, return"
   ]
  },
  {
   "cell_type": "code",
   "execution_count": null,
   "id": "e1075f3e-28e2-4af9-acb2-df684445fe9c",
   "metadata": {},
   "outputs": [],
   "source": []
  },
  {
   "cell_type": "code",
   "execution_count": null,
   "id": "cb9a26d9-4d21-434c-a500-171b4e0c34f4",
   "metadata": {},
   "outputs": [],
   "source": []
  },
  {
   "cell_type": "code",
   "execution_count": null,
   "id": "562c4642-7f0b-45c8-a00f-fe8dda0c1677",
   "metadata": {},
   "outputs": [],
   "source": []
  }
 ],
 "metadata": {
  "kernelspec": {
   "display_name": "Python [conda env:base] *",
   "language": "python",
   "name": "conda-base-py"
  },
  "language_info": {
   "codemirror_mode": {
    "name": "ipython",
    "version": 3
   },
   "file_extension": ".py",
   "mimetype": "text/x-python",
   "name": "python",
   "nbconvert_exporter": "python",
   "pygments_lexer": "ipython3",
   "version": "3.12.7"
  }
 },
 "nbformat": 4,
 "nbformat_minor": 5
}
