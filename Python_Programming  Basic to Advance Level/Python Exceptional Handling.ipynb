{
 "cells": [
  {
   "cell_type": "code",
   "execution_count": 1,
   "id": "e859c411-ffc5-4f4b-8191-0c3f7712464a",
   "metadata": {},
   "outputs": [
    {
     "name": "stdout",
     "output_type": "stream",
     "text": [
      "2.5\n",
      "Bye\n"
     ]
    }
   ],
   "source": [
    "a=5\n",
    "b=2\n",
    "print(a/b)\n",
    "print('Bye')"
   ]
  },
  {
   "cell_type": "code",
   "execution_count": 3,
   "id": "d1082cc3-ea62-4f33-b864-ce1179f5aeba",
   "metadata": {},
   "outputs": [
    {
     "name": "stdout",
     "output_type": "stream",
     "text": [
      "0.0\n",
      "Bye\n"
     ]
    }
   ],
   "source": [
    "c=5\n",
    "d=0\n",
    "print(d/c)\n",
    "\n",
    "print('Bye')"
   ]
  },
  {
   "cell_type": "code",
   "execution_count": 7,
   "id": "43445f9d-89f0-44c3-bbbb-952e994c1f4d",
   "metadata": {},
   "outputs": [
    {
     "name": "stdout",
     "output_type": "stream",
     "text": [
      "Bye\n"
     ]
    },
    {
     "ename": "ZeroDivisionError",
     "evalue": "division by zero",
     "output_type": "error",
     "traceback": [
      "\u001b[31m---------------------------------------------------------------------------\u001b[39m",
      "\u001b[31mZeroDivisionError\u001b[39m                         Traceback (most recent call last)",
      "\u001b[36mCell\u001b[39m\u001b[36m \u001b[39m\u001b[32mIn[7]\u001b[39m\u001b[32m, line 5\u001b[39m\n\u001b[32m      2\u001b[39m d=\u001b[32m0\u001b[39m\n\u001b[32m      3\u001b[39m \u001b[38;5;28mprint\u001b[39m(\u001b[33m'\u001b[39m\u001b[33mBye\u001b[39m\u001b[33m'\u001b[39m)\n\u001b[32m----> \u001b[39m\u001b[32m5\u001b[39m \u001b[38;5;28mprint\u001b[39m(\u001b[43mc\u001b[49m\u001b[43m/\u001b[49m\u001b[43md\u001b[49m)\n",
      "\u001b[31mZeroDivisionError\u001b[39m: division by zero"
     ]
    }
   ],
   "source": [
    "c=5\n",
    "d=0\n",
    "print('Bye')\n",
    "\n",
    "print(c/d)"
   ]
  },
  {
   "cell_type": "code",
   "execution_count": 9,
   "id": "5ba7695b-95b2-4658-a30b-a49e8b725c0d",
   "metadata": {},
   "outputs": [
    {
     "ename": "ZeroDivisionError",
     "evalue": "division by zero",
     "output_type": "error",
     "traceback": [
      "\u001b[31m---------------------------------------------------------------------------\u001b[39m",
      "\u001b[31mZeroDivisionError\u001b[39m                         Traceback (most recent call last)",
      "\u001b[36mCell\u001b[39m\u001b[36m \u001b[39m\u001b[32mIn[9]\u001b[39m\u001b[32m, line 3\u001b[39m\n\u001b[32m      1\u001b[39m c=\u001b[32m5\u001b[39m\n\u001b[32m      2\u001b[39m d=\u001b[32m0\u001b[39m\n\u001b[32m----> \u001b[39m\u001b[32m3\u001b[39m \u001b[38;5;28mprint\u001b[39m(\u001b[43mc\u001b[49m\u001b[43m/\u001b[49m\u001b[43md\u001b[49m)\n\u001b[32m      5\u001b[39m \u001b[38;5;28mprint\u001b[39m(\u001b[33m'\u001b[39m\u001b[33mBye\u001b[39m\u001b[33m'\u001b[39m)\n",
      "\u001b[31mZeroDivisionError\u001b[39m: division by zero"
     ]
    }
   ],
   "source": [
    "c=5\n",
    "d=0\n",
    "print(c/d)\n",
    "\n",
    "print('Bye')"
   ]
  },
  {
   "cell_type": "code",
   "execution_count": 11,
   "id": "6f9bc878-e571-4dcc-9616-8712bc3a4388",
   "metadata": {},
   "outputs": [
    {
     "name": "stdout",
     "output_type": "stream",
     "text": [
      "Hey You Cannot Divide the Number by Zero.\n",
      "Bye\n"
     ]
    }
   ],
   "source": [
    "c=3\n",
    "d=0\n",
    "\n",
    "try:\n",
    "    print(c/d)  #If this code give Errror then Except the Exception and Print the Message.\n",
    "\n",
    "except Exception:\n",
    "    print('Hey You Cannot Divide the Number by Zero.')\n",
    "\n",
    "print('Bye')"
   ]
  },
  {
   "cell_type": "code",
   "execution_count": 15,
   "id": "31bf7104-d38e-4ee5-bc4a-f7f6dabc9bbc",
   "metadata": {},
   "outputs": [
    {
     "name": "stdout",
     "output_type": "stream",
     "text": [
      "1.0\n",
      "Bye\n"
     ]
    }
   ],
   "source": [
    "c=3\n",
    "d=3\n",
    "\n",
    "try:\n",
    "    print(c/d) \n",
    "\n",
    "except Exception:\n",
    "    print('Hey You Cannot Divide the Number by Zero.') # Except block will execute only when the error occurs.\n",
    "\n",
    "print('Bye') "
   ]
  },
  {
   "cell_type": "code",
   "execution_count": 19,
   "id": "c442945e-8a51-475b-845b-ad506fe1a201",
   "metadata": {},
   "outputs": [
    {
     "name": "stdout",
     "output_type": "stream",
     "text": [
      "Hey You Cannot Divide the Number by Zero. division by zero\n",
      "Bye\n"
     ]
    }
   ],
   "source": [
    "#If i Print the error message as well along with the Message.\n",
    "c=3\n",
    "d=0\n",
    "\n",
    "try:\n",
    "    print(c/d) \n",
    "\n",
    "except Exception as e:\n",
    "    print('Hey You Cannot Divide the Number by Zero.',e)\n",
    "\n",
    "print('Bye') "
   ]
  },
  {
   "cell_type": "code",
   "execution_count": 21,
   "id": "81566555-ec7f-468e-b827-7e15afcb5a5b",
   "metadata": {},
   "outputs": [
    {
     "name": "stdout",
     "output_type": "stream",
     "text": [
      "1.0\n",
      "Bye\n"
     ]
    }
   ],
   "source": [
    "c=3\n",
    "d=3\n",
    "\n",
    "try:\n",
    "    print(c/d) \n",
    "\n",
    "except Exception as e:\n",
    "    print('Hey You Cannot Divide the Number by Zero.',e)\n",
    "\n",
    "print('Bye') "
   ]
  },
  {
   "cell_type": "code",
   "execution_count": 25,
   "id": "d5639fc9-f52d-4d69-bca2-00046faaeefd",
   "metadata": {},
   "outputs": [
    {
     "name": "stdout",
     "output_type": "stream",
     "text": [
      "Resource Open\n",
      "1.0\n",
      "Resource Closed\n"
     ]
    }
   ],
   "source": [
    "c=3\n",
    "d=3\n",
    "\n",
    "try:\n",
    "    print('Resource Open')   # Resource can be anything.This can be a file and This can be a Database.\n",
    "    print(c/d)\n",
    "    print('Resource Closed')\n",
    "\n",
    "except Exception as e:\n",
    "    print('Hey You Cannot Divide the Number by Zero.',':',e)\n"
   ]
  },
  {
   "cell_type": "code",
   "execution_count": 27,
   "id": "4c5ce896-58a4-4dad-bbd1-a72a9f82a888",
   "metadata": {},
   "outputs": [
    {
     "name": "stdout",
     "output_type": "stream",
     "text": [
      "Resource Open\n",
      "Hey You Cannot Divide the Number by Zero. : division by zero\n"
     ]
    }
   ],
   "source": [
    "c=3\n",
    "d=0\n",
    "\n",
    "try:\n",
    "    print('Resource Open')   # Resource can be anything.This can be a file and This can be a Database.\n",
    "    print(c/d)\n",
    "    print('Resource Closed')\n",
    "\n",
    "except Exception as e:\n",
    "    print('Hey You Cannot Divide the Number by Zero.',':',e)\n",
    "#If You see the output then resource is open but resource is not closed here at Exception Block."
   ]
  },
  {
   "cell_type": "code",
   "execution_count": 29,
   "id": "f89d5053-3318-499a-8baf-13006b0826e2",
   "metadata": {},
   "outputs": [
    {
     "name": "stdout",
     "output_type": "stream",
     "text": [
      "Resource Open\n",
      "Hey You Cannot Divide the Number by Zero. : division by zero\n",
      "Resource Closed\n"
     ]
    }
   ],
   "source": [
    "c=3\n",
    "d=0\n",
    "\n",
    "try:\n",
    "    print('Resource Open')   # Resource can be anything.This can be a file and This can be a Database.\n",
    "    print(c/d)\n",
    "    \n",
    "except Exception as e:\n",
    "    print('Hey You Cannot Divide the Number by Zero.',':',e)\n",
    "    print('Resource Closed')"
   ]
  },
  {
   "cell_type": "code",
   "execution_count": 31,
   "id": "847eb054-2a84-45ef-a0ea-21b38ed28686",
   "metadata": {},
   "outputs": [
    {
     "name": "stdout",
     "output_type": "stream",
     "text": [
      "Resource Open\n",
      "1.0\n"
     ]
    }
   ],
   "source": [
    "c=3\n",
    "d=3\n",
    "\n",
    "try:\n",
    "    print('Resource Open')   # Resource can be anything.This can be a file and This can be a Database.\n",
    "    print(c/d)\n",
    "    \n",
    "except Exception as e:\n",
    "    print('Hey You Cannot Divide the Number by Zero.',e)\n",
    "    print('Resource Closed')\n",
    "#If You see the output then resource is open but resource is not closed here at Exception Block."
   ]
  },
  {
   "cell_type": "code",
   "execution_count": 35,
   "id": "f1deeab8-7d0e-47d7-87a3-d7227c997882",
   "metadata": {},
   "outputs": [
    {
     "name": "stdout",
     "output_type": "stream",
     "text": [
      "Resource Open\n",
      "1.0\n",
      "Resource Closed\n"
     ]
    }
   ],
   "source": [
    "c=3\n",
    "d=3\n",
    "\n",
    "try:\n",
    "    print('Resource Open')   # Resource can be anything.This can be a file and This can be a Database.\n",
    "    print(c/d)\n",
    "    \n",
    "except Exception as e:\n",
    "    print('Hey You Cannot Divide the Number by Zero.',':',e)\n",
    "    print('Resource Closed')\n",
    "\n",
    "finally:\n",
    "    print('Resource Closed') #It does not matter about any block Finally it will Execute."
   ]
  },
  {
   "cell_type": "code",
   "execution_count": 39,
   "id": "4db2ed16-4435-481f-92b1-fd57fb51a430",
   "metadata": {},
   "outputs": [
    {
     "name": "stdout",
     "output_type": "stream",
     "text": [
      "Resource Open\n",
      "Hey You Cannot Divide the Number by Zero. : division by zero\n",
      "Resource Closed\n"
     ]
    }
   ],
   "source": [
    "c=3\n",
    "d=0\n",
    "\n",
    "try:\n",
    "    print('Resource Open')   # Resource can be anything.This can be a file and This can be a Database.\n",
    "    print(c/d)\n",
    "    \n",
    "except Exception as e:\n",
    "    print('Hey You Cannot Divide the Number by Zero.',':',e)\n",
    "    #print('Resource Closed')\n",
    "\n",
    "finally:\n",
    "    print('Resource Closed') #It does not matter about any block Finally it will Execute."
   ]
  },
  {
   "cell_type": "code",
   "execution_count": null,
   "id": "d274f439-562f-4570-8e5c-81c7a40d51aa",
   "metadata": {},
   "outputs": [],
   "source": []
  },
  {
   "cell_type": "code",
   "execution_count": null,
   "id": "27514451-2e65-400b-84f2-6d017521c5b5",
   "metadata": {},
   "outputs": [],
   "source": []
  }
 ],
 "metadata": {
  "kernelspec": {
   "display_name": "Python 3 (ipykernel)",
   "language": "python",
   "name": "python3"
  },
  "language_info": {
   "codemirror_mode": {
    "name": "ipython",
    "version": 3
   },
   "file_extension": ".py",
   "mimetype": "text/x-python",
   "name": "python",
   "nbconvert_exporter": "python",
   "pygments_lexer": "ipython3",
   "version": "3.12.3"
  }
 },
 "nbformat": 4,
 "nbformat_minor": 5
}
