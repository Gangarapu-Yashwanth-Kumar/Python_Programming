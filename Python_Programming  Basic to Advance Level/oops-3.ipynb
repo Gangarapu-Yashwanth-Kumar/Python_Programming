{
 "cells": [
  {
   "cell_type": "markdown",
   "id": "f5ec8574-56f4-4618-bf4c-eadb521d3864",
   "metadata": {},
   "source": [
    "# Constructor in Inheritance\n",
    "- Lets define own constructor using init"
   ]
  },
  {
   "cell_type": "code",
   "execution_count": 73,
   "id": "0fa44ba1-74c4-48e9-8e42-df2d4b0e53c2",
   "metadata": {},
   "outputs": [],
   "source": [
    "class A(): #lets create a class here it should be employee class or student class & lets create 2 methods\n",
    "    \n",
    "    def feature1(self):         # lets take example class A has 2 feature1 & feature 2\n",
    "        print('feature1 is Hi')\n",
    "    def feature2(self):\n",
    "        print('feature2 is Hello')\n",
    "\n",
    "class B(A):\n",
    "    def feature3(self):         # lets take example class B has 2 feature3 & feature 4\n",
    "        print('feature3 is Hi Hello')\n",
    "    def feature4(self):\n",
    "        print('feature4 is Hello Hi')\n",
    "        \n",
    "a1 = B()"
   ]
  },
  {
   "cell_type": "code",
   "execution_count": 9,
   "id": "0d79847f-7b4d-40ce-8c17-eba41e499dd5",
   "metadata": {},
   "outputs": [
    {
     "name": "stdout",
     "output_type": "stream",
     "text": [
      "in A init\n",
      "in A init\n"
     ]
    }
   ],
   "source": [
    "class A(): #lets create a class here it should be employee class or student class & lets create 2 methods\n",
    "    def __init__(self):\n",
    "        print('in A init')\n",
    "    def feature1(self):         # lets take example class A has 2 feature1 & feature 2\n",
    "        print('feature1 is Hi')\n",
    "    def feature2(self):\n",
    "        print('feature2 is Hello')\n",
    "\n",
    "class B(A):\n",
    "    def feature3(self):         # lets take example class B has 2 feature3 & feature 4\n",
    "        print('feature3 is Hi Hello')\n",
    "    def feature4(self):\n",
    "        print('feature4 is Hello Hi')\n",
    "        \n",
    "a1 = A() # A is the constructor\n",
    "b1 = B()"
   ]
  },
  {
   "cell_type": "code",
   "execution_count": 22,
   "id": "59e02fab-54dc-4334-ba5f-4b5771d1502f",
   "metadata": {},
   "outputs": [
    {
     "name": "stdout",
     "output_type": "stream",
     "text": [
      "in A init\n"
     ]
    }
   ],
   "source": [
    "class A(): #lets create a class here it should be employee class or student class & lets create 2 methods\n",
    "    def __init__(self):\n",
    "        print('in A init')\n",
    "    def feature1(self):         # lets take example class A has 2 feature1 & feature 2\n",
    "        print('feature1 is Hi')\n",
    "    def feature2(self):\n",
    "        print('feature2 is Hello')\n",
    "\n",
    "class B(A):\n",
    "    def feature3(self):         # lets take example class B has 2 feature3 & feature 4\n",
    "        print('feature3 is Hi Hello')\n",
    "    def feature4(self):\n",
    "        print('feature4 is Hello Hi')\n",
    "        \n",
    "a1 = B()"
   ]
  },
  {
   "cell_type": "markdown",
   "id": "bd412f8c-5b88-4cae-8e4e-a17f13eef26d",
   "metadata": {},
   "source": [
    "- Sub class can access all the features of Super class but Super class can not access any features of Sub class\n",
    "- If you notice the above code that a1 object called the constructor B \n",
    "- As we dont have init method in B class that's why it goes up and pointing towards class A "
   ]
  },
  {
   "cell_type": "code",
   "execution_count": 13,
   "id": "41e2cb7e-d637-45b5-8739-e11d6cc6d6ef",
   "metadata": {},
   "outputs": [
    {
     "name": "stdout",
     "output_type": "stream",
     "text": [
      "in the A init\n",
      "in the B init\n"
     ]
    }
   ],
   "source": [
    "class A() : #lets create a class here it should be employee class or student class & lets create 2 methods\n",
    "    def __init__(self):\n",
    "        print('in the A init')\n",
    "    def feature1(self):         # lets take example class A has 2 feature1 & feature 2\n",
    "        print('feature1 is Hi')\n",
    "    def feature2(self):\n",
    "        print('feature2 is Hello')\n",
    "\n",
    "class B(A):\n",
    "    def __init__(self):\n",
    "        print('in the B init')\n",
    "    def feature3(self):         # lets take example class B has 2 feature3 & feature 4\n",
    "        print('feature3 is Hi Hello')\n",
    "    def feature4(self):\n",
    "        print('feature4 is Hello Hi')\n",
    "        \n",
    "a1 = A()\n",
    "b1 = B()"
   ]
  },
  {
   "cell_type": "code",
   "execution_count": 15,
   "id": "367fe4a0-fa8a-42fc-a099-dc26087738dc",
   "metadata": {},
   "outputs": [
    {
     "name": "stdout",
     "output_type": "stream",
     "text": [
      "in the B init\n"
     ]
    }
   ],
   "source": [
    "class A() : #lets create a class here it should be employee class or student class & lets create 2 methods\n",
    "    def __init__(self):\n",
    "        print('in the A init')\n",
    "    def feature1(self):         # lets take example class A has 2 feature1 & feature 2\n",
    "        print('feature1 is Hi')\n",
    "    def feature2(self):\n",
    "        print('feature2 is Hello')\n",
    "\n",
    "class B(A):\n",
    "    def __init__(self):\n",
    "        print('in the B init')\n",
    "    def feature3(self):         # lets take example class B has 2 feature3 & feature 4\n",
    "        print('feature3 is Hi Hello')\n",
    "    def feature4(self):\n",
    "        print('feature4 is Hello Hi')\n",
    "        \n",
    "a1 = B()"
   ]
  },
  {
   "cell_type": "markdown",
   "id": "871f4197-a4e8-472e-ab74-a888fd677699",
   "metadata": {},
   "source": [
    "- If you create a object of Sub class it will first try find init of Sub class\n",
    "- If it is Not Found then It will call init of Super class"
   ]
  },
  {
   "cell_type": "markdown",
   "id": "c938eca9-8552-4cb8-9a7b-4a731a705525",
   "metadata": {},
   "source": [
    "- Is it possible to call init A as well\n",
    "- Can we call init of both the classes A & B\n",
    "- The moment when you mention super() you will get access of all the parent class\n",
    "- We try to call the init method of class A"
   ]
  },
  {
   "cell_type": "code",
   "execution_count": 28,
   "id": "ef2f734b-1d07-45d7-9a92-86d13037aca6",
   "metadata": {},
   "outputs": [
    {
     "name": "stdout",
     "output_type": "stream",
     "text": [
      "in the A init\n",
      "in the B init\n"
     ]
    }
   ],
   "source": [
    "class A() : \n",
    "    def __init__(self):\n",
    "        print('in the A init')\n",
    "    def feature1(self):         # lets take example class A has 2 feature1 & feature 2\n",
    "        print('feature1 is Hi')\n",
    "    def feature2(self):\n",
    "        print('feature2 is Hello')\n",
    "\n",
    "class B(A):\n",
    "    def __init__(self):\n",
    "        super().__init__() #when we pass super() == print parent class information as well \n",
    "        print('in the B init')\n",
    "    def feature3(self):         # lets take example class B has 2 feature3 & feature 4\n",
    "        print('feature3 is Hi Hello')\n",
    "    def feature4(self):\n",
    "        print('feature4 is Hello Hi')\n",
    "        \n",
    "a1 = B()"
   ]
  },
  {
   "cell_type": "code",
   "execution_count": 30,
   "id": "5b560239-a8e3-4f99-8403-ac53f8fe3e22",
   "metadata": {},
   "outputs": [
    {
     "name": "stdout",
     "output_type": "stream",
     "text": [
      "in the B init\n"
     ]
    }
   ],
   "source": [
    "class A() : \n",
    "    def __init__(self):\n",
    "        print('in the A init')\n",
    "    def feature1(self):         # lets take example class A has 2 feature1 & feature 2\n",
    "        print('feature1 is Hi')\n",
    "    def feature2(self):\n",
    "        print('feature2 is Hello')\n",
    "\n",
    "class B():\n",
    "    def __init__(self):\n",
    "        super().__init__() #when we pass super() == print parent class information as well \n",
    "        print('in the B init')\n",
    "    def feature3(self):         # lets take example class B has 2 feature3 & feature 4\n",
    "        print('feature3 is Hi Hello')\n",
    "    def feature4(self):\n",
    "        print('feature4 is Hello Hi')\n",
    "        \n",
    "a1 = B()"
   ]
  },
  {
   "cell_type": "markdown",
   "id": "2ee89f91-d9c1-4499-82c9-71db4b3395d9",
   "metadata": {},
   "source": [
    "- When you create a object of Sub class it will call init of Sub class first\n",
    "- If you call super then it will first call init of Super class then it will call init of Sub class"
   ]
  },
  {
   "cell_type": "code",
   "execution_count": 33,
   "id": "577a7a14-d891-4409-904a-83ddfc7a5ac2",
   "metadata": {},
   "outputs": [
    {
     "name": "stdout",
     "output_type": "stream",
     "text": [
      "in the C init\n"
     ]
    }
   ],
   "source": [
    "class A() : #lets create a class hear it should be employee class or student class & lets create 2 methods\n",
    "    def __init__(self):\n",
    "        print('in the A init')\n",
    "    def feature1(self):         # lets take example class A has 2 feature1 & feature2\n",
    "        print('feature1 is Hi')\n",
    "    def feature2(self):\n",
    "        print('feature2 is Hello')\n",
    "\n",
    "class B():\n",
    "    def __init__(self):\n",
    "        print('in the B init')\n",
    "    def feature3(self):         # lets take example class A has 2 feature3 & feature4\n",
    "        print('feature3 is Hi Hello')\n",
    "    def feature4(self):\n",
    "        print('feature4 is Hello Hi')\n",
    "        \n",
    "class C(A,B):\n",
    "    def __init__(self):\n",
    "        print('in the C init')\n",
    "        \n",
    "a1 = C()"
   ]
  },
  {
   "cell_type": "code",
   "execution_count": 35,
   "id": "1998ac2c-b760-4107-9dcb-f7949a52a7ae",
   "metadata": {},
   "outputs": [
    {
     "name": "stdout",
     "output_type": "stream",
     "text": [
      "in the A init\n",
      "in the C init\n"
     ]
    }
   ],
   "source": [
    "class A() : #lets create a class hear it should be employee class or student class & lets create 2 methods\n",
    "    def __init__(self):\n",
    "        print('in the A init')\n",
    "    def feature1(self):         # lets take example class A has 2 feature1 & feature2\n",
    "        print('feature1 is Hi')\n",
    "    def feature2(self):\n",
    "        print('feature2 is Hello')\n",
    "\n",
    "class B():\n",
    "    def __init__(self):\n",
    "        print('in the B init')\n",
    "    def feature3(self):         # lets take example class A has 2 feature3 & feature4\n",
    "        print('feature3 is Hi Hello')\n",
    "    def feature4(self):\n",
    "        print('feature4 is Hello Hi')\n",
    "        \n",
    "class C(A,B):\n",
    "    def __init__(self):\n",
    "        super().__init__()\n",
    "        print('in the C init')\n",
    "        \n",
    "a1 = C()"
   ]
  },
  {
   "cell_type": "markdown",
   "id": "a760002b-12ff-4436-940f-855d7ededcd5",
   "metadata": {},
   "source": [
    "- In the above code we called the C class but we get class A & didn't get class B which is not correct \n",
    "- So that's why we have concept of MRO (Method Resolution Order)\n",
    "- what is MRO , Whenever we have multiple inheritence it always start from Left to Right.\n"
   ]
  },
  {
   "cell_type": "markdown",
   "id": "2445338d-1e50-42b8-b817-7c1c3344e949",
   "metadata": {},
   "source": [
    "- Now We change method then we get the below output as by default it takes from left to right\n",
    "- This concept called as method resolution order (MRO)\n",
    "- we understand 3 things i.e:\n",
    "  * **How Constructor behave in Inheritance**\n",
    "  * **How to use super() in Inheritance**\n",
    "  * **Method Resolution Order**\n",
    "- with the help of super can we call the method"
   ]
  },
  {
   "cell_type": "code",
   "execution_count": 70,
   "id": "b33488b3-8f71-408a-89c2-ccd0dcb40468",
   "metadata": {},
   "outputs": [
    {
     "name": "stdout",
     "output_type": "stream",
     "text": [
      "in the A init\n",
      "in the B init\n",
      "in the C init\n"
     ]
    }
   ],
   "source": [
    "class A() : #lets create a class hear it should be employee class or student class & lets create 2 methods\n",
    "    def __init__(self):\n",
    "        print('in the A init')\n",
    "    def feature1(self):         # lets take example class A has 2 feature1 & feature2\n",
    "        print('feature1 is Hi')\n",
    "    def feature2(self):\n",
    "        print('feature2 is Hello')\n",
    "\n",
    "class B():\n",
    "    def __init__(self):\n",
    "        print('in the B init')\n",
    "    def feature3(self):         # lets take example class A has 2 feature3 & feature4\n",
    "        print('feature3 is Hi Hello')\n",
    "    def feature4(self):\n",
    "        print('feature4 is Hello Hi')\n",
    "        \n",
    "class C(A,B):\n",
    "    def __init__(self):\n",
    "        A.__init__(self)    # Calls A's __init__\n",
    "        B.__init__(self)    # Calls B's __init__\n",
    "        print('in the C init')\n",
    "        \n",
    "    def feature5(self):\n",
    "        super().feature1()\n",
    "        \n",
    "a1 = C()"
   ]
  },
  {
   "cell_type": "markdown",
   "id": "aaace0ce-acb4-4ef7-a41f-e1e03d2acaa8",
   "metadata": {},
   "source": [
    "- We can also call the super () method to call other method as well\n",
    "- To represent **Super class** We use **super method** ."
   ]
  },
  {
   "cell_type": "markdown",
   "id": "a6b9a61f-ecc8-45eb-ac1b-555a34fd71f0",
   "metadata": {},
   "source": [
    "## Polymorphism\n",
    "\n",
    "- we have 4 type of polymorphism -->\n",
    "  \n",
    "* **1.Duck Typing**\n",
    "* **2.Operator OverLoading**\n",
    "* **3.Method OverLoading**\n",
    "* **4.Method OverRidinng**"
   ]
  },
  {
   "cell_type": "markdown",
   "id": "c782d250-4bb8-4b28-86b3-2bbb450c469d",
   "metadata": {},
   "source": [
    "# **1.Duck Typing**"
   ]
  },
  {
   "cell_type": "code",
   "execution_count": 77,
   "id": "c7d4ce57-6c3a-4078-83b0-16f834487006",
   "metadata": {},
   "outputs": [
    {
     "name": "stdout",
     "output_type": "stream",
     "text": [
      "I am Duck & I can Swim\n",
      "Quack Quack\n"
     ]
    }
   ],
   "source": [
    "class duck:\n",
    "    def swim(self):\n",
    "        print('I am Duck & I can Swim')\n",
    "    def speaks(self):\n",
    "        print('Quack Quack')\n",
    "\n",
    "class dog:\n",
    "    def swim(self):\n",
    "        print('I am Dog & I can Swim')\n",
    "    def speaks(self):\n",
    "        print('Bow Bow')\n",
    "\n",
    "\n",
    "def display(duck): # we define outside of the class\n",
    "    duck.swim()\n",
    "    duck.speaks()\n",
    "    #print('informatation')\n",
    "\n",
    "d = duck()\n",
    "display(d)       "
   ]
  },
  {
   "cell_type": "code",
   "execution_count": 83,
   "id": "b6333d07-a615-4418-9856-06a49aee8b5d",
   "metadata": {},
   "outputs": [
    {
     "name": "stdout",
     "output_type": "stream",
     "text": [
      "I am Dog & I can Swim\n",
      "Bow Bow\n"
     ]
    }
   ],
   "source": [
    "class duck:\n",
    "    def swim(self):\n",
    "        print('I am Duck & I can Swim')\n",
    "    def speaks(self):\n",
    "        print('Quack Quack')\n",
    "\n",
    "class dog:\n",
    "    def swim(self):\n",
    "        print('I am Dog & I can Swim')\n",
    "    def speaks(self):\n",
    "        print('Bow Bow')\n",
    "\n",
    "\n",
    "def display(duck): # we define outside of the class\n",
    "    duck.swim()\n",
    "    duck.speaks()\n",
    "    #print('informatation')\n",
    "\n",
    "d = duck()\n",
    "dg= dog()\n",
    "\n",
    "display(dg)       "
   ]
  },
  {
   "cell_type": "code",
   "execution_count": 93,
   "id": "d836397e-5251-4f64-950b-8178f3c54636",
   "metadata": {},
   "outputs": [
    {
     "ename": "AttributeError",
     "evalue": "'person' object has no attribute 'swim'",
     "output_type": "error",
     "traceback": [
      "\u001b[31m---------------------------------------------------------------------------\u001b[39m",
      "\u001b[31mAttributeError\u001b[39m                            Traceback (most recent call last)",
      "\u001b[36mCell\u001b[39m\u001b[36m \u001b[39m\u001b[32mIn[93]\u001b[39m\u001b[32m, line 26\u001b[39m\n\u001b[32m     23\u001b[39m dg = dog()\n\u001b[32m     24\u001b[39m p = person()\n\u001b[32m---> \u001b[39m\u001b[32m26\u001b[39m \u001b[43mdisplay\u001b[49m\u001b[43m(\u001b[49m\u001b[43mp\u001b[49m\u001b[43m)\u001b[49m   \n",
      "\u001b[36mCell\u001b[39m\u001b[36m \u001b[39m\u001b[32mIn[93]\u001b[39m\u001b[32m, line 18\u001b[39m, in \u001b[36mdisplay\u001b[39m\u001b[34m(obj)\u001b[39m\n\u001b[32m     17\u001b[39m \u001b[38;5;28;01mdef\u001b[39;00m\u001b[38;5;250m \u001b[39m\u001b[34mdisplay\u001b[39m(obj): \u001b[38;5;66;03m# we define outside of the class\u001b[39;00m\n\u001b[32m---> \u001b[39m\u001b[32m18\u001b[39m     \u001b[43mobj\u001b[49m\u001b[43m.\u001b[49m\u001b[43mswim\u001b[49m()\n\u001b[32m     19\u001b[39m     obj.speaks()\n",
      "\u001b[31mAttributeError\u001b[39m: 'person' object has no attribute 'swim'"
     ]
    }
   ],
   "source": [
    "class duck:\n",
    "    def swim(self):\n",
    "        print('I am Duck & I can Swim')\n",
    "    def speaks(self):\n",
    "        print('Quack Quack')\n",
    "\n",
    "class dog:\n",
    "    def swim(self):\n",
    "        print('I am Dog & I can Swim')\n",
    "    def speaks(self):\n",
    "        print('Bow Bow')\n",
    "\n",
    "class person:\n",
    "    def speaks(self):\n",
    "        print('Be Kind')\n",
    "        \n",
    "def display(obj): # we define outside of the class\n",
    "    obj.swim()\n",
    "    obj.speaks()\n",
    "    #obj.person()\n",
    "    \n",
    "d = duck()\n",
    "dg = dog()\n",
    "p = person()\n",
    "\n",
    "display(p)   "
   ]
  },
  {
   "cell_type": "code",
   "execution_count": 89,
   "id": "c6eb748c-87c3-444d-92a5-8e6bdf672b5b",
   "metadata": {},
   "outputs": [
    {
     "name": "stdout",
     "output_type": "stream",
     "text": [
      "Need to Learn Swimming\n",
      "Be Kind\n"
     ]
    }
   ],
   "source": [
    "class duck:\n",
    "    def swim(self):\n",
    "        print('I am Duck & I can Swim')\n",
    "    def speaks(self):\n",
    "        print('Quack Quack')\n",
    "\n",
    "class dog:\n",
    "    def swim(self):\n",
    "        print('I am Dog & I can Swim')\n",
    "    def speaks(self):\n",
    "        print('Bow Bow')\n",
    "\n",
    "class person:\n",
    "    def speaks(self):\n",
    "        print('Be Kind')\n",
    "    def swim(self):\n",
    "        print('Need to Learn Swimming')\n",
    "        \n",
    "def display(obj): # we define outside of the class\n",
    "    obj.swim()\n",
    "    obj.speaks()\n",
    "    \n",
    "    \n",
    "d = duck()\n",
    "dg = dog()\n",
    "p = person()\n",
    "\n",
    "display(p)   # This will call the swim() and speaks() methods of the Person class."
   ]
  },
  {
   "cell_type": "code",
   "execution_count": 97,
   "id": "caa7f6c3-e7dc-4438-a1d7-3a364dde6129",
   "metadata": {},
   "outputs": [],
   "source": [
    "class laptop:\n",
    "    def code(self,ide): #as a programmer we run the code, compile the code, to run the code we required IDE(integrated development environment)\n",
    "        ide.execute()   #lets pass argument as ide but the question ide is what is data type which is not there in existing classes"
   ]
  },
  {
   "cell_type": "code",
   "execution_count": 105,
   "id": "15bdad1e-7a8c-449f-aea7-9cc973b153ce",
   "metadata": {},
   "outputs": [],
   "source": [
    "class jupyter: #we create a new class jupyter for ide\n",
    "    def execute(self):\n",
    "        print('Compiling')\n",
    "        print('Running')\n",
    "class laptop:\n",
    "    def code(self, ide):\n",
    "        ide.execute()     \n",
    "# we will wont get any output cuz we not calling anything"
   ]
  },
  {
   "cell_type": "code",
   "execution_count": 107,
   "id": "f203b090-311b-48f4-828f-f64a38b8fe73",
   "metadata": {},
   "outputs": [
    {
     "name": "stdout",
     "output_type": "stream",
     "text": [
      "Compiling\n",
      "Running\n"
     ]
    }
   ],
   "source": [
    "class jupyter:\n",
    "    def execute(self):\n",
    "        print('Compiling')\n",
    "        print('Running')\n",
    "class laptop:\n",
    "    def code(self, ide):\n",
    "        ide.execute() \n",
    "\n",
    "ide = jupyter()\n",
    "lap1 = laptop()\n",
    "\n",
    "lap1.code(ide)"
   ]
  },
  {
   "cell_type": "code",
   "execution_count": 109,
   "id": "db05843b-5165-45ff-a313-0e81e456377f",
   "metadata": {},
   "outputs": [
    {
     "name": "stdout",
     "output_type": "stream",
     "text": [
      "Spell Check\n",
      "Other Check\n",
      "Compiling\n",
      "Running\n"
     ]
    }
   ],
   "source": [
    "# Can we change Type of ide later\n",
    "\n",
    "class jupyter:\n",
    "    def execute(self):\n",
    "        print('Compiling')\n",
    "        print('Running')\n",
    "        \n",
    "class spyder:\n",
    "    def execute(self):\n",
    "        print('Spell Check')\n",
    "        print('Other Check')\n",
    "        print('Compiling')\n",
    "        print('Running')\n",
    "        \n",
    "class laptop:\n",
    "    def code(self, ide): \n",
    "        ide.execute()    # and it does not matter \n",
    "\n",
    "ide = spyder() \n",
    "lap1 = laptop()\n",
    "\n",
    "lap1.code(ide)"
   ]
  },
  {
   "cell_type": "markdown",
   "id": "a3799900-36a9-451d-828f-4c7ec0fdacab",
   "metadata": {},
   "source": [
    "- In the above code is this ide fix to jupyter \n",
    "- If it will change from jupyter to spyder provided you have that method (execute) it does not matter which class object which you passing \n",
    "- What matter that method has Execute or Not \n",
    "- The method which are using here is called Duck Typing \n",
    "- EXECUTE method behave - walk like duck , quak like duck, swim like duck."
   ]
  },
  {
   "cell_type": "code",
   "execution_count": 112,
   "id": "6fa033ff-594f-4307-ad0c-63c38db2b84f",
   "metadata": {},
   "outputs": [
    {
     "name": "stdout",
     "output_type": "stream",
     "text": [
      "Bow!\n",
      "Meow!\n",
      "Quack!\n"
     ]
    }
   ],
   "source": [
    "class Dog:\n",
    "    def speak(self):\n",
    "        return \"Bow!\"\n",
    "\n",
    "class Cat:\n",
    "    def speak(self):\n",
    "        return \"Meow!\"\n",
    "\n",
    "class Duck:\n",
    "    def speak(self):\n",
    "        return \"Quack!\"\n",
    "\n",
    "def animal_sound(animal):\n",
    "    return animal.speak()\n",
    "\n",
    "# Using duck typing\n",
    "dog = Dog()\n",
    "cat = Cat()\n",
    "duck = Duck()\n",
    "\n",
    "print(animal_sound(dog))  \n",
    "print(animal_sound(cat))  \n",
    "print(animal_sound(duck))\n"
   ]
  },
  {
   "cell_type": "markdown",
   "id": "ad3b7d88-e4ef-40d6-8c8b-15e87c78a632",
   "metadata": {},
   "source": [
    "# **2.Operator OverLoading**"
   ]
  },
  {
   "cell_type": "code",
   "execution_count": 115,
   "id": "ddcdee9b-0181-4175-ae1b-b98089fc295a",
   "metadata": {},
   "outputs": [
    {
     "ename": "TypeError",
     "evalue": "unsupported operand type(s) for +: 'int' and 'str'",
     "output_type": "error",
     "traceback": [
      "\u001b[31m---------------------------------------------------------------------------\u001b[39m",
      "\u001b[31mTypeError\u001b[39m                                 Traceback (most recent call last)",
      "\u001b[36mCell\u001b[39m\u001b[36m \u001b[39m\u001b[32mIn[115]\u001b[39m\u001b[32m, line 4\u001b[39m\n\u001b[32m      1\u001b[39m a = \u001b[32m5\u001b[39m\n\u001b[32m      2\u001b[39m b = \u001b[33m'\u001b[39m\u001b[33mworld\u001b[39m\u001b[33m'\u001b[39m\n\u001b[32m----> \u001b[39m\u001b[32m4\u001b[39m \u001b[38;5;28mprint\u001b[39m(\u001b[43ma\u001b[49m\u001b[43m+\u001b[49m\u001b[43mb\u001b[49m)\n",
      "\u001b[31mTypeError\u001b[39m: unsupported operand type(s) for +: 'int' and 'str'"
     ]
    }
   ],
   "source": [
    "a = 5\n",
    "b = 'world'\n",
    "\n",
    "print(a+b)"
   ]
  },
  {
   "cell_type": "markdown",
   "id": "85404f67-c712-42f3-a407-70e8003348c5",
   "metadata": {},
   "source": [
    "- If you execute above code those all are inbuild and we get error as you can't add int with string \n",
    "- Error as unsupported operand type"
   ]
  },
  {
   "cell_type": "code",
   "execution_count": 118,
   "id": "fb2700c6-47c5-4c03-ba53-776eab5c5cc8",
   "metadata": {},
   "outputs": [
    {
     "name": "stdout",
     "output_type": "stream",
     "text": [
      "<class 'int'>\n",
      "11\n"
     ]
    }
   ],
   "source": [
    "a, b = 5, 6\n",
    "\n",
    "print(type(a))\n",
    "print (a+b)"
   ]
  },
  {
   "cell_type": "code",
   "execution_count": 120,
   "id": "efecf04e-e3ad-4531-b155-39479af83e9a",
   "metadata": {},
   "outputs": [
    {
     "data": {
      "text/plain": [
       "11"
      ]
     },
     "execution_count": 120,
     "metadata": {},
     "output_type": "execute_result"
    }
   ],
   "source": [
    "int.__add__(a,b)"
   ]
  },
  {
   "cell_type": "code",
   "execution_count": 122,
   "id": "1be000a5-9b1f-4989-b48a-a869fb5a7634",
   "metadata": {},
   "outputs": [
    {
     "data": {
      "text/plain": [
       "1"
      ]
     },
     "execution_count": 122,
     "metadata": {},
     "output_type": "execute_result"
    }
   ],
   "source": [
    "int.__sub__(b,a)"
   ]
  },
  {
   "cell_type": "code",
   "execution_count": 124,
   "id": "b6649c48-2b24-4422-a941-f068600e771d",
   "metadata": {},
   "outputs": [
    {
     "data": {
      "text/plain": [
       "30"
      ]
     },
     "execution_count": 124,
     "metadata": {},
     "output_type": "execute_result"
    }
   ],
   "source": [
    "int.__mul__(a,b)"
   ]
  },
  {
   "cell_type": "code",
   "execution_count": 126,
   "id": "00efa71a-d4f1-4ee5-96fb-910abd7a86d8",
   "metadata": {},
   "outputs": [
    {
     "name": "stdout",
     "output_type": "stream",
     "text": [
      "<class 'int'>\n",
      "11\n",
      "11\n"
     ]
    }
   ],
   "source": [
    "a, b = 5, 6\n",
    "print(type(a))\n",
    "print (a+b)\n",
    "\n",
    "# when user enter the number behind the system understand as int class \n",
    "# internally system calls the below code as \n",
    "# int class & __add__ is method. you can add a+b or you can call the add methods from int class\n",
    "print(int.__add__(a,b))"
   ]
  },
  {
   "cell_type": "code",
   "execution_count": 130,
   "id": "a63ec113-aa33-4442-9809-1a9b1055d8aa",
   "metadata": {},
   "outputs": [
    {
     "name": "stdout",
     "output_type": "stream",
     "text": [
      "22\n"
     ]
    }
   ],
   "source": [
    "c, d = '2', '2'\n",
    "print(c+d)"
   ]
  },
  {
   "cell_type": "code",
   "execution_count": 132,
   "id": "a85ce17e-dc4b-45cf-8b84-050709d8b7fa",
   "metadata": {},
   "outputs": [
    {
     "name": "stdout",
     "output_type": "stream",
     "text": [
      "22\n"
     ]
    }
   ],
   "source": [
    "print(str.__add__(c,d))"
   ]
  },
  {
   "cell_type": "markdown",
   "id": "ce0a4241-bad8-4646-a033-0c0acd5630b7",
   "metadata": {},
   "source": [
    "- when the user enter (+) means - internally it calls __add__(), method\n",
    "(-) means __sub__(), (*) means __mul__() methods\n",
    "all of this called as Magic Method."
   ]
  },
  {
   "cell_type": "code",
   "execution_count": 143,
   "id": "65178fbe-e2a4-48fa-bbff-0fcc8c34ca6d",
   "metadata": {},
   "outputs": [
    {
     "ename": "TypeError",
     "evalue": "unsupported operand type(s) for +: 'student' and 'student'",
     "output_type": "error",
     "traceback": [
      "\u001b[31m---------------------------------------------------------------------------\u001b[39m",
      "\u001b[31mTypeError\u001b[39m                                 Traceback (most recent call last)",
      "\u001b[36mCell\u001b[39m\u001b[36m \u001b[39m\u001b[32mIn[143]\u001b[39m\u001b[32m, line 11\u001b[39m\n\u001b[32m      8\u001b[39m s2 = student(\u001b[32m80\u001b[39m,\u001b[32m90\u001b[39m)\n\u001b[32m     10\u001b[39m \u001b[38;5;66;03m# lets use + operator & i want to add 2 student \u001b[39;00m\n\u001b[32m---> \u001b[39m\u001b[32m11\u001b[39m s3 = \u001b[43ms1\u001b[49m\u001b[43m \u001b[49m\u001b[43m+\u001b[49m\u001b[43m \u001b[49m\u001b[43ms2\u001b[49m \u001b[38;5;66;03m# is this possible to use add operator with the class\u001b[39;00m\n\u001b[32m     12\u001b[39m \u001b[38;5;66;03m# to fix this error we need to def __add__ method here \u001b[39;00m\n",
      "\u001b[31mTypeError\u001b[39m: unsupported operand type(s) for +: 'student' and 'student'"
     ]
    }
   ],
   "source": [
    "class student:\n",
    "    def __init__(self,m1,m2):\n",
    "        self.m1 = m1\n",
    "        self.m2 = m2\n",
    "\n",
    "      \n",
    "s1 = student(60,70)\n",
    "s2 = student(80,90)\n",
    "\n",
    "# lets use + operator & i want to add 2 student \n",
    "s3 = s1 + s2 # is this possible to use add operator with the class\n",
    "# to fix this error we need to def __add__ method here "
   ]
  },
  {
   "cell_type": "code",
   "execution_count": 145,
   "id": "f0da5028-8c24-4ee7-933b-5bfb0ae38c21",
   "metadata": {},
   "outputs": [
    {
     "name": "stdout",
     "output_type": "stream",
     "text": [
      "140\n",
      "160\n"
     ]
    }
   ],
   "source": [
    "class student:\n",
    "    def __init__(self,m1,m2):\n",
    "        self.m1 = m1\n",
    "        self.m2 = m2\n",
    "        \n",
    "    def __add__(self, other): ## WE DEFINE THE ADD METHOD . THIS CONCEPT IS CALLED OPERATOR OVERLOADING\n",
    "        m1 = self.m1 + other.m1\n",
    "        m2 = self.m2 + other.m2\n",
    "        s3 = student(m1,m2)\n",
    "        \n",
    "        return s3   \n",
    " \n",
    "s1 = student(60,70)\n",
    "s2 = student(80,90)\n",
    "\n",
    "s3 = s1 + s2 \n",
    "# when we create add method in above behind the memory s1 & s2 will convert to self & other respectively\n",
    "print(s3.m1)\n",
    "print(s3.m2)\n",
    "\n",
    "# if you want to add 2 student then operator need to overload "
   ]
  },
  {
   "cell_type": "code",
   "execution_count": 147,
   "id": "142ace49-8571-4abd-962c-6d88105b5b9b",
   "metadata": {},
   "outputs": [
    {
     "ename": "TypeError",
     "evalue": "'>' not supported between instances of 'student' and 'student'",
     "output_type": "error",
     "traceback": [
      "\u001b[31m---------------------------------------------------------------------------\u001b[39m",
      "\u001b[31mTypeError\u001b[39m                                 Traceback (most recent call last)",
      "\u001b[36mCell\u001b[39m\u001b[36m \u001b[39m\u001b[32mIn[147]\u001b[39m\u001b[32m, line 17\u001b[39m\n\u001b[32m     15\u001b[39m s3 = s1 + s2 \n\u001b[32m     16\u001b[39m \u001b[38;5;66;03m#we can also compare 2 object are > or less then \u001b[39;00m\n\u001b[32m---> \u001b[39m\u001b[32m17\u001b[39m \u001b[38;5;28;01mif\u001b[39;00m \u001b[43ms1\u001b[49m\u001b[43m>\u001b[49m\u001b[43ms2\u001b[49m:\n\u001b[32m     18\u001b[39m     \u001b[38;5;28mprint\u001b[39m(\u001b[33m'\u001b[39m\u001b[33ms1 pass\u001b[39m\u001b[33m'\u001b[39m)\n\u001b[32m     19\u001b[39m \u001b[38;5;28;01melse\u001b[39;00m:\n",
      "\u001b[31mTypeError\u001b[39m: '>' not supported between instances of 'student' and 'student'"
     ]
    }
   ],
   "source": [
    "class student:\n",
    "    def __init__(self,m1,m2):\n",
    "        self.m1 = m1\n",
    "        self.m2 = m2\n",
    "    def __add__(self, other): ## WE DEFINE THE ADD METHOD . THIS CONCEPT IS CALLED OPERATOR OVERLOADING\n",
    "        m1 = self.m1 + other.m1\n",
    "        m2 = self.m2 + other.m2\n",
    "        s3 = student(m1,m2)\n",
    "        \n",
    "        return s3   \n",
    " \n",
    "s1 = student(60,70)\n",
    "s2 = student(80,90)\n",
    "\n",
    "s3 = s1 + s2 \n",
    "#we can also compare 2 object are > or less then \n",
    "if s1>s2:\n",
    "    print('s1 pass')\n",
    "else:\n",
    "    print('s2 pass')\n",
    "    \n",
    "# we are not define it so how to check it \n"
   ]
  },
  {
   "cell_type": "code",
   "execution_count": 149,
   "id": "d1eedfe8-5c88-4e34-aca0-beeed7324479",
   "metadata": {},
   "outputs": [
    {
     "name": "stdout",
     "output_type": "stream",
     "text": [
      "s1 pass\n"
     ]
    }
   ],
   "source": [
    "#if the see the above error we got error as > is not support so we need to define the > method (gt)\n",
    "class student:\n",
    "    def __init__(self,m1,m2):\n",
    "        self.m1 = m1\n",
    "        self.m2 = m2\n",
    "    def __add__(self, other): ## WE DEFINE THE ADD METHOD . THIS CONCEPT IS CALLED OPERATOR OVERLOADING\n",
    "        m1 = self.m1 + other.m1\n",
    "        m2 = self.m2 + other.m2\n",
    "        s3 = student(m1,m2)\n",
    "        \n",
    "        return s3  \n",
    "        \n",
    "    def __gt__(self,other):\n",
    "        r1 = self.m1 + self.m2\n",
    "        r2 = other.m1 + other.m2\n",
    "        if r1 > r2:\n",
    "            return True\n",
    "        else:\n",
    "            return False\n",
    " \n",
    "s1 = student(60,70)\n",
    "s2 = student(80,90)\n",
    "\n",
    "s3 = s1 + s2 \n",
    "\n",
    "if s1<s2:\n",
    "    print('s1 pass')\n",
    "else:\n",
    "    print('s2 pass')"
   ]
  },
  {
   "cell_type": "code",
   "execution_count": 151,
   "id": "6a7059bb-6ca2-4aa8-9df4-7963caccc035",
   "metadata": {},
   "outputs": [
    {
     "name": "stdout",
     "output_type": "stream",
     "text": [
      "s1 wins\n"
     ]
    }
   ],
   "source": [
    "class student:\n",
    "    def __init__(self,m1,m2):\n",
    "        self.m1 = m1\n",
    "        self.m2 = m2\n",
    "    def __add__(self, other): ## WE DEFINE THE ADD METHOD . THIS CONCEPT IS CALLED OPERATOR OVERLOADING\n",
    "        m1 = self.m1 + other.m1\n",
    "        m2 = self.m2 + other.m2\n",
    "        s3 = student(m1,m2)\n",
    "        \n",
    "        return s3  \n",
    "    def __gt__(self,other):\n",
    "        r1 = self.m1 + self.m2\n",
    "        r2 = other.m1 + other.m2\n",
    "        if r1 > r2:\n",
    "            return True\n",
    "        else:\n",
    "            return False\n",
    " \n",
    "s1 = student(250,50)\n",
    "s2 = student(80,90)\n",
    "\n",
    "s3 = s1 + s2 \n",
    "\n",
    "if s1>s2:\n",
    "    print('s1 wins')\n",
    "else:\n",
    "    print('s2 wins')"
   ]
  },
  {
   "cell_type": "code",
   "execution_count": 153,
   "id": "91a18a9b-3c0a-4023-adf0-583a7edddd48",
   "metadata": {},
   "outputs": [
    {
     "name": "stdout",
     "output_type": "stream",
     "text": [
      "s1 wins\n",
      "8\n",
      "<__main__.student object at 0x0000022C54BE1280>\n"
     ]
    }
   ],
   "source": [
    "class student:\n",
    "    def __init__(self,m1,m2):\n",
    "        self.m1 = m1\n",
    "        self.m2 = m2\n",
    "    def __add__(self, other): # WE DEFINE THE ADD METHOD . THIS CONCEPT IS CALLED OPERATOR OVERLOADING\n",
    "        m1 = self.m1 + other.m1\n",
    "        m2 = self.m2 + other.m2\n",
    "        s3 = student(m1,m2)\n",
    "        \n",
    "        return s3  \n",
    "    def __gt__(self,other):\n",
    "        r1 = self.m1 + self.m2\n",
    "        r2 = other.m1 + other.m2\n",
    "        if r1 > r2:\n",
    "            return True\n",
    "        else:\n",
    "            return False\n",
    " \n",
    "s1 = student(250,50)\n",
    "s2 = student(80,90)\n",
    "\n",
    "s3 = s1 + s2 \n",
    "\n",
    "if s1>s2:\n",
    "    print('s1 wins')\n",
    "else:\n",
    "    print('s2 wins')\n",
    "\n",
    "a = 8\n",
    "print(a) # here a will print the value of the a \n",
    "\n",
    "print(s1) # when we print s1 it will print the address of s1 but we dont want the addres why it happend"
   ]
  },
  {
   "cell_type": "code",
   "execution_count": 155,
   "id": "b9e040e3-992f-4e8c-b03e-b3efab1b639a",
   "metadata": {},
   "outputs": [
    {
     "name": "stdout",
     "output_type": "stream",
     "text": [
      "s1 wins\n",
      "8\n",
      "<method-wrapper '__str__' of int object at 0x00007FFCF85C5A98>\n",
      "8\n",
      "<__main__.student object at 0x0000022C5479B3B0>\n"
     ]
    }
   ],
   "source": [
    "class student:\n",
    "    def __init__(self,m1,m2):\n",
    "        self.m1 = m1\n",
    "        self.m2 = m2\n",
    "    def __add__(self, other): # WE DEFINE THE ADD METHOD . THIS CONCEPT IS CALLED OPERATOR OVERLOADING\n",
    "        m1 = self.m1 + other.m1\n",
    "        m2 = self.m2 + other.m2\n",
    "        s3 = student(m1,m2)\n",
    "        \n",
    "        return s3  \n",
    "    def __gt__(self,other):\n",
    "        r1 = self.m1 + self.m2\n",
    "        r2 = other.m1 + other.m2\n",
    "        if r1 > r2:\n",
    "            return True\n",
    "        else:\n",
    "            return False\n",
    " \n",
    "s1 = student(250,50)\n",
    "s2 = student(80,90)\n",
    "\n",
    "s3 = s1 + s2 \n",
    "\n",
    "if s1>s2:\n",
    "    print('s1 wins')\n",
    "else:\n",
    "    print('s2 wins')\n",
    "    \n",
    "a = 8\n",
    "print(a)\n",
    "print(a.__str__) # here a will print the value of the a \n",
    "print(a.__str__())\n",
    "\n",
    "print(s1.__str__()) # when we print s1 it will print the address of s1 but we dont want the addres why it happend\n",
    "#still we got the addres but dont want the address thats why we need to define the method \n"
   ]
  },
  {
   "cell_type": "code",
   "execution_count": 157,
   "id": "eaa11f88-92ea-40d5-80d1-57eb95567546",
   "metadata": {},
   "outputs": [
    {
     "name": "stdout",
     "output_type": "stream",
     "text": [
      "s1 wins\n",
      "8\n",
      "(250, 50)\n"
     ]
    }
   ],
   "source": [
    "class student:\n",
    "    def __init__(self,m1,m2):\n",
    "        self.m1 = m1\n",
    "        self.m2 = m2\n",
    "    def __add__(self, other): # WE DEFINE THE ADD METHOD . THIS CONCEPT IS CALLED OPERATOR OVERLOADING\n",
    "        m1 = self.m1 + other.m1\n",
    "        m2 = self.m2 + other.m2\n",
    "        s3 = student(m1,m2)\n",
    "        \n",
    "        return s3  \n",
    "    def __gt__(self,other):\n",
    "        r1 = self.m1 + self.m2\n",
    "        r2 = other.m1 + other.m2\n",
    "        if r1 > r2:\n",
    "            return True\n",
    "        else:\n",
    "            return False\n",
    "        \n",
    "    def __str__(self):\n",
    "        return self.m1, self.m2\n",
    " \n",
    "s1 = student(250,50)\n",
    "s2 = student(80,90)\n",
    "\n",
    "s3 = s1 + s2 \n",
    "\n",
    "if s1>s2:\n",
    "    print('s1 wins')\n",
    "else:\n",
    "    print('s2 wins')\n",
    "\n",
    "a = 8\n",
    "print(a)\n",
    "\n",
    "print(s1.__str__()) # now it will wont print adddress it will print the values this is called operator overloading\n"
   ]
  },
  {
   "cell_type": "code",
   "execution_count": 159,
   "id": "40c0a393-725d-453e-86d0-1df4ef5e035a",
   "metadata": {},
   "outputs": [
    {
     "name": "stdout",
     "output_type": "stream",
     "text": [
      "s2 wins\n",
      "8\n",
      "60 70\n",
      "80 90\n"
     ]
    }
   ],
   "source": [
    "class student:\n",
    "    def __init__(self,m1,m2):\n",
    "        self.m1 = m1\n",
    "        self.m2 = m2\n",
    "    def __add__(self, other): # WE DEFINE THE ADD METHOD . THIS CONCEPT IS CALLED OPERATOR OVERLOADING\n",
    "        m1 = self.m1 + other.m1\n",
    "        m2 = self.m2 + other.m2\n",
    "        s3 = student(m1,m2)\n",
    "        \n",
    "        return s3  \n",
    "    def __gt__(self,other):\n",
    "        r1 = self.m1 + self.m2\n",
    "        r2 = other.m1 + other.m2\n",
    "        if r1 > r2:\n",
    "            return True\n",
    "        else:\n",
    "            return False\n",
    "        \n",
    "    def __str__(self):\n",
    "        return \"{} {}\" .format(self.m1, self.m2)\n",
    " \n",
    "s1 = student(60,70)\n",
    "s2 = student(80,90)\n",
    "\n",
    "s3 = s1 + s2 \n",
    "\n",
    "if s1>s2:\n",
    "    print('s1 wins')\n",
    "else:\n",
    "    print('s2 wins')\n",
    "\n",
    "a = 8\n",
    "print(a)\n",
    "\n",
    "print(s1) # now it will wont print adddress it will print the values this is called operator overloading\n",
    "#if i remove __str__ we will get error\n",
    "print(s2) "
   ]
  },
  {
   "cell_type": "markdown",
   "id": "c61cf58e-cc30-4191-9f65-149a12756ab7",
   "metadata": {},
   "source": [
    "- Remember Whenever you Perform any operation like addition, substraction,  behind the seen we are calling method \n",
    "- Operator will remain same but the operands"
   ]
  },
  {
   "cell_type": "code",
   "execution_count": null,
   "id": "f3fcfa8f-2020-45ed-857b-bc89815d8017",
   "metadata": {},
   "outputs": [],
   "source": []
  }
 ],
 "metadata": {
  "kernelspec": {
   "display_name": "Python 3 (ipykernel)",
   "language": "python",
   "name": "python3"
  },
  "language_info": {
   "codemirror_mode": {
    "name": "ipython",
    "version": 3
   },
   "file_extension": ".py",
   "mimetype": "text/x-python",
   "name": "python",
   "nbconvert_exporter": "python",
   "pygments_lexer": "ipython3",
   "version": "3.12.3"
  }
 },
 "nbformat": 4,
 "nbformat_minor": 5
}
