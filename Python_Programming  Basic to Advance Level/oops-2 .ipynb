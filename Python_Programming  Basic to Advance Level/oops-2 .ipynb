{
 "cells": [
  {
   "cell_type": "markdown",
   "id": "51f0f93f-f6ef-4982-8c2c-03eee0ded81f",
   "metadata": {},
   "source": [
    "# ENCAPSULATION (OBJECT) \n",
    "\n",
    "**instance variable**\n",
    "\n",
    "**class variable = static variable** "
   ]
  },
  {
   "cell_type": "code",
   "execution_count": 8,
   "id": "5051fc90-2fb2-4537-8ba2-83535b507ac2",
   "metadata": {},
   "outputs": [
    {
     "name": "stdout",
     "output_type": "stream",
     "text": [
      "AUDI 11\n",
      "AUDI 11\n",
      "1201138335616\n",
      "1200892365760\n"
     ]
    }
   ],
   "source": [
    "class car:\n",
    "    def __init__(self):\n",
    "        self.mil = 11\n",
    "        self.com = 'AUDI'\n",
    "        \n",
    "c1 = car()\n",
    "c2 = car()\n",
    "\n",
    "print(c1.com, c1.mil)\n",
    "print(c2.com, c2.mil)\n",
    "\n",
    "print(id(c1))\n",
    "print(id(c2))"
   ]
  },
  {
   "cell_type": "code",
   "execution_count": 10,
   "id": "88284f28-aad1-4450-ad6a-94d228598f7d",
   "metadata": {},
   "outputs": [
    {
     "name": "stdout",
     "output_type": "stream",
     "text": [
      "AUDI 10\n",
      "AUDI 9\n"
     ]
    }
   ],
   "source": [
    "class car:\n",
    "    def __init__(self):\n",
    "        self.mil = 11\n",
    "        self.com = 'AUDI'\n",
    "        \n",
    "c1 = car()\n",
    "c2 = car()\n",
    "\n",
    "c2.mil = 9\n",
    "c1.mil = 10\n",
    "\n",
    "print(c1.com, c1.mil)\n",
    "print(c2.com, c2.mil)"
   ]
  },
  {
   "cell_type": "code",
   "execution_count": 12,
   "id": "f2d26094-22fe-4877-a8a3-e704638cbede",
   "metadata": {},
   "outputs": [
    {
     "name": "stdout",
     "output_type": "stream",
     "text": [
      "AUDI 10\n",
      "MARUTI 18\n"
     ]
    }
   ],
   "source": [
    "class car:\n",
    "    def __init__(self):\n",
    "        self.mil = 11\n",
    "        self.com = 'AUDI'\n",
    "        \n",
    "c1 = car()\n",
    "c2 = car()\n",
    "\n",
    "c2.mil = 18\n",
    "c1.mil = 10\n",
    "c2.com = 'MARUTI'\n",
    "\n",
    "\n",
    "print(c1.com, c1.mil)\n",
    "print(c2.com, c2.mil)"
   ]
  },
  {
   "cell_type": "code",
   "execution_count": 14,
   "id": "faaa3bb6-f6cb-4e21-83e0-3c3307f2fe1d",
   "metadata": {},
   "outputs": [
    {
     "name": "stdout",
     "output_type": "stream",
     "text": [
      "AUDI 11 5\n",
      "MARUTI 18 5\n"
     ]
    }
   ],
   "source": [
    "class car():\n",
    "    \n",
    "    wheels = 5   \n",
    "    \n",
    "    def __init__(self):\n",
    "        self.mil = 11\n",
    "        self.com = 'AUDI'\n",
    "        \n",
    "c1 = car()\n",
    "c2 = car()\n",
    "\n",
    "c2.mil = 18\n",
    "c2.com = 'MARUTI'\n",
    "\n",
    "print(c1.com, c1.mil, c1.wheels)\n",
    "print(c2.com, c2.mil, c2.wheels)"
   ]
  },
  {
   "cell_type": "code",
   "execution_count": 16,
   "id": "a7d6e9fa-7186-4dd9-9162-45065680cbc2",
   "metadata": {},
   "outputs": [
    {
     "name": "stdout",
     "output_type": "stream",
     "text": [
      "AUDI 11 5\n",
      "MARUTI 18 4\n"
     ]
    }
   ],
   "source": [
    "class car():\n",
    "    \n",
    "    wheels = 5   \n",
    "    \n",
    "    def __init__(self):\n",
    "        self.mil = 11\n",
    "        self.com = 'AUDI'\n",
    "        \n",
    "c1 = car()\n",
    "c2 = car()\n",
    "\n",
    "c2.mil = 18                 #instance variable\n",
    "c2.com = 'MARUTI'           #instance variable\n",
    "\n",
    "c2.wheels = 4               #class variable\n",
    "\n",
    "print(c1.com, c1.mil, c1.wheels)\n",
    "print(c2.com, c2.mil, c2.wheels)\n"
   ]
  },
  {
   "cell_type": "markdown",
   "id": "926dc789-f7ec-4267-ab00-8f689b6f5c4a",
   "metadata": {},
   "source": [
    "# Methods\n",
    "\n",
    "**instance method**\n",
    "\n",
    "**class method**\n",
    "\n",
    "**static method**"
   ]
  },
  {
   "cell_type": "code",
   "execution_count": 21,
   "id": "e42c0727-16f0-4f3f-9d95-72a93b14d751",
   "metadata": {},
   "outputs": [
    {
     "name": "stdout",
     "output_type": "stream",
     "text": [
      "20.0\n",
      "10.0\n"
     ]
    }
   ],
   "source": [
    "class student: \n",
    "        \n",
    "    school = 'AMHS'   #school is class variable\n",
    "    \n",
    "    def __init__(self, m1, m2, m3) : # here i pass 3 variable (m1,m2,m3 are instance variable)\n",
    "        self.m1 = m1\n",
    "        self.m2 = m2\n",
    "        self.m3 = m3\n",
    "#lets create a method to calculate average of the marks \n",
    "    def avg(self):   # ------> here this average is INSTANCE METHOD \n",
    "        return (self.m1+self.m2+self.m3)/3\n",
    "    \n",
    "# lets create  object here as we created s1, s2 we created 2 object & also i want to pass value in this  \n",
    "s1 = student(10, 20, 30)\n",
    "s2 = student(5, 15, 10)\n",
    "\n",
    "print(s1.avg())\n",
    "print(s2.avg())"
   ]
  },
  {
   "cell_type": "code",
   "execution_count": 23,
   "id": "ce1ea787-d410-4216-be78-b36f2a26a69f",
   "metadata": {},
   "outputs": [
    {
     "name": "stdout",
     "output_type": "stream",
     "text": [
      "20.0\n",
      "10.0\n"
     ]
    }
   ],
   "source": [
    "class student: \n",
    "        \n",
    "    school = 'AMHS'\n",
    "    \n",
    "    def __init__(self, m1, m2, m3) : # here i pass 3 variable \n",
    "        self.m1 = m1\n",
    "        self.m2 = m2\n",
    "        self.m3 = m3\n",
    "#lets create a method to calculate average of the marks \n",
    "    def avg(self):   # ------> here this average is INSTANCE METHOD \n",
    "        return (self.m1+self.m2+self.m3)/3\n",
    "    \n",
    "    def get_m1(self):  # getter method (getter - get the value) GETTER only fetch the value -- ACCESOR\n",
    "        return self.m1\n",
    "    def set_m1(self,value): #setter method (setter - set the value) - SETTER only set the value -- MUTATOR\n",
    "        self.m1 = value\n",
    "        \n",
    "# lets create  object here as we created s1, s2 we created 2 object & also i want to pass value in this  \n",
    "s1 = student(10, 20, 30)\n",
    "s2 = student(5, 15, 10)\n",
    "\n",
    "print(s1.avg())\n",
    "print(s2.avg())"
   ]
  },
  {
   "cell_type": "code",
   "execution_count": 25,
   "id": "3f1bb667-8e89-49bd-bbc3-78cf99fde893",
   "metadata": {},
   "outputs": [
    {
     "name": "stdout",
     "output_type": "stream",
     "text": [
      "20.0\n",
      "10.0\n",
      "AMHS\n",
      "AMHS\n"
     ]
    }
   ],
   "source": [
    "class student: \n",
    "        \n",
    "    school = 'AMHS'\n",
    "    \n",
    "    def __init__(self, m1, m2, m3) : # here i pass 3 variable \n",
    "        self.m1 = m1\n",
    "        self.m2 = m2\n",
    "        self.m3 = m3\n",
    "#lets create a method to calculate average of the marks \n",
    "    def avg(self):   # ------> here this average is INSTANCE METHOD \n",
    "        return (self.m1+self.m2+self.m3)/3\n",
    "    \n",
    "    def info(cls): # user need to define cls - for class variable \n",
    "        return cls.school \n",
    "        \n",
    "# lets create  object here as we created s1, s2 we created 2 object & also i want to pass value in this  \n",
    "s1 = student(10, 20, 30)\n",
    "s2 = student(5, 15, 10)\n",
    "\n",
    "print(s1.avg())\n",
    "print(s2.avg())\n",
    "\n",
    "print(s1.info())\n",
    "print(s2.info())"
   ]
  },
  {
   "cell_type": "code",
   "execution_count": 27,
   "id": "99e2d9aa-03d5-4815-bb68-17b484a6c572",
   "metadata": {},
   "outputs": [
    {
     "data": {
      "text/plain": [
       "'AMHS'"
      ]
     },
     "execution_count": 27,
     "metadata": {},
     "output_type": "execute_result"
    }
   ],
   "source": [
    "class student: \n",
    "        \n",
    "    school = 'AMHS'\n",
    "    \n",
    "    def __init__(self, m1, m2, m3) : # here i pass 3 variable \n",
    "        self.m1 = m1\n",
    "        self.m2 = m2\n",
    "        self.m3 = m3\n",
    "#lets create a method to calculate average of the marks \n",
    "    def avg(self):   # ------> here this average is INSTANCE METHOD \n",
    "        return (self.m1+self.m2+self.m3)/3\n",
    "    \n",
    "    @classmethod    #Decorator\n",
    "    def info(cls):  #user need to define cls - for class variable \n",
    "        return cls.school \n",
    "        \n",
    "# lets create  object hear as we created s1, s2 we created 2 object & also i want to pass value in this  \n",
    "s1 = student(10, 20, 30)\n",
    "s2 = student(5, 15, 10)\n",
    "\n",
    "student.info()"
   ]
  },
  {
   "cell_type": "code",
   "execution_count": 29,
   "id": "402489e5-efbb-4854-b484-139bf86ecf54",
   "metadata": {},
   "outputs": [
    {
     "name": "stdout",
     "output_type": "stream",
     "text": [
      "20.0\n",
      "AMHS\n",
      "This is Student Class\n"
     ]
    }
   ],
   "source": [
    "class student: \n",
    "        \n",
    "    school = 'AMHS'\n",
    "    \n",
    "    def __init__(self, m1, m2, m3) : # here i pass 3 variable \n",
    "        self.m1 = m1\n",
    "        self.m2 = m2\n",
    "        self.m3 = m3\n",
    "#lets create a method to calculate average of the marks \n",
    "    def avg(self):   # ------> here this average is INSTANCE METHOD \n",
    "        return (self.m1+self.m2+self.m3)/3\n",
    "    \n",
    "    @classmethod\n",
    "    def getSchool(cls):\n",
    "        return cls.school\n",
    "    \n",
    "    @staticmethod # this student class nothing to do any class & for that also u need to pass special decorator\n",
    "    def info():\n",
    "        print('This is Student Class') \n",
    "        \n",
    "# lets create  object here as we created s1, s2 we created 2 object & also i want to pass value in this  \n",
    "s1 = student(10, 20, 30)\n",
    "s2 = student(5, 15, 10)\n",
    "\n",
    "print(s1.avg())              #object.instancemethod \n",
    "print(s1.getSchool())        #object.classmethod \n",
    "s1.info()                    #object.staticmethod "
   ]
  },
  {
   "cell_type": "code",
   "execution_count": 31,
   "id": "06317865-299a-4698-ade0-fb0c87c737e8",
   "metadata": {},
   "outputs": [
    {
     "name": "stdout",
     "output_type": "stream",
     "text": [
      "This is Student Class\n"
     ]
    }
   ],
   "source": [
    "class student: \n",
    "     \n",
    "    school = 'AMHS'\n",
    "    \n",
    "    def __init__(self, m1, m2, m3,m4) : # here i pass 3 variable \n",
    "        self.m1 = m1\n",
    "        self.m2 = m2\n",
    "        self.m3 = m3\n",
    "        self.m4 = m4\n",
    "#lets create a method to calculate average of the marks \n",
    "    def avg(self):   # ------> here this average is INSTANCE METHOD \n",
    "        return (self.m1+self.m2+self.m3+self.m4)/4\n",
    "    \n",
    "#    @classmethod\n",
    "#    def getSchool(cls):\n",
    "#        return cls.school\n",
    "    \n",
    "    @staticmethod # this student class nothing to do any class & for that also u need to pass speciasl decorator\n",
    "    def info():\n",
    "        print('This is Student Class') \n",
    "        \n",
    "# lets create  object here as we created s1, s2 we created 2 object & also i want to pass value in this  \n",
    "s1 = student(10, 20, 30,40)\n",
    "s2 = student(5, 15, 10,40)\n",
    "\n",
    "#print(s1.avg())\n",
    "#print(s2.avg())\n",
    "\n",
    "#print(student.getSchool())\n",
    "\n",
    "student.info()"
   ]
  },
  {
   "cell_type": "markdown",
   "id": "ddc40b66-51ca-407c-9b9a-9f78d52b1464",
   "metadata": {},
   "source": [
    "# Inner Class"
   ]
  },
  {
   "cell_type": "code",
   "execution_count": 34,
   "id": "837e4086-f9fd-41e1-ad23-129ef9774826",
   "metadata": {},
   "outputs": [
    {
     "name": "stdout",
     "output_type": "stream",
     "text": [
      "A 1 Lenovo i5 8GB\n",
      "B 2 HP i7 16GB\n"
     ]
    }
   ],
   "source": [
    "class student:\n",
    "    def __init__(self, name, rollno, laptop, cpu, ram):\n",
    "        self.name = name\n",
    "        self.rollno = rollno\n",
    "        self.laptop = laptop\n",
    "        self.cpu = cpu\n",
    "        self.ram = ram\n",
    "        \n",
    "    def show(self):\n",
    "        print(s1.name, s1.rollno,s1.laptop, s1.cpu, s1.ram)\n",
    "        print(s2.name, s2.rollno,s2.laptop, s2.cpu, s2.ram)\n",
    "\n",
    "s1 = student('A',1,'Lenovo','i5','8GB') # the moment when we assign the variable we need to assign the class as well \n",
    "s2 = student('B',2,'HP','i7','16GB')\n",
    "\n",
    "s2.show()"
   ]
  },
  {
   "cell_type": "code",
   "execution_count": 36,
   "id": "2f0486b4-552f-4815-a383-0b16c3109744",
   "metadata": {},
   "outputs": [
    {
     "name": "stdout",
     "output_type": "stream",
     "text": [
      "A 1\n",
      "B 2\n"
     ]
    }
   ],
   "source": [
    "class student:\n",
    "    def __init__(self, name, rollno):\n",
    "        self.name = name\n",
    "        self.rollno = rollno\n",
    "        \n",
    "        #self.lap = self.LAPTOP()\n",
    "        \n",
    "    def show(self):\n",
    "        print(self.name, self.rollno)\n",
    "        \n",
    "    class LAPTOP:\n",
    "        def __init__(self):\n",
    "            self.brand = 'HP'\n",
    "            self.cpu = 'i5'\n",
    "            self.ram = '8GB'\n",
    "     \n",
    "s1 = student('A',1) # the moment when we assign the variable we need to assign the class as well \n",
    "s2 = student('B',2)\n",
    "\n",
    "s1.show()\n",
    "s2.show()\n",
    "\n",
    "\n",
    "#lap1 = s1.lap\n",
    "#lap2 = s2.lap\n",
    "\n",
    "#print(id(lap1))\n",
    "#print(id(lap2))"
   ]
  },
  {
   "cell_type": "code",
   "execution_count": 38,
   "id": "78ac9317-f08d-46e1-90ff-fb270e128a32",
   "metadata": {},
   "outputs": [
    {
     "name": "stdout",
     "output_type": "stream",
     "text": [
      "Yash 1\n",
      "Kumar 2\n",
      "1201136766608\n",
      "1201166777232\n"
     ]
    }
   ],
   "source": [
    "class student:\n",
    "    def __init__(self, name, rollno):\n",
    "        self.name = name\n",
    "        self.rollno = rollno\n",
    "        \n",
    "        self.lap = self.LAPTOP() #in outerclass we define the variable\n",
    "        \n",
    "    def show(self):\n",
    "        print(self.name, self.rollno)\n",
    "        \n",
    "    class LAPTOP:\n",
    "        def __init__(self):\n",
    "            self.brand = 'HP'\n",
    "            self.cpu = 'i5'\n",
    "            self.ram = '8GB'\n",
    "     \n",
    "s1 = student('Yash',1) # the moment when we assign the variable we need to assign the class as well \n",
    "s2 = student('Kumar',2)\n",
    "\n",
    "s1.show()\n",
    "s2.show()\n",
    "\n",
    "lap1 = s1.lap\n",
    "lap2 = s2.lap\n",
    "\n",
    "print(id(lap1))\n",
    "print(id(lap2))\n"
   ]
  },
  {
   "cell_type": "code",
   "execution_count": 42,
   "id": "0bb01a12-8dba-43a9-8128-0e1dcc764670",
   "metadata": {},
   "outputs": [
    {
     "name": "stdout",
     "output_type": "stream",
     "text": [
      "Yash 1\n",
      "Kumar 2\n",
      "i5\n",
      "8GB\n",
      "HP\n"
     ]
    }
   ],
   "source": [
    "class student:\n",
    "    def __init__(self, name, rollno):\n",
    "        self.name = name\n",
    "        self.rollno = rollno\n",
    "        \n",
    "        self.lap = self.LAPTOP() #in outerclass we define the variable\n",
    "        \n",
    "    def show(self):\n",
    "        print(self.name, self.rollno)\n",
    "        \n",
    "    class LAPTOP:\n",
    "        def __init__(self):\n",
    "            self.brand = 'HP'\n",
    "            self.cpu = 'i5'\n",
    "            self.ram = '8GB'\n",
    "     \n",
    "s1 = student('Yash',1) # the moment when we assign the variable we need to assign the class as well \n",
    "s2 = student('Kumar',2)\n",
    "\n",
    "s1.show()\n",
    "s2.show()\n",
    "\n",
    "lap1 = s1.lap.cpu\n",
    "lap2 = s2.lap.ram\n",
    "lap3 = s2.lap.brand\n",
    "\n",
    "print(lap1)\n",
    "print(lap2)\n",
    "print(lap3)"
   ]
  },
  {
   "cell_type": "markdown",
   "id": "263ca5b9-ef1e-43ff-a13c-1d348d5aae88",
   "metadata": {},
   "source": [
    "**INHERITENCE**"
   ]
  },
  {
   "cell_type": "code",
   "execution_count": 49,
   "id": "da44b830-896a-4113-9605-4f5c61042ef5",
   "metadata": {},
   "outputs": [
    {
     "name": "stdout",
     "output_type": "stream",
     "text": [
      "Feature1 is Hi\n",
      "Feature2 is Hello\n"
     ]
    }
   ],
   "source": [
    "class A(): \n",
    "    def feature1(self):         # lets take example class A has 2 feature1 & feature 2\n",
    "        print('Feature1 is Hi')\n",
    "    def feature2(self):\n",
    "        print('Feature2 is Hello')\n",
    "\n",
    "     # the way you access the feature is object \n",
    "\n",
    "a1 = A()  #a1 is the object & A is constructor & using a1 we can call the feature1 & feature 2\n",
    "\n",
    "a1.feature1()\n",
    "a1.feature2()"
   ]
  },
  {
   "cell_type": "markdown",
   "id": "0709404a-d131-4083-9f4b-2198de97cf9f",
   "metadata": {},
   "source": [
    "* **Single Level** "
   ]
  },
  {
   "cell_type": "code",
   "execution_count": 51,
   "id": "e9589137-468d-4ab3-ac5c-18aa7f93cd5a",
   "metadata": {},
   "outputs": [
    {
     "name": "stdout",
     "output_type": "stream",
     "text": [
      "Feature1 is Hi\n",
      "Feature2 is Hello\n",
      "Feature3 is Hi Hello\n",
      "Feature4 is Hello Hi\n"
     ]
    }
   ],
   "source": [
    "class A() :  # parent class | super class \n",
    "    def feature1(self):         # lets take example class A has 2 feature1 & feature 2\n",
    "        print('Feature1 is Hi')\n",
    "    def feature2(self):\n",
    "        print('Feature2 is Hello')\n",
    "\n",
    "class B(): # child class | subclass\n",
    "    def feature3(self):         # lets take example class B has 2 feature1 & feature 2\n",
    "        print('Feature3 is Hi Hello')\n",
    "    def feature4(self):\n",
    "        print('Feature4 is Hello Hi')\n",
    "        \n",
    "# the way you access the feature is object \n",
    "\n",
    "a1 = A()  #a1 is the object & A is constructor & using a1 we can call the feature1 & feature2\n",
    "a1.feature1()\n",
    "a1.feature2()\n",
    "\n",
    "b1 = B()  #b1 is the object & B is constructor & using a1 we can call the feature3 & feature4\n",
    "\n",
    "b1.feature3()\n",
    "b1.feature4()"
   ]
  },
  {
   "cell_type": "code",
   "execution_count": 53,
   "id": "0e372196-6864-4d18-a2f5-f253b175f030",
   "metadata": {},
   "outputs": [
    {
     "name": "stdout",
     "output_type": "stream",
     "text": [
      "Feature1 is Hi\n",
      "Feature2 is Hello\n",
      "Feature3 is Hi Hello\n",
      "Feature4 is Hello Hi\n",
      "Feature1 is Hi\n",
      "Feature2 is Hello\n"
     ]
    }
   ],
   "source": [
    "class A() : \n",
    "    def feature1(self):        \n",
    "        print('Feature1 is Hi')\n",
    "    def feature2(self):\n",
    "        print('Feature2 is Hello')\n",
    "        \n",
    "class B(A):\n",
    "    def feature3(self):         # lets take example class A has 2 feature1 & feature 2\n",
    "        print('Feature3 is Hi Hello')\n",
    "    def feature4(self):\n",
    "        print('Feature4 is Hello Hi')\n",
    "        \n",
    "# the way you access the feature is object \n",
    "\n",
    "a1 = A()  #a1 is the object & A is constructor & using a1 we can call the feature1 & feature 2\n",
    "\n",
    "a1.feature1()\n",
    "a1.feature2()\n",
    "\n",
    "b1 = B()  #class B is inherit the class A\n",
    "  \n",
    "b1.feature3()\n",
    "b1.feature4()\n",
    "b1.feature1()\n",
    "b1.feature2()"
   ]
  },
  {
   "cell_type": "markdown",
   "id": "e2d42a08-6e4a-4d8b-a581-46f151ea44ec",
   "metadata": {},
   "source": [
    "* **Multi Level** "
   ]
  },
  {
   "cell_type": "code",
   "execution_count": 57,
   "id": "e307789a-3873-4f1e-8423-bd69dd22ad2e",
   "metadata": {},
   "outputs": [
    {
     "name": "stdout",
     "output_type": "stream",
     "text": [
      "Feature1 is Hi\n",
      "Feature2 is Hello\n",
      "Feature3 is Hi Hello\n",
      "Feature4 is Hello Hi\n",
      "Feature5 is Bye\n",
      "Feature1 is Hi\n",
      "Feature2 is Hello\n"
     ]
    }
   ],
   "source": [
    "class A() : #lets create a class here it should be employee class or student class & lets create 2 methods\n",
    "    def feature1(self):         # lets take example class A has 2 feature1 & feature 2\n",
    "        print('Feature1 is Hi')\n",
    "    def feature2(self):\n",
    "        print('Feature2 is Hello')\n",
    "\n",
    "class B():\n",
    "    def feature3(self):         # lets take example class B has 2 feature3 & feature 4\n",
    "        print('Feature3 is Hi Hello')\n",
    "    def feature4(self):\n",
    "        print('Feature4 is Hello Hi')\n",
    "\n",
    "class C(A):\n",
    "    def feature5(self):\n",
    "        print('Feature5 is Bye')\n",
    "        \n",
    "# the way you access the feature is object \n",
    "\n",
    "a1 = A()  #a1 is the object & A is constructor & using a1 we can call the feature1 & feature 2\n",
    "b1 = B()  # INHERITENCE CUZ THE CLASS B IS INHERIT THE CLASS \n",
    "c1 = C()  # class C is inherit the class A\n",
    "\n",
    "a1.feature1()\n",
    "a1.feature2()\n",
    "\n",
    "b1.feature3()\n",
    "b1.feature4()\n",
    "\n",
    "c1.feature5()\n",
    "c1.feature1()\n",
    "c1.feature2()"
   ]
  },
  {
   "cell_type": "markdown",
   "id": "eadc8c0f-92ab-41e7-9729-d3881a5aa9f8",
   "metadata": {},
   "source": [
    "* **Multiple Level**"
   ]
  },
  {
   "cell_type": "code",
   "execution_count": 73,
   "id": "695d757c-2f25-43e7-a1d8-5f74f10ca709",
   "metadata": {},
   "outputs": [
    {
     "name": "stdout",
     "output_type": "stream",
     "text": [
      "Feature1 is Hi\n",
      "Feature2 is Hello\n",
      "Feature1 is Hi\n",
      "Feature2 is Hello\n",
      "Feature3 is Hi Hello\n",
      "Feature4 is Hello Hi\n",
      "Feature1 is Hi\n",
      "Feature2 is Hello\n",
      "Feature3 is Hi Hello\n",
      "Feature4 is Hello Hi\n",
      "Feature5 is Bye\n"
     ]
    }
   ],
   "source": [
    "class A() : #lets create a class here it should be employee class or student class & lets create 2 methods\n",
    "    def feature1(self):         # lets take example class A has 2 feature1 & feature 2\n",
    "        print('Feature1 is Hi')\n",
    "    def feature2(self):\n",
    "        print('Feature2 is Hello')\n",
    "\n",
    "class B(A):\n",
    "    def feature3(self):         # lets take example class B has 2 feature3 & feature 4\n",
    "        print('Feature3 is Hi Hello')\n",
    "    def feature4(self):\n",
    "        print('Feature4 is Hello Hi')\n",
    "\n",
    "class C(B, A):\n",
    "    def feature5(self):\n",
    "        print('Feature5 is Bye')\n",
    "        \n",
    "# the way you access the feature is object \n",
    "\n",
    "a1 = A()  #a1 is the object & A is constructor & using a1 we can call the feature1 & feature 2\n",
    "b1 = B()  # class B is inherit the class A\n",
    "c1 = C()  # class C is inherit the class A , class B\n",
    "\n",
    "a1.feature1()\n",
    "a1.feature2()\n",
    "\n",
    "b1.feature1()\n",
    "b1.feature2()\n",
    "b1.feature3()\n",
    "b1.feature4()\n",
    "\n",
    "c1.feature1()\n",
    "c1.feature2()\n",
    "c1.feature3()\n",
    "c1.feature4()\n",
    "c1.feature5()\n"
   ]
  },
  {
   "cell_type": "code",
   "execution_count": null,
   "id": "5250a6c7-b7ef-4d3e-8c5f-60ee4e14cf37",
   "metadata": {},
   "outputs": [],
   "source": []
  }
 ],
 "metadata": {
  "kernelspec": {
   "display_name": "Python 3 (ipykernel)",
   "language": "python",
   "name": "python3"
  },
  "language_info": {
   "codemirror_mode": {
    "name": "ipython",
    "version": 3
   },
   "file_extension": ".py",
   "mimetype": "text/x-python",
   "name": "python",
   "nbconvert_exporter": "python",
   "pygments_lexer": "ipython3",
   "version": "3.12.3"
  }
 },
 "nbformat": 4,
 "nbformat_minor": 5
}
