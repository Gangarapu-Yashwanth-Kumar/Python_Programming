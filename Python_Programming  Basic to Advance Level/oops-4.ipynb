{
 "cells": [
  {
   "cell_type": "markdown",
   "id": "e6b2a0ab-8aaf-4f81-b713-08caf2a2b7c0",
   "metadata": {},
   "source": [
    "# **3.Method OverLoading**"
   ]
  },
  {
   "cell_type": "markdown",
   "id": "dc15e8a1-9129-4fc2-9929-2a2364f4ba15",
   "metadata": {},
   "source": [
    "- Other programing language like java, c, c++ we can create same class with 2 method names but in pyton we can't\n",
    "- In class if we have method in same name different parameters or different argument it is called as **method overloading**. "
   ]
  },
  {
   "cell_type": "code",
   "execution_count": 4,
   "id": "96d86de2-8957-4db0-9f5d-d59302d3c763",
   "metadata": {},
   "outputs": [
    {
     "name": "stdout",
     "output_type": "stream",
     "text": [
      "5\n"
     ]
    }
   ],
   "source": [
    "class demo:\n",
    "    def add(self,a,b):\n",
    "        return a+b\n",
    "\n",
    "d = demo()\n",
    "print(d.add(2,3))"
   ]
  },
  {
   "cell_type": "code",
   "execution_count": 6,
   "id": "5f9f4742-17bb-4c4f-b182-442f84ff1f2a",
   "metadata": {},
   "outputs": [
    {
     "name": "stdout",
     "output_type": "stream",
     "text": [
      "5\n",
      "15\n"
     ]
    }
   ],
   "source": [
    "# This concept called as method overloading (same method different argument)\n",
    "# Python does not support python overloading you can define same but it will take latest method\n",
    "# Discard the first method which contain 2 argument\n",
    "class demo:\n",
    "    def add(self,a,b):\n",
    "        return a+b\n",
    "\n",
    "    def add(self,a,b,c=0):\n",
    "        return a+b+c\n",
    "\n",
    "d = demo()\n",
    "\n",
    "print(d.add(2,3))\n",
    "print(d.add(4,5,6))\n",
    "\n",
    "#it always consider latest one"
   ]
  },
  {
   "cell_type": "code",
   "execution_count": 8,
   "id": "9ce091f5-32f4-45b4-84e5-76e4800d02b3",
   "metadata": {},
   "outputs": [
    {
     "name": "stdout",
     "output_type": "stream",
     "text": [
      "5\n",
      "15\n"
     ]
    }
   ],
   "source": [
    "# This method overloading we can acheive with different concept using default argument\n",
    "\n",
    "class demo:\n",
    "    def add(self,a,b,c=0):\n",
    "        return a+b+c\n",
    "\n",
    "d = demo()\n",
    "\n",
    "print(d.add(2,3))\n",
    "print(d.add(4,5,6))"
   ]
  },
  {
   "cell_type": "code",
   "execution_count": 12,
   "id": "28c41d1e-341c-4cd4-ad1a-a7016315a68b",
   "metadata": {},
   "outputs": [
    {
     "name": "stdout",
     "output_type": "stream",
     "text": [
      "5\n",
      "15\n",
      "21\n",
      "28\n"
     ]
    }
   ],
   "source": [
    "class demo:\n",
    "    \n",
    "    def add(self,*arg):\n",
    "        total = 0\n",
    "        for i in arg:\n",
    "            total = total + i\n",
    "        return total\n",
    "\n",
    "d = demo()\n",
    "\n",
    "print(d.add(2,3))\n",
    "print(d.add(4,5,6))\n",
    "print(d.add(1,2,3,4,5,6,))\n",
    "print(d.add(1,2,3,4,5,6,7))"
   ]
  },
  {
   "cell_type": "code",
   "execution_count": 14,
   "id": "289e8f27-397a-40f2-8c87-97925a0f4bdc",
   "metadata": {},
   "outputs": [
    {
     "name": "stdout",
     "output_type": "stream",
     "text": [
      "30\n"
     ]
    }
   ],
   "source": [
    "class student:\n",
    "    def __init__(self,m1,m2):\n",
    "        self.m1 = m1\n",
    "        self.m2 = m2\n",
    "        \n",
    "    def sum(self, a, b):\n",
    "        s = a + b\n",
    "        return s\n",
    "    \n",
    "s1 = student(50, 60)\n",
    "\n",
    "print(s1.sum(10,20))"
   ]
  },
  {
   "cell_type": "code",
   "execution_count": 16,
   "id": "9e530747-d51c-4db4-ac73-e94f80111fb5",
   "metadata": {},
   "outputs": [
    {
     "ename": "TypeError",
     "evalue": "student.sum() takes 3 positional arguments but 4 were given",
     "output_type": "error",
     "traceback": [
      "\u001b[31m---------------------------------------------------------------------------\u001b[39m",
      "\u001b[31mTypeError\u001b[39m                                 Traceback (most recent call last)",
      "\u001b[36mCell\u001b[39m\u001b[36m \u001b[39m\u001b[32mIn[16]\u001b[39m\u001b[32m, line 12\u001b[39m\n\u001b[32m      8\u001b[39m         \u001b[38;5;28;01mreturn\u001b[39;00m s\n\u001b[32m     10\u001b[39m s1 = student(\u001b[32m50\u001b[39m, \u001b[32m60\u001b[39m)\n\u001b[32m---> \u001b[39m\u001b[32m12\u001b[39m \u001b[38;5;28mprint\u001b[39m(\u001b[43ms1\u001b[49m\u001b[43m.\u001b[49m\u001b[43msum\u001b[49m\u001b[43m(\u001b[49m\u001b[32;43m10\u001b[39;49m\u001b[43m,\u001b[49m\u001b[32;43m20\u001b[39;49m\u001b[43m,\u001b[49m\u001b[32;43m3\u001b[39;49m\u001b[43m)\u001b[49m) \n\u001b[32m     13\u001b[39m \u001b[38;5;66;03m# If you pass 3 argument defind for 2 it get error that why we need to create another method that's what we do in other programming language \u001b[39;00m\n",
      "\u001b[31mTypeError\u001b[39m: student.sum() takes 3 positional arguments but 4 were given"
     ]
    }
   ],
   "source": [
    "class student:\n",
    "    def __init__(self,m1,m2):\n",
    "        self.m1 = m1\n",
    "        self.m2 = m2\n",
    "        \n",
    "    def sum(self, a, b):\n",
    "        s = a + b\n",
    "        return s\n",
    "    \n",
    "s1 = student(50, 60)\n",
    "\n",
    "print(s1.sum(10,20,3)) \n",
    "# If you pass 3 argument defind for 2 it get error that why we need to create another method that's what we do in other programming language "
   ]
  },
  {
   "cell_type": "markdown",
   "id": "23740317-b136-4cfe-9f32-bdacd46e7a51",
   "metadata": {},
   "source": [
    "- Above code we pass 3 value this is not possible & we got error because \n",
    "user pass 3 parameter but it will accept only 2 parameter"
   ]
  },
  {
   "cell_type": "code",
   "execution_count": 19,
   "id": "66b869b2-597f-43ec-b4ae-350927b1e90f",
   "metadata": {},
   "outputs": [
    {
     "name": "stdout",
     "output_type": "stream",
     "text": [
      "60\n"
     ]
    }
   ],
   "source": [
    "class student:\n",
    "    def __init__(self,m1,m2):\n",
    "        self.m1 = m1\n",
    "        self.m2 = m2\n",
    "        \n",
    "    def sum(self, a, b,c):\n",
    "        s = a + b + c\n",
    "        return s\n",
    "    \n",
    "s1 = student(50, 60)\n",
    "\n",
    "print(s1.sum(10,20,30))"
   ]
  },
  {
   "cell_type": "code",
   "execution_count": 21,
   "id": "7c6c6809-e9b8-41c2-81f6-16059ca9f574",
   "metadata": {},
   "outputs": [
    {
     "name": "stdout",
     "output_type": "stream",
     "text": [
      "10\n",
      "30\n",
      "60\n",
      "40\n"
     ]
    }
   ],
   "source": [
    "class student:\n",
    "    def __init__(self,m1,m2):\n",
    "        self.m1 = m1\n",
    "        self.m2 = m2\n",
    "        \n",
    "    def sum(self, a=None, b=None,c=None):\n",
    "        if a!=None and b!=None and c!=None:\n",
    "            s = a +b +c\n",
    "        elif a!=None and b!=None:\n",
    "            s = a+b\n",
    "        elif a!= None and c!= None:\n",
    "            s = a + c\n",
    "        else:\n",
    "            s = a\n",
    "            \n",
    "        return s\n",
    "    \n",
    "s1 = student(50, 60)\n",
    "\n",
    "print(s1.sum(10)) # here we can pass 1 parameter\n",
    "print(s1.sum(10,20)) # here we can pass 2 parameter\n",
    "print(s1.sum(10,20,30)) # here we can pass 3 parameter\n",
    "print(s1.sum(10,30))\n",
    "\n",
    "\n",
    "#print(s1.sum(10,20,30,40))\n",
    "\n",
    "# THIS CONCEPT CALLED AS METHOD OVERLOADING"
   ]
  },
  {
   "cell_type": "markdown",
   "id": "3368e57b-0e38-4cae-a1a1-32ea95e31364",
   "metadata": {},
   "source": [
    "# **4.Method OverRiding**"
   ]
  },
  {
   "cell_type": "markdown",
   "id": "80ac66dc-d0b8-4bc2-a231-3eb2965dc849",
   "metadata": {},
   "source": [
    "- **method overriding** which simple means we have 2 methods with same name with same parameter we can't create in same class\n",
    "- We can't but we can create same name with same parameter we can create using **inheritence** this is called as **method overriding**.\n",
    "- In many software project method overriding use heavily\n",
    "- method overriding always implements in inheritence & it always work with 2 class\n"
   ]
  },
  {
   "cell_type": "code",
   "execution_count": 26,
   "id": "e6b5eed8-50ae-4473-b4e6-5c68bdb021e8",
   "metadata": {},
   "outputs": [
    {
     "name": "stdout",
     "output_type": "stream",
     "text": [
      "in A show\n"
     ]
    }
   ],
   "source": [
    "class A:\n",
    "    def show(self):\n",
    "        print('in A show')\n",
    "        \n",
    "s1 = A()\n",
    "s1.show()"
   ]
  },
  {
   "cell_type": "code",
   "execution_count": 28,
   "id": "00729555-a55d-4708-a560-f8790ac08eef",
   "metadata": {},
   "outputs": [
    {
     "name": "stdout",
     "output_type": "stream",
     "text": [
      "in A show\n"
     ]
    }
   ],
   "source": [
    "class A():  # --------------- parent class \n",
    "    def show(self):\n",
    "        print('in A show')\n",
    "        \n",
    "class B(): #-------------------child class \n",
    "    pass\n",
    "        \n",
    "s1 = A()\n",
    "s1.show()"
   ]
  },
  {
   "cell_type": "code",
   "execution_count": 30,
   "id": "919fd7cf-50e5-493c-b124-d58f1f6534ba",
   "metadata": {},
   "outputs": [
    {
     "ename": "AttributeError",
     "evalue": "'B' object has no attribute 'show'",
     "output_type": "error",
     "traceback": [
      "\u001b[31m---------------------------------------------------------------------------\u001b[39m",
      "\u001b[31mAttributeError\u001b[39m                            Traceback (most recent call last)",
      "\u001b[36mCell\u001b[39m\u001b[36m \u001b[39m\u001b[32mIn[30]\u001b[39m\u001b[32m, line 9\u001b[39m\n\u001b[32m      6\u001b[39m     \u001b[38;5;28;01mpass\u001b[39;00m\n\u001b[32m      8\u001b[39m s2 = B()\n\u001b[32m----> \u001b[39m\u001b[32m9\u001b[39m \u001b[43ms2\u001b[49m\u001b[43m.\u001b[49m\u001b[43mshow\u001b[49m()\n",
      "\u001b[31mAttributeError\u001b[39m: 'B' object has no attribute 'show'"
     ]
    }
   ],
   "source": [
    "class A():  # --------------- parent class \n",
    "    def show(self):\n",
    "        print('in A show')\n",
    "        \n",
    "class B(): #-------------------child class \n",
    "    pass\n",
    "        \n",
    "s2 = B()\n",
    "s2.show()"
   ]
  },
  {
   "cell_type": "code",
   "execution_count": 32,
   "id": "a0d7f5d8-bdac-46c5-be51-ce4c01bc902d",
   "metadata": {},
   "outputs": [
    {
     "name": "stdout",
     "output_type": "stream",
     "text": [
      "in A show\n"
     ]
    }
   ],
   "source": [
    "class A:  # --------------- parent class \n",
    "    def show(self):\n",
    "        print('in A show')\n",
    "        \n",
    "class B(A): #-------------------child class & lets use inheritence concept\n",
    "    pass\n",
    "        \n",
    "s2 = B()\n",
    "s2.show()"
   ]
  },
  {
   "cell_type": "markdown",
   "id": "f566468c-44d5-4ba5-bcb6-afc87ef4d1d2",
   "metadata": {},
   "source": [
    "# **Abstract Class and Abstract Method**"
   ]
  },
  {
   "cell_type": "markdown",
   "id": "156f9383-7f0e-4c29-8781-e8408978e7fa",
   "metadata": {},
   "source": [
    "- Lets understand **abstract class** and **abstract method** \n",
    "- By default python don't support abstract class directly\n",
    "- Indirectly it support using module ABC to acheive abstract classes"
   ]
  },
  {
   "cell_type": "code",
   "execution_count": 38,
   "id": "6b356f50-053a-49d3-987e-3e0f42e88b9c",
   "metadata": {},
   "outputs": [],
   "source": [
    "class computer:\n",
    "    def process(self): # declaration \n",
    "        print('running')   # defination \n"
   ]
  },
  {
   "cell_type": "markdown",
   "id": "fdb154f4-1b2a-4539-89ff-1d05668746cd",
   "metadata": {},
   "source": [
    "- In the above code we create a computer class, process method and print statement \n",
    "- Method is name which accepts argument & that method has also a body \n",
    "- print statement is a body & This body has multiple statement\n",
    "- As per the above code this method has only one statement"
   ]
  },
  {
   "cell_type": "code",
   "execution_count": 41,
   "id": "39ebbc3a-f31a-408b-8c18-c8694cf3d8dd",
   "metadata": {},
   "outputs": [],
   "source": [
    "class computer:\n",
    "    def process(self):\n",
    "        pass   "
   ]
  },
  {
   "cell_type": "markdown",
   "id": "b732bc02-d55b-4c61-94ed-7c192cc8bbe8",
   "metadata": {},
   "source": [
    "- In the above code we have only method & we don't have body inside the method\n",
    "- This method only has declaration but not defination we calld them as **ABSTRACT METHOD**\n",
    "- The class which has **ABSTRACT METHOD** is called as **ABSTRACT CLASS**\n",
    "- In other programing langauae we have abstract class and abstract method\n",
    "- But in python we don't have by default abstract class so we need to define that FROM abc \n",
    "- In Abstract Class user can't create object for it"
   ]
  },
  {
   "cell_type": "code",
   "execution_count": 46,
   "id": "62a694b0-8597-4cfa-ac5f-dcc5c0f2d814",
   "metadata": {},
   "outputs": [],
   "source": [
    "class bike:\n",
    "    def __init__(self):\n",
    "        self.no_of_tyres = 2\n",
    "    def start(self):\n",
    "        print('start with kick')\n",
    "        \n",
    "class activa:\n",
    "    def __init__(self):\n",
    "        self.no_of_tyres = 2\n",
    "    def start(self):\n",
    "        print('self start')\n",
    "        \n",
    "class car:\n",
    "    def __init__(self):\n",
    "        self.no_of_tyres = 4\n",
    "    def start(self):\n",
    "        print('start with key')"
   ]
  },
  {
   "cell_type": "code",
   "execution_count": 48,
   "id": "4912dce4-847f-4bd8-9348-40f61ce05f7b",
   "metadata": {},
   "outputs": [],
   "source": [
    "class vehicle:\n",
    "    def __init__(self):\n",
    "        self.no_of_types_vehicle = n \n",
    "    def start(self): # we just declare but not define that means nothing to do with start method here\n",
    "        pass\n",
    "\n",
    "class bike:\n",
    "    def __init__(self):\n",
    "        self.no_of_tyres = 2\n",
    "    def start(self):\n",
    "        print('start with kick')\n",
    "        \n",
    "class activa:\n",
    "    def __init__(self):\n",
    "        self.no_of_tyres = 2\n",
    "    def start(self):\n",
    "        print('self start')\n",
    "        \n",
    "class car:\n",
    "    def __init__(self):\n",
    "        self.no_of_tyres = 4\n",
    "    def start(self):\n",
    "        print('start with key')"
   ]
  },
  {
   "cell_type": "code",
   "execution_count": 50,
   "id": "32f43b83-8e10-4903-9425-939c12f4f1fe",
   "metadata": {},
   "outputs": [],
   "source": [
    "\n",
    "from abc import ABC, abstractmethod\n",
    "\n",
    "class vehicle(ABC):\n",
    "    def __init__(self,n):\n",
    "        self.no_of_types_vehicle = n \n",
    "    @abstractmethod\n",
    "    def start(self): # we just declare but not define that means nothing to do with start method here\n",
    "        pass\n",
    "\n",
    "class bike:\n",
    "    def __init__(self):\n",
    "        self.no_of_tyres = 2\n",
    "    def start(self):\n",
    "        print('start with kick')\n",
    "        \n",
    "class activa:\n",
    "    def __init__(self):\n",
    "        self.no_of_tyres = 2\n",
    "    def start(self):\n",
    "        print('self start')\n",
    "        \n",
    "class car:\n",
    "    def __init__(self):\n",
    "        self.no_of_tyres = 4\n",
    "    def start(self):\n",
    "        print('start with key')\n"
   ]
  },
  {
   "cell_type": "code",
   "execution_count": 52,
   "id": "d626f51a-4ba6-4f48-9221-c19de44cd744",
   "metadata": {},
   "outputs": [],
   "source": [
    "from abc import ABC, abstractmethod\n",
    "\n",
    "class vehicle(ABC):\n",
    "    def __init__(self,n):\n",
    "        self.no_of_types_vehicle = n \n",
    "        \n",
    "    @abstractmethod\n",
    "    def start(self): # we just declare but not define that means nothing to do with start method here\n",
    "        pass\n",
    "\n",
    "#v= vehicle() # can't create object for the abstract class"
   ]
  },
  {
   "cell_type": "code",
   "execution_count": 54,
   "id": "64e0a66c-6bfb-4288-9442-729d6b99e4d7",
   "metadata": {},
   "outputs": [],
   "source": [
    "class computer:\n",
    "    def process(self):\n",
    "        pass\n",
    "    \n",
    "com = computer()\n",
    "com.process()\n",
    "# this is not an abstract class for that we need to import it"
   ]
  },
  {
   "cell_type": "code",
   "execution_count": 56,
   "id": "46b927fc-b0cb-4ec9-8470-c8c1a65ccf1d",
   "metadata": {},
   "outputs": [
    {
     "ename": "TypeError",
     "evalue": "Can't instantiate abstract class computer without an implementation for abstract method 'process'",
     "output_type": "error",
     "traceback": [
      "\u001b[31m---------------------------------------------------------------------------\u001b[39m",
      "\u001b[31mTypeError\u001b[39m                                 Traceback (most recent call last)",
      "\u001b[36mCell\u001b[39m\u001b[36m \u001b[39m\u001b[32mIn[56]\u001b[39m\u001b[32m, line 8\u001b[39m\n\u001b[32m      4\u001b[39m     \u001b[38;5;129m@abstractmethod\u001b[39m  \u001b[38;5;66;03m# AS DECORATOR \u001b[39;00m\n\u001b[32m      5\u001b[39m     \u001b[38;5;28;01mdef\u001b[39;00m\u001b[38;5;250m \u001b[39m\u001b[34mprocess\u001b[39m(\u001b[38;5;28mself\u001b[39m):\n\u001b[32m      6\u001b[39m         \u001b[38;5;28;01mpass\u001b[39;00m\n\u001b[32m----> \u001b[39m\u001b[32m8\u001b[39m com = \u001b[43mcomputer\u001b[49m\u001b[43m(\u001b[49m\u001b[43m)\u001b[49m\n\u001b[32m      9\u001b[39m com.process()\n",
      "\u001b[31mTypeError\u001b[39m: Can't instantiate abstract class computer without an implementation for abstract method 'process'"
     ]
    }
   ],
   "source": [
    "from abc import ABC, abstractmethod\n",
    "\n",
    "class computer(ABC):\n",
    "    @abstractmethod  # AS DECORATOR \n",
    "    def process(self):\n",
    "        pass\n",
    "    \n",
    "com = computer()\n",
    "com.process()"
   ]
  },
  {
   "cell_type": "code",
   "execution_count": 58,
   "id": "94baa1b4-5c86-4ce0-abd9-ac8db920d411",
   "metadata": {},
   "outputs": [
    {
     "ename": "TypeError",
     "evalue": "Can't instantiate abstract class Laptop without an implementation for abstract method 'process'",
     "output_type": "error",
     "traceback": [
      "\u001b[31m---------------------------------------------------------------------------\u001b[39m",
      "\u001b[31mTypeError\u001b[39m                                 Traceback (most recent call last)",
      "\u001b[36mCell\u001b[39m\u001b[36m \u001b[39m\u001b[32mIn[58]\u001b[39m\u001b[32m, line 11\u001b[39m\n\u001b[32m      8\u001b[39m \u001b[38;5;28;01mclass\u001b[39;00m\u001b[38;5;250m \u001b[39m\u001b[34;01mLaptop\u001b[39;00m(computer):    \u001b[38;5;66;03m#------ Laptop is subclass of computer \u001b[39;00m\n\u001b[32m      9\u001b[39m     \u001b[38;5;28;01mpass\u001b[39;00m\n\u001b[32m---> \u001b[39m\u001b[32m11\u001b[39m com1 = \u001b[43mLaptop\u001b[49m\u001b[43m(\u001b[49m\u001b[43m)\u001b[49m\n\u001b[32m     12\u001b[39m com = computer()\n\u001b[32m     13\u001b[39m \u001b[38;5;66;03m#com.process()\u001b[39;00m\n",
      "\u001b[31mTypeError\u001b[39m: Can't instantiate abstract class Laptop without an implementation for abstract method 'process'"
     ]
    }
   ],
   "source": [
    "from abc import ABC, abstractmethod # NEED TO IMPORT ABSTRACT CLASS & ABSTRACT METHOD\n",
    "\n",
    "class computer(ABC): # --> ABSTRACT CLASS\n",
    "    @abstractmethod # --> ABSTRACT METHOD USING DECORATOR\n",
    "    def process(self):\n",
    "        pass\n",
    "\n",
    "class Laptop(computer):    #------ Laptop is subclass of computer \n",
    "    pass\n",
    "    \n",
    "com1 = Laptop()\n",
    "com = computer()\n",
    "#com.process()"
   ]
  },
  {
   "cell_type": "code",
   "execution_count": 62,
   "id": "c75ca679-1147-4303-94c1-4d9450ff2370",
   "metadata": {},
   "outputs": [],
   "source": [
    "from abc import ABC, abstractmethod\n",
    "\n",
    "class computer(ABC):\n",
    "    @abstractmethod\n",
    "    def process(self):\n",
    "        pass\n",
    "\n",
    "class Laptop(computer):    #------ Laptop is subclass of computer \n",
    "    def process(self):\n",
    "        print('It is Working')\n",
    "        \n",
    "com1 = Laptop()\n",
    "#com = computer()\n",
    "#com.process()"
   ]
  },
  {
   "cell_type": "code",
   "execution_count": 66,
   "id": "d7923a1b-92cd-4d82-8e0e-6ed27c6e8d93",
   "metadata": {},
   "outputs": [
    {
     "name": "stdout",
     "output_type": "stream",
     "text": [
      "It is Working\n"
     ]
    }
   ],
   "source": [
    "from abc import ABC, abstractmethod\n",
    "\n",
    "class computer(ABC): #---computer is abstract class which inherits from ABC()\n",
    "    @abstractmethod\n",
    "    def process(self): # --- abstract method \n",
    "        pass\n",
    "\n",
    "class Laptop(computer):    #------ laptop  is subclass of computer \n",
    "    def process(self):\n",
    "        print('It is Working')\n",
    "\n",
    "com1 = Laptop()\n",
    "#com = computer()\n",
    "#com.process()\n",
    "\n",
    "com1.process()\n",
    "\n",
    "# this is how we create abstract class & we create abstract method"
   ]
  },
  {
   "cell_type": "code",
   "execution_count": 70,
   "id": "ac9aef30-d6f8-4e3c-9a9f-93ed86d803f2",
   "metadata": {},
   "outputs": [
    {
     "name": "stdout",
     "output_type": "stream",
     "text": [
      "It is Working\n",
      "It is Not Working\n"
     ]
    }
   ],
   "source": [
    "from abc import ABC, abstractmethod\n",
    "\n",
    "class computer(ABC): #---computer is abstract class which inherits from ABC()\n",
    "    @abstractmethod\n",
    "    def process(self): # --- abstract method \n",
    "        pass\n",
    "\n",
    "class Laptop():    #------ laptop  is subclass of computer \n",
    "    def process(self):\n",
    "        print('It is Working')\n",
    "        print('It is Not Working')\n",
    "com1 = Laptop()\n",
    "#com = computer()\n",
    "#com.process()\n",
    "\n",
    "com1.process()\n",
    "\n",
    "# this is how we create abstract class & we create abstract method"
   ]
  },
  {
   "cell_type": "markdown",
   "id": "9692abf5-f11b-4c94-b894-885abc89343f",
   "metadata": {},
   "source": [
    "In the example above:\n",
    "\n",
    "- We define an abstract class COMPUTER that inherits from ABC (Abstract Base Class).\n",
    "- We declare an abstract method PROCESS within the COMPUTER class using the @abstractmethod decorator.\n",
    "- We create subclasses LAPTOP that inherit from the COMPUTER abstract class and provide implementations for the abstract method PROCESS."
   ]
  },
  {
   "cell_type": "code",
   "execution_count": 73,
   "id": "4af90d5f-1343-4feb-9c61-8880fceb62af",
   "metadata": {},
   "outputs": [
    {
     "name": "stdout",
     "output_type": "stream",
     "text": [
      "We are Solving Bugs\n",
      "It is Working\n"
     ]
    }
   ],
   "source": [
    "from abc import ABC, abstractmethod\n",
    "\n",
    "class computer(ABC): #---computer is abstract class which inherits from ABC()\n",
    "    @abstractmethod\n",
    "    def process(self): # --- abstract method \n",
    "        pass\n",
    "\n",
    "class Laptop(computer):    #------ laptop  is subclass of computer \n",
    "    def process(self):\n",
    "        print('It is Working')\n",
    "        \n",
    "class programmer():\n",
    "    def work(self):\n",
    "        print('We are Solving Bugs')\n",
    "        \n",
    "com1 = Laptop()\n",
    "#com = computer()\n",
    "#com.process()\n",
    "prog1 = programmer()\n",
    "\n",
    "prog1.work()\n",
    "com1.process()\n",
    "\n",
    "# this is how we create abstract class & we create abstract method"
   ]
  },
  {
   "cell_type": "code",
   "execution_count": 75,
   "id": "dd4f235e-c6de-46e1-a9cf-f29123f544e4",
   "metadata": {},
   "outputs": [
    {
     "name": "stdout",
     "output_type": "stream",
     "text": [
      "Circle Area: 78.5\n",
      "Square Area: 16\n"
     ]
    }
   ],
   "source": [
    "from abc import ABC, abstractmethod\n",
    "\n",
    "class Shape(ABC):\n",
    "    @abstractmethod\n",
    "    def area(self):\n",
    "        pass\n",
    "\n",
    "class Circle(Shape):\n",
    "    def __init__(self, radius):\n",
    "        self.radius = radius\n",
    "\n",
    "    def area(self):\n",
    "        return 3.14 * self.radius * self.radius\n",
    "\n",
    "class Square(Shape):\n",
    "    def __init__(self, side_length):\n",
    "        self.side_length = side_length\n",
    "\n",
    "    def area(self):\n",
    "        return self.side_length * self.side_length\n",
    "\n",
    "# You cannot create an instance of the abstract class Shape\n",
    "# shape = Shape()  # This will raise a TypeError\n",
    "\n",
    "circle = Circle(5)\n",
    "print(\"Circle Area:\", circle.area())\n",
    "\n",
    "square = Square(4)\n",
    "print(\"Square Area:\", square.area())\n"
   ]
  },
  {
   "cell_type": "markdown",
   "id": "9326e64d-ff01-4528-92a8-040eb88ba748",
   "metadata": {},
   "source": [
    "In the example above:\n",
    "\n",
    "- We define an abstract class Shape that inherits from ABC (Abstract Base Class).\n",
    "- We declare an abstract method area within the Shape class using the @abstractmethod decorator.\n",
    "- We create concrete subclasses Circle and Square that inherit from the Shape abstract class and provide implementations for the abstract method area.\n",
    "\n",
    "- By using abstract classes and abstract methods, you enforce a contract that any class derived from the abstract class must provide implementations for the specified methods. If a subclass does not implement an abstract method, it will raise a TypeError when you try to instantiate the subclass. This helps in ensuring that the expected behavior is defined for all derived classes."
   ]
  },
  {
   "cell_type": "code",
   "execution_count": null,
   "id": "06961a6c-cb24-45d9-98b0-6efe03532e89",
   "metadata": {},
   "outputs": [],
   "source": []
  }
 ],
 "metadata": {
  "kernelspec": {
   "display_name": "Python 3 (ipykernel)",
   "language": "python",
   "name": "python3"
  },
  "language_info": {
   "codemirror_mode": {
    "name": "ipython",
    "version": 3
   },
   "file_extension": ".py",
   "mimetype": "text/x-python",
   "name": "python",
   "nbconvert_exporter": "python",
   "pygments_lexer": "ipython3",
   "version": "3.12.3"
  }
 },
 "nbformat": 4,
 "nbformat_minor": 5
}
