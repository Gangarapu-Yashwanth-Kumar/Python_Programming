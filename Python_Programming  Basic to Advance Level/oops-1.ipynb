{
 "cells": [
  {
   "cell_type": "code",
   "execution_count": 20,
   "id": "c55aa9aa-a8cb-4938-926a-388fd5916e6e",
   "metadata": {},
   "outputs": [
    {
     "data": {
      "text/plain": [
       "<__main__.computer at 0x1c3d299f440>"
      ]
     },
     "execution_count": 20,
     "metadata": {},
     "output_type": "execute_result"
    }
   ],
   "source": [
    "class computer():     #computer is the Class\n",
    "    def config():     #config is the Method\n",
    "        print('i5','8GB')\n",
    "\n",
    "com1=computer()\n",
    "com1"
   ]
  },
  {
   "cell_type": "code",
   "execution_count": 3,
   "id": "a39818e7-d8dc-414c-a39a-3c1bc0368a70",
   "metadata": {},
   "outputs": [
    {
     "name": "stdout",
     "output_type": "stream",
     "text": [
      "i5 8GB\n"
     ]
    }
   ],
   "source": [
    "class computer():\n",
    "    def config():\n",
    "        print('i5','8GB')\n",
    "\n",
    "com1=computer()\n",
    "computer.config()"
   ]
  },
  {
   "cell_type": "code",
   "execution_count": 6,
   "id": "a3574b45-fa5a-4946-9fcd-66f90269b237",
   "metadata": {},
   "outputs": [
    {
     "ename": "TypeError",
     "evalue": "computer.config() takes 0 positional arguments but 1 was given",
     "output_type": "error",
     "traceback": [
      "\u001b[31m---------------------------------------------------------------------------\u001b[39m",
      "\u001b[31mTypeError\u001b[39m                                 Traceback (most recent call last)",
      "\u001b[36mCell\u001b[39m\u001b[36m \u001b[39m\u001b[32mIn[6]\u001b[39m\u001b[32m, line 7\u001b[39m\n\u001b[32m      3\u001b[39m         \u001b[38;5;28mprint\u001b[39m(\u001b[33m'\u001b[39m\u001b[33mi5\u001b[39m\u001b[33m'\u001b[39m, \u001b[33m'\u001b[39m\u001b[33m8GB\u001b[39m\u001b[33m'\u001b[39m)\n\u001b[32m      5\u001b[39m com1 = computer()\n\u001b[32m----> \u001b[39m\u001b[32m7\u001b[39m \u001b[43mcom1\u001b[49m\u001b[43m.\u001b[49m\u001b[43mconfig\u001b[49m\u001b[43m(\u001b[49m\u001b[43m)\u001b[49m\n",
      "\u001b[31mTypeError\u001b[39m: computer.config() takes 0 positional arguments but 1 was given"
     ]
    }
   ],
   "source": [
    "class computer():     \n",
    "    def config():   \n",
    "        print('i5', '8GB')\n",
    "\n",
    "com1 = computer()\n",
    "\n",
    "com1.config()"
   ]
  },
  {
   "cell_type": "code",
   "execution_count": 10,
   "id": "aa447c4c-d510-48f3-a3a7-3314712b2a85",
   "metadata": {},
   "outputs": [
    {
     "name": "stdout",
     "output_type": "stream",
     "text": [
      "i5 8GB\n"
     ]
    }
   ],
   "source": [
    "class computer():     \n",
    "    def config(self):   \n",
    "        print('i5', '8GB')\n",
    "\n",
    "com1 = computer()\n",
    "\n",
    "com1.config()"
   ]
  },
  {
   "cell_type": "code",
   "execution_count": 12,
   "id": "dc14e4e0-ab7d-4dd6-9c1f-6e37719c4c67",
   "metadata": {},
   "outputs": [
    {
     "name": "stdout",
     "output_type": "stream",
     "text": [
      "i5 8GB\n"
     ]
    }
   ],
   "source": [
    "class computer():     \n",
    "    def config():   \n",
    "        print('i5', '8GB')\n",
    "\n",
    "com1 = computer()\n",
    "\n",
    "computer.config()"
   ]
  },
  {
   "cell_type": "code",
   "execution_count": 14,
   "id": "911938ff-89a5-41db-965f-13561ea166aa",
   "metadata": {},
   "outputs": [
    {
     "name": "stdout",
     "output_type": "stream",
     "text": [
      "i5 8GB\n",
      "i5 8GB\n"
     ]
    }
   ],
   "source": [
    "class computer():     \n",
    "    def config(self):   \n",
    "        print('i5', '8GB')\n",
    "\n",
    "com1 = computer()\n",
    "com2 = computer()\n",
    "com3 = computer()\n",
    "\n",
    "\n",
    "com1.config()\n",
    "com2.config()"
   ]
  },
  {
   "cell_type": "code",
   "execution_count": 16,
   "id": "43224dc1-e4b2-4df7-92da-e30b1e958715",
   "metadata": {},
   "outputs": [
    {
     "name": "stdout",
     "output_type": "stream",
     "text": [
      "i5 8GB\n",
      "i5 8GB\n",
      "i5 8GB\n"
     ]
    }
   ],
   "source": [
    "class computer():     \n",
    "    def config(self):   \n",
    "        print('i5', '8GB')\n",
    "\n",
    "com1 = computer()\n",
    "com2 = computer()\n",
    "com3 = computer()\n",
    "\n",
    "\n",
    "com1.config()\n",
    "com2.config()\n",
    "com3.config()"
   ]
  },
  {
   "cell_type": "code",
   "execution_count": 18,
   "id": "3213f331-a51c-4c79-8a07-b992270df879",
   "metadata": {},
   "outputs": [
    {
     "name": "stdout",
     "output_type": "stream",
     "text": [
      "i5 8GB\n",
      "i5 8GB\n",
      "i5 8GB\n"
     ]
    },
    {
     "ename": "NameError",
     "evalue": "name 'com4' is not defined",
     "output_type": "error",
     "traceback": [
      "\u001b[31m---------------------------------------------------------------------------\u001b[39m",
      "\u001b[31mNameError\u001b[39m                                 Traceback (most recent call last)",
      "\u001b[36mCell\u001b[39m\u001b[36m \u001b[39m\u001b[32mIn[18]\u001b[39m\u001b[32m, line 14\u001b[39m\n\u001b[32m     11\u001b[39m com2.config()\n\u001b[32m     12\u001b[39m com3.config()\n\u001b[32m---> \u001b[39m\u001b[32m14\u001b[39m \u001b[43mcom4\u001b[49m.config()\n",
      "\u001b[31mNameError\u001b[39m: name 'com4' is not defined"
     ]
    }
   ],
   "source": [
    "class computer():     \n",
    "    def config(self):   \n",
    "        print('i5', '8GB')\n",
    "\n",
    "com1 = computer()\n",
    "com2 = computer()\n",
    "com3 = computer()\n",
    "\n",
    "\n",
    "com1.config()\n",
    "com2.config()\n",
    "com3.config()\n",
    "\n",
    "com4.config()"
   ]
  },
  {
   "cell_type": "code",
   "execution_count": 22,
   "id": "cd2d43ed-b129-4ff1-bfa4-090acb878a85",
   "metadata": {},
   "outputs": [
    {
     "name": "stdout",
     "output_type": "stream",
     "text": [
      "<__main__.computer object at 0x000001C3D496F8C0>\n",
      "<__main__.computer object at 0x000001C3D4C52120>\n",
      "<__main__.computer object at 0x000001C3D30CBA70>\n",
      "1940596914368\n",
      "1940599939360\n",
      "1940571077232\n",
      "i5 8GB\n",
      "i5 8GB\n",
      "i5 8GB\n"
     ]
    }
   ],
   "source": [
    "class computer:            # computer is the Class\n",
    "    def config(self):      # config is the Method   \n",
    "        print('i5', '8GB')\n",
    "\n",
    "com1 = computer()\n",
    "com2 = computer()\n",
    "com3 = computer()\n",
    "\n",
    "print(com1)\n",
    "print(com2)\n",
    "print(com3)\n",
    "\n",
    "print(id(com1))\n",
    "print(id(com2))\n",
    "print(id(com3))\n",
    "\n",
    "com1.config()\n",
    "com2.config()\n",
    "com3.config()"
   ]
  },
  {
   "cell_type": "code",
   "execution_count": 24,
   "id": "5027c594-bfab-4fe0-a68e-1a8729cba44d",
   "metadata": {},
   "outputs": [
    {
     "name": "stdout",
     "output_type": "stream",
     "text": [
      "<class 'int'>\n",
      "<class '__main__.computer'>\n"
     ]
    }
   ],
   "source": [
    "class computer:        # computer is Class (user create the class here (user defined class)\n",
    "    def config():      # config is Method (define some method here so when we talk class always method will come ( so dont talk about function here)\n",
    "        print('i5', '8GB') # i want to print configuration of the machine which i5 ram & 8gb ram\n",
    "    \n",
    "a = 8\n",
    "print(type(a))\n",
    "\n",
    "com1 = computer() #com1 is the user define object of the computer class \n",
    "print(type(com1))       "
   ]
  },
  {
   "cell_type": "code",
   "execution_count": 26,
   "id": "b58fa89e-ddfd-4814-8712-99f48fb04a8b",
   "metadata": {},
   "outputs": [
    {
     "name": "stdout",
     "output_type": "stream",
     "text": [
      "i5 8GB\n"
     ]
    }
   ],
   "source": [
    "class computer():     \n",
    "    def config():   \n",
    "        print('i5', '8GB')\n",
    "\n",
    "com1 = computer()\n",
    "\n",
    "computer.config()"
   ]
  },
  {
   "cell_type": "code",
   "execution_count": 28,
   "id": "ef1346f4-b966-435f-9a01-a56fa92be58f",
   "metadata": {},
   "outputs": [
    {
     "name": "stdout",
     "output_type": "stream",
     "text": [
      "i5 8GB\n"
     ]
    }
   ],
   "source": [
    "class computer():     \n",
    "    def config(self):   \n",
    "        print('i5', '8GB')\n",
    "\n",
    "com1 = computer()\n",
    "\n",
    "computer.config(com1)"
   ]
  },
  {
   "cell_type": "code",
   "execution_count": 30,
   "id": "83e76457-6afe-4bb5-bf1e-ab111250a44d",
   "metadata": {},
   "outputs": [
    {
     "name": "stdout",
     "output_type": "stream",
     "text": [
      "i5 8GB\n"
     ]
    }
   ],
   "source": [
    "class computer():     \n",
    "    def config():   \n",
    "        print('i5', '8GB')\n",
    "\n",
    "com1 = computer()\n",
    "\n",
    "computer.config()"
   ]
  },
  {
   "cell_type": "code",
   "execution_count": 32,
   "id": "bab6fd90-4310-421a-bc7a-8af111b884a1",
   "metadata": {},
   "outputs": [
    {
     "name": "stdout",
     "output_type": "stream",
     "text": [
      "i5 8GB\n"
     ]
    }
   ],
   "source": [
    "class computer():     \n",
    "    def config(self):   \n",
    "        print('i5', '8GB')\n",
    "\n",
    "com1 = computer()\n",
    "\n",
    "com1.config()"
   ]
  },
  {
   "cell_type": "markdown",
   "id": "3fe00cef-4a3f-48e7-9bd7-8d08ea7837d0",
   "metadata": {},
   "source": [
    "# User Define Method vs Special Method "
   ]
  },
  {
   "cell_type": "code",
   "execution_count": 36,
   "id": "cbf03079-40b4-4d51-84d3-04b9130c670a",
   "metadata": {},
   "outputs": [
    {
     "data": {
      "text/plain": [
       "'__main__'"
      ]
     },
     "execution_count": 36,
     "metadata": {},
     "output_type": "execute_result"
    }
   ],
   "source": [
    "__name__"
   ]
  },
  {
   "cell_type": "markdown",
   "id": "42543750-1f75-46aa-9721-579d271585d1",
   "metadata": {},
   "source": [
    "- **__init__**     # Why it is Special"
   ]
  },
  {
   "cell_type": "code",
   "execution_count": 41,
   "id": "68a931bb-d15a-46fe-900e-fbd667aa8dfa",
   "metadata": {},
   "outputs": [
    {
     "name": "stdout",
     "output_type": "stream",
     "text": [
      "i5 8GB\n"
     ]
    }
   ],
   "source": [
    "class computer():     \n",
    "    def config(self):   \n",
    "        print('i5', '8GB')\n",
    "\n",
    "com1 = computer()\n",
    "\n",
    "com1.config()"
   ]
  },
  {
   "cell_type": "code",
   "execution_count": 43,
   "id": "33c63dd9-7867-4784-afd7-3aefa0104e0c",
   "metadata": {},
   "outputs": [
    {
     "name": "stdout",
     "output_type": "stream",
     "text": [
      "i7 16GB\n"
     ]
    }
   ],
   "source": [
    "class computer:\n",
    "    def __init__(self):\n",
    "        print('i7', '16GB')\n",
    "       \n",
    "c1 = computer()"
   ]
  },
  {
   "cell_type": "code",
   "execution_count": 45,
   "id": "f3ee2943-e6f5-4a16-969c-ff956c1c3965",
   "metadata": {},
   "outputs": [
    {
     "name": "stdout",
     "output_type": "stream",
     "text": [
      "i7 16GB\n",
      "i7 16GB\n",
      "i7 16GB\n"
     ]
    }
   ],
   "source": [
    "class computer:\n",
    "    def __init__(self):\n",
    "        print('i7', '16GB')\n",
    "       \n",
    "c1 = computer()\n",
    "c2 = computer()\n",
    "c3 = computer()"
   ]
  },
  {
   "cell_type": "code",
   "execution_count": 47,
   "id": "01b38a93-d31d-405e-a124-6ade8267935b",
   "metadata": {},
   "outputs": [
    {
     "name": "stdout",
     "output_type": "stream",
     "text": [
      "i7 16GB\n",
      "i5 8GB\n"
     ]
    }
   ],
   "source": [
    "class computer:  \n",
    "       \n",
    "    def config(self):      \n",
    "        print('i5', '8GB')\n",
    "        \n",
    "    def __init__(self):\n",
    "        print('i7', '16GB')\n",
    "\n",
    "com1 = computer()\n",
    "\n",
    "com1.config()\n"
   ]
  },
  {
   "cell_type": "code",
   "execution_count": 49,
   "id": "e49581df-4c3b-4604-b469-699f2193a136",
   "metadata": {},
   "outputs": [
    {
     "name": "stdout",
     "output_type": "stream",
     "text": [
      "i7 16GB\n",
      "i5 8GB\n",
      "i7 16GB\n"
     ]
    }
   ],
   "source": [
    "class computer:  \n",
    "       \n",
    "    def config(self):      \n",
    "        print('i5', '8GB')\n",
    "        \n",
    "    def __init__(self):\n",
    "        print('i7', '16GB')\n",
    "\n",
    "com1 = computer()\n",
    "\n",
    "com1.config()\n",
    "com1.__init__()"
   ]
  },
  {
   "cell_type": "code",
   "execution_count": 55,
   "id": "44af24d0-a1ee-4567-bc31-7f049c1516e6",
   "metadata": {},
   "outputs": [
    {
     "name": "stdout",
     "output_type": "stream",
     "text": [
      "in init\n"
     ]
    }
   ],
   "source": [
    "class computer:        \n",
    "    \n",
    "    def __init__(self):\n",
    "        print('in init')\n",
    "    \n",
    "    def config(self):     \n",
    "        print('i5', '8GB')\n",
    "\n",
    "com1 = computer()"
   ]
  },
  {
   "cell_type": "code",
   "execution_count": 57,
   "id": "683c17bf-294c-4f0f-95db-e9d8f29904ae",
   "metadata": {},
   "outputs": [
    {
     "name": "stdout",
     "output_type": "stream",
     "text": [
      "in init\n",
      "i5 8GB\n"
     ]
    }
   ],
   "source": [
    "class computer:        \n",
    "    \n",
    "    def __init__(self):\n",
    "        print('in init')\n",
    "    \n",
    "    def config(self):     \n",
    "        print('i5', '8GB')\n",
    "\n",
    "com1 = computer()\n",
    "com1.config()"
   ]
  },
  {
   "cell_type": "code",
   "execution_count": 59,
   "id": "a024c607-b57f-46d0-9a52-7e881762fd21",
   "metadata": {},
   "outputs": [
    {
     "name": "stdout",
     "output_type": "stream",
     "text": [
      "i7 16GB\n",
      "i7 16GB\n",
      "i5 8GB\n",
      "i5 8GB\n"
     ]
    }
   ],
   "source": [
    "class computer:  \n",
    "       \n",
    "    def config(self):      \n",
    "        print('i5', '8GB')\n",
    "        \n",
    "    def __init__(self):\n",
    "        print('i7', '16GB')\n",
    "\n",
    "com1 = computer()\n",
    "com2 = computer()\n",
    "\n",
    "com1.config()\n",
    "com2.config()"
   ]
  },
  {
   "cell_type": "code",
   "execution_count": 65,
   "id": "2ca0ba64-4f3c-4e61-afdb-502feeac7190",
   "metadata": {},
   "outputs": [
    {
     "ename": "TypeError",
     "evalue": "computer.__init__() takes 1 positional argument but 3 were given",
     "output_type": "error",
     "traceback": [
      "\u001b[31m---------------------------------------------------------------------------\u001b[39m",
      "\u001b[31mTypeError\u001b[39m                                 Traceback (most recent call last)",
      "\u001b[36mCell\u001b[39m\u001b[36m \u001b[39m\u001b[32mIn[65]\u001b[39m\u001b[32m, line 9\u001b[39m\n\u001b[32m      6\u001b[39m     \u001b[38;5;28;01mdef\u001b[39;00m\u001b[38;5;250m \u001b[39m\u001b[34mconfig\u001b[39m(\u001b[38;5;28mself\u001b[39m):     \n\u001b[32m      7\u001b[39m         \u001b[38;5;28mprint\u001b[39m(\u001b[33m'\u001b[39m\u001b[33mi5\u001b[39m\u001b[33m'\u001b[39m, \u001b[33m'\u001b[39m\u001b[33m8GB\u001b[39m\u001b[33m'\u001b[39m)\n\u001b[32m----> \u001b[39m\u001b[32m9\u001b[39m com1 = \u001b[43mcomputer\u001b[49m\u001b[43m(\u001b[49m\u001b[33;43m'\u001b[39;49m\u001b[33;43mi5\u001b[39;49m\u001b[33;43m'\u001b[39;49m\u001b[43m,\u001b[49m\u001b[43m \u001b[49m\u001b[32;43m8\u001b[39;49m\u001b[43m)\u001b[49m            \u001b[38;5;66;03m# com1 has cpu i5 & ram is 8 \u001b[39;00m\n\u001b[32m     10\u001b[39m com2 = computer(\u001b[33m'\u001b[39m\u001b[33mi7\u001b[39m\u001b[33m'\u001b[39m, \u001b[32m16\u001b[39m)           \u001b[38;5;66;03m# com2 has cpu intel 7 & ram is 16 as we have 2 computer we have different ram & cpu\u001b[39;00m\n\u001b[32m     12\u001b[39m com1.config() \n",
      "\u001b[31mTypeError\u001b[39m: computer.__init__() takes 1 positional argument but 3 were given"
     ]
    }
   ],
   "source": [
    "class computer:        \n",
    "    \n",
    "    def __init__(self):    #__init__ means to initialize the variable\n",
    "        print('in init')\n",
    "    \n",
    "    def config(self):     \n",
    "        print('i5', '8GB')\n",
    "\n",
    "com1 = computer('i5', 8)            # com1 has cpu i5 & ram is 8 \n",
    "com2 = computer('i7', 16)           # com2 has cpu intel 7 & ram is 16 as we have 2 computer we have different ram & cpu\n",
    "\n",
    "com1.config() \n",
    "com2.config()"
   ]
  },
  {
   "cell_type": "code",
   "execution_count": 63,
   "id": "5686e2ca-223b-4035-9b15-7ee955fcaafd",
   "metadata": {},
   "outputs": [
    {
     "name": "stdout",
     "output_type": "stream",
     "text": [
      "in init\n",
      "in init\n",
      "i5 8GB\n",
      "i7 16GB\n",
      "i5 8GB\n",
      "i7 16GB\n"
     ]
    }
   ],
   "source": [
    "class computer:        \n",
    "    \n",
    "    def __init__(self,cpu,ram): \n",
    "        print('in init')\n",
    "    \n",
    "    def config(self):     \n",
    "        print('i5', '8GB')\n",
    "        print('i7', '16GB')\n",
    "\n",
    "com1 = computer('i5', '8GB')\n",
    "com2 = computer('i7', '16GB')\n",
    "\n",
    "com1.config() \n",
    "com2.config()"
   ]
  },
  {
   "cell_type": "code",
   "execution_count": 73,
   "id": "e3535802-745b-4ae6-95cb-879d12ae47c1",
   "metadata": {},
   "outputs": [
    {
     "name": "stdout",
     "output_type": "stream",
     "text": [
      "in init\n",
      "in init\n",
      "i5 8GB 45000\n",
      "i7 16GB 60000\n",
      "i5 8GB 45000\n",
      "i7 16GB 60000\n"
     ]
    }
   ],
   "source": [
    "class computer:        \n",
    "    \n",
    "    def __init__(self,cpu,ram, price): \n",
    "        print('in init')\n",
    "    \n",
    "    def config(self):     \n",
    "        print('i5', '8GB', 45000)\n",
    "        print('i7', '16GB', 60000)\n",
    "\n",
    "com1 = computer('i5', '8GB', 45000)\n",
    "com2 = computer('i7', '16GB', 60000)\n",
    "\n",
    "com1.config() \n",
    "com2.config()"
   ]
  },
  {
   "cell_type": "code",
   "execution_count": 75,
   "id": "60985963-20df-46e2-82f6-81d27dac514d",
   "metadata": {},
   "outputs": [
    {
     "name": "stdout",
     "output_type": "stream",
     "text": [
      "config is: i5 8GB\n",
      "config is: i7 16GB\n"
     ]
    }
   ],
   "source": [
    "class computer:  \n",
    "    def __init__(self,cpu,ram): # cpu & ram as argument\n",
    "        self.cpu = cpu \n",
    "        self.ram = ram \n",
    "  \n",
    "    def config(self):     \n",
    "        print('config is:', self.cpu, self.ram)\n",
    "\n",
    "com1 = computer('i5', '8GB')\n",
    "com2 = computer('i7', '16GB')\n",
    "\n",
    "com1.config() \n",
    "com2.config()"
   ]
  },
  {
   "cell_type": "code",
   "execution_count": 77,
   "id": "bc36cdf7-77ab-4192-874d-44e989513052",
   "metadata": {},
   "outputs": [
    {
     "name": "stdout",
     "output_type": "stream",
     "text": [
      "config is: i5 8GB 45000 Not SSD\n",
      "config is: i7 16GB 60000 SSD\n"
     ]
    }
   ],
   "source": [
    "class computer:  \n",
    "    def __init__(self,cpu,ram,price,memory): # cpu & ram as argument\n",
    "        self.cpu = cpu \n",
    "        self.ram = ram \n",
    "        self.price=price\n",
    "        self.memory=memory\n",
    "  \n",
    "    def config(self):     \n",
    "        print('config is:', self.cpu, self.ram, self.price, self.memory)\n",
    "\n",
    "com1 = computer('i5', '8GB', 45000, 'Not SSD')\n",
    "com2 = computer('i7', '16GB', 60000, 'SSD')\n",
    "\n",
    "\n",
    "com1.config() \n",
    "com2.config()"
   ]
  },
  {
   "cell_type": "code",
   "execution_count": 90,
   "id": "1fc867dc-15b8-4f95-b76a-94497c2d9c3f",
   "metadata": {},
   "outputs": [
    {
     "name": "stdout",
     "output_type": "stream",
     "text": [
      "config is: i5 8GB 45000 Not SSD HP\n",
      "config is: i7 16GB 60000 SSD DELL\n",
      "config is: i9 32GB 95000  with GPU LENOVO\n"
     ]
    }
   ],
   "source": [
    "class computer:  \n",
    "    def __init__(self,cpu,ram,price,memory,Brand): # cpu & ram as argument\n",
    "        self.cpu = cpu \n",
    "        self.ram = ram \n",
    "        self.price=price\n",
    "        self.memory=memory\n",
    "        self.Brand=Brand\n",
    "  \n",
    "    def config(self):     \n",
    "        print('config is:', self.cpu, self.ram, self.price, self.memory,self.Brand)\n",
    "\n",
    "com1 = computer('i5', '8GB', 45000, 'Not SSD','HP')\n",
    "com2 = computer('i7', '16GB', 60000, 'SSD','DELL')\n",
    "com3 = computer('i9', '32GB', 95000, ' with GPU','LENOVO')\n",
    "\n",
    "com1.config() \n",
    "com2.config()\n",
    "com3.config()"
   ]
  },
  {
   "cell_type": "markdown",
   "id": "091368e8-f915-4d79-9a61-c2e838b47c1c",
   "metadata": {},
   "source": [
    "# Constructor & Self"
   ]
  },
  {
   "cell_type": "code",
   "execution_count": 93,
   "id": "97153884-c93d-4d15-b130-75a6364adf8a",
   "metadata": {},
   "outputs": [
    {
     "ename": "IndentationError",
     "evalue": "expected an indented block after class definition on line 1 (506882634.py, line 3)",
     "output_type": "error",
     "traceback": [
      "  \u001b[36mCell\u001b[39m\u001b[36m \u001b[39m\u001b[32mIn[93]\u001b[39m\u001b[32m, line 3\u001b[39m\n\u001b[31m    \u001b[39m\u001b[31mc1 = computer()\u001b[39m\n    ^\n\u001b[31mIndentationError\u001b[39m\u001b[31m:\u001b[39m expected an indented block after class definition on line 1\n"
     ]
    }
   ],
   "source": [
    "class computer: \n",
    "   \n",
    "c1 = computer() \n",
    "print(id(c1))"
   ]
  },
  {
   "cell_type": "code",
   "execution_count": 95,
   "id": "d2adf2a3-601d-4ee4-a8ca-56e25b77ab87",
   "metadata": {},
   "outputs": [
    {
     "name": "stdout",
     "output_type": "stream",
     "text": [
      "1940597653088\n"
     ]
    }
   ],
   "source": [
    "class computer: \n",
    "    pass\n",
    "   \n",
    "c1 = computer() \n",
    "print(id(c1))"
   ]
  },
  {
   "cell_type": "code",
   "execution_count": 97,
   "id": "1d89eaf3-a736-42f0-aa3f-df41fd78cf59",
   "metadata": {},
   "outputs": [
    {
     "name": "stdout",
     "output_type": "stream",
     "text": [
      "1940598601824\n",
      "1940597653088\n"
     ]
    }
   ],
   "source": [
    "class computer:\n",
    "    pass\n",
    "\n",
    "c1 = computer()\n",
    "c2 = computer()\n",
    "\n",
    "print(id(c1))\n",
    "print(id(c2))"
   ]
  },
  {
   "cell_type": "code",
   "execution_count": 99,
   "id": "6f4004c3-1a0c-4454-8e8e-6ee90bdcf0a0",
   "metadata": {},
   "outputs": [
    {
     "name": "stdout",
     "output_type": "stream",
     "text": [
      "Yash 24\n",
      "Yash 24\n"
     ]
    }
   ],
   "source": [
    "class computer():\n",
    "    def __init__(self):\n",
    "        self.name = 'Yash'\n",
    "        self.age = 24\n",
    "\n",
    "c1 = computer()\n",
    "c2 = computer()\n",
    "\n",
    "print(c1.name,c1.age)\n",
    "print(c2.name, c2.age)"
   ]
  },
  {
   "cell_type": "code",
   "execution_count": 101,
   "id": "60e7598a-b590-4006-81f1-d650ecb56fc9",
   "metadata": {},
   "outputs": [
    {
     "name": "stdout",
     "output_type": "stream",
     "text": [
      "Yash 24\n"
     ]
    }
   ],
   "source": [
    "class computer():\n",
    "    def __init__(self):\n",
    "        self.name = 'Yash'\n",
    "        self.age = 24\n",
    "\n",
    "c1 = computer()\n",
    "c2 = computer()\n",
    "\n",
    "print(c1.name,c1.age)\n",
    "#print(c2.name, c2.age)"
   ]
  },
  {
   "cell_type": "code",
   "execution_count": 103,
   "id": "7de001d9-5043-4210-a125-d146f9415218",
   "metadata": {},
   "outputs": [
    {
     "name": "stdout",
     "output_type": "stream",
     "text": [
      "Ram\n",
      "Kumar\n"
     ]
    }
   ],
   "source": [
    "class computer():\n",
    "    def __init__(self):\n",
    "        self.name = 'Yash'\n",
    "        self.age = 24\n",
    "\n",
    "c1 = computer()\n",
    "c2 = computer()\n",
    "\n",
    "c2.name = 'Kumar'\n",
    "c1.name = 'Ram'\n",
    "\n",
    "print(c1.name)\n",
    "print(c2.name)"
   ]
  },
  {
   "cell_type": "code",
   "execution_count": 105,
   "id": "d82ea329-2518-4d58-af25-0c0dc76c0dee",
   "metadata": {},
   "outputs": [
    {
     "name": "stdout",
     "output_type": "stream",
     "text": [
      "1940597653088\n",
      "1940598601824\n",
      "Kumar 25\n",
      "Yash\n"
     ]
    }
   ],
   "source": [
    "class computer:\n",
    "    def __init__(self):\n",
    "        self.name = 'Yash'\n",
    "        self.age = 24\n",
    "\n",
    "c1 = computer()\n",
    "c2 = computer()\n",
    "\n",
    "print(id(c1))\n",
    "print(id(c2))\n",
    "\n",
    "c1.name = 'Kumar'\n",
    "c1.age = 25\n",
    "\n",
    "print(c1.name, c1.age)\n",
    "#print(c1.age)\n",
    "print(c2.name)\n"
   ]
  },
  {
   "cell_type": "code",
   "execution_count": 107,
   "id": "a2708c81-6d03-41a5-a5f6-034e759d3d5c",
   "metadata": {},
   "outputs": [
    {
     "name": "stdout",
     "output_type": "stream",
     "text": [
      "1940596638688\n",
      "1940597653088\n",
      "Kumar 25\n",
      "Yash 24\n"
     ]
    }
   ],
   "source": [
    "class computer:\n",
    "    def __init__(self):\n",
    "        self.name = 'Yash'\n",
    "        self.age = 24\n",
    "    \n",
    "    def update(self):  #lets create another object \n",
    "        self.age =26\n",
    "\n",
    "c1 = computer()\n",
    "c2 = computer()\n",
    "\n",
    "print(id(c1))\n",
    "print(id(c2))\n",
    "\n",
    "c1.name = 'Kumar'\n",
    "c1.age = 25\n",
    "\n",
    "#c1.update() #when we call update which value will change & i am not mentioning which object i am talking about\n",
    "\n",
    "print(c1.name, c1.age)\n",
    "print(c2.name, c2.age)"
   ]
  },
  {
   "cell_type": "code",
   "execution_count": null,
   "id": "7065354b-4081-447f-8fdd-c12bd7a9b80b",
   "metadata": {},
   "outputs": [],
   "source": []
  }
 ],
 "metadata": {
  "kernelspec": {
   "display_name": "Python 3 (ipykernel)",
   "language": "python",
   "name": "python3"
  },
  "language_info": {
   "codemirror_mode": {
    "name": "ipython",
    "version": 3
   },
   "file_extension": ".py",
   "mimetype": "text/x-python",
   "name": "python",
   "nbconvert_exporter": "python",
   "pygments_lexer": "ipython3",
   "version": "3.12.3"
  }
 },
 "nbformat": 4,
 "nbformat_minor": 5
}
