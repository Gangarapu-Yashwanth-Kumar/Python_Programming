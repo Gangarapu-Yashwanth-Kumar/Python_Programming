{
 "cells": [
  {
   "cell_type": "markdown",
   "id": "6c4ca1ed-b926-4dea-90c9-fa3097c218ec",
   "metadata": {},
   "source": [
    "# Set"
   ]
  },
  {
   "cell_type": "code",
   "execution_count": 2,
   "id": "cd6b5cee-c7b4-4e1e-9701-4b58a08eba0f",
   "metadata": {},
   "outputs": [
    {
     "data": {
      "text/plain": [
       "{}"
      ]
     },
     "execution_count": 2,
     "metadata": {},
     "output_type": "execute_result"
    }
   ],
   "source": [
    "s={ }\n",
    "s"
   ]
  },
  {
   "cell_type": "code",
   "execution_count": 4,
   "id": "272d6ce1-72ce-48f5-9c06-e72715ec9ce0",
   "metadata": {},
   "outputs": [
    {
     "data": {
      "text/plain": [
       "dict"
      ]
     },
     "execution_count": 4,
     "metadata": {},
     "output_type": "execute_result"
    }
   ],
   "source": [
    "type(s)"
   ]
  },
  {
   "cell_type": "code",
   "execution_count": 6,
   "id": "3a1adc87-4436-474d-9948-93f57362faac",
   "metadata": {},
   "outputs": [
    {
     "data": {
      "text/plain": [
       "set"
      ]
     },
     "execution_count": 6,
     "metadata": {},
     "output_type": "execute_result"
    }
   ],
   "source": [
    "s1=set()\n",
    "type(s1)"
   ]
  },
  {
   "cell_type": "code",
   "execution_count": 8,
   "id": "173cdc7f-ecf4-49e6-8822-a582240e0958",
   "metadata": {},
   "outputs": [
    {
     "data": {
      "text/plain": [
       "set()"
      ]
     },
     "execution_count": 8,
     "metadata": {},
     "output_type": "execute_result"
    }
   ],
   "source": [
    "s1"
   ]
  },
  {
   "cell_type": "code",
   "execution_count": 10,
   "id": "2ee16e83-8ea0-446d-a988-22ca5628ff36",
   "metadata": {},
   "outputs": [
    {
     "data": {
      "text/plain": [
       "{3, 20, 45, 100}"
      ]
     },
     "execution_count": 10,
     "metadata": {},
     "output_type": "execute_result"
    }
   ],
   "source": [
    "s2={20,100,3,45}\n",
    "s2"
   ]
  },
  {
   "cell_type": "code",
   "execution_count": 12,
   "id": "8b120e18-4abf-452e-b633-7b0b2561406a",
   "metadata": {},
   "outputs": [
    {
     "data": {
      "text/plain": [
       "{'c', 'e', 'f', 'l', 'z'}"
      ]
     },
     "execution_count": 12,
     "metadata": {},
     "output_type": "execute_result"
    }
   ],
   "source": [
    "s3={'z','l','c','e','f'}\n",
    "s3"
   ]
  },
  {
   "cell_type": "code",
   "execution_count": 16,
   "id": "6ad586bf-c1df-4a0f-87dd-d60d8759f58e",
   "metadata": {},
   "outputs": [
    {
     "ename": "TypeError",
     "evalue": "unhashable type: 'list'",
     "output_type": "error",
     "traceback": [
      "\u001b[1;31m---------------------------------------------------------------------------\u001b[0m",
      "\u001b[1;31mTypeError\u001b[0m                                 Traceback (most recent call last)",
      "Cell \u001b[1;32mIn[16], line 1\u001b[0m\n\u001b[1;32m----> 1\u001b[0m s4\u001b[38;5;241m=\u001b[39m{\u001b[38;5;241m1\u001b[39m,\u001b[38;5;241m2.3\u001b[39m,\u001b[38;5;124m'\u001b[39m\u001b[38;5;124myash\u001b[39m\u001b[38;5;124m'\u001b[39m,\u001b[38;5;241m1\u001b[39m\u001b[38;5;241m+\u001b[39m\u001b[38;5;241m2\u001b[39mj,[\u001b[38;5;241m1\u001b[39m,\u001b[38;5;241m2\u001b[39m,\u001b[38;5;241m3\u001b[39m],(\u001b[38;5;241m4\u001b[39m,\u001b[38;5;241m5\u001b[39m,\u001b[38;5;241m6\u001b[39m),\u001b[38;5;28;01mTrue\u001b[39;00m}\n\u001b[0;32m      2\u001b[0m s4\n",
      "\u001b[1;31mTypeError\u001b[0m: unhashable type: 'list'"
     ]
    }
   ],
   "source": [
    "s4={1,2.3,'yash',1+2j,[1,2,3],(4,5,6),True}\n",
    "s4"
   ]
  },
  {
   "cell_type": "code",
   "execution_count": 18,
   "id": "e0751d74-691b-4542-8e98-60a32fe4060e",
   "metadata": {},
   "outputs": [
    {
     "data": {
      "text/plain": [
       "{(1+2j), 2, 3.4, False, 'yash'}"
      ]
     },
     "execution_count": 18,
     "metadata": {},
     "output_type": "execute_result"
    }
   ],
   "source": [
    "s5={2,3.4,'yash',1+2j,False}\n",
    "s5"
   ]
  },
  {
   "cell_type": "code",
   "execution_count": 20,
   "id": "2d765e70-3284-4136-9f7f-5d23d438265d",
   "metadata": {},
   "outputs": [
    {
     "name": "stdout",
     "output_type": "stream",
     "text": [
      "set()\n",
      "{45, 3, 100, 20}\n",
      "{'f', 'z', 'c', 'e', 'l'}\n",
      "{False, 2, 3.4, 'yash', (1+2j)}\n"
     ]
    }
   ],
   "source": [
    "print(s1)\n",
    "print(s2)\n",
    "print(s3)\n",
    "print(s5)"
   ]
  },
  {
   "cell_type": "code",
   "execution_count": 22,
   "id": "74e2b33a-8ce0-4027-b883-24febecbef41",
   "metadata": {},
   "outputs": [
    {
     "data": {
      "text/plain": [
       "{3, 20, 45, 100}"
      ]
     },
     "execution_count": 22,
     "metadata": {},
     "output_type": "execute_result"
    }
   ],
   "source": [
    "s2"
   ]
  },
  {
   "cell_type": "code",
   "execution_count": 24,
   "id": "03b3de58-731d-40b9-8b13-e342f2762faf",
   "metadata": {},
   "outputs": [
    {
     "data": {
      "text/plain": [
       "{3, 20, 30, 45, 100}"
      ]
     },
     "execution_count": 24,
     "metadata": {},
     "output_type": "execute_result"
    }
   ],
   "source": [
    "s2.add(30)\n",
    "s2"
   ]
  },
  {
   "cell_type": "code",
   "execution_count": 26,
   "id": "90d918cb-b3a6-4b7e-93e7-f1a3b1cff04a",
   "metadata": {},
   "outputs": [
    {
     "data": {
      "text/plain": [
       "{3, 20, 30, 45, 100, 400}"
      ]
     },
     "execution_count": 26,
     "metadata": {},
     "output_type": "execute_result"
    }
   ],
   "source": [
    "s2.add(400)\n",
    "s2"
   ]
  },
  {
   "cell_type": "code",
   "execution_count": 30,
   "id": "5bec3034-035d-4f39-b100-4d8c3f485f1e",
   "metadata": {},
   "outputs": [
    {
     "ename": "TypeError",
     "evalue": "'set' object is not subscriptable",
     "output_type": "error",
     "traceback": [
      "\u001b[1;31m---------------------------------------------------------------------------\u001b[0m",
      "\u001b[1;31mTypeError\u001b[0m                                 Traceback (most recent call last)",
      "Cell \u001b[1;32mIn[30], line 1\u001b[0m\n\u001b[1;32m----> 1\u001b[0m s2[\u001b[38;5;241m1\u001b[39m:\u001b[38;5;241m5\u001b[39m]\n",
      "\u001b[1;31mTypeError\u001b[0m: 'set' object is not subscriptable"
     ]
    }
   ],
   "source": [
    "s2[1:5] #set indexing and slicing is not allowed."
   ]
  },
  {
   "cell_type": "code",
   "execution_count": 32,
   "id": "59d382fc-5afe-4d08-9523-74748b4525c5",
   "metadata": {},
   "outputs": [
    {
     "data": {
      "text/plain": [
       "{(1+2j), 2, 3.4, False, 'yash'}"
      ]
     },
     "execution_count": 32,
     "metadata": {},
     "output_type": "execute_result"
    }
   ],
   "source": [
    "s5"
   ]
  },
  {
   "cell_type": "code",
   "execution_count": 34,
   "id": "1351fd9f-10a9-4fc4-9114-5076afa1bfae",
   "metadata": {},
   "outputs": [
    {
     "data": {
      "text/plain": [
       "{(1+2j), 2, 3.4, False, 'yash'}"
      ]
     },
     "execution_count": 34,
     "metadata": {},
     "output_type": "execute_result"
    }
   ],
   "source": [
    "s4=s5.copy()\n",
    "s4"
   ]
  },
  {
   "cell_type": "code",
   "execution_count": 36,
   "id": "4bd8a9ad-c29f-47de-bcf1-016183666cec",
   "metadata": {},
   "outputs": [
    {
     "data": {
      "text/plain": [
       "{(1+2j), 2, 3.4, False, 'yash'}"
      ]
     },
     "execution_count": 36,
     "metadata": {},
     "output_type": "execute_result"
    }
   ],
   "source": [
    "s4"
   ]
  },
  {
   "cell_type": "code",
   "execution_count": 42,
   "id": "2a0f01cd-c448-43cd-8665-cc315753522c",
   "metadata": {},
   "outputs": [
    {
     "data": {
      "text/plain": [
       "{(1+2j), 2, 3.4, False, 'yash'}"
      ]
     },
     "execution_count": 42,
     "metadata": {},
     "output_type": "execute_result"
    }
   ],
   "source": [
    "s4.add(2) #Duplicate is not allowed\n",
    "s4"
   ]
  },
  {
   "cell_type": "code",
   "execution_count": 40,
   "id": "a730d43d-c78a-411e-89cd-77b0a988ff7a",
   "metadata": {},
   "outputs": [
    {
     "data": {
      "text/plain": [
       "set()"
      ]
     },
     "execution_count": 40,
     "metadata": {},
     "output_type": "execute_result"
    }
   ],
   "source": [
    "s5.clear()\n",
    "s5"
   ]
  },
  {
   "cell_type": "code",
   "execution_count": 44,
   "id": "eae9e487-a647-4e04-9ce4-4e19463081e5",
   "metadata": {},
   "outputs": [],
   "source": [
    "del s5"
   ]
  },
  {
   "cell_type": "code",
   "execution_count": 46,
   "id": "651ab740-bd50-41dc-a3c4-d115c39d3dd3",
   "metadata": {},
   "outputs": [
    {
     "data": {
      "text/plain": [
       "{2, 3.4, False, 'yash'}"
      ]
     },
     "execution_count": 46,
     "metadata": {},
     "output_type": "execute_result"
    }
   ],
   "source": [
    "s4.remove((1+2j))\n",
    "s4"
   ]
  },
  {
   "cell_type": "code",
   "execution_count": 54,
   "id": "d593fd74-a0a9-4ec5-8fe9-e9c4030e1660",
   "metadata": {},
   "outputs": [
    {
     "ename": "TypeError",
     "evalue": "set.remove() takes exactly one argument (2 given)",
     "output_type": "error",
     "traceback": [
      "\u001b[1;31m---------------------------------------------------------------------------\u001b[0m",
      "\u001b[1;31mTypeError\u001b[0m                                 Traceback (most recent call last)",
      "Cell \u001b[1;32mIn[54], line 1\u001b[0m\n\u001b[1;32m----> 1\u001b[0m s4\u001b[38;5;241m.\u001b[39mremove(\u001b[38;5;28;01mFalse\u001b[39;00m,\u001b[38;5;124m'\u001b[39m\u001b[38;5;124myash\u001b[39m\u001b[38;5;124m'\u001b[39m) \u001b[38;5;66;03m#Allows only 1 argument\u001b[39;00m\n\u001b[0;32m      2\u001b[0m s4\n",
      "\u001b[1;31mTypeError\u001b[0m: set.remove() takes exactly one argument (2 given)"
     ]
    }
   ],
   "source": [
    "s4.remove(False,'yash') #Allows only 1 argument\n",
    "s4"
   ]
  },
  {
   "cell_type": "code",
   "execution_count": 50,
   "id": "c956fc4d-59cc-4f2c-9a95-0ea3f99bc072",
   "metadata": {},
   "outputs": [
    {
     "data": {
      "text/plain": [
       "{'c', 'e', 'f', 'l', 'z'}"
      ]
     },
     "execution_count": 50,
     "metadata": {},
     "output_type": "execute_result"
    }
   ],
   "source": [
    "s3"
   ]
  },
  {
   "cell_type": "code",
   "execution_count": 52,
   "id": "119e98b3-1a45-4485-bf24-c2ed9a44373f",
   "metadata": {},
   "outputs": [
    {
     "data": {
      "text/plain": [
       "{'c', 'e', 'f', 'l', 'z'}"
      ]
     },
     "execution_count": 52,
     "metadata": {},
     "output_type": "execute_result"
    }
   ],
   "source": [
    "s3.discard('m')\n",
    "s3"
   ]
  },
  {
   "cell_type": "code",
   "execution_count": 56,
   "id": "8d65d458-308e-4ec8-a9cd-a6612bf28f85",
   "metadata": {},
   "outputs": [
    {
     "ename": "KeyError",
     "evalue": "'m'",
     "output_type": "error",
     "traceback": [
      "\u001b[1;31m---------------------------------------------------------------------------\u001b[0m",
      "\u001b[1;31mKeyError\u001b[0m                                  Traceback (most recent call last)",
      "Cell \u001b[1;32mIn[56], line 1\u001b[0m\n\u001b[1;32m----> 1\u001b[0m s3\u001b[38;5;241m.\u001b[39mremove(\u001b[38;5;124m'\u001b[39m\u001b[38;5;124mm\u001b[39m\u001b[38;5;124m'\u001b[39m)\n\u001b[0;32m      2\u001b[0m s3\n",
      "\u001b[1;31mKeyError\u001b[0m: 'm'"
     ]
    }
   ],
   "source": [
    "s3.remove('m')\n",
    "s3"
   ]
  },
  {
   "cell_type": "code",
   "execution_count": 58,
   "id": "1509b331-e177-4bb0-a56d-735130ee7823",
   "metadata": {},
   "outputs": [
    {
     "data": {
      "text/plain": [
       "{'c', 'e', 'l', 'z'}"
      ]
     },
     "execution_count": 58,
     "metadata": {},
     "output_type": "execute_result"
    }
   ],
   "source": [
    "s3.discard('f')\n",
    "s3"
   ]
  },
  {
   "cell_type": "code",
   "execution_count": 62,
   "id": "079b889b-0d6d-46a7-9d7b-3475ff67704c",
   "metadata": {},
   "outputs": [
    {
     "data": {
      "text/plain": [
       "'c'"
      ]
     },
     "execution_count": 62,
     "metadata": {},
     "output_type": "execute_result"
    }
   ],
   "source": [
    "s3.pop()"
   ]
  },
  {
   "cell_type": "code",
   "execution_count": 66,
   "id": "0a652628-4123-4224-977b-5eaf02871040",
   "metadata": {},
   "outputs": [
    {
     "data": {
      "text/plain": [
       "{3, 20, 30, 45, 100, 400}"
      ]
     },
     "execution_count": 66,
     "metadata": {},
     "output_type": "execute_result"
    }
   ],
   "source": [
    "s2"
   ]
  },
  {
   "cell_type": "code",
   "execution_count": 68,
   "id": "9fbf702d-3641-428f-b64a-abaac8062c41",
   "metadata": {},
   "outputs": [
    {
     "data": {
      "text/plain": [
       "3"
      ]
     },
     "execution_count": 68,
     "metadata": {},
     "output_type": "execute_result"
    }
   ],
   "source": [
    "s2.pop()"
   ]
  },
  {
   "cell_type": "code",
   "execution_count": 70,
   "id": "4c50bf63-a5d5-455f-9a28-c74ee58a81a1",
   "metadata": {},
   "outputs": [
    {
     "name": "stdout",
     "output_type": "stream",
     "text": [
      "100\n",
      "45\n",
      "400\n",
      "20\n",
      "30\n"
     ]
    }
   ],
   "source": [
    "for i in s2:\n",
    "    print(i)"
   ]
  },
  {
   "cell_type": "code",
   "execution_count": 72,
   "id": "778257ef-26bd-4109-b476-5f6f2b844909",
   "metadata": {},
   "outputs": [
    {
     "data": {
      "text/plain": [
       "False"
      ]
     },
     "execution_count": 72,
     "metadata": {},
     "output_type": "execute_result"
    }
   ],
   "source": [
    "5 in s2"
   ]
  },
  {
   "cell_type": "code",
   "execution_count": 74,
   "id": "099bc8b4-a84b-40de-bc6b-05a4fe27563d",
   "metadata": {},
   "outputs": [
    {
     "data": {
      "text/plain": [
       "True"
      ]
     },
     "execution_count": 74,
     "metadata": {},
     "output_type": "execute_result"
    }
   ],
   "source": [
    "45 in s2"
   ]
  },
  {
   "cell_type": "code",
   "execution_count": 76,
   "id": "eee56562-f9b7-47c6-82c5-4b1e44fb26c0",
   "metadata": {},
   "outputs": [
    {
     "data": {
      "text/plain": [
       "{20, 30, 45, 100, 400}"
      ]
     },
     "execution_count": 76,
     "metadata": {},
     "output_type": "execute_result"
    }
   ],
   "source": [
    "s2"
   ]
  },
  {
   "cell_type": "code",
   "execution_count": 80,
   "id": "12864be2-fd6a-4136-8011-5ae492b64795",
   "metadata": {},
   "outputs": [
    {
     "data": {
      "text/plain": [
       "{'e', 'l'}"
      ]
     },
     "execution_count": 80,
     "metadata": {},
     "output_type": "execute_result"
    }
   ],
   "source": [
    "s3"
   ]
  },
  {
   "cell_type": "code",
   "execution_count": 78,
   "id": "d883d1f8-fcd2-4022-aaf2-0c43f9c2d7a2",
   "metadata": {},
   "outputs": [
    {
     "data": {
      "text/plain": [
       "{100, 20, 30, 400, 45, 'e', 'l'}"
      ]
     },
     "execution_count": 78,
     "metadata": {},
     "output_type": "execute_result"
    }
   ],
   "source": [
    "s2.update(s3)\n",
    "s2"
   ]
  },
  {
   "cell_type": "markdown",
   "id": "a4e73d0a-965e-4e78-a40a-81f7890b4999",
   "metadata": {},
   "source": [
    "# SET OPERATION"
   ]
  },
  {
   "cell_type": "code",
   "execution_count": 83,
   "id": "92cbc061-7af0-494f-a153-b9bb231ec399",
   "metadata": {},
   "outputs": [],
   "source": [
    "s6={1,2,3,4,5}\n",
    "s7={4,5,6,7,8}\n",
    "s8={8,9,10}"
   ]
  },
  {
   "cell_type": "code",
   "execution_count": 85,
   "id": "f982f601-15eb-4293-849b-8271cf401b8e",
   "metadata": {},
   "outputs": [
    {
     "data": {
      "text/plain": [
       "{1, 2, 3, 4, 5, 6, 7, 8}"
      ]
     },
     "execution_count": 85,
     "metadata": {},
     "output_type": "execute_result"
    }
   ],
   "source": [
    "s6.union(s7)"
   ]
  },
  {
   "cell_type": "code",
   "execution_count": 87,
   "id": "351cdc77-3316-462c-8222-6a7e86e5c3ad",
   "metadata": {},
   "outputs": [
    {
     "data": {
      "text/plain": [
       "{1, 2, 3, 4, 5, 6, 7, 8, 9, 10}"
      ]
     },
     "execution_count": 87,
     "metadata": {},
     "output_type": "execute_result"
    }
   ],
   "source": [
    "s6.union(s7,s8)"
   ]
  },
  {
   "cell_type": "code",
   "execution_count": 89,
   "id": "d3aca655-1f18-413e-ac7d-0000b0ba6b28",
   "metadata": {},
   "outputs": [
    {
     "data": {
      "text/plain": [
       "{1, 2, 3, 4, 5, 6, 7, 8}"
      ]
     },
     "execution_count": 89,
     "metadata": {},
     "output_type": "execute_result"
    }
   ],
   "source": [
    "s6 | s7"
   ]
  },
  {
   "cell_type": "code",
   "execution_count": 91,
   "id": "30fcd35b-7b16-4183-b461-8cbc056e05cd",
   "metadata": {},
   "outputs": [
    {
     "data": {
      "text/plain": [
       "{1, 2, 3, 4, 5, 6, 7, 8, 9, 10}"
      ]
     },
     "execution_count": 91,
     "metadata": {},
     "output_type": "execute_result"
    }
   ],
   "source": [
    "s6|s7|s8"
   ]
  },
  {
   "cell_type": "code",
   "execution_count": 93,
   "id": "bc2e17bf-db92-4fe9-953b-e965c4c9ea44",
   "metadata": {},
   "outputs": [
    {
     "name": "stdout",
     "output_type": "stream",
     "text": [
      "{1, 2, 3, 4, 5}\n",
      "{4, 5, 6, 7, 8}\n",
      "{8, 9, 10}\n"
     ]
    }
   ],
   "source": [
    "print(s6)\n",
    "print(s7)\n",
    "print(s8)"
   ]
  },
  {
   "cell_type": "code",
   "execution_count": 95,
   "id": "6f671f83-aadb-43d5-8081-bcc3dea4b5b2",
   "metadata": {},
   "outputs": [
    {
     "data": {
      "text/plain": [
       "{4, 5}"
      ]
     },
     "execution_count": 95,
     "metadata": {},
     "output_type": "execute_result"
    }
   ],
   "source": [
    "s6.intersection(s7)"
   ]
  },
  {
   "cell_type": "code",
   "execution_count": 97,
   "id": "56fc079d-5959-4aa8-9e11-ac95618509dd",
   "metadata": {},
   "outputs": [
    {
     "data": {
      "text/plain": [
       "{8}"
      ]
     },
     "execution_count": 97,
     "metadata": {},
     "output_type": "execute_result"
    }
   ],
   "source": [
    "s7.intersection(s8)"
   ]
  },
  {
   "cell_type": "code",
   "execution_count": 99,
   "id": "f1f8f769-2246-47df-8393-c1e18acbe28d",
   "metadata": {},
   "outputs": [
    {
     "data": {
      "text/plain": [
       "set()"
      ]
     },
     "execution_count": 99,
     "metadata": {},
     "output_type": "execute_result"
    }
   ],
   "source": [
    "s6.intersection(s8)"
   ]
  },
  {
   "cell_type": "code",
   "execution_count": 101,
   "id": "bbdf1851-3cac-4471-b18e-3acd069c3623",
   "metadata": {},
   "outputs": [
    {
     "data": {
      "text/plain": [
       "{4, 5}"
      ]
     },
     "execution_count": 101,
     "metadata": {},
     "output_type": "execute_result"
    }
   ],
   "source": [
    "s6 & s7"
   ]
  },
  {
   "cell_type": "code",
   "execution_count": 103,
   "id": "30d546de-2209-4e3e-a857-37709a41b584",
   "metadata": {},
   "outputs": [
    {
     "name": "stdout",
     "output_type": "stream",
     "text": [
      "{1, 2, 3, 4, 5}\n",
      "{4, 5, 6, 7, 8}\n",
      "{8, 9, 10}\n"
     ]
    }
   ],
   "source": [
    "print(s6)\n",
    "print(s7)\n",
    "print(s8)"
   ]
  },
  {
   "cell_type": "code",
   "execution_count": 105,
   "id": "48ca626e-af11-4c58-a6c4-b84cc3750f55",
   "metadata": {},
   "outputs": [
    {
     "data": {
      "text/plain": [
       "{1, 2, 3}"
      ]
     },
     "execution_count": 105,
     "metadata": {},
     "output_type": "execute_result"
    }
   ],
   "source": [
    "s6.difference(s7)"
   ]
  },
  {
   "cell_type": "code",
   "execution_count": 107,
   "id": "f46d3b54-73bb-4b33-a6b7-9c3b405b4964",
   "metadata": {},
   "outputs": [
    {
     "data": {
      "text/plain": [
       "{1, 2, 3}"
      ]
     },
     "execution_count": 107,
     "metadata": {},
     "output_type": "execute_result"
    }
   ],
   "source": [
    "s6-s7"
   ]
  },
  {
   "cell_type": "code",
   "execution_count": 109,
   "id": "adbc5c92-fe09-400d-9315-676135139bb9",
   "metadata": {},
   "outputs": [
    {
     "data": {
      "text/plain": [
       "{4, 5, 6, 7}"
      ]
     },
     "execution_count": 109,
     "metadata": {},
     "output_type": "execute_result"
    }
   ],
   "source": [
    "s7-s8"
   ]
  },
  {
   "cell_type": "code",
   "execution_count": 111,
   "id": "3af44376-ad15-406c-9763-1ff8e4bc9b11",
   "metadata": {},
   "outputs": [
    {
     "data": {
      "text/plain": [
       "{9, 10}"
      ]
     },
     "execution_count": 111,
     "metadata": {},
     "output_type": "execute_result"
    }
   ],
   "source": [
    "s8-s7"
   ]
  },
  {
   "cell_type": "code",
   "execution_count": 113,
   "id": "a41e51b5-2aee-4b6c-8e75-8340b0ad40e8",
   "metadata": {},
   "outputs": [
    {
     "name": "stdout",
     "output_type": "stream",
     "text": [
      "{1, 2, 3, 4, 5}\n",
      "{4, 5, 6, 7, 8}\n",
      "{8, 9, 10}\n"
     ]
    }
   ],
   "source": [
    "print(s6)\n",
    "print(s7)\n",
    "print(s8)"
   ]
  },
  {
   "cell_type": "code",
   "execution_count": 115,
   "id": "248dc9b4-93b8-4be5-b1ca-16d599e1f9a9",
   "metadata": {},
   "outputs": [
    {
     "data": {
      "text/plain": [
       "{1, 2, 3, 6, 7, 8}"
      ]
     },
     "execution_count": 115,
     "metadata": {},
     "output_type": "execute_result"
    }
   ],
   "source": [
    "s6.symmetric_difference(s7)"
   ]
  },
  {
   "cell_type": "code",
   "execution_count": 1,
   "id": "18c1e3a7-13b8-439d-883b-d8ee60a3116e",
   "metadata": {},
   "outputs": [],
   "source": [
    "# 10 March"
   ]
  },
  {
   "cell_type": "markdown",
   "id": "817ff96a-2415-4e7f-9a68-6a2c1906b4c8",
   "metadata": {},
   "source": [
    "#  --superset\n",
    "#   --subset\n",
    "#   --disjoint"
   ]
  },
  {
   "cell_type": "code",
   "execution_count": 6,
   "id": "4cb6de26-4394-4380-8ec9-44d2a8bec2a7",
   "metadata": {},
   "outputs": [],
   "source": [
    "s11={1,2,3,4,5,6,7,8,9}\n",
    "s12={3,4,5,6,7,8}\n",
    "s13={10,20,30,40}"
   ]
  },
  {
   "cell_type": "code",
   "execution_count": 8,
   "id": "7fcfd1a3-7a72-4773-9a8b-b00a449857a6",
   "metadata": {},
   "outputs": [
    {
     "data": {
      "text/plain": [
       "True"
      ]
     },
     "execution_count": 8,
     "metadata": {},
     "output_type": "execute_result"
    }
   ],
   "source": [
    "s12.issubset(s11)"
   ]
  },
  {
   "cell_type": "code",
   "execution_count": 10,
   "id": "3e555d4a-adf2-4513-9e3c-f914a68bb8b4",
   "metadata": {},
   "outputs": [
    {
     "data": {
      "text/plain": [
       "False"
      ]
     },
     "execution_count": 10,
     "metadata": {},
     "output_type": "execute_result"
    }
   ],
   "source": [
    "s11.issubset(s12)"
   ]
  },
  {
   "cell_type": "code",
   "execution_count": 12,
   "id": "971c4d03-46e7-49c5-bfe8-15a844ccb82e",
   "metadata": {},
   "outputs": [
    {
     "data": {
      "text/plain": [
       "True"
      ]
     },
     "execution_count": 12,
     "metadata": {},
     "output_type": "execute_result"
    }
   ],
   "source": [
    "s11.issuperset(s12)"
   ]
  },
  {
   "cell_type": "code",
   "execution_count": 14,
   "id": "59ca4d46-297c-4b08-8923-02ee602a38b4",
   "metadata": {},
   "outputs": [
    {
     "data": {
      "text/plain": [
       "True"
      ]
     },
     "execution_count": 14,
     "metadata": {},
     "output_type": "execute_result"
    }
   ],
   "source": [
    "s13.isdisjoint(s12)"
   ]
  },
  {
   "cell_type": "code",
   "execution_count": 16,
   "id": "401d51ac-eacf-4b1a-9689-db75868636ca",
   "metadata": {},
   "outputs": [
    {
     "data": {
      "text/plain": [
       "False"
      ]
     },
     "execution_count": 16,
     "metadata": {},
     "output_type": "execute_result"
    }
   ],
   "source": [
    "s12.issuperset(s11)"
   ]
  },
  {
   "cell_type": "code",
   "execution_count": 18,
   "id": "351e26b9-f439-4308-af05-ca67e6fbac8f",
   "metadata": {},
   "outputs": [
    {
     "data": {
      "text/plain": [
       "True"
      ]
     },
     "execution_count": 18,
     "metadata": {},
     "output_type": "execute_result"
    }
   ],
   "source": [
    "s13.isdisjoint(s11)"
   ]
  },
  {
   "cell_type": "code",
   "execution_count": 20,
   "id": "be56bd98-1554-4f0b-bafa-bb680193d606",
   "metadata": {},
   "outputs": [
    {
     "name": "stdout",
     "output_type": "stream",
     "text": [
      "1\n",
      "2\n",
      "3\n",
      "4\n",
      "5\n",
      "6\n",
      "7\n",
      "8\n",
      "9\n"
     ]
    }
   ],
   "source": [
    "for i in s11:\n",
    "    print(i)"
   ]
  },
  {
   "cell_type": "code",
   "execution_count": 22,
   "id": "8cfaa742-b0fb-4db9-98a6-c7c2d1a590f6",
   "metadata": {},
   "outputs": [
    {
     "name": "stdout",
     "output_type": "stream",
     "text": [
      "(0, 1)\n",
      "(1, 2)\n",
      "(2, 3)\n",
      "(3, 4)\n",
      "(4, 5)\n",
      "(5, 6)\n",
      "(6, 7)\n",
      "(7, 8)\n",
      "(8, 9)\n"
     ]
    }
   ],
   "source": [
    "for i in enumerate(s11):\n",
    "    print(i)"
   ]
  },
  {
   "cell_type": "code",
   "execution_count": 24,
   "id": "2e41a1a2-a373-47f4-b947-38980767ccd6",
   "metadata": {},
   "outputs": [
    {
     "data": {
      "text/plain": [
       "45"
      ]
     },
     "execution_count": 24,
     "metadata": {},
     "output_type": "execute_result"
    }
   ],
   "source": [
    "sum(s11)"
   ]
  },
  {
   "cell_type": "code",
   "execution_count": 26,
   "id": "74dad418-3b42-434f-b953-c7044767c089",
   "metadata": {},
   "outputs": [
    {
     "data": {
      "text/plain": [
       "1"
      ]
     },
     "execution_count": 26,
     "metadata": {},
     "output_type": "execute_result"
    }
   ],
   "source": [
    "min(s11)"
   ]
  },
  {
   "cell_type": "code",
   "execution_count": 28,
   "id": "17f2f82b-a805-4f7e-9d9b-a2690d5552ba",
   "metadata": {},
   "outputs": [
    {
     "data": {
      "text/plain": [
       "9"
      ]
     },
     "execution_count": 28,
     "metadata": {},
     "output_type": "execute_result"
    }
   ],
   "source": [
    "len(s11)"
   ]
  },
  {
   "cell_type": "code",
   "execution_count": 30,
   "id": "c8dd57b0-5350-43f6-8aee-a6cc908a1190",
   "metadata": {},
   "outputs": [
    {
     "data": {
      "text/plain": [
       "9"
      ]
     },
     "execution_count": 30,
     "metadata": {},
     "output_type": "execute_result"
    }
   ],
   "source": [
    "max(s11)"
   ]
  },
  {
   "cell_type": "markdown",
   "id": "959499ff-dd2b-4fea-b795-b302b499c954",
   "metadata": {},
   "source": [
    "# Dictionary"
   ]
  },
  {
   "cell_type": "code",
   "execution_count": 33,
   "id": "cc1e93ed-b6f9-4809-85b7-e699ca69d072",
   "metadata": {},
   "outputs": [
    {
     "data": {
      "text/plain": [
       "{}"
      ]
     },
     "execution_count": 33,
     "metadata": {},
     "output_type": "execute_result"
    }
   ],
   "source": [
    "d={}\n",
    "d"
   ]
  },
  {
   "cell_type": "code",
   "execution_count": 35,
   "id": "98a32a42-8b7a-4354-b35c-9334c36aaf5a",
   "metadata": {},
   "outputs": [
    {
     "data": {
      "text/plain": [
       "dict"
      ]
     },
     "execution_count": 35,
     "metadata": {},
     "output_type": "execute_result"
    }
   ],
   "source": [
    "type(d)"
   ]
  },
  {
   "cell_type": "code",
   "execution_count": 37,
   "id": "17f9c230-f82c-4836-b7db-f76014aa1526",
   "metadata": {},
   "outputs": [
    {
     "data": {
      "text/plain": [
       "{1: 'one', 2: 'two', 3: 'three'}"
      ]
     },
     "execution_count": 37,
     "metadata": {},
     "output_type": "execute_result"
    }
   ],
   "source": [
    "d1={1:'one',2:'two',3:'three'}\n",
    "d1"
   ]
  },
  {
   "cell_type": "code",
   "execution_count": 39,
   "id": "d876deee-017c-4011-8f8d-f9a47f102ea8",
   "metadata": {},
   "outputs": [
    {
     "data": {
      "text/plain": [
       "dict_keys([1, 2, 3])"
      ]
     },
     "execution_count": 39,
     "metadata": {},
     "output_type": "execute_result"
    }
   ],
   "source": [
    "d1.keys()"
   ]
  },
  {
   "cell_type": "code",
   "execution_count": 41,
   "id": "0646da91-fd18-4211-8a2d-2ec3bdd1ac75",
   "metadata": {},
   "outputs": [
    {
     "data": {
      "text/plain": [
       "dict_values(['one', 'two', 'three'])"
      ]
     },
     "execution_count": 41,
     "metadata": {},
     "output_type": "execute_result"
    }
   ],
   "source": [
    "d1.values()"
   ]
  },
  {
   "cell_type": "code",
   "execution_count": 43,
   "id": "fcce3772-a618-49b0-b93c-66f297f35777",
   "metadata": {},
   "outputs": [
    {
     "data": {
      "text/plain": [
       "{1: 'one', 2: 'two', 3: 'three'}"
      ]
     },
     "execution_count": 43,
     "metadata": {},
     "output_type": "execute_result"
    }
   ],
   "source": [
    "d2=d1.copy()\n",
    "d2"
   ]
  },
  {
   "cell_type": "code",
   "execution_count": 45,
   "id": "b6bab1fb-2ccc-4ff4-93d9-514516df3437",
   "metadata": {},
   "outputs": [
    {
     "data": {
      "text/plain": [
       "dict_items([(1, 'one'), (2, 'two'), (3, 'three')])"
      ]
     },
     "execution_count": 45,
     "metadata": {},
     "output_type": "execute_result"
    }
   ],
   "source": [
    "d1.items()"
   ]
  },
  {
   "cell_type": "code",
   "execution_count": 47,
   "id": "d5fe79eb-2f5d-4fb9-aa46-de521896b50e",
   "metadata": {},
   "outputs": [
    {
     "data": {
      "text/plain": [
       "'one'"
      ]
     },
     "execution_count": 47,
     "metadata": {},
     "output_type": "execute_result"
    }
   ],
   "source": [
    "d1[1]"
   ]
  },
  {
   "cell_type": "code",
   "execution_count": null,
   "id": "96507d23-dd05-411e-b8ee-59c88a9f6cb9",
   "metadata": {},
   "outputs": [],
   "source": []
  },
  {
   "cell_type": "code",
   "execution_count": null,
   "id": "e4773267-fdf9-4e60-a5c4-de0ce5328778",
   "metadata": {},
   "outputs": [],
   "source": []
  },
  {
   "cell_type": "code",
   "execution_count": null,
   "id": "68be8e3d-0d5d-4d23-b7c0-dacbddc07de6",
   "metadata": {},
   "outputs": [],
   "source": []
  },
  {
   "cell_type": "code",
   "execution_count": null,
   "id": "defdf03d-56bd-494d-b6e1-e99747e021ff",
   "metadata": {},
   "outputs": [],
   "source": []
  },
  {
   "cell_type": "code",
   "execution_count": null,
   "id": "29f89831-431e-4e57-b62d-0f4d5fc6aa09",
   "metadata": {},
   "outputs": [],
   "source": []
  },
  {
   "cell_type": "code",
   "execution_count": null,
   "id": "e09c67f2-50a9-4f4f-8db1-fec0a5fd58ce",
   "metadata": {},
   "outputs": [],
   "source": []
  },
  {
   "cell_type": "code",
   "execution_count": null,
   "id": "f6be79ef-e60e-464f-878d-3427a83d778d",
   "metadata": {},
   "outputs": [],
   "source": []
  },
  {
   "cell_type": "code",
   "execution_count": null,
   "id": "2d19be60-bd56-4b39-83ec-61328466c8cd",
   "metadata": {},
   "outputs": [],
   "source": []
  },
  {
   "cell_type": "code",
   "execution_count": null,
   "id": "e43c40ab-e7af-4b78-bcda-e5fef5f051e6",
   "metadata": {},
   "outputs": [],
   "source": []
  },
  {
   "cell_type": "code",
   "execution_count": null,
   "id": "a61246a8-7aae-402c-83ec-4ca4ab758f2f",
   "metadata": {},
   "outputs": [],
   "source": []
  }
 ],
 "metadata": {
  "kernelspec": {
   "display_name": "Python [conda env:base] *",
   "language": "python",
   "name": "conda-base-py"
  },
  "language_info": {
   "codemirror_mode": {
    "name": "ipython",
    "version": 3
   },
   "file_extension": ".py",
   "mimetype": "text/x-python",
   "name": "python",
   "nbconvert_exporter": "python",
   "pygments_lexer": "ipython3",
   "version": "3.12.7"
  }
 },
 "nbformat": 4,
 "nbformat_minor": 5
}
