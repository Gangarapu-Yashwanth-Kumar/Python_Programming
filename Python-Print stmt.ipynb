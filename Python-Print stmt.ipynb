{
 "cells": [
  {
   "cell_type": "code",
   "execution_count": 1,
   "id": "07a0037c-a757-4236-9f0d-9c7d481db4b9",
   "metadata": {},
   "outputs": [
    {
     "name": "stdout",
     "output_type": "stream",
     "text": [
      "20\n",
      "40\n",
      "20 40\n",
      "20 , 40\n"
     ]
    }
   ],
   "source": [
    "a=20\n",
    "b=40\n",
    "print(a)\n",
    "print(b)\n",
    "print(a,b)\n",
    "print(a,',',b)"
   ]
  },
  {
   "cell_type": "code",
   "execution_count": 3,
   "id": "bf2b052a-6ec2-45ae-a0bd-8b26ff524240",
   "metadata": {},
   "outputs": [
    {
     "name": "stdout",
     "output_type": "stream",
     "text": [
      "-20\n",
      "60\n"
     ]
    }
   ],
   "source": [
    "c=a+b\n",
    "print(a-b)\n",
    "print(c)\n"
   ]
  },
  {
   "cell_type": "markdown",
   "id": "332d1b23-5bc5-4f64-969f-df13edf6c8c3",
   "metadata": {},
   "source": [
    "# Print statement with String"
   ]
  },
  {
   "cell_type": "code",
   "execution_count": 6,
   "id": "bf1afe48-ae84-4755-916b-2894d45fec21",
   "metadata": {},
   "outputs": [
    {
     "name": "stdout",
     "output_type": "stream",
     "text": [
      "The addition of 40 and 80 is 120\n"
     ]
    }
   ],
   "source": [
    "n1=40\n",
    "n2=80\n",
    "add=n1+n2\n",
    "print('The addition of',n1,'and',n2,'is',add)"
   ]
  },
  {
   "cell_type": "code",
   "execution_count": 26,
   "id": "7428884c-8b1a-4ee7-8e60-f2c1a0cc4a83",
   "metadata": {},
   "outputs": [
    {
     "name": "stdout",
     "output_type": "stream",
     "text": [
      "My name is Yashwanth Kumar. And iam 24 years old. I live in HYD, T.G. I am a Student. My interest is Cricket.\n"
     ]
    }
   ],
   "source": [
    "name='Yashwanth Kumar.'\n",
    "age='24'\n",
    "place='HYD,'\n",
    "state='T.G.'\n",
    "occupation='Student.'\n",
    "interest='Cricket.'\n",
    "print('My name is', name, 'And iam', age, 'years old.','I live in',place,state,'I am a',occupation,'My interest is',interest)\n"
   ]
  },
  {
   "cell_type": "code",
   "execution_count": 28,
   "id": "0ef92ffb-c164-4db3-86d4-9d6d10cf1641",
   "metadata": {},
   "outputs": [
    {
     "name": "stdout",
     "output_type": "stream",
     "text": [
      "The Average of 35,45 and 55 is=45.0\n"
     ]
    }
   ],
   "source": [
    "x1=35\n",
    "x2=45\n",
    "x3=55\n",
    "avg=round((x1+x2+x3)/3,2)\n",
    "print(f'The Average of {x1},{x2} and {x3} is={avg}')"
   ]
  },
  {
   "cell_type": "markdown",
   "id": "0f4bd02a-227a-4d00-9aca-75cf983693bb",
   "metadata": {},
   "source": [
    "# Print with ''End Statement''"
   ]
  },
  {
   "cell_type": "code",
   "execution_count": 31,
   "id": "84ccdfe3-0d01-46eb-856f-e7634158eb4f",
   "metadata": {},
   "outputs": [
    {
     "name": "stdout",
     "output_type": "stream",
     "text": [
      "Hello Good Morning!\n"
     ]
    }
   ],
   "source": [
    "print('Hello',end=' ')\n",
    "print('Good Morning!')"
   ]
  },
  {
   "cell_type": "code",
   "execution_count": 33,
   "id": "37926ebb-84df-4fba-8600-6a6c5f098665",
   "metadata": {},
   "outputs": [
    {
     "name": "stdout",
     "output_type": "stream",
     "text": [
      "Hello ,Good Morning\n",
      "Yash!\n"
     ]
    }
   ],
   "source": [
    "print('Hello',end=' ,')\n",
    "print('Good Morning')\n",
    "print('Yash!')"
   ]
  },
  {
   "cell_type": "markdown",
   "id": "93863b8c-2860-48d8-8e68-8939c9766373",
   "metadata": {},
   "source": [
    "# Print with '' Seperator''"
   ]
  },
  {
   "cell_type": "code",
   "execution_count": 36,
   "id": "78dea44c-74f3-450d-975a-d29f6ea72b70",
   "metadata": {},
   "outputs": [
    {
     "name": "stdout",
     "output_type": "stream",
     "text": [
      "one----.two----.three----.four\n"
     ]
    }
   ],
   "source": [
    "print('one','two','three','four',sep='----.')"
   ]
  },
  {
   "cell_type": "code",
   "execution_count": 42,
   "id": "3aff73c0-9fc3-4e7a-b21d-8e80c5f805f9",
   "metadata": {},
   "outputs": [
    {
     "name": "stdout",
     "output_type": "stream",
     "text": [
      "Yashwanth**PRIST College**Chennai.\n"
     ]
    }
   ],
   "source": [
    "print('Yashwanth','PRIST College','Chennai.',sep='**')"
   ]
  },
  {
   "cell_type": "code",
   "execution_count": null,
   "id": "6aea46f1-53c7-474d-99e6-e67083e62992",
   "metadata": {},
   "outputs": [],
   "source": []
  },
  {
   "cell_type": "code",
   "execution_count": null,
   "id": "5cfc108c-ab9e-4d80-89f2-d64b0b217578",
   "metadata": {},
   "outputs": [],
   "source": []
  }
 ],
 "metadata": {
  "kernelspec": {
   "display_name": "Python [conda env:base] *",
   "language": "python",
   "name": "conda-base-py"
  },
  "language_info": {
   "codemirror_mode": {
    "name": "ipython",
    "version": 3
   },
   "file_extension": ".py",
   "mimetype": "text/x-python",
   "name": "python",
   "nbconvert_exporter": "python",
   "pygments_lexer": "ipython3",
   "version": "3.12.7"
  }
 },
 "nbformat": 4,
 "nbformat_minor": 5
}
