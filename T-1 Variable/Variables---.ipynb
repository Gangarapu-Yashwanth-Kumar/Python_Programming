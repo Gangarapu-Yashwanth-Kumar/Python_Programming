{
 "cells": [
  {
   "cell_type": "markdown",
   "id": "7d72b181-313c-417f-8d6a-19925c63065f",
   "metadata": {},
   "source": [
    "# Variables"
   ]
  },
  {
   "cell_type": "code",
   "execution_count": 1,
   "id": "8741a681-02f0-472d-b753-971abe3711d7",
   "metadata": {},
   "outputs": [],
   "source": [
    "# Variable_name = Value"
   ]
  },
  {
   "cell_type": "code",
   "execution_count": 3,
   "id": "39316551-9ff1-4dfb-ba37-af084b906950",
   "metadata": {},
   "outputs": [
    {
     "name": "stdout",
     "output_type": "stream",
     "text": [
      "2025\n"
     ]
    }
   ],
   "source": [
    "year=2025              #Integer Variable\n",
    "print(year)"
   ]
  },
  {
   "cell_type": "code",
   "execution_count": 5,
   "id": "106a31a3-3269-4947-bd20-1d7f24cd4b92",
   "metadata": {},
   "outputs": [
    {
     "name": "stdout",
     "output_type": "stream",
     "text": [
      "100000.0\n"
     ]
    }
   ],
   "source": [
    "amount=100000.00       #Float Variable\n",
    "print(amount)"
   ]
  },
  {
   "cell_type": "code",
   "execution_count": 7,
   "id": "a756f5ed-7a8f-420d-bc22-4dcfc883323f",
   "metadata": {},
   "outputs": [
    {
     "name": "stdout",
     "output_type": "stream",
     "text": [
      "True\n"
     ]
    }
   ],
   "source": [
    "active=True            #Boolean  Variable\n",
    "print(active)"
   ]
  },
  {
   "cell_type": "code",
   "execution_count": 9,
   "id": "02383763-5683-41ab-91e7-1ef0908d7148",
   "metadata": {},
   "outputs": [
    {
     "name": "stdout",
     "output_type": "stream",
     "text": [
      "yashwanth\n"
     ]
    }
   ],
   "source": [
    "name='yashwanth'       #String Variable\n",
    "print(name)"
   ]
  },
  {
   "cell_type": "code",
   "execution_count": 13,
   "id": "4bd68adb-b13f-4ccd-a1d6-56a3ea6967c8",
   "metadata": {},
   "outputs": [
    {
     "data": {
      "text/plain": [
       "(1+2j)"
      ]
     },
     "execution_count": 13,
     "metadata": {},
     "output_type": "execute_result"
    }
   ],
   "source": [
    "a=1+2j                 #Complex Variable\n",
    "a"
   ]
  },
  {
   "cell_type": "code",
   "execution_count": 33,
   "id": "d7e029a9-c6f5-4468-b210-9f5109f8a2d3",
   "metadata": {},
   "outputs": [],
   "source": [
    "#Varibales are case sensitive"
   ]
  },
  {
   "cell_type": "code",
   "execution_count": 5,
   "id": "a8633cea-2b9a-4f82-b800-32536b9b9d6e",
   "metadata": {},
   "outputs": [
    {
     "data": {
      "text/plain": [
       "10"
      ]
     },
     "execution_count": 5,
     "metadata": {},
     "output_type": "execute_result"
    }
   ],
   "source": [
    "small_letters=10\n",
    "small_letters"
   ]
  },
  {
   "cell_type": "code",
   "execution_count": 7,
   "id": "fda54ada-72ee-4c9c-8eee-b438fe78b8a0",
   "metadata": {},
   "outputs": [
    {
     "data": {
      "text/plain": [
       "10"
      ]
     },
     "execution_count": 7,
     "metadata": {},
     "output_type": "execute_result"
    }
   ],
   "source": [
    "CAPITAL_LETTERS=10\n",
    "CAPITAL_LETTERS"
   ]
  },
  {
   "cell_type": "code",
   "execution_count": 11,
   "id": "3a834bb6-69e9-4acc-bbf7-025cd6976034",
   "metadata": {},
   "outputs": [
    {
     "ename": "NameError",
     "evalue": "name 'LETTERS' is not defined",
     "output_type": "error",
     "traceback": [
      "\u001b[1;31m---------------------------------------------------------------------------\u001b[0m",
      "\u001b[1;31mNameError\u001b[0m                                 Traceback (most recent call last)",
      "Cell \u001b[1;32mIn[11], line 1\u001b[0m\n\u001b[1;32m----> 1\u001b[0m LETTERS\n",
      "\u001b[1;31mNameError\u001b[0m: name 'LETTERS' is not defined"
     ]
    }
   ],
   "source": [
    "LETTERS"
   ]
  },
  {
   "cell_type": "code",
   "execution_count": 35,
   "id": "72ebc143-d225-4863-b021-b1561b5c5698",
   "metadata": {},
   "outputs": [],
   "source": [
    "#Variables can't start with digits but can end with digits"
   ]
  },
  {
   "cell_type": "code",
   "execution_count": 13,
   "id": "54c76a74-4303-482c-8408-8f8661d5ea1c",
   "metadata": {},
   "outputs": [
    {
     "ename": "SyntaxError",
     "evalue": "invalid decimal literal (2025420790.py, line 1)",
     "output_type": "error",
     "traceback": [
      "\u001b[1;36m  Cell \u001b[1;32mIn[13], line 1\u001b[1;36m\u001b[0m\n\u001b[1;33m    1a=10\u001b[0m\n\u001b[1;37m    ^\u001b[0m\n\u001b[1;31mSyntaxError\u001b[0m\u001b[1;31m:\u001b[0m invalid decimal literal\n"
     ]
    }
   ],
   "source": [
    "1a=10\n",
    "1a"
   ]
  },
  {
   "cell_type": "code",
   "execution_count": 15,
   "id": "41516522-7e39-477c-9e56-bdcbaf6779f9",
   "metadata": {},
   "outputs": [
    {
     "data": {
      "text/plain": [
       "10"
      ]
     },
     "execution_count": 15,
     "metadata": {},
     "output_type": "execute_result"
    }
   ],
   "source": [
    "a1=10\n",
    "a1"
   ]
  },
  {
   "cell_type": "code",
   "execution_count": 37,
   "id": "e2380dc1-5014-457a-a3cd-2ec5a05b0f61",
   "metadata": {},
   "outputs": [],
   "source": [
    "#Special symbols are not allowed to define except _ (underscore)"
   ]
  },
  {
   "cell_type": "code",
   "execution_count": 21,
   "id": "fbd7e849-6d8c-4669-8924-fd04640d7323",
   "metadata": {},
   "outputs": [
    {
     "data": {
      "text/plain": [
       "24"
      ]
     },
     "execution_count": 21,
     "metadata": {},
     "output_type": "execute_result"
    }
   ],
   "source": [
    "age_=24\n",
    "age_"
   ]
  },
  {
   "cell_type": "code",
   "execution_count": 19,
   "id": "3fdc84c8-380c-432f-9ed9-188efae0ce3e",
   "metadata": {},
   "outputs": [
    {
     "ename": "SyntaxError",
     "evalue": "invalid syntax (1520820098.py, line 1)",
     "output_type": "error",
     "traceback": [
      "\u001b[1;36m  Cell \u001b[1;32mIn[19], line 1\u001b[1;36m\u001b[0m\n\u001b[1;33m    age$=24\u001b[0m\n\u001b[1;37m       ^\u001b[0m\n\u001b[1;31mSyntaxError\u001b[0m\u001b[1;31m:\u001b[0m invalid syntax\n"
     ]
    }
   ],
   "source": [
    "age$=24\n",
    "age$"
   ]
  },
  {
   "cell_type": "code",
   "execution_count": 39,
   "id": "157d57cd-3997-4601-a89b-fe04048a1b3d",
   "metadata": {},
   "outputs": [],
   "source": [
    "#Keywords can't be used"
   ]
  },
  {
   "cell_type": "code",
   "execution_count": 23,
   "id": "a329e074-fe57-461c-afd1-3d695d9e878f",
   "metadata": {},
   "outputs": [
    {
     "ename": "SyntaxError",
     "evalue": "invalid syntax (2983687664.py, line 1)",
     "output_type": "error",
     "traceback": [
      "\u001b[1;36m  Cell \u001b[1;32mIn[23], line 1\u001b[1;36m\u001b[0m\n\u001b[1;33m    if=10\u001b[0m\n\u001b[1;37m      ^\u001b[0m\n\u001b[1;31mSyntaxError\u001b[0m\u001b[1;31m:\u001b[0m invalid syntax\n"
     ]
    }
   ],
   "source": [
    "if=10\n",
    "if"
   ]
  },
  {
   "cell_type": "code",
   "execution_count": 25,
   "id": "862d1be4-3d63-4452-80d0-14bbd747b3ce",
   "metadata": {},
   "outputs": [
    {
     "data": {
      "text/plain": [
       "['False',\n",
       " 'None',\n",
       " 'True',\n",
       " 'and',\n",
       " 'as',\n",
       " 'assert',\n",
       " 'async',\n",
       " 'await',\n",
       " 'break',\n",
       " 'class',\n",
       " 'continue',\n",
       " 'def',\n",
       " 'del',\n",
       " 'elif',\n",
       " 'else',\n",
       " 'except',\n",
       " 'finally',\n",
       " 'for',\n",
       " 'from',\n",
       " 'global',\n",
       " 'if',\n",
       " 'import',\n",
       " 'in',\n",
       " 'is',\n",
       " 'lambda',\n",
       " 'nonlocal',\n",
       " 'not',\n",
       " 'or',\n",
       " 'pass',\n",
       " 'raise',\n",
       " 'return',\n",
       " 'try',\n",
       " 'while',\n",
       " 'with',\n",
       " 'yield']"
      ]
     },
     "execution_count": 25,
     "metadata": {},
     "output_type": "execute_result"
    }
   ],
   "source": [
    "import keyword\n",
    "keyword.kwlist"
   ]
  },
  {
   "cell_type": "code",
   "execution_count": 31,
   "id": "21b73056-afef-4def-a8c6-fe1bc157e472",
   "metadata": {},
   "outputs": [],
   "source": [
    "#Storing and Printing value"
   ]
  },
  {
   "cell_type": "code",
   "execution_count": 27,
   "id": "96433df0-b1cc-42ee-9a7a-e05fd0d1a41b",
   "metadata": {},
   "outputs": [
    {
     "name": "stdout",
     "output_type": "stream",
     "text": [
      "10\n"
     ]
    }
   ],
   "source": [
    "x=10\n",
    "print(x)"
   ]
  },
  {
   "cell_type": "code",
   "execution_count": 42,
   "id": "fd2b2980-00ca-4c49-8a9c-10d4a47887d5",
   "metadata": {},
   "outputs": [],
   "source": [
    "# Using variables in expressions"
   ]
  },
  {
   "cell_type": "code",
   "execution_count": 44,
   "id": "e9091107-0d31-4dd7-aa86-db77e24a59a2",
   "metadata": {},
   "outputs": [
    {
     "name": "stdout",
     "output_type": "stream",
     "text": [
      "10\n"
     ]
    }
   ],
   "source": [
    "a=4\n",
    "b=6\n",
    "print(a+b)"
   ]
  },
  {
   "cell_type": "code",
   "execution_count": 46,
   "id": "c4d17879-5626-4c9c-82d2-4f8e77d4ff25",
   "metadata": {},
   "outputs": [],
   "source": [
    "#Changing value of a variable"
   ]
  },
  {
   "cell_type": "code",
   "execution_count": 48,
   "id": "4c748216-bddb-43ab-b5fd-22980bc22fcf",
   "metadata": {},
   "outputs": [
    {
     "data": {
      "text/plain": [
       "20"
      ]
     },
     "execution_count": 48,
     "metadata": {},
     "output_type": "execute_result"
    }
   ],
   "source": [
    "value=20\n",
    "value"
   ]
  },
  {
   "cell_type": "code",
   "execution_count": 50,
   "id": "8b5ea3c0-a5d8-4a77-8290-a63fda33206a",
   "metadata": {},
   "outputs": [
    {
     "data": {
      "text/plain": [
       "50"
      ]
     },
     "execution_count": 50,
     "metadata": {},
     "output_type": "execute_result"
    }
   ],
   "source": [
    "value=50\n",
    "value"
   ]
  },
  {
   "cell_type": "code",
   "execution_count": 54,
   "id": "d4803559-fdd6-4734-91bf-fc73cc2367a4",
   "metadata": {},
   "outputs": [
    {
     "name": "stdout",
     "output_type": "stream",
     "text": [
      "Yashwanth\n",
      "Kumar\n"
     ]
    }
   ],
   "source": [
    "a='Yashwanth'\n",
    "b='Kumar'\n",
    "print(a)\n",
    "print(b)"
   ]
  },
  {
   "cell_type": "code",
   "execution_count": 56,
   "id": "b396e618-d694-4fbc-b513-de19729a7e7a",
   "metadata": {},
   "outputs": [
    {
     "data": {
      "text/plain": [
       "'YashwanthKumar'"
      ]
     },
     "execution_count": 56,
     "metadata": {},
     "output_type": "execute_result"
    }
   ],
   "source": [
    "c=a+b\n",
    "c"
   ]
  },
  {
   "cell_type": "code",
   "execution_count": 17,
   "id": "dce4bc0f-a94b-41f9-8b0c-b8be0fa3320c",
   "metadata": {},
   "outputs": [],
   "source": [
    "# Concatenating Strings"
   ]
  },
  {
   "cell_type": "code",
   "execution_count": 27,
   "id": "9646e873-d8b3-4241-a807-66a48d5ba6c3",
   "metadata": {},
   "outputs": [
    {
     "name": "stdout",
     "output_type": "stream",
     "text": [
      "YashwanthKumar\n"
     ]
    }
   ],
   "source": [
    "first_name='Yashwanth'\n",
    "last_name='Kumar'\n",
    "full_name=first_name+'' ''+last_name\n",
    "print(full_name)"
   ]
  },
  {
   "cell_type": "code",
   "execution_count": 29,
   "id": "939747ee-f741-444c-8339-d67fb946529d",
   "metadata": {},
   "outputs": [],
   "source": [
    "# Using variable in calculation"
   ]
  },
  {
   "cell_type": "code",
   "execution_count": 33,
   "id": "8d9c41c4-16a3-44b4-87e8-0dbd6af8cf1b",
   "metadata": {},
   "outputs": [
    {
     "name": "stdout",
     "output_type": "stream",
     "text": [
      "200\n"
     ]
    }
   ],
   "source": [
    "lenght=20            #Calculating area of rectangle\n",
    "width=10\n",
    "area=lenght*width\n",
    "print(area)"
   ]
  },
  {
   "cell_type": "code",
   "execution_count": null,
   "id": "5bf75c1b-2407-49e2-a200-5f8c61189fc4",
   "metadata": {},
   "outputs": [],
   "source": []
  }
 ],
 "metadata": {
  "kernelspec": {
   "display_name": "Python [conda env:base] *",
   "language": "python",
   "name": "conda-base-py"
  },
  "language_info": {
   "codemirror_mode": {
    "name": "ipython",
    "version": 3
   },
   "file_extension": ".py",
   "mimetype": "text/x-python",
   "name": "python",
   "nbconvert_exporter": "python",
   "pygments_lexer": "ipython3",
   "version": "3.12.7"
  }
 },
 "nbformat": 4,
 "nbformat_minor": 5
}
