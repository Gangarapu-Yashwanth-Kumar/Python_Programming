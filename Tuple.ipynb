{
 "cells": [
  {
   "cell_type": "markdown",
   "id": "2912f743-198f-4848-861a-7fca16404a86",
   "metadata": {},
   "source": [
    "# Tuple "
   ]
  },
  {
   "cell_type": "raw",
   "id": "c565d715-4c5b-4ed3-9851-a970a8ad4f64",
   "metadata": {},
   "source": [
    "# 1.Tuple Creation\n",
    "# Remember always use ()"
   ]
  },
  {
   "cell_type": "code",
   "execution_count": 3,
   "id": "9a2b4dee-935a-4ddb-a523-a19e793f3b9f",
   "metadata": {},
   "outputs": [
    {
     "data": {
      "text/plain": [
       "()"
      ]
     },
     "execution_count": 3,
     "metadata": {},
     "output_type": "execute_result"
    }
   ],
   "source": [
    "t=()  # Empty tuple creation\n",
    "t"
   ]
  },
  {
   "cell_type": "code",
   "execution_count": 5,
   "id": "44076560-3178-4334-9196-6ccfa652c3a0",
   "metadata": {},
   "outputs": [
    {
     "data": {
      "text/plain": [
       "(1, 2, 3)"
      ]
     },
     "execution_count": 5,
     "metadata": {},
     "output_type": "execute_result"
    }
   ],
   "source": [
    "t1=(1,2,3)    # integer numbers\n",
    "t1"
   ]
  },
  {
   "cell_type": "code",
   "execution_count": 7,
   "id": "4e96fa26-ea44-4bd2-a24b-570be0cdf586",
   "metadata": {},
   "outputs": [
    {
     "data": {
      "text/plain": [
       "(1.5, 2.5, 3.5, 4.5, 5.5)"
      ]
     },
     "execution_count": 7,
     "metadata": {},
     "output_type": "execute_result"
    }
   ],
   "source": [
    "t2=(1.5,2.5,3.5,4.5,5.5,)     # float numbers\n",
    "t2"
   ]
  },
  {
   "cell_type": "code",
   "execution_count": 11,
   "id": "804bded3-50de-4ab7-a5ee-1b2a6f980e27",
   "metadata": {},
   "outputs": [
    {
     "data": {
      "text/plain": [
       "('Yash', 'yashu', 'cpl')"
      ]
     },
     "execution_count": 11,
     "metadata": {},
     "output_type": "execute_result"
    }
   ],
   "source": [
    "t3=('Yash','yashu','cpl') # string\n",
    "t3"
   ]
  },
  {
   "cell_type": "code",
   "execution_count": 13,
   "id": "6afda778-ffbc-4b5f-bebf-0dd76d79cb5c",
   "metadata": {},
   "outputs": [
    {
     "data": {
      "text/plain": [
       "(22, 35, 55, (65, 34, 57), (21, 98))"
      ]
     },
     "execution_count": 13,
     "metadata": {},
     "output_type": "execute_result"
    }
   ],
   "source": [
    "t4=(22,35,55,(65,34,57),(21,98)) # nested tuples\n",
    "t4"
   ]
  },
  {
   "cell_type": "code",
   "execution_count": 15,
   "id": "b1b6964a-a9ee-4f98-b4f7-b888ba754b2d",
   "metadata": {},
   "outputs": [
    {
     "data": {
      "text/plain": [
       "(10, 2.5, 'yash', (3+5j))"
      ]
     },
     "execution_count": 15,
     "metadata": {},
     "output_type": "execute_result"
    }
   ],
   "source": [
    "t5=(10,2.5,'yash',3+5j) # All data types\n",
    "t5"
   ]
  },
  {
   "cell_type": "code",
   "execution_count": 17,
   "id": "4fe55a5b-1637-4450-9727-0de4a7ec01a5",
   "metadata": {},
   "outputs": [
    {
     "data": {
      "text/plain": [
       "4"
      ]
     },
     "execution_count": 17,
     "metadata": {},
     "output_type": "execute_result"
    }
   ],
   "source": [
    "len(t5)"
   ]
  },
  {
   "cell_type": "raw",
   "id": "c1ac8b62-3fe2-41d0-b757-13b6cac5f4dc",
   "metadata": {},
   "source": [
    "# 2.Tuple Indeing"
   ]
  },
  {
   "cell_type": "code",
   "execution_count": 19,
   "id": "ee89df33-ea40-4523-8056-e2c7b1aede4e",
   "metadata": {},
   "outputs": [
    {
     "name": "stdout",
     "output_type": "stream",
     "text": [
      "()\n",
      "(1, 2, 3)\n",
      "(1.5, 2.5, 3.5, 4.5, 5.5)\n",
      "('Yash', 'yashu', 'cpl')\n",
      "(22, 35, 55, (65, 34, 57), (21, 98))\n",
      "(10, 2.5, 'yash', (3+5j))\n"
     ]
    }
   ],
   "source": [
    "print(t)\n",
    "print(t1)\n",
    "print(t2)\n",
    "print(t3)\n",
    "print(t4)\n",
    "print(t5)"
   ]
  },
  {
   "cell_type": "code",
   "execution_count": 21,
   "id": "707ceb98-ddb0-4cff-a696-a2818c44893e",
   "metadata": {},
   "outputs": [
    {
     "data": {
      "text/plain": [
       "(10, 20, 30, 40, 50, 60, 70, 80, 90, 100)"
      ]
     },
     "execution_count": 21,
     "metadata": {},
     "output_type": "execute_result"
    }
   ],
   "source": [
    "t1=(10,20,30,40,50,60,70,80,90,100)\n",
    "t1"
   ]
  },
  {
   "cell_type": "code",
   "execution_count": 23,
   "id": "14b637b9-3664-4016-b044-fda0b9eb1392",
   "metadata": {},
   "outputs": [
    {
     "data": {
      "text/plain": [
       "10"
      ]
     },
     "execution_count": 23,
     "metadata": {},
     "output_type": "execute_result"
    }
   ],
   "source": [
    "t1[0]"
   ]
  },
  {
   "cell_type": "code",
   "execution_count": 25,
   "id": "7ab8e3c3-9b73-4310-bd01-57cbffb45641",
   "metadata": {},
   "outputs": [
    {
     "data": {
      "text/plain": [
       "1"
      ]
     },
     "execution_count": 25,
     "metadata": {},
     "output_type": "execute_result"
    }
   ],
   "source": [
    "t1.count(10)"
   ]
  },
  {
   "cell_type": "code",
   "execution_count": 27,
   "id": "d9a6c43f-d4bc-4e9c-aed7-45ddf128ada0",
   "metadata": {},
   "outputs": [
    {
     "data": {
      "text/plain": [
       "100"
      ]
     },
     "execution_count": 27,
     "metadata": {},
     "output_type": "execute_result"
    }
   ],
   "source": [
    "t1[-1]"
   ]
  },
  {
   "cell_type": "code",
   "execution_count": 29,
   "id": "450fffa6-a6bd-4c56-9876-41e578dee59d",
   "metadata": {},
   "outputs": [
    {
     "name": "stdout",
     "output_type": "stream",
     "text": [
      "(0, 10)\n",
      "(1, 20)\n",
      "(2, 30)\n",
      "(3, 40)\n",
      "(4, 50)\n",
      "(5, 60)\n",
      "(6, 70)\n",
      "(7, 80)\n",
      "(8, 90)\n",
      "(9, 100)\n"
     ]
    }
   ],
   "source": [
    "for i in enumerate(t1):\n",
    "    print(i)"
   ]
  },
  {
   "cell_type": "raw",
   "id": "4f1b1e6b-a137-4c54-90ee-c89cff492a47",
   "metadata": {},
   "source": [
    "# 3. Tuple Slicing"
   ]
  },
  {
   "cell_type": "code",
   "execution_count": 31,
   "id": "974a14a8-28cb-46dd-a04e-f5bde75a5158",
   "metadata": {},
   "outputs": [
    {
     "data": {
      "text/plain": [
       "(10, 20, 30, 40, 50, 60, 70, 80, 90, 100)"
      ]
     },
     "execution_count": 31,
     "metadata": {},
     "output_type": "execute_result"
    }
   ],
   "source": [
    "t1"
   ]
  },
  {
   "cell_type": "code",
   "execution_count": 33,
   "id": "185d9e0e-8007-425a-9c12-658bbc07f9cc",
   "metadata": {},
   "outputs": [
    {
     "data": {
      "text/plain": [
       "(10, 20, 30, 40, 50, 60, 70, 80, 90, 100)"
      ]
     },
     "execution_count": 33,
     "metadata": {},
     "output_type": "execute_result"
    }
   ],
   "source": [
    "t1[0:10] # prints all the elements from starting to 10th (i.e, n-1=9th) index element"
   ]
  },
  {
   "cell_type": "code",
   "execution_count": 37,
   "id": "19b99dd6-1734-4313-97c3-286f5ea3bf1f",
   "metadata": {},
   "outputs": [
    {
     "data": {
      "text/plain": [
       "(40, 50, 60, 70, 80, 90, 100)"
      ]
     },
     "execution_count": 37,
     "metadata": {},
     "output_type": "execute_result"
    }
   ],
   "source": [
    "t1[3:]"
   ]
  },
  {
   "cell_type": "code",
   "execution_count": 41,
   "id": "78953d6d-51bc-4cf2-8cc8-8220cdd4f1c7",
   "metadata": {},
   "outputs": [
    {
     "data": {
      "text/plain": [
       "(100, 90, 80, 70, 60, 50, 40, 30, 20, 10)"
      ]
     },
     "execution_count": 41,
     "metadata": {},
     "output_type": "execute_result"
    }
   ],
   "source": [
    "t1[::-1]"
   ]
  },
  {
   "cell_type": "code",
   "execution_count": 43,
   "id": "90fc5027-4717-4ef3-bdff-1cecb5980b11",
   "metadata": {},
   "outputs": [
    {
     "data": {
      "text/plain": [
       "(10, 20, 30, 40, 50, 60, 70, 80)"
      ]
     },
     "execution_count": 43,
     "metadata": {},
     "output_type": "execute_result"
    }
   ],
   "source": [
    "t1[:-2]"
   ]
  },
  {
   "cell_type": "code",
   "execution_count": 45,
   "id": "7d2dcf67-b23a-41e5-b7b3-f5a2fe59ffba",
   "metadata": {},
   "outputs": [
    {
     "data": {
      "text/plain": [
       "(10, 20, 30, 40, 50, 60, 70, 80, 90, 100)"
      ]
     },
     "execution_count": 45,
     "metadata": {},
     "output_type": "execute_result"
    }
   ],
   "source": [
    "t1[:]"
   ]
  },
  {
   "cell_type": "raw",
   "id": "1ecd97ee-d8f3-474c-9305-85b9cb1c112e",
   "metadata": {},
   "source": [
    "# 4. Remove & Change items"
   ]
  },
  {
   "cell_type": "code",
   "execution_count": 47,
   "id": "2cd1f49b-0088-4411-b12a-796356990584",
   "metadata": {},
   "outputs": [
    {
     "ename": "TypeError",
     "evalue": "'tuple' object does not support item assignment",
     "output_type": "error",
     "traceback": [
      "\u001b[1;31m---------------------------------------------------------------------------\u001b[0m",
      "\u001b[1;31mTypeError\u001b[0m                                 Traceback (most recent call last)",
      "Cell \u001b[1;32mIn[47], line 1\u001b[0m\n\u001b[1;32m----> 1\u001b[0m t1[\u001b[38;5;241m0\u001b[39m]\u001b[38;5;241m=\u001b[39m\u001b[38;5;241m1\u001b[39m\n\u001b[0;32m      2\u001b[0m t1\n",
      "\u001b[1;31mTypeError\u001b[0m: 'tuple' object does not support item assignment"
     ]
    }
   ],
   "source": [
    "t1[0]=1\n",
    "t1"
   ]
  },
  {
   "cell_type": "code",
   "execution_count": 49,
   "id": "24e0a836-7776-479e-8bf6-2afec2dda170",
   "metadata": {},
   "outputs": [
    {
     "data": {
      "text/plain": [
       "(10,\n",
       " 20,\n",
       " 30,\n",
       " 40,\n",
       " 50,\n",
       " 60,\n",
       " 70,\n",
       " 80,\n",
       " 90,\n",
       " 100,\n",
       " 10,\n",
       " 20,\n",
       " 30,\n",
       " 40,\n",
       " 50,\n",
       " 60,\n",
       " 70,\n",
       " 80,\n",
       " 90,\n",
       " 100,\n",
       " 10,\n",
       " 20,\n",
       " 30,\n",
       " 40,\n",
       " 50,\n",
       " 60,\n",
       " 70,\n",
       " 80,\n",
       " 90,\n",
       " 100)"
      ]
     },
     "execution_count": 49,
     "metadata": {},
     "output_type": "execute_result"
    }
   ],
   "source": [
    "t2=t1*3\n",
    "t2"
   ]
  },
  {
   "cell_type": "code",
   "execution_count": 51,
   "id": "b30846d6-0642-4bc5-b006-df455dea29e1",
   "metadata": {},
   "outputs": [
    {
     "ename": "TypeError",
     "evalue": "'tuple' object doesn't support item deletion",
     "output_type": "error",
     "traceback": [
      "\u001b[1;31m---------------------------------------------------------------------------\u001b[0m",
      "\u001b[1;31mTypeError\u001b[0m                                 Traceback (most recent call last)",
      "Cell \u001b[1;32mIn[51], line 1\u001b[0m\n\u001b[1;32m----> 1\u001b[0m \u001b[38;5;28;01mdel\u001b[39;00m t1[\u001b[38;5;241m0\u001b[39m]\n",
      "\u001b[1;31mTypeError\u001b[0m: 'tuple' object doesn't support item deletion"
     ]
    }
   ],
   "source": [
    "del t1[0]"
   ]
  },
  {
   "cell_type": "code",
   "execution_count": 53,
   "id": "fcd385b0-06a1-498b-8eb0-086fecb481b8",
   "metadata": {},
   "outputs": [
    {
     "data": {
      "text/plain": [
       "(10, 20, 30, 40, 50, 60, 70, 80, 90, 100)"
      ]
     },
     "execution_count": 53,
     "metadata": {},
     "output_type": "execute_result"
    }
   ],
   "source": [
    "t1"
   ]
  },
  {
   "cell_type": "code",
   "execution_count": 55,
   "id": "08a2fe38-dd5f-4c2c-bf5f-a67e3ae8037a",
   "metadata": {},
   "outputs": [
    {
     "data": {
      "text/plain": [
       "(10, 20, 30, 40, 50, 60, 60, 70, 80, 90, 100)"
      ]
     },
     "execution_count": 55,
     "metadata": {},
     "output_type": "execute_result"
    }
   ],
   "source": [
    "t1=(10,20,30,40,50,60,60,70,80,90,100)\n",
    "t1"
   ]
  },
  {
   "cell_type": "code",
   "execution_count": 57,
   "id": "64bd61e7-3b0e-4706-87de-be427f7da9fc",
   "metadata": {},
   "outputs": [
    {
     "ename": "TypeError",
     "evalue": "'tuple' object does not support item assignment",
     "output_type": "error",
     "traceback": [
      "\u001b[1;31m---------------------------------------------------------------------------\u001b[0m",
      "\u001b[1;31mTypeError\u001b[0m                                 Traceback (most recent call last)",
      "Cell \u001b[1;32mIn[57], line 1\u001b[0m\n\u001b[1;32m----> 1\u001b[0m t1[\u001b[38;5;241m2\u001b[39m]\u001b[38;5;241m=\u001b[39m\u001b[38;5;241m1000\u001b[39m\n\u001b[0;32m      2\u001b[0m t1\n",
      "\u001b[1;31mTypeError\u001b[0m: 'tuple' object does not support item assignment"
     ]
    }
   ],
   "source": [
    "t1[2]=1000\n",
    "t1"
   ]
  },
  {
   "cell_type": "code",
   "execution_count": 59,
   "id": "48f0dfce-e36f-46d5-a936-808a90450dfe",
   "metadata": {},
   "outputs": [
    {
     "data": {
      "text/plain": [
       "(10, 20, 30, 40, 50, 60, 60, 70, 80, 90, 100)"
      ]
     },
     "execution_count": 59,
     "metadata": {},
     "output_type": "execute_result"
    }
   ],
   "source": [
    "y1=(10,20,30,40,50,60,60,70,80,90,100)\n",
    "y1"
   ]
  },
  {
   "cell_type": "code",
   "execution_count": 61,
   "id": "9811bf4a-db9e-457e-92c1-ec945e53a904",
   "metadata": {},
   "outputs": [
    {
     "name": "stdout",
     "output_type": "stream",
     "text": [
      "(0, 10)\n",
      "(1, 20)\n",
      "(2, 30)\n",
      "(3, 40)\n",
      "(4, 50)\n",
      "(5, 60)\n",
      "(6, 60)\n",
      "(7, 70)\n",
      "(8, 80)\n",
      "(9, 90)\n",
      "(10, 100)\n"
     ]
    }
   ],
   "source": [
    "for i in enumerate(t1):\n",
    "    print(i)"
   ]
  },
  {
   "cell_type": "code",
   "execution_count": 63,
   "id": "37abd831-4e32-47f5-8ce3-c324cb81d2ac",
   "metadata": {},
   "outputs": [
    {
     "name": "stdout",
     "output_type": "stream",
     "text": [
      "10\n",
      "20\n",
      "30\n",
      "40\n",
      "50\n",
      "60\n",
      "60\n",
      "70\n",
      "80\n",
      "90\n",
      "100\n"
     ]
    }
   ],
   "source": [
    "for i in t1:\n",
    "    print(i)"
   ]
  },
  {
   "cell_type": "raw",
   "id": "4d9bcf2f-e811-426f-bfc6-79133bb2f9c1",
   "metadata": {},
   "source": [
    "#  6. Tuple membership"
   ]
  },
  {
   "cell_type": "code",
   "execution_count": 65,
   "id": "d5a8a8c6-850f-4b39-b24d-6e089d96066c",
   "metadata": {},
   "outputs": [
    {
     "data": {
      "text/plain": [
       "(10, 20, 30, 40, 50, 60, 60, 70, 80, 90, 100)"
      ]
     },
     "execution_count": 65,
     "metadata": {},
     "output_type": "execute_result"
    }
   ],
   "source": [
    "t1"
   ]
  },
  {
   "cell_type": "code",
   "execution_count": 67,
   "id": "a426db1f-55b6-4b16-8421-cedaab65cc6f",
   "metadata": {},
   "outputs": [
    {
     "data": {
      "text/plain": [
       "True"
      ]
     },
     "execution_count": 67,
     "metadata": {},
     "output_type": "execute_result"
    }
   ],
   "source": [
    "10 in t1"
   ]
  },
  {
   "cell_type": "code",
   "execution_count": 69,
   "id": "5456ef22-f893-4fd1-9905-3b76d1c98676",
   "metadata": {},
   "outputs": [
    {
     "data": {
      "text/plain": [
       "False"
      ]
     },
     "execution_count": 69,
     "metadata": {},
     "output_type": "execute_result"
    }
   ],
   "source": [
    "1000 in t1"
   ]
  },
  {
   "cell_type": "code",
   "execution_count": 71,
   "id": "9d968847-452d-4193-a8b0-095945e953fd",
   "metadata": {},
   "outputs": [
    {
     "name": "stdout",
     "output_type": "stream",
     "text": [
      "It's perfect\n"
     ]
    }
   ],
   "source": [
    "if 10 in t1:\n",
    "    print(\"It's perfect\")\n",
    "else:\n",
    "    print(\"It's not perfect\")"
   ]
  },
  {
   "cell_type": "code",
   "execution_count": 73,
   "id": "1d87a65c-3973-42cf-ba69-6e49bbca5c44",
   "metadata": {},
   "outputs": [
    {
     "name": "stdout",
     "output_type": "stream",
     "text": [
      "It's not perfect\n"
     ]
    }
   ],
   "source": [
    "if 1000 in t1:\n",
    "    print(\"It's perfect\")\n",
    "else:\n",
    "    print(\"It's not perfect\")"
   ]
  },
  {
   "cell_type": "raw",
   "id": "e237902f-7f8c-43cf-bc50-c4e18e6131c3",
   "metadata": {},
   "source": [
    "# 7. Indexing"
   ]
  },
  {
   "cell_type": "code",
   "execution_count": 75,
   "id": "0d9d9ecb-963a-4d2d-8986-f3847d42a37d",
   "metadata": {},
   "outputs": [
    {
     "data": {
      "text/plain": [
       "(10, 20, 30, 40, 50, 60, 60, 70, 80, 90, 100)"
      ]
     },
     "execution_count": 75,
     "metadata": {},
     "output_type": "execute_result"
    }
   ],
   "source": [
    "t1"
   ]
  },
  {
   "cell_type": "code",
   "execution_count": 77,
   "id": "dad576f2-c756-4984-907a-087105d93aa6",
   "metadata": {},
   "outputs": [
    {
     "data": {
      "text/plain": [
       "0"
      ]
     },
     "execution_count": 77,
     "metadata": {},
     "output_type": "execute_result"
    }
   ],
   "source": [
    "t1.index(10)"
   ]
  },
  {
   "cell_type": "code",
   "execution_count": 79,
   "id": "0e4f3989-24f4-41b7-8f4f-75f39e6e3baa",
   "metadata": {},
   "outputs": [
    {
     "data": {
      "text/plain": [
       "10"
      ]
     },
     "execution_count": 79,
     "metadata": {},
     "output_type": "execute_result"
    }
   ],
   "source": [
    "t1.index(100)"
   ]
  },
  {
   "cell_type": "raw",
   "id": "066d5460-8f34-4653-a777-c399626244d9",
   "metadata": {},
   "source": [
    "# 8. Sorting"
   ]
  },
  {
   "cell_type": "code",
   "execution_count": 81,
   "id": "7eb32b19-e25e-4bdd-9149-e11f4d0c9b5e",
   "metadata": {},
   "outputs": [
    {
     "data": {
      "text/plain": [
       "(10, 20, 30, 40, 50, 60, 60, 70, 80, 90, 100)"
      ]
     },
     "execution_count": 81,
     "metadata": {},
     "output_type": "execute_result"
    }
   ],
   "source": [
    "t1"
   ]
  },
  {
   "cell_type": "code",
   "execution_count": 83,
   "id": "afc86172-7fda-470c-9ca3-7afd60503e06",
   "metadata": {},
   "outputs": [
    {
     "data": {
      "text/plain": [
       "[10, 20, 30, 40, 50, 60, 60, 70, 80, 90, 100]"
      ]
     },
     "execution_count": 83,
     "metadata": {},
     "output_type": "execute_result"
    }
   ],
   "source": [
    "sorted(t1)"
   ]
  },
  {
   "cell_type": "code",
   "execution_count": 85,
   "id": "da205e2c-2974-4145-8efe-7a13d03b7e0c",
   "metadata": {},
   "outputs": [
    {
     "data": {
      "text/plain": [
       "[100, 90, 80, 70, 60, 60, 50, 40, 30, 20, 10]"
      ]
     },
     "execution_count": 85,
     "metadata": {},
     "output_type": "execute_result"
    }
   ],
   "source": [
    "sorted(t1,reverse=True)"
   ]
  },
  {
   "cell_type": "raw",
   "id": "f8a1e302-e26b-431b-ad4a-0d6f6d0e9ad9",
   "metadata": {},
   "source": [
    "# Tuple is completed"
   ]
  },
  {
   "cell_type": "code",
   "execution_count": null,
   "id": "e9bccf39-f2da-4d39-94b1-406ae950116b",
   "metadata": {},
   "outputs": [],
   "source": []
  },
  {
   "cell_type": "code",
   "execution_count": null,
   "id": "3ad7a2b2-3a14-4750-aa65-efa4ed89a483",
   "metadata": {},
   "outputs": [],
   "source": []
  },
  {
   "cell_type": "code",
   "execution_count": null,
   "id": "a96825ba-cc11-46af-a7db-bc173c95833f",
   "metadata": {},
   "outputs": [],
   "source": []
  },
  {
   "cell_type": "code",
   "execution_count": null,
   "id": "46590aff-d3da-4c8e-8005-4caae524032a",
   "metadata": {},
   "outputs": [],
   "source": []
  },
  {
   "cell_type": "code",
   "execution_count": null,
   "id": "82b101ef-48bc-49d1-8ff5-0d963c93b7e1",
   "metadata": {},
   "outputs": [],
   "source": []
  }
 ],
 "metadata": {
  "kernelspec": {
   "display_name": "Python [conda env:base] *",
   "language": "python",
   "name": "conda-base-py"
  },
  "language_info": {
   "codemirror_mode": {
    "name": "ipython",
    "version": 3
   },
   "file_extension": ".py",
   "mimetype": "text/x-python",
   "name": "python",
   "nbconvert_exporter": "python",
   "pygments_lexer": "ipython3",
   "version": "3.12.7"
  }
 },
 "nbformat": 4,
 "nbformat_minor": 5
}
