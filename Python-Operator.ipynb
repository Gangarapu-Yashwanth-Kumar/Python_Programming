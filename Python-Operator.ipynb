{
 "cells": [
  {
   "cell_type": "markdown",
   "id": "b09c7f57-ea64-4c43-a521-47d042313b2b",
   "metadata": {},
   "source": [
    "# Arithmetic Operations in Python"
   ]
  },
  {
   "cell_type": "code",
   "execution_count": 1,
   "id": "a093c08a-db8a-4ffc-80a6-2ccd288a93f4",
   "metadata": {},
   "outputs": [],
   "source": [
    "# Integers"
   ]
  },
  {
   "cell_type": "code",
   "execution_count": 2,
   "id": "389a2b85-6b9c-49c4-8d49-7f7483133883",
   "metadata": {},
   "outputs": [
    {
     "name": "stdout",
     "output_type": "stream",
     "text": [
      "Addition:  3\n",
      "Subtraction:  1\n",
      "Multiplication:  6\n",
      "Division:  2.0\n",
      "Division:  3.0\n",
      "Division:  3.5\n",
      "Division without the remainder:  3\n",
      "Modulus:  1\n",
      "Division without the remainder:  2\n",
      "Exponential:  9\n"
     ]
    }
   ],
   "source": [
    "print('Addition: ', 1 + 2)\n",
    "print('Subtraction: ', 2 - 1)\n",
    "print('Multiplication: ', 2 * 3)\n",
    "print ('Division: ', 4 / 2)                         # Division in python gives floating number\n",
    "print('Division: ', 6 / 2)\n",
    "print('Division: ', 7 / 2)\n",
    "print('Division without the remainder: ', 7 // 2)   # gives without the floating number or without the remaining\n",
    "print('Modulus: ', 3 % 2)                           # Gives the remainder\n",
    "print ('Division without the remainder: ', 7 // 3)\n",
    "print('Exponential: ', 3 ** 2)                     # it means 3 * 3"
   ]
  },
  {
   "cell_type": "code",
   "execution_count": 3,
   "id": "663fde65-7c82-4c29-bea2-320ece3b25e6",
   "metadata": {},
   "outputs": [],
   "source": [
    "# Float Numbers"
   ]
  },
  {
   "cell_type": "code",
   "execution_count": 4,
   "id": "7b62a967-5aa0-4c8e-b0eb-865c51485923",
   "metadata": {},
   "outputs": [
    {
     "name": "stdout",
     "output_type": "stream",
     "text": [
      "Floating Number,PI 3.14\n",
      "Floating Number, gravity 9.81\n"
     ]
    }
   ],
   "source": [
    "print('Floating Number,PI', 3.14)\n",
    "print('Floating Number, gravity', 9.81)"
   ]
  },
  {
   "cell_type": "code",
   "execution_count": 5,
   "id": "e07d50c6-12e6-4a78-80f5-c509f7010152",
   "metadata": {},
   "outputs": [],
   "source": [
    "# Complex Numbers"
   ]
  },
  {
   "cell_type": "code",
   "execution_count": 17,
   "id": "92dbeb5b-0197-4f26-9e5c-b236bb2f5d5b",
   "metadata": {},
   "outputs": [
    {
     "name": "stdout",
     "output_type": "stream",
     "text": [
      "Complex number:  (1+1j)\n",
      "Multiplying complex number:  (2+0j)\n"
     ]
    }
   ],
   "source": [
    "print('Complex number: ', 1 + 1j)\n",
    "print('Multiplying complex number: ',(1 + 1j) * (1-1j))"
   ]
  },
  {
   "cell_type": "code",
   "execution_count": 19,
   "id": "0d5b667a-2ea7-407c-b17c-07cb2fd1a562",
   "metadata": {},
   "outputs": [
    {
     "name": "stdout",
     "output_type": "stream",
     "text": [
      "10.0\n",
      "20.0\n"
     ]
    }
   ],
   "source": [
    "a=10+20j\n",
    "print(a.real)\n",
    "print(a.imag)"
   ]
  },
  {
   "cell_type": "code",
   "execution_count": 21,
   "id": "3b520648-6f67-47ec-85e8-92ff7a0a7837",
   "metadata": {},
   "outputs": [
    {
     "name": "stdout",
     "output_type": "stream",
     "text": [
      "10\n",
      "20\n"
     ]
    }
   ],
   "source": [
    "print(int(a.real))\n",
    "print(int(a.imag))"
   ]
  },
  {
   "cell_type": "code",
   "execution_count": 23,
   "id": "4ab05cc6-2e37-4c2c-b688-9aeaa3c994c9",
   "metadata": {},
   "outputs": [],
   "source": [
    "# Boolean "
   ]
  },
  {
   "cell_type": "code",
   "execution_count": 25,
   "id": "3d1e53ac-238e-49f0-8c2d-17277dc8ab34",
   "metadata": {},
   "outputs": [
    {
     "name": "stdout",
     "output_type": "stream",
     "text": [
      "True\n"
     ]
    }
   ],
   "source": [
    "print(6>4)"
   ]
  },
  {
   "cell_type": "code",
   "execution_count": 27,
   "id": "4779d490-5092-4b5c-914f-f0f2186baf12",
   "metadata": {},
   "outputs": [
    {
     "name": "stdout",
     "output_type": "stream",
     "text": [
      "False\n"
     ]
    }
   ],
   "source": [
    "print(6<2)"
   ]
  },
  {
   "cell_type": "code",
   "execution_count": 31,
   "id": "b5d32520-0378-4837-a0e9-837c62c561d0",
   "metadata": {},
   "outputs": [
    {
     "name": "stdout",
     "output_type": "stream",
     "text": [
      "True\n"
     ]
    }
   ],
   "source": [
    "print('malayalam'=='malayalam')"
   ]
  },
  {
   "cell_type": "code",
   "execution_count": 33,
   "id": "de2a9702-7caf-4559-be57-96ab4710580f",
   "metadata": {},
   "outputs": [
    {
     "name": "stdout",
     "output_type": "stream",
     "text": [
      "False\n"
     ]
    }
   ],
   "source": [
    "print('malayalam'=='tamil')"
   ]
  },
  {
   "cell_type": "code",
   "execution_count": 35,
   "id": "30e969b1-cc90-4d7d-9532-8b1ad27f705b",
   "metadata": {},
   "outputs": [
    {
     "name": "stdout",
     "output_type": "stream",
     "text": [
      "False\n"
     ]
    }
   ],
   "source": [
    "print('malayalam'=='Malayalam')"
   ]
  },
  {
   "cell_type": "code",
   "execution_count": 37,
   "id": "2ec1c397-c044-4922-bf9a-cf4385e15bd3",
   "metadata": {},
   "outputs": [
    {
     "name": "stdout",
     "output_type": "stream",
     "text": [
      "True\n"
     ]
    }
   ],
   "source": [
    "print(len('malayalam')==(len('malayalam')))"
   ]
  },
  {
   "cell_type": "code",
   "execution_count": 39,
   "id": "84d8d22e-01da-4c3f-9de1-8fa19e1e7e64",
   "metadata": {},
   "outputs": [
    {
     "name": "stdout",
     "output_type": "stream",
     "text": [
      "False\n"
     ]
    }
   ],
   "source": [
    "print(len('malayalam')==(len('tamil')))"
   ]
  },
  {
   "cell_type": "code",
   "execution_count": 41,
   "id": "820b866a-3cf1-4375-8e88-d480564d87a4",
   "metadata": {},
   "outputs": [
    {
     "name": "stdout",
     "output_type": "stream",
     "text": [
      "True\n"
     ]
    }
   ],
   "source": [
    "print('true'=='true')"
   ]
  },
  {
   "cell_type": "code",
   "execution_count": 45,
   "id": "80023bb3-a513-4da0-82b7-0a6c813f26bc",
   "metadata": {},
   "outputs": [
    {
     "name": "stdout",
     "output_type": "stream",
     "text": [
      "False\n"
     ]
    }
   ],
   "source": [
    "print('false='=='true')"
   ]
  },
  {
   "cell_type": "code",
   "execution_count": 47,
   "id": "cac64570-6708-4981-9441-030e6b6bd831",
   "metadata": {},
   "outputs": [
    {
     "name": "stdout",
     "output_type": "stream",
     "text": [
      "<class 'str'>\n"
     ]
    }
   ],
   "source": [
    "print(type('true'))"
   ]
  },
  {
   "cell_type": "code",
   "execution_count": 55,
   "id": "9254b2ab-efa7-4e5f-8769-379546859eff",
   "metadata": {},
   "outputs": [
    {
     "name": "stdout",
     "output_type": "stream",
     "text": [
      "False\n"
     ]
    }
   ],
   "source": [
    "print(not True)"
   ]
  },
  {
   "cell_type": "code",
   "execution_count": 53,
   "id": "d8443d30-c5dc-4a92-bb04-37c663868227",
   "metadata": {},
   "outputs": [
    {
     "data": {
      "text/plain": [
       "True"
      ]
     },
     "execution_count": 53,
     "metadata": {},
     "output_type": "execute_result"
    }
   ],
   "source": [
    "bool(True)"
   ]
  },
  {
   "cell_type": "markdown",
   "id": "00afd3e6-1919-4177-befb-c34564d2a624",
   "metadata": {},
   "source": [
    "# Calculating Areas"
   ]
  },
  {
   "cell_type": "code",
   "execution_count": 58,
   "id": "b8e8d281-56fe-482f-95e7-3e15b6305991",
   "metadata": {},
   "outputs": [
    {
     "name": "stdout",
     "output_type": "stream",
     "text": [
      "Area of Circle: 216.0\n"
     ]
    }
   ],
   "source": [
    "radius=10\n",
    "area_of_circle=2.16*radius**2\n",
    "print('Area of Circle:',area_of_circle)"
   ]
  },
  {
   "cell_type": "code",
   "execution_count": 62,
   "id": "42d937ba-1de7-486b-8430-4991bf7aaadc",
   "metadata": {},
   "outputs": [
    {
     "name": "stdout",
     "output_type": "stream",
     "text": [
      "Area of Rectangle: 800\n"
     ]
    }
   ],
   "source": [
    "length=40\n",
    "width=20\n",
    "area_of_rectangle=length*width\n",
    "print('Area of Rectangle:',area_of_rectangle)"
   ]
  },
  {
   "cell_type": "code",
   "execution_count": 72,
   "id": "e3dca654-cc0e-4c20-8b9d-9812bce9c600",
   "metadata": {},
   "outputs": [
    {
     "name": "stdout",
     "output_type": "stream",
     "text": [
      "499.29 N\n"
     ]
    }
   ],
   "source": [
    "mass=89\n",
    "gravity=5.61\n",
    "weight= mass*gravity\n",
    "print(weight,'N')"
   ]
  },
  {
   "cell_type": "code",
   "execution_count": null,
   "id": "f0932ab1-9103-4f7c-acf7-98720c1c2de2",
   "metadata": {},
   "outputs": [],
   "source": []
  },
  {
   "cell_type": "code",
   "execution_count": null,
   "id": "90c10770-c946-4b39-bfe0-b37032351548",
   "metadata": {},
   "outputs": [],
   "source": []
  }
 ],
 "metadata": {
  "kernelspec": {
   "display_name": "Python [conda env:base] *",
   "language": "python",
   "name": "conda-base-py"
  },
  "language_info": {
   "codemirror_mode": {
    "name": "ipython",
    "version": 3
   },
   "file_extension": ".py",
   "mimetype": "text/x-python",
   "name": "python",
   "nbconvert_exporter": "python",
   "pygments_lexer": "ipython3",
   "version": "3.12.7"
  }
 },
 "nbformat": 4,
 "nbformat_minor": 5
}
