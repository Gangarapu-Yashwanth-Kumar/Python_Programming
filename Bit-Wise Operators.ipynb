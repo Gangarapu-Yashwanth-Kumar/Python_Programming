{
 "cells": [
  {
   "cell_type": "markdown",
   "id": "11ab610a-908a-4943-a2ff-b64ff921af20",
   "metadata": {},
   "source": [
    "# Number System Conversion."
   ]
  },
  {
   "cell_type": "code",
   "execution_count": 2,
   "id": "90ffecfe-2c36-4abf-9823-390e0718b689",
   "metadata": {},
   "outputs": [
    {
     "data": {
      "text/plain": [
       "15"
      ]
     },
     "execution_count": 2,
     "metadata": {},
     "output_type": "execute_result"
    }
   ],
   "source": [
    "15"
   ]
  },
  {
   "cell_type": "code",
   "execution_count": 3,
   "id": "640cc3df-d0dc-4bdd-b1ca-3b9ce7005179",
   "metadata": {},
   "outputs": [
    {
     "data": {
      "text/plain": [
       "'0b1111'"
      ]
     },
     "execution_count": 3,
     "metadata": {},
     "output_type": "execute_result"
    }
   ],
   "source": [
    "bin(15)"
   ]
  },
  {
   "cell_type": "code",
   "execution_count": 4,
   "id": "91330ec2-52a1-4abb-ab8a-785959b1e98a",
   "metadata": {},
   "outputs": [
    {
     "data": {
      "text/plain": [
       "'0b1010'"
      ]
     },
     "execution_count": 4,
     "metadata": {},
     "output_type": "execute_result"
    }
   ],
   "source": [
    "bin(10)"
   ]
  },
  {
   "cell_type": "code",
   "execution_count": 5,
   "id": "5f8aa206-c2d4-49fe-a743-6ebf9b107e7d",
   "metadata": {},
   "outputs": [
    {
     "data": {
      "text/plain": [
       "'0b11001'"
      ]
     },
     "execution_count": 5,
     "metadata": {},
     "output_type": "execute_result"
    }
   ],
   "source": [
    "bin(25)"
   ]
  },
  {
   "cell_type": "code",
   "execution_count": 1,
   "id": "735cb3a6-cb19-4a25-b136-2d201939b170",
   "metadata": {},
   "outputs": [
    {
     "data": {
      "text/plain": [
       "25"
      ]
     },
     "execution_count": 1,
     "metadata": {},
     "output_type": "execute_result"
    }
   ],
   "source": [
    "int(0b11001)"
   ]
  },
  {
   "cell_type": "code",
   "execution_count": 3,
   "id": "1b4a01c3-1abf-4db4-8b0a-f7ec9effd6fa",
   "metadata": {},
   "outputs": [
    {
     "data": {
      "text/plain": [
       "'0b100011'"
      ]
     },
     "execution_count": 3,
     "metadata": {},
     "output_type": "execute_result"
    }
   ],
   "source": [
    "bin(35)"
   ]
  },
  {
   "cell_type": "code",
   "execution_count": 7,
   "id": "5c99b7ce-55ef-488e-bfd4-a9172af4e274",
   "metadata": {},
   "outputs": [
    {
     "data": {
      "text/plain": [
       "35"
      ]
     },
     "execution_count": 7,
     "metadata": {},
     "output_type": "execute_result"
    }
   ],
   "source": [
    "int(0b100011)"
   ]
  },
  {
   "cell_type": "code",
   "execution_count": 9,
   "id": "84568bf3-db0c-407e-9f68-b0e66be2f057",
   "metadata": {},
   "outputs": [
    {
     "data": {
      "text/plain": [
       "'0o17'"
      ]
     },
     "execution_count": 9,
     "metadata": {},
     "output_type": "execute_result"
    }
   ],
   "source": [
    "oct(15)"
   ]
  },
  {
   "cell_type": "code",
   "execution_count": 12,
   "id": "ad87a2ab-5c96-46b3-aca6-482980cdfa07",
   "metadata": {},
   "outputs": [
    {
     "data": {
      "text/plain": [
       "15"
      ]
     },
     "execution_count": 12,
     "metadata": {},
     "output_type": "execute_result"
    }
   ],
   "source": [
    "0o17"
   ]
  },
  {
   "cell_type": "code",
   "execution_count": 14,
   "id": "ee1e2f61-bc97-4b59-9083-4aa2f9ebb305",
   "metadata": {},
   "outputs": [
    {
     "data": {
      "text/plain": [
       "'0x9'"
      ]
     },
     "execution_count": 14,
     "metadata": {},
     "output_type": "execute_result"
    }
   ],
   "source": [
    "hex(9)"
   ]
  },
  {
   "cell_type": "code",
   "execution_count": 16,
   "id": "1380e36a-57af-48e1-93d7-d44897439a85",
   "metadata": {},
   "outputs": [
    {
     "data": {
      "text/plain": [
       "15"
      ]
     },
     "execution_count": 16,
     "metadata": {},
     "output_type": "execute_result"
    }
   ],
   "source": [
    "0xf"
   ]
  },
  {
   "cell_type": "code",
   "execution_count": 18,
   "id": "ec12e6f4-6e3c-4ad7-bc5b-060dc5a109ef",
   "metadata": {},
   "outputs": [
    {
     "data": {
      "text/plain": [
       "'0x19'"
      ]
     },
     "execution_count": 18,
     "metadata": {},
     "output_type": "execute_result"
    }
   ],
   "source": [
    "hex(25)"
   ]
  },
  {
   "cell_type": "code",
   "execution_count": 20,
   "id": "f4e59890-9a27-478d-b171-002d3fa89a60",
   "metadata": {},
   "outputs": [
    {
     "data": {
      "text/plain": [
       "25"
      ]
     },
     "execution_count": 20,
     "metadata": {},
     "output_type": "execute_result"
    }
   ],
   "source": [
    "0x19"
   ]
  },
  {
   "cell_type": "code",
   "execution_count": 22,
   "id": "f462c18d-4c10-486d-9f8c-7af5d2a73cfa",
   "metadata": {},
   "outputs": [
    {
     "data": {
      "text/plain": [
       "21"
      ]
     },
     "execution_count": 22,
     "metadata": {},
     "output_type": "execute_result"
    }
   ],
   "source": [
    "0x15"
   ]
  },
  {
   "cell_type": "markdown",
   "id": "c0a0b660-010c-4855-ba0e-5c449b3b108d",
   "metadata": {},
   "source": [
    "# Swap Variable in Python"
   ]
  },
  {
   "cell_type": "code",
   "execution_count": 25,
   "id": "d88644ef-5351-46e2-b30a-59f2814a5be7",
   "metadata": {},
   "outputs": [],
   "source": [
    "a=5         #a,b=5,6 After swap we should get ==>(a,b=6,5)\n",
    "b=6"
   ]
  },
  {
   "cell_type": "code",
   "execution_count": 27,
   "id": "c307571e-0a75-45ca-8102-f990325f196c",
   "metadata": {},
   "outputs": [],
   "source": [
    "a=b\n",
    "b=a"
   ]
  },
  {
   "cell_type": "code",
   "execution_count": 29,
   "id": "9dec24ad-2c73-44d2-89c5-a3071c43346b",
   "metadata": {},
   "outputs": [],
   "source": [
    "a,b=b,a"
   ]
  },
  {
   "cell_type": "code",
   "execution_count": 31,
   "id": "a8f4bea2-b84b-491c-926b-1dde5d777bed",
   "metadata": {},
   "outputs": [
    {
     "name": "stdout",
     "output_type": "stream",
     "text": [
      "6\n",
      "6\n"
     ]
    }
   ],
   "source": [
    "print(a)\n",
    "print(b)         "
   ]
  },
  {
   "cell_type": "code",
   "execution_count": 33,
   "id": "f786c22c-27de-415e-b41a-f3f025d31bc6",
   "metadata": {},
   "outputs": [],
   "source": [
    "a1=7              # In above scenario we lost the value 5\n",
    "b1=8"
   ]
  },
  {
   "cell_type": "code",
   "execution_count": 35,
   "id": "485688f7-df88-4b94-b1b0-7545b4a40c34",
   "metadata": {},
   "outputs": [],
   "source": [
    "temp=a1\n",
    "a1=b1\n",
    "b1=temp"
   ]
  },
  {
   "cell_type": "code",
   "execution_count": 37,
   "id": "13769c33-1fcf-4c4a-9424-bd2d577b13de",
   "metadata": {},
   "outputs": [
    {
     "name": "stdout",
     "output_type": "stream",
     "text": [
      "8\n",
      "7\n"
     ]
    }
   ],
   "source": [
    "print(a1)\n",
    "print(b1)"
   ]
  },
  {
   "cell_type": "code",
   "execution_count": 39,
   "id": "967dc65b-91f8-4ecb-96ee-6409c0f87bee",
   "metadata": {},
   "outputs": [],
   "source": [
    "a2=5               \n",
    "b2=6"
   ]
  },
  {
   "cell_type": "code",
   "execution_count": 41,
   "id": "62cf61d7-c167-4330-9076-1b94e1c17e06",
   "metadata": {},
   "outputs": [],
   "source": [
    "#swap variable formulas\n",
    "a2 = a2 + b2\n",
    "b2 = a2 - b2\n",
    "a2 = a2 - b2"
   ]
  },
  {
   "cell_type": "code",
   "execution_count": 43,
   "id": "8a1b7761-51e0-41d3-83cc-cc1cfda5bfe0",
   "metadata": {},
   "outputs": [
    {
     "name": "stdout",
     "output_type": "stream",
     "text": [
      "6\n",
      "5\n"
     ]
    }
   ],
   "source": [
    "print(a2)\n",
    "print(b2)"
   ]
  },
  {
   "cell_type": "markdown",
   "id": "e9391bcb-d053-45a7-9351-6b4e05e4e6c1",
   "metadata": {},
   "source": [
    "# BITWISE OPERATOR"
   ]
  },
  {
   "cell_type": "code",
   "execution_count": 46,
   "id": "75f1ebbc-2adb-4801-bd55-0430b81929ce",
   "metadata": {},
   "outputs": [
    {
     "name": "stdout",
     "output_type": "stream",
     "text": [
      "0b1100\n",
      "0b1101\n"
     ]
    }
   ],
   "source": [
    "print(bin(12))\n",
    "print(bin(13))"
   ]
  },
  {
   "cell_type": "raw",
   "id": "e9e8820a-01c1-44c3-bdff-01d1c1b816c2",
   "metadata": {},
   "source": [
    "# 1.Complement (~)  (TILDE  OR TILD)"
   ]
  },
  {
   "cell_type": "code",
   "execution_count": 52,
   "id": "e641f966-c5cd-4fc5-9d9c-db43ece2458f",
   "metadata": {},
   "outputs": [
    {
     "data": {
      "text/plain": [
       "-13"
      ]
     },
     "execution_count": 52,
     "metadata": {},
     "output_type": "execute_result"
    }
   ],
   "source": [
    "~12    # why we get -13 . first we understand what is complment means (reverse of binary format)"
   ]
  },
  {
   "cell_type": "code",
   "execution_count": 54,
   "id": "3a9b8a53-50b3-4e67-8a5d-1474f4de4432",
   "metadata": {},
   "outputs": [
    {
     "data": {
      "text/plain": [
       "-46"
      ]
     },
     "execution_count": 54,
     "metadata": {},
     "output_type": "execute_result"
    }
   ],
   "source": [
    "~45"
   ]
  },
  {
   "cell_type": "code",
   "execution_count": 56,
   "id": "f9f27a99-b3c1-42d6-8dbb-7e2c672bda6f",
   "metadata": {},
   "outputs": [
    {
     "data": {
      "text/plain": [
       "-89"
      ]
     },
     "execution_count": 56,
     "metadata": {},
     "output_type": "execute_result"
    }
   ],
   "source": [
    "~88"
   ]
  },
  {
   "cell_type": "code",
   "execution_count": 58,
   "id": "8ba70b10-090a-46e1-b754-ba121c001568",
   "metadata": {},
   "outputs": [
    {
     "data": {
      "text/plain": [
       "-1"
      ]
     },
     "execution_count": 58,
     "metadata": {},
     "output_type": "execute_result"
    }
   ],
   "source": [
    "~0"
   ]
  },
  {
   "cell_type": "code",
   "execution_count": 61,
   "id": "07d75875-d63f-4ea7-ab07-e00c8f3af919",
   "metadata": {},
   "outputs": [
    {
     "data": {
      "text/plain": [
       "-2"
      ]
     },
     "execution_count": 61,
     "metadata": {},
     "output_type": "execute_result"
    }
   ],
   "source": [
    "~1"
   ]
  },
  {
   "cell_type": "raw",
   "id": "b1874a7a-7945-4c53-9e0f-1b24aaabf2d1",
   "metadata": {},
   "source": [
    "# 2.AND (&)"
   ]
  },
  {
   "cell_type": "code",
   "execution_count": 63,
   "id": "fc2d4a2b-4be7-4b24-98c8-7d9cd163b74f",
   "metadata": {},
   "outputs": [
    {
     "data": {
      "text/plain": [
       "12"
      ]
     },
     "execution_count": 63,
     "metadata": {},
     "output_type": "execute_result"
    }
   ],
   "source": [
    "12&13"
   ]
  },
  {
   "cell_type": "code",
   "execution_count": 65,
   "id": "b6b3fe98-a51c-44e4-a1e9-da69f09a9064",
   "metadata": {},
   "outputs": [
    {
     "data": {
      "text/plain": [
       "1"
      ]
     },
     "execution_count": 65,
     "metadata": {},
     "output_type": "execute_result"
    }
   ],
   "source": [
    "1&1"
   ]
  },
  {
   "cell_type": "code",
   "execution_count": 67,
   "id": "399b9581-17a7-4d73-907f-e6adc44e8a3b",
   "metadata": {},
   "outputs": [
    {
     "data": {
      "text/plain": [
       "0"
      ]
     },
     "execution_count": 67,
     "metadata": {},
     "output_type": "execute_result"
    }
   ],
   "source": [
    "1&0"
   ]
  },
  {
   "cell_type": "code",
   "execution_count": 69,
   "id": "9979f1f4-d47f-4c04-af63-105176690d30",
   "metadata": {},
   "outputs": [
    {
     "data": {
      "text/plain": [
       "0"
      ]
     },
     "execution_count": 69,
     "metadata": {},
     "output_type": "execute_result"
    }
   ],
   "source": [
    "10&20"
   ]
  },
  {
   "cell_type": "code",
   "execution_count": 71,
   "id": "df4e2a14-1bfc-46f4-b3ae-47be83065f3f",
   "metadata": {},
   "outputs": [
    {
     "data": {
      "text/plain": [
       "6"
      ]
     },
     "execution_count": 71,
     "metadata": {},
     "output_type": "execute_result"
    }
   ],
   "source": [
    "30&70"
   ]
  },
  {
   "cell_type": "code",
   "execution_count": 79,
   "id": "cded0dc6-825c-4296-9e80-f39e99949be8",
   "metadata": {},
   "outputs": [
    {
     "data": {
      "text/plain": [
       "32"
      ]
     },
     "execution_count": 79,
     "metadata": {},
     "output_type": "execute_result"
    }
   ],
   "source": [
    "35&40"
   ]
  },
  {
   "cell_type": "raw",
   "id": "f7c38cec-ce3b-493d-b027-fc21e2590800",
   "metadata": {},
   "source": [
    "# 3. OR (|) "
   ]
  },
  {
   "cell_type": "code",
   "execution_count": 75,
   "id": "74555efd-e30b-4133-8c61-8a84f9e92355",
   "metadata": {},
   "outputs": [
    {
     "data": {
      "text/plain": [
       "1"
      ]
     },
     "execution_count": 75,
     "metadata": {},
     "output_type": "execute_result"
    }
   ],
   "source": [
    "1|0"
   ]
  },
  {
   "cell_type": "code",
   "execution_count": 77,
   "id": "43e39f5b-adac-4166-ba74-3d97a5fcdfbe",
   "metadata": {},
   "outputs": [
    {
     "data": {
      "text/plain": [
       "13"
      ]
     },
     "execution_count": 77,
     "metadata": {},
     "output_type": "execute_result"
    }
   ],
   "source": [
    "12|13"
   ]
  },
  {
   "cell_type": "code",
   "execution_count": 81,
   "id": "b5afa3c9-0473-4086-96c2-3f768c784995",
   "metadata": {},
   "outputs": [
    {
     "data": {
      "text/plain": [
       "43"
      ]
     },
     "execution_count": 81,
     "metadata": {},
     "output_type": "execute_result"
    }
   ],
   "source": [
    "35|40"
   ]
  },
  {
   "cell_type": "code",
   "execution_count": 83,
   "id": "c2a19543-3f02-4cc1-bb89-3a3da2b19ece",
   "metadata": {},
   "outputs": [
    {
     "data": {
      "text/plain": [
       "62"
      ]
     },
     "execution_count": 83,
     "metadata": {},
     "output_type": "execute_result"
    }
   ],
   "source": [
    "60|30"
   ]
  },
  {
   "cell_type": "code",
   "execution_count": 87,
   "id": "5aeeb8fd-e7e4-4c2a-ac98-bb38b1648b1a",
   "metadata": {},
   "outputs": [
    {
     "data": {
      "text/plain": [
       "63"
      ]
     },
     "execution_count": 87,
     "metadata": {},
     "output_type": "execute_result"
    }
   ],
   "source": [
    "47|23"
   ]
  },
  {
   "cell_type": "raw",
   "id": "a943d5f2-5773-42a4-b081-d8574cb18db3",
   "metadata": {},
   "source": [
    "# 4.XOR (^) #In XOR if the both number are different then we will get 1 or else we will get 0"
   ]
  },
  {
   "cell_type": "code",
   "execution_count": 91,
   "id": "d923af04-9662-4499-93f1-37d9acb0c6d8",
   "metadata": {},
   "outputs": [
    {
     "data": {
      "text/plain": [
       "1"
      ]
     },
     "execution_count": 91,
     "metadata": {},
     "output_type": "execute_result"
    }
   ],
   "source": [
    "12^13"
   ]
  },
  {
   "cell_type": "code",
   "execution_count": 93,
   "id": "29249e74-23f0-4184-b0d2-0bff914186f8",
   "metadata": {},
   "outputs": [
    {
     "data": {
      "text/plain": [
       "7"
      ]
     },
     "execution_count": 93,
     "metadata": {},
     "output_type": "execute_result"
    }
   ],
   "source": [
    "25^30"
   ]
  },
  {
   "cell_type": "code",
   "execution_count": 97,
   "id": "3a109e28-1da1-49e4-8993-1eeadd0a2a37",
   "metadata": {},
   "outputs": [
    {
     "data": {
      "text/plain": [
       "60"
      ]
     },
     "execution_count": 97,
     "metadata": {},
     "output_type": "execute_result"
    }
   ],
   "source": [
    "22^42"
   ]
  },
  {
   "cell_type": "raw",
   "id": "44504c35-c8e4-415f-b931-888bc22addb6",
   "metadata": {},
   "source": [
    "# 5. Left Shift operator (<<) # Bit wise left shift operator bydefault you will take 2 zeros."
   ]
  },
  {
   "cell_type": "code",
   "execution_count": 101,
   "id": "9c8ca489-4ef2-44c1-9121-3ac5620ed537",
   "metadata": {},
   "outputs": [
    {
     "data": {
      "text/plain": [
       "40"
      ]
     },
     "execution_count": 101,
     "metadata": {},
     "output_type": "execute_result"
    }
   ],
   "source": [
    "10<<2"
   ]
  },
  {
   "cell_type": "code",
   "execution_count": 107,
   "id": "206e6d30-9b86-43ec-9689-3be150414b40",
   "metadata": {},
   "outputs": [
    {
     "data": {
      "text/plain": [
       "320"
      ]
     },
     "execution_count": 107,
     "metadata": {},
     "output_type": "execute_result"
    }
   ],
   "source": [
    "20<<4"
   ]
  },
  {
   "cell_type": "code",
   "execution_count": 109,
   "id": "d47de49f-14df-4feb-8c60-99b496ebcee0",
   "metadata": {},
   "outputs": [
    {
     "data": {
      "text/plain": [
       "160"
      ]
     },
     "execution_count": 109,
     "metadata": {},
     "output_type": "execute_result"
    }
   ],
   "source": [
    "20<<3"
   ]
  },
  {
   "cell_type": "raw",
   "id": "a77ea444-c727-4aa7-ad24-3b99db595360",
   "metadata": {},
   "source": [
    "# 6.Right Shift operator (>>) # Bit wise right shift operator bydefault it will remove 2 zeros."
   ]
  },
  {
   "cell_type": "code",
   "execution_count": 111,
   "id": "442d3e4a-adc0-4117-9c01-99c3f31262b0",
   "metadata": {},
   "outputs": [
    {
     "data": {
      "text/plain": [
       "2"
      ]
     },
     "execution_count": 111,
     "metadata": {},
     "output_type": "execute_result"
    }
   ],
   "source": [
    "10>>2"
   ]
  },
  {
   "cell_type": "code",
   "execution_count": 113,
   "id": "c2dc304f-2d42-4697-b093-d3c1be1d7b49",
   "metadata": {},
   "outputs": [
    {
     "data": {
      "text/plain": [
       "1"
      ]
     },
     "execution_count": 113,
     "metadata": {},
     "output_type": "execute_result"
    }
   ],
   "source": [
    "20>>4"
   ]
  },
  {
   "cell_type": "code",
   "execution_count": 119,
   "id": "4241bdef-b5e8-47af-9808-ba712f16b4f0",
   "metadata": {},
   "outputs": [
    {
     "data": {
      "text/plain": [
       "7"
      ]
     },
     "execution_count": 119,
     "metadata": {},
     "output_type": "execute_result"
    }
   ],
   "source": [
    "60>>3"
   ]
  },
  {
   "cell_type": "markdown",
   "id": "434ec7f6-9763-42fb-a0a5-5bbc5cc26b0e",
   "metadata": {},
   "source": [
    "# import math module\n",
    "# https://docs.python.org/3/library/math.html"
   ]
  },
  {
   "cell_type": "code",
   "execution_count": 122,
   "id": "935f3d58-4017-4351-92d6-7825242ff50d",
   "metadata": {},
   "outputs": [
    {
     "ename": "NameError",
     "evalue": "name 'sqrt' is not defined",
     "output_type": "error",
     "traceback": [
      "\u001b[1;31m---------------------------------------------------------------------------\u001b[0m",
      "\u001b[1;31mNameError\u001b[0m                                 Traceback (most recent call last)",
      "Cell \u001b[1;32mIn[122], line 1\u001b[0m\n\u001b[1;32m----> 1\u001b[0m x\u001b[38;5;241m=\u001b[39msqrt(\u001b[38;5;241m25\u001b[39m)\n",
      "\u001b[1;31mNameError\u001b[0m: name 'sqrt' is not defined"
     ]
    }
   ],
   "source": [
    "x=sqrt(25)"
   ]
  },
  {
   "cell_type": "code",
   "execution_count": 124,
   "id": "376b0c63-caca-426c-8d00-c6c4737513ed",
   "metadata": {},
   "outputs": [],
   "source": [
    "import math "
   ]
  },
  {
   "cell_type": "code",
   "execution_count": 126,
   "id": "b4ef7e0a-f7e3-441b-900b-c8d82a6fe118",
   "metadata": {},
   "outputs": [
    {
     "data": {
      "text/plain": [
       "5.0"
      ]
     },
     "execution_count": 126,
     "metadata": {},
     "output_type": "execute_result"
    }
   ],
   "source": [
    "x=math.sqrt(25)\n",
    "x"
   ]
  },
  {
   "cell_type": "code",
   "execution_count": 128,
   "id": "dd6899d0-bea2-4151-b8d4-fca4a14ef8a1",
   "metadata": {},
   "outputs": [
    {
     "data": {
      "text/plain": [
       "3.872983346207417"
      ]
     },
     "execution_count": 128,
     "metadata": {},
     "output_type": "execute_result"
    }
   ],
   "source": [
    "x1 = math.sqrt(15)\n",
    "x1"
   ]
  },
  {
   "cell_type": "code",
   "execution_count": 130,
   "id": "f213e214-5b1b-4517-9197-60bcf908473e",
   "metadata": {},
   "outputs": [
    {
     "name": "stdout",
     "output_type": "stream",
     "text": [
      "2\n"
     ]
    }
   ],
   "source": [
    "print(math.floor(2.9)) #floor - minimum or least value "
   ]
  },
  {
   "cell_type": "code",
   "execution_count": 134,
   "id": "fc615004-fb41-4e5f-8114-1cf30c924a3f",
   "metadata": {},
   "outputs": [
    {
     "name": "stdout",
     "output_type": "stream",
     "text": [
      "4\n"
     ]
    }
   ],
   "source": [
    "print(math.floor(4.5))"
   ]
  },
  {
   "cell_type": "code",
   "execution_count": 136,
   "id": "b2d7d414-d1f2-4380-ba44-34cb1fae8587",
   "metadata": {},
   "outputs": [
    {
     "name": "stdout",
     "output_type": "stream",
     "text": [
      "10\n"
     ]
    }
   ],
   "source": [
    "print(math.floor(10.777))"
   ]
  },
  {
   "cell_type": "code",
   "execution_count": 132,
   "id": "2e556523-e9d2-4819-8469-257df3cf440a",
   "metadata": {},
   "outputs": [
    {
     "name": "stdout",
     "output_type": "stream",
     "text": [
      "3\n"
     ]
    }
   ],
   "source": [
    "print(math.ceil(2.9)) #ceil - maximum or highest value"
   ]
  },
  {
   "cell_type": "code",
   "execution_count": 138,
   "id": "8883d75d-3fbc-4ee4-8bb0-4297e4b158e5",
   "metadata": {},
   "outputs": [
    {
     "name": "stdout",
     "output_type": "stream",
     "text": [
      "11\n"
     ]
    }
   ],
   "source": [
    "print(math.ceil(10.77))"
   ]
  },
  {
   "cell_type": "code",
   "execution_count": 140,
   "id": "9d013e27-8950-4819-98d5-b4f382a18832",
   "metadata": {},
   "outputs": [
    {
     "name": "stdout",
     "output_type": "stream",
     "text": [
      "19\n"
     ]
    }
   ],
   "source": [
    "print(math.ceil(18.33))"
   ]
  },
  {
   "cell_type": "code",
   "execution_count": 142,
   "id": "2567a951-fdba-45ab-a4ad-1d90e916cbbd",
   "metadata": {},
   "outputs": [
    {
     "name": "stdout",
     "output_type": "stream",
     "text": [
      "9.0\n"
     ]
    }
   ],
   "source": [
    "print(math.pow(3,2))"
   ]
  },
  {
   "cell_type": "code",
   "execution_count": 144,
   "id": "41f46a7e-ca71-4ff5-859d-60948fa8612a",
   "metadata": {},
   "outputs": [
    {
     "name": "stdout",
     "output_type": "stream",
     "text": [
      "216.0\n"
     ]
    }
   ],
   "source": [
    "print(math.pow(6,3))"
   ]
  },
  {
   "cell_type": "code",
   "execution_count": 146,
   "id": "2ce032e2-513b-467f-9007-368affbe9927",
   "metadata": {},
   "outputs": [
    {
     "name": "stdout",
     "output_type": "stream",
     "text": [
      "16.0\n"
     ]
    }
   ],
   "source": [
    "print(math.pow(2,4))"
   ]
  },
  {
   "cell_type": "code",
   "execution_count": 148,
   "id": "eb7dd2bc-9e2a-4638-988d-a166c04dbf4d",
   "metadata": {},
   "outputs": [
    {
     "name": "stdout",
     "output_type": "stream",
     "text": [
      "3.141592653589793\n"
     ]
    }
   ],
   "source": [
    "print(math.pi) #these are constant"
   ]
  },
  {
   "cell_type": "code",
   "execution_count": 150,
   "id": "5640c080-bf9c-4582-8074-400248930ae9",
   "metadata": {},
   "outputs": [
    {
     "name": "stdout",
     "output_type": "stream",
     "text": [
      "2.718281828459045\n"
     ]
    }
   ],
   "source": [
    "print(math.e) #these are constant"
   ]
  },
  {
   "cell_type": "code",
   "execution_count": 152,
   "id": "1ce9047e-0d49-47cc-8760-3e4733143b9c",
   "metadata": {},
   "outputs": [
    {
     "data": {
      "text/plain": [
       "3.1622776601683795"
      ]
     },
     "execution_count": 152,
     "metadata": {},
     "output_type": "execute_result"
    }
   ],
   "source": [
    "import math as m\n",
    "m.sqrt(10)"
   ]
  },
  {
   "cell_type": "code",
   "execution_count": 154,
   "id": "67070875-0c75-40d6-877c-7de6d69c0844",
   "metadata": {},
   "outputs": [
    {
     "data": {
      "text/plain": [
       "6.324555320336759"
      ]
     },
     "execution_count": 154,
     "metadata": {},
     "output_type": "execute_result"
    }
   ],
   "source": [
    "m.sqrt(40)"
   ]
  },
  {
   "cell_type": "code",
   "execution_count": 156,
   "id": "a2ce77bb-a1f3-41fe-9c1b-29fc5b20d26a",
   "metadata": {},
   "outputs": [
    {
     "data": {
      "text/plain": [
       "5.0"
      ]
     },
     "execution_count": 156,
     "metadata": {},
     "output_type": "execute_result"
    }
   ],
   "source": [
    "m.sqrt(25)"
   ]
  },
  {
   "cell_type": "code",
   "execution_count": 158,
   "id": "39e412c8-4c23-4b38-a04a-1ad4adcebf24",
   "metadata": {},
   "outputs": [
    {
     "data": {
      "text/plain": [
       "25.0"
      ]
     },
     "execution_count": 158,
     "metadata": {},
     "output_type": "execute_result"
    }
   ],
   "source": [
    "m.sqrt(625)"
   ]
  },
  {
   "cell_type": "code",
   "execution_count": 160,
   "id": "4c83ed71-f5fb-46d5-a8ce-613381d29043",
   "metadata": {},
   "outputs": [
    {
     "data": {
      "text/plain": [
       "8.0"
      ]
     },
     "execution_count": 160,
     "metadata": {},
     "output_type": "execute_result"
    }
   ],
   "source": [
    "from math import sqrt,pow # math has many function if you want to call specific function then you use from \n",
    "pow(2,3)"
   ]
  },
  {
   "cell_type": "code",
   "execution_count": 162,
   "id": "05bbcc14-1595-49c3-81a1-c508fc1a6656",
   "metadata": {},
   "outputs": [
    {
     "name": "stdout",
     "output_type": "stream",
     "text": [
      "8.0\n",
      "2\n"
     ]
    }
   ],
   "source": [
    "from math import * # math has many function if you want to call specific function then you use from \n",
    "\n",
    "print(pow(2,3))\n",
    "print(floor(2.3))"
   ]
  },
  {
   "cell_type": "code",
   "execution_count": 164,
   "id": "203c8990-c2bd-43a8-98f9-5ea3d22cc1b9",
   "metadata": {},
   "outputs": [
    {
     "data": {
      "text/plain": [
       "8"
      ]
     },
     "execution_count": 164,
     "metadata": {},
     "output_type": "execute_result"
    }
   ],
   "source": [
    "round(pow(2,3))"
   ]
  },
  {
   "cell_type": "markdown",
   "id": "6fc685fb-878c-43ec-ba18-f06f20b8e7ee",
   "metadata": {},
   "source": [
    "# User Input Function n python || Command Line Input (cli)"
   ]
  },
  {
   "cell_type": "code",
   "execution_count": 167,
   "id": "6ac87ffd-56f7-4989-a973-c76c58fffd65",
   "metadata": {},
   "outputs": [
    {
     "name": "stdin",
     "output_type": "stream",
     "text": [
      " 4\n",
      " 6\n"
     ]
    },
    {
     "name": "stdout",
     "output_type": "stream",
     "text": [
      "46\n"
     ]
    }
   ],
   "source": [
    "x = input()\n",
    "y = input()\n",
    "z = x + y\n",
    "print(z)"
   ]
  },
  {
   "cell_type": "code",
   "execution_count": 169,
   "id": "ada032a1-cf01-4bf5-a1e2-6dbec408a7a3",
   "metadata": {},
   "outputs": [
    {
     "name": "stdin",
     "output_type": "stream",
     "text": [
      "Enter the 1st number 10\n",
      "Enter the 2nd number 5\n"
     ]
    },
    {
     "name": "stdout",
     "output_type": "stream",
     "text": [
      "105\n"
     ]
    }
   ],
   "source": [
    "x1 = input('Enter the 1st number') #whenevery you works in input function it always give you string \n",
    "y1 = input('Enter the 2nd number') # it wont understand as arithmetic operator\n",
    "z1 = x1 + y1\n",
    "print(z1)"
   ]
  },
  {
   "cell_type": "code",
   "execution_count": 173,
   "id": "c1f27c90-fcab-4cae-8e4b-5e2e84e5e651",
   "metadata": {},
   "outputs": [
    {
     "data": {
      "text/plain": [
       "str"
      ]
     },
     "execution_count": 173,
     "metadata": {},
     "output_type": "execute_result"
    }
   ],
   "source": [
    "type(x1)\n",
    "type(y1)"
   ]
  },
  {
   "cell_type": "code",
   "execution_count": 175,
   "id": "52827348-b341-45aa-ac09-73daf84c9bf9",
   "metadata": {},
   "outputs": [
    {
     "name": "stdin",
     "output_type": "stream",
     "text": [
      "Enter the 1st number 34\n",
      "Enter the 2nd number 16\n"
     ]
    },
    {
     "name": "stdout",
     "output_type": "stream",
     "text": [
      "50\n"
     ]
    }
   ],
   "source": [
    "x1 = input('Enter the 1st number') #whenevery you works in input function it always give you string \n",
    "a1 = int(x1)\n",
    "y1 = input('Enter the 2nd number') # it wont understand as arithmetic operator\n",
    "b1 = int(y1)\n",
    "z1 = a1 + b1\n",
    "print(z1)"
   ]
  },
  {
   "cell_type": "code",
   "execution_count": 177,
   "id": "f83258e5-7e5c-43ec-96f2-8ca0fb4f92dd",
   "metadata": {},
   "outputs": [
    {
     "name": "stdin",
     "output_type": "stream",
     "text": [
      "Enter the 1st number 46\n",
      "Enter the 2nd number 54\n"
     ]
    },
    {
     "data": {
      "text/plain": [
       "100"
      ]
     },
     "execution_count": 177,
     "metadata": {},
     "output_type": "execute_result"
    }
   ],
   "source": [
    "x2 = int(input('Enter the 1st number'))\n",
    "y2 = int(input('Enter the 2nd number'))\n",
    "z2 = x2 + y2\n",
    "z2                                        #From the above code we notice that we are using many lines because of that wasting some memory spaces as well."
   ]
  },
  {
   "cell_type": "raw",
   "id": "5294f96c-ac03-4de2-9fd6-dfd11d86df22",
   "metadata": {},
   "source": [
    "# Lets take input from the user in char format But we dont't have char format in python"
   ]
  },
  {
   "cell_type": "code",
   "execution_count": 179,
   "id": "e0b0eb7b-a40b-46d9-9edf-128c87ba4936",
   "metadata": {},
   "outputs": [
    {
     "name": "stdin",
     "output_type": "stream",
     "text": [
      "enter a char yashwanth\n"
     ]
    },
    {
     "name": "stdout",
     "output_type": "stream",
     "text": [
      "yashwanth\n"
     ]
    }
   ],
   "source": [
    "ch = input('enter a char')\n",
    "print(ch)"
   ]
  },
  {
   "cell_type": "code",
   "execution_count": 181,
   "id": "d5415881-6ad4-4469-9791-4f4297afdcbe",
   "metadata": {},
   "outputs": [
    {
     "name": "stdout",
     "output_type": "stream",
     "text": [
      "y\n"
     ]
    }
   ],
   "source": [
    "print(ch[0])"
   ]
  },
  {
   "cell_type": "code",
   "execution_count": 183,
   "id": "cddd515c-e843-4d55-b33f-820147ace550",
   "metadata": {},
   "outputs": [
    {
     "name": "stdout",
     "output_type": "stream",
     "text": [
      "a\n"
     ]
    }
   ],
   "source": [
    "print(ch[1])"
   ]
  },
  {
   "cell_type": "code",
   "execution_count": 185,
   "id": "dba44bc6-0eb6-4ce1-8349-321d426248fa",
   "metadata": {},
   "outputs": [
    {
     "name": "stdout",
     "output_type": "stream",
     "text": [
      "h\n"
     ]
    }
   ],
   "source": [
    "print(ch[-1])"
   ]
  },
  {
   "cell_type": "code",
   "execution_count": 187,
   "id": "cf0e9c47-8705-4830-b921-7110ffe501c2",
   "metadata": {},
   "outputs": [
    {
     "name": "stdin",
     "output_type": "stream",
     "text": [
      "enter a char yash\n"
     ]
    },
    {
     "name": "stdout",
     "output_type": "stream",
     "text": [
      "y\n"
     ]
    }
   ],
   "source": [
    "ch = input('enter a char')[0]\n",
    "print(ch)"
   ]
  },
  {
   "cell_type": "code",
   "execution_count": 189,
   "id": "287f193f-6c8a-4c80-afed-6d2994607525",
   "metadata": {},
   "outputs": [
    {
     "name": "stdin",
     "output_type": "stream",
     "text": [
      "enter a char yashit\n"
     ]
    },
    {
     "name": "stdout",
     "output_type": "stream",
     "text": [
      "as\n"
     ]
    }
   ],
   "source": [
    "ch = input('enter a char')[1:3]\n",
    "print(ch)"
   ]
  },
  {
   "cell_type": "code",
   "execution_count": 191,
   "id": "0ad2c5fc-9ca2-4c48-8a0b-5ab4b8665777",
   "metadata": {},
   "outputs": [
    {
     "name": "stdin",
     "output_type": "stream",
     "text": [
      "enter a char 2+6-1\n"
     ]
    },
    {
     "name": "stdout",
     "output_type": "stream",
     "text": [
      "2+6-1\n"
     ]
    }
   ],
   "source": [
    "ch = input('enter a char')\n",
    "print(ch) # if you enter as 2 + 6 -1 we get output as 2 + 6-1 only "
   ]
  },
  {
   "cell_type": "code",
   "execution_count": 193,
   "id": "5d163f46-d4c0-42b1-bba0-9bee73f4d55d",
   "metadata": {},
   "outputs": [
    {
     "name": "stdin",
     "output_type": "stream",
     "text": [
      "enter a char 3+20-8\n"
     ]
    },
    {
     "name": "stdout",
     "output_type": "stream",
     "text": [
      "3+20-8\n"
     ]
    }
   ],
   "source": [
    "ch = input('enter a char')\n",
    "print(ch) "
   ]
  },
  {
   "cell_type": "raw",
   "id": "aee75a66-5866-4fdd-943c-cea08a6e96c0",
   "metadata": {},
   "source": [
    "# EVAL function using input"
   ]
  },
  {
   "cell_type": "code",
   "execution_count": 195,
   "id": "5baab9dc-1839-4203-8e11-55529c57b710",
   "metadata": {},
   "outputs": [
    {
     "name": "stdin",
     "output_type": "stream",
     "text": [
      "enter an expr 3\n"
     ]
    },
    {
     "name": "stdout",
     "output_type": "stream",
     "text": [
      "3\n"
     ]
    }
   ],
   "source": [
    "result = eval(input('enter an expr'))\n",
    "print(result)"
   ]
  },
  {
   "cell_type": "code",
   "execution_count": null,
   "id": "3f976163-623e-4090-8eef-ba02f2d920f8",
   "metadata": {},
   "outputs": [],
   "source": []
  },
  {
   "cell_type": "code",
   "execution_count": null,
   "id": "d5eaba5a-1a32-42f3-bdd6-24affe69fd22",
   "metadata": {},
   "outputs": [],
   "source": []
  },
  {
   "cell_type": "code",
   "execution_count": null,
   "id": "20c2cf36-7f21-4935-baa7-7ba3c77f45e9",
   "metadata": {},
   "outputs": [],
   "source": []
  },
  {
   "cell_type": "code",
   "execution_count": null,
   "id": "7b8889bd-48fe-4c41-a684-f4ff5b78f7c5",
   "metadata": {},
   "outputs": [],
   "source": []
  },
  {
   "cell_type": "code",
   "execution_count": null,
   "id": "13763f78-abc9-48e7-a699-0c3bae4d1eb1",
   "metadata": {},
   "outputs": [],
   "source": []
  },
  {
   "cell_type": "code",
   "execution_count": null,
   "id": "88973050-1475-4b01-860a-aa8176c9efbd",
   "metadata": {},
   "outputs": [],
   "source": []
  },
  {
   "cell_type": "code",
   "execution_count": null,
   "id": "1ff01ba2-87cd-4672-b0e5-d534dc76ca6b",
   "metadata": {},
   "outputs": [],
   "source": []
  }
 ],
 "metadata": {
  "kernelspec": {
   "display_name": "Python [conda env:base] *",
   "language": "python",
   "name": "conda-base-py"
  },
  "language_info": {
   "codemirror_mode": {
    "name": "ipython",
    "version": 3
   },
   "file_extension": ".py",
   "mimetype": "text/x-python",
   "name": "python",
   "nbconvert_exporter": "python",
   "pygments_lexer": "ipython3",
   "version": "3.12.7"
  }
 },
 "nbformat": 4,
 "nbformat_minor": 5
}
