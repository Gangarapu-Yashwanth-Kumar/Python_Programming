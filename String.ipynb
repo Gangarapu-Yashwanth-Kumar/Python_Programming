{
 "cells": [
  {
   "cell_type": "markdown",
   "id": "d2681f77-2741-41a1-8a8d-86485c089d91",
   "metadata": {},
   "source": [
    "# String"
   ]
  },
  {
   "cell_type": "raw",
   "id": "36f7303e-f2b2-4930-a544-c57cfbfbcc20",
   "metadata": {},
   "source": [
    "# 1. SINGLE LINE COMMENTS"
   ]
  },
  {
   "cell_type": "code",
   "execution_count": 22,
   "id": "164e066f-e955-4843-aebd-30873386ef03",
   "metadata": {},
   "outputs": [
    {
     "data": {
      "text/plain": [
       "'My name is Yashwanth Kumar'"
      ]
     },
     "execution_count": 22,
     "metadata": {},
     "output_type": "execute_result"
    }
   ],
   "source": [
    "Name= 'My name is Yashwanth Kumar'\n",
    "Name"
   ]
  },
  {
   "cell_type": "code",
   "execution_count": 24,
   "id": "4dcb1f08-bf6d-4ed6-a503-c2f2f2aaf1c7",
   "metadata": {},
   "outputs": [
    {
     "data": {
      "text/plain": [
       "26"
      ]
     },
     "execution_count": 24,
     "metadata": {},
     "output_type": "execute_result"
    }
   ],
   "source": [
    "len(Name)"
   ]
  },
  {
   "cell_type": "code",
   "execution_count": 26,
   "id": "cd66de9b-21dc-4965-a9fb-e4a40de0b77d",
   "metadata": {},
   "outputs": [
    {
     "data": {
      "text/plain": [
       "str"
      ]
     },
     "execution_count": 26,
     "metadata": {},
     "output_type": "execute_result"
    }
   ],
   "source": [
    "type(Name)"
   ]
  },
  {
   "cell_type": "code",
   "execution_count": 32,
   "id": "c454b0ae-ffad-4ff6-bbc1-574aad777bd7",
   "metadata": {},
   "outputs": [
    {
     "data": {
      "text/plain": [
       "'Yashwanth Kumar'"
      ]
     },
     "execution_count": 32,
     "metadata": {},
     "output_type": "execute_result"
    }
   ],
   "source": [
    "Name[11:26]"
   ]
  },
  {
   "cell_type": "code",
   "execution_count": 1,
   "id": "2edec7aa-cafc-4355-b98e-b628996d8de6",
   "metadata": {},
   "outputs": [
    {
     "name": "stdout",
     "output_type": "stream",
     "text": [
      "My name is Yashwanth Kumar\n",
      "          currently I have enrolled into DS AI ML Course\n"
     ]
    }
   ],
   "source": [
    "Name = \"\"\"My name is Yashwanth Kumar\n",
    "          currently I have enrolled into DS AI ML Course\"\"\"\n",
    "print(Name)"
   ]
  },
  {
   "cell_type": "raw",
   "id": "0789f1c4-b9ec-4048-889e-96ea4fa1afd2",
   "metadata": {},
   "source": [
    "# 2.STRING CONCATENATION"
   ]
  },
  {
   "cell_type": "code",
   "execution_count": 38,
   "id": "a5d52845-dbcd-4a60-bc48-5c1932b57242",
   "metadata": {},
   "outputs": [
    {
     "data": {
      "text/plain": [
       "'Yashwanth Kumar'"
      ]
     },
     "execution_count": 38,
     "metadata": {},
     "output_type": "execute_result"
    }
   ],
   "source": [
    "Name[11:26]"
   ]
  },
  {
   "cell_type": "code",
   "execution_count": 42,
   "id": "29b93d79-44fc-436d-9e84-97b1f87911ba",
   "metadata": {},
   "outputs": [
    {
     "data": {
      "text/plain": [
       "' Kumar'"
      ]
     },
     "execution_count": 42,
     "metadata": {},
     "output_type": "execute_result"
    }
   ],
   "source": [
    "Name[20:26]"
   ]
  },
  {
   "cell_type": "code",
   "execution_count": 5,
   "id": "81d34d00-bb0e-4b4a-a128-a8b4829438c7",
   "metadata": {},
   "outputs": [
    {
     "name": "stdout",
     "output_type": "stream",
     "text": [
      "My name is Yashwanth Kumar and currently I have enrolled into DS AI ML Course. \n"
     ]
    }
   ],
   "source": [
    "Name1= \"My name is Yashwanth Kumar \"\n",
    "Name2= \"currently I have enrolled into DS AI ML Course. \"\n",
    "Name3= \"and \"\n",
    "print(Name1+Name3+Name2)"
   ]
  },
  {
   "cell_type": "code",
   "execution_count": 3,
   "id": "671c9e06-6c3e-42e5-90b0-7ad45aa4770d",
   "metadata": {},
   "outputs": [
    {
     "data": {
      "text/plain": [
       "76"
      ]
     },
     "execution_count": 3,
     "metadata": {},
     "output_type": "execute_result"
    }
   ],
   "source": [
    "len(Name1+Name2+Name3)"
   ]
  },
  {
   "cell_type": "code",
   "execution_count": 5,
   "id": "28abe8f1-54df-4f22-9ec9-ad471c9c3452",
   "metadata": {},
   "outputs": [
    {
     "data": {
      "text/plain": [
       "47"
      ]
     },
     "execution_count": 5,
     "metadata": {},
     "output_type": "execute_result"
    }
   ],
   "source": [
    "len(Name2)"
   ]
  },
  {
   "cell_type": "code",
   "execution_count": 9,
   "id": "7d6995d5-c48d-4200-b46c-0d7df050aaa9",
   "metadata": {},
   "outputs": [
    {
     "data": {
      "text/plain": [
       "'Yashwanth'"
      ]
     },
     "execution_count": 9,
     "metadata": {},
     "output_type": "execute_result"
    }
   ],
   "source": [
    "Name ='Yashwanth'\n",
    "Name"
   ]
  },
  {
   "cell_type": "code",
   "execution_count": 11,
   "id": "0321195d-eb79-4a6b-8ed2-796b0ff1388b",
   "metadata": {},
   "outputs": [
    {
     "data": {
      "text/plain": [
       "9"
      ]
     },
     "execution_count": 11,
     "metadata": {},
     "output_type": "execute_result"
    }
   ],
   "source": [
    "len(Name)"
   ]
  },
  {
   "cell_type": "code",
   "execution_count": 13,
   "id": "8da2ab5e-5fc1-48fd-b168-b44adf2f04bf",
   "metadata": {},
   "outputs": [],
   "source": [
    "# 3.UNPACKING CHARACTERS"
   ]
  },
  {
   "cell_type": "code",
   "execution_count": 17,
   "id": "2bd82235-dae0-4477-ac5f-594df10afd30",
   "metadata": {},
   "outputs": [
    {
     "name": "stdout",
     "output_type": "stream",
     "text": [
      "Y\n",
      "a\n",
      "s\n",
      "h\n",
      "w\n",
      "a\n",
      "n\n",
      "t\n",
      "h\n"
     ]
    }
   ],
   "source": [
    "a,b,c,d,e,f,g,h,i=Name\n",
    "print(a)\n",
    "print(b)\n",
    "print(c)\n",
    "print(d)\n",
    "print(e)\n",
    "print(f)\n",
    "print(g)\n",
    "print(h)\n",
    "print(i)"
   ]
  },
  {
   "cell_type": "code",
   "execution_count": 19,
   "id": "64fd8e9a-8e76-437d-8928-b593d09fc701",
   "metadata": {},
   "outputs": [
    {
     "name": "stdout",
     "output_type": "stream",
     "text": [
      "K\n",
      "u\n",
      "m\n",
      "a\n",
      "r\n"
     ]
    }
   ],
   "source": [
    "a,b,c,d,e='Kumar'\n",
    "print(a)\n",
    "print(b)\n",
    "print(c)\n",
    "print(d)\n",
    "print(e)"
   ]
  },
  {
   "cell_type": "raw",
   "id": "409ea3e6-fc8c-4fd1-887e-59616b908606",
   "metadata": {},
   "source": [
    "# 4.FORWARD & BACKWARD INDEXING"
   ]
  },
  {
   "cell_type": "code",
   "execution_count": 23,
   "id": "3af3a22c-0bbc-4684-8977-af1f7574c525",
   "metadata": {},
   "outputs": [
    {
     "data": {
      "text/plain": [
       "'Yashwanth'"
      ]
     },
     "execution_count": 23,
     "metadata": {},
     "output_type": "execute_result"
    }
   ],
   "source": [
    "name='Yashwanth'\n",
    "name"
   ]
  },
  {
   "cell_type": "code",
   "execution_count": 25,
   "id": "ea9e1154-50d1-44f1-b898-07c356aaae62",
   "metadata": {},
   "outputs": [
    {
     "data": {
      "text/plain": [
       "'Y'"
      ]
     },
     "execution_count": 25,
     "metadata": {},
     "output_type": "execute_result"
    }
   ],
   "source": [
    "name[0]"
   ]
  },
  {
   "cell_type": "code",
   "execution_count": 27,
   "id": "14b85938-ee82-4863-bbcd-e9b3ee7813eb",
   "metadata": {},
   "outputs": [
    {
     "data": {
      "text/plain": [
       "'h'"
      ]
     },
     "execution_count": 27,
     "metadata": {},
     "output_type": "execute_result"
    }
   ],
   "source": [
    "name[-1]"
   ]
  },
  {
   "cell_type": "code",
   "execution_count": 29,
   "id": "5d089294-90ae-4326-ba24-459a8f545f65",
   "metadata": {},
   "outputs": [
    {
     "data": {
      "text/plain": [
       "'h'"
      ]
     },
     "execution_count": 29,
     "metadata": {},
     "output_type": "execute_result"
    }
   ],
   "source": [
    "name[-6]"
   ]
  },
  {
   "cell_type": "code",
   "execution_count": 31,
   "id": "60199754-a9c3-4826-aa77-fe3ce68decbb",
   "metadata": {},
   "outputs": [
    {
     "data": {
      "text/plain": [
       "'a'"
      ]
     },
     "execution_count": 31,
     "metadata": {},
     "output_type": "execute_result"
    }
   ],
   "source": [
    "name[5]"
   ]
  },
  {
   "cell_type": "raw",
   "id": "4bf05fee-6a1e-4606-beaf-bb11d5afeab4",
   "metadata": {},
   "source": [
    "# 5.PYTHON SLICING & SKIPPING CHARACTER"
   ]
  },
  {
   "cell_type": "code",
   "execution_count": 37,
   "id": "a0657163-81bb-4247-b084-5951c15eb825",
   "metadata": {},
   "outputs": [
    {
     "data": {
      "text/plain": [
       "'Yashwanth'"
      ]
     },
     "execution_count": 37,
     "metadata": {},
     "output_type": "execute_result"
    }
   ],
   "source": [
    "Name='Yashwanth'\n",
    "Name"
   ]
  },
  {
   "cell_type": "code",
   "execution_count": 43,
   "id": "2e1d5bb7-6a09-4cb6-a5b0-e7576d1dd4cb",
   "metadata": {},
   "outputs": [
    {
     "data": {
      "text/plain": [
       "'shwanth'"
      ]
     },
     "execution_count": 43,
     "metadata": {},
     "output_type": "execute_result"
    }
   ],
   "source": [
    "Name[2:9]"
   ]
  },
  {
   "cell_type": "code",
   "execution_count": 45,
   "id": "e3037f24-252b-4e1d-8b33-04a50e943cbc",
   "metadata": {},
   "outputs": [
    {
     "data": {
      "text/plain": [
       "'Yash'"
      ]
     },
     "execution_count": 45,
     "metadata": {},
     "output_type": "execute_result"
    }
   ],
   "source": [
    "Name[0:4]"
   ]
  },
  {
   "cell_type": "code",
   "execution_count": 47,
   "id": "ab80ebdb-3de1-4ec9-a413-4386b112bbe7",
   "metadata": {},
   "outputs": [
    {
     "data": {
      "text/plain": [
       "'Yswnh'"
      ]
     },
     "execution_count": 47,
     "metadata": {},
     "output_type": "execute_result"
    }
   ],
   "source": [
    "Name[0:9:2]"
   ]
  },
  {
   "cell_type": "code",
   "execution_count": 49,
   "id": "6ba8c979-eb42-4fed-a942-7da092e24d62",
   "metadata": {},
   "outputs": [
    {
     "data": {
      "text/plain": [
       "'Yashwanth'"
      ]
     },
     "execution_count": 49,
     "metadata": {},
     "output_type": "execute_result"
    }
   ],
   "source": [
    "Name"
   ]
  },
  {
   "cell_type": "code",
   "execution_count": 51,
   "id": "203d7358-f8db-4905-9f2b-cda82107cee5",
   "metadata": {},
   "outputs": [
    {
     "data": {
      "text/plain": [
       "'shwant'"
      ]
     },
     "execution_count": 51,
     "metadata": {},
     "output_type": "execute_result"
    }
   ],
   "source": [
    "Name[2:8:1]"
   ]
  },
  {
   "cell_type": "code",
   "execution_count": 53,
   "id": "a8b21334-36e0-43c0-879d-c6e6698c0bc9",
   "metadata": {},
   "outputs": [
    {
     "data": {
      "text/plain": [
       "'wantsh'"
      ]
     },
     "execution_count": 53,
     "metadata": {},
     "output_type": "execute_result"
    }
   ],
   "source": [
    "Name[4:8]+Name[2:4]"
   ]
  },
  {
   "cell_type": "raw",
   "id": "c98edb69-e8ee-40a2-85b5-ebd513f29eb0",
   "metadata": {},
   "source": [
    "# 6. ESCAPE SEQUENCE"
   ]
  },
  {
   "cell_type": "code",
   "execution_count": 9,
   "id": "27f8b676-b580-4c15-8e8a-5c510b902983",
   "metadata": {},
   "outputs": [
    {
     "name": "stdout",
     "output_type": "stream",
     "text": [
      "My name is Yashwanth Kumar and currently I have enrolled into DS ML AI Course.\n",
      " Do you ?\n"
     ]
    }
   ],
   "source": [
    "print('My name is Yashwanth Kumar and currently I have enrolled into DS ML AI Course.\\n Do you ?')"
   ]
  },
  {
   "cell_type": "code",
   "execution_count": 17,
   "id": "0f44555b-908d-49aa-830e-d4cec8d4af7b",
   "metadata": {},
   "outputs": [
    {
     "name": "stdout",
     "output_type": "stream",
     "text": [
      "The Course contents are Python\tSQL\tStatistics\tDeepLearning\tMachineLearning\tLLMs\tGenAI\tAgenticAI.\n",
      "It was Wonderful Course Enroll now, Dont neglect it!\n"
     ]
    }
   ],
   "source": [
    "print('The Course contents are Python\\tSQL\\tStatistics\\tDeepLearning\\tMachineLearning\\tLLMs\\tGenAI\\tAgenticAI.\\nIt was Wonderful Course Enroll now, Dont neglect it!')\n"
   ]
  },
  {
   "cell_type": "raw",
   "id": "7362d6b6-cf9b-4495-9de8-1a10c741db6f",
   "metadata": {},
   "source": [
    "# 7.STRING METHODS"
   ]
  },
  {
   "cell_type": "raw",
   "id": "8637dd67-4d9b-4abb-9e0b-13c487e6bff1",
   "metadata": {},
   "source": [
    "1.Capitalize()=Converts the first character the string to Capital Letter."
   ]
  },
  {
   "cell_type": "code",
   "execution_count": 23,
   "id": "dde301a4-d701-4203-b2c4-afe6a3254851",
   "metadata": {},
   "outputs": [
    {
     "name": "stdout",
     "output_type": "stream",
     "text": [
      "My name is yashwanth kumar and currently.i have enrolled into dsaiml course.\n"
     ]
    }
   ],
   "source": [
    "s1=\"my name is yashwanth kumar and currently.i have enrolled into dsaiml course.\"\n",
    "print(s1.capitalize())"
   ]
  },
  {
   "cell_type": "code",
   "execution_count": null,
   "id": "4cc3b61c-8755-4f9d-9cfd-ad940a69f4d0",
   "metadata": {},
   "outputs": [],
   "source": []
  },
  {
   "cell_type": "code",
   "execution_count": null,
   "id": "23837422-aa00-46ec-ba74-64f17efd3b03",
   "metadata": {},
   "outputs": [],
   "source": []
  },
  {
   "cell_type": "code",
   "execution_count": null,
   "id": "d1b7cd8f-48b7-44e3-8847-0a429809f666",
   "metadata": {},
   "outputs": [],
   "source": []
  },
  {
   "cell_type": "code",
   "execution_count": null,
   "id": "13427ca5-b3bc-481b-a530-882f6cfaabfb",
   "metadata": {},
   "outputs": [],
   "source": []
  },
  {
   "cell_type": "code",
   "execution_count": null,
   "id": "13f3270c-264f-4f61-bc16-16a820e693ef",
   "metadata": {},
   "outputs": [],
   "source": []
  },
  {
   "cell_type": "code",
   "execution_count": null,
   "id": "679508a8-a4d9-405a-be15-2461be71159b",
   "metadata": {},
   "outputs": [],
   "source": []
  }
 ],
 "metadata": {
  "kernelspec": {
   "display_name": "Python [conda env:base] *",
   "language": "python",
   "name": "conda-base-py"
  },
  "language_info": {
   "codemirror_mode": {
    "name": "ipython",
    "version": 3
   },
   "file_extension": ".py",
   "mimetype": "text/x-python",
   "name": "python",
   "nbconvert_exporter": "python",
   "pygments_lexer": "ipython3",
   "version": "3.12.7"
  }
 },
 "nbformat": 4,
 "nbformat_minor": 5
}
